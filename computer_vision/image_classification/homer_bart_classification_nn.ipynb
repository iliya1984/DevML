{
  "nbformat": 4,
  "nbformat_minor": 0,
  "metadata": {
    "colab": {
      "provenance": [],
      "gpuType": "T4",
      "authorship_tag": "ABX9TyPSUmDrY+FNo4n6AMzjRNHW",
      "include_colab_link": true
    },
    "kernelspec": {
      "name": "python3",
      "display_name": "Python 3"
    },
    "language_info": {
      "name": "python"
    },
    "accelerator": "GPU"
  },
  "cells": [
    {
      "cell_type": "markdown",
      "metadata": {
        "id": "view-in-github",
        "colab_type": "text"
      },
      "source": [
        "<a href=\"https://colab.research.google.com/github/iliya1984/DevML/blob/main/computer_vision/image_classification/homer_bart_classification_nn.ipynb\" target=\"_parent\"><img src=\"https://colab.research.google.com/assets/colab-badge.svg\" alt=\"Open In Colab\"/></a>"
      ]
    },
    {
      "cell_type": "markdown",
      "source": [
        "# Homer/Bart image classification with neural network"
      ],
      "metadata": {
        "id": "sPnJylDY2PK9"
      }
    },
    {
      "cell_type": "markdown",
      "source": [
        "### Importing the libraries"
      ],
      "metadata": {
        "id": "vuCqmWCc2ZU8"
      }
    },
    {
      "cell_type": "code",
      "source": [
        "import cv2\n",
        "import numpy as np\n",
        "import os\n",
        "import zipfile\n",
        "import tensorflow as tf\n",
        "from tensorflow.keras.models import Sequential\n",
        "from tensorflow.keras.layers import Dense\n",
        "\n",
        "import pandas as pd\n",
        "import seaborn as sns\n",
        "import matplotlib.pyplot as plt\n",
        "import random\n",
        "\n",
        "from sklearn.preprocessing import MinMaxScaler\n",
        "from sklearn.metrics import accuracy_score, confusion_matrix\n",
        "\n",
        "from google.colab import drive\n",
        "from google.colab.patches import cv2_imshow\n",
        "drive.mount('/content/drive')\n",
        "\n",
        "tf.__version__"
      ],
      "metadata": {
        "colab": {
          "base_uri": "https://localhost:8080/",
          "height": 53
        },
        "id": "2MDfiQXr2cLM",
        "outputId": "9d366511-a030-4215-ab63-0c0742ce2177"
      },
      "execution_count": 1,
      "outputs": [
        {
          "output_type": "stream",
          "name": "stdout",
          "text": [
            "Drive already mounted at /content/drive; to attempt to forcibly remount, call drive.mount(\"/content/drive\", force_remount=True).\n"
          ]
        },
        {
          "output_type": "execute_result",
          "data": {
            "text/plain": [
              "'2.15.0'"
            ],
            "application/vnd.google.colaboratory.intrinsic+json": {
              "type": "string"
            }
          },
          "metadata": {},
          "execution_count": 1
        }
      ]
    },
    {
      "cell_type": "code",
      "source": [
        "%run '/content/drive/MyDrive/Workspace/Computer Vision/cv_common.ipynb'"
      ],
      "metadata": {
        "colab": {
          "base_uri": "https://localhost:8080/"
        },
        "id": "4Grb7VoF2wNC",
        "outputId": "b2ce0e29-5252-4269-afd6-4aad47684551"
      },
      "execution_count": 2,
      "outputs": [
        {
          "output_type": "stream",
          "name": "stdout",
          "text": [
            "Common library was successfully loaded\n"
          ]
        }
      ]
    },
    {
      "cell_type": "markdown",
      "source": [
        "### Loading dataset"
      ],
      "metadata": {
        "id": "YYe1a0tq2g-z"
      }
    },
    {
      "cell_type": "code",
      "source": [
        "zip_file_path = f'{datasets_directory}/Simpsons/simpsons.zip'\n",
        "working_directory = './content/simpsons'\n",
        "data_extract_path = f'{working_directory}/datasets'\n",
        "train_set_path = f'{data_extract_path}/simpsons/training_set'\n",
        "test_set_path = f'{data_extract_path}/simpsons/test_set'\n",
        "\n",
        "image_height = 128\n",
        "image_width = 128"
      ],
      "metadata": {
        "id": "HrLSthJd2kaR"
      },
      "execution_count": 3,
      "outputs": []
    },
    {
      "cell_type": "code",
      "source": [
        "create_empty_directory(data_extract_path)\n",
        "zipe_file = zipfile.ZipFile(file=zip_file_path, mode = 'r')\n",
        "zipe_file.extractall(data_extract_path)\n",
        "zipe_file.close()"
      ],
      "metadata": {
        "colab": {
          "base_uri": "https://localhost:8080/"
        },
        "id": "fbXPFyr53gZa",
        "outputId": "74e7fd6a-6c9d-4499-bd12-50e2f3851647"
      },
      "execution_count": 4,
      "outputs": [
        {
          "output_type": "stream",
          "name": "stdout",
          "text": [
            "./content/simpsons/datasets directory already exists\n"
          ]
        }
      ]
    },
    {
      "cell_type": "markdown",
      "source": [
        "### Extracting pixels from images"
      ],
      "metadata": {
        "id": "nJSonMFTSWny"
      }
    },
    {
      "cell_type": "code",
      "source": [
        "def get_labels(images):\n",
        "  labels = []\n",
        "\n",
        "  for image_info in images:\n",
        "    label = image_info[2]\n",
        "    labels.append(label)\n",
        "\n",
        "  return np.asarray(labels)\n",
        "\n",
        "def get_image_vectors(images):\n",
        "  vectors = []\n",
        "\n",
        "  for image_info in images:\n",
        "    vector = image_info[1]\n",
        "    vectors.append(vector)\n",
        "\n",
        "  return np.asarray(vectors)\n",
        "\n",
        "def load_images_and_classes(directory, images, preview_images=False):\n",
        "\n",
        "  files = [os.path.join(directory, f) for f in sorted(os.listdir(directory))]\n",
        "  #print(files)\n",
        "\n",
        "  preview_index = 0\n",
        "  for image_path in files:\n",
        "    #print(image_path)\n",
        "    try:\n",
        "      image = cv2.imread(image_path)\n",
        "      (H, W) = image.shape[:2]\n",
        "    except:\n",
        "      print('Image read error')\n",
        "      continue\n",
        "\n",
        "    image = cv2.resize(image, (image_width, image_height))\n",
        "    image = cv2.cvtColor(image, cv2.COLOR_BGR2GRAY)\n",
        "\n",
        "    if preview_images and preview_index < 1:\n",
        "      cv2_imshow(image)\n",
        "      preview_index += 1\n",
        "\n",
        "    #Converting image matrix into vector\n",
        "    vector = image.ravel()\n",
        "    #print(image.shape)\n",
        "\n",
        "    image_name = os.path.basename(os.path.normpath(image_path))\n",
        "    if image_name.startswith('b'):\n",
        "      class_name = 0\n",
        "    else:\n",
        "      class_name = 1\n",
        "\n",
        "    images.append((image, vector, class_name))\n",
        "    #print(class_name)\n",
        "\n",
        "  return images"
      ],
      "metadata": {
        "id": "qLj8qvhC7Qnv"
      },
      "execution_count": 5,
      "outputs": []
    },
    {
      "cell_type": "code",
      "source": [
        "#Loading Homer's images and labels\n",
        "train_set = load_images_and_classes(f'{train_set_path}/homer', [], preview_images=True)\n",
        "test_set = load_images_and_classes(f'{test_set_path}/homer', [], preview_images=True)"
      ],
      "metadata": {
        "colab": {
          "base_uri": "https://localhost:8080/",
          "height": 273
        },
        "id": "VtUbM69O4r-g",
        "outputId": "720251cf-3016-4c68-d8c0-4dafea57bd65"
      },
      "execution_count": 6,
      "outputs": [
        {
          "output_type": "display_data",
          "data": {
            "text/plain": [
              "<PIL.Image.Image image mode=L size=128x128>"
            ],
            "image/png": "[encoded data removed]"
          },
          "metadata": {}
        },
        {
          "output_type": "display_data",
          "data": {
            "text/plain": [
              "<PIL.Image.Image image mode=L size=128x128>"
            ],
            "image/png": "[encoded data removed]"
          },
          "metadata": {}
        }
      ]
    },
    {
      "cell_type": "code",
      "source": [
        "#Loading Bart's images and labels\n",
        "train_set = load_images_and_classes(f'{train_set_path}/bart', train_set, preview_images=True)\n",
        "test_set = load_images_and_classes(f'{test_set_path}/bart', test_set, preview_images=True)"
      ],
      "metadata": {
        "colab": {
          "base_uri": "https://localhost:8080/",
          "height": 273
        },
        "id": "xfGMPXDH8OPd",
        "outputId": "45659bd8-1706-41ad-99b6-60cd24527115"
      },
      "execution_count": 7,
      "outputs": [
        {
          "output_type": "display_data",
          "data": {
            "text/plain": [
              "<PIL.Image.Image image mode=L size=128x128>"
            ],
            "image/png": "[encoded data removed]"
          },
          "metadata": {}
        },
        {
          "output_type": "display_data",
          "data": {
            "text/plain": [
              "<PIL.Image.Image image mode=L size=128x128>"
            ],
            "image/png": "[encoded data removed]"
          },
          "metadata": {}
        }
      ]
    },
    {
      "cell_type": "code",
      "source": [
        "#Shuffling training set\n",
        "random.shuffle(train_set)\n",
        "cv2_imshow(train_set[0][0])\n"
      ],
      "metadata": {
        "colab": {
          "base_uri": "https://localhost:8080/",
          "height": 145
        },
        "id": "1ig4fWAhAEjW",
        "outputId": "05a3ba50-293e-4cee-9239-e9414334eef9"
      },
      "execution_count": 8,
      "outputs": [
        {
          "output_type": "display_data",
          "data": {
            "text/plain": [
              "<PIL.Image.Image image mode=L size=128x128>"
            ],
            "image/png": "[encoded data removed]"
          },
          "metadata": {}
        }
      ]
    },
    {
      "cell_type": "code",
      "source": [
        "train_labels = get_labels(train_set)\n",
        "label_counts = pd.Series(train_labels).value_counts()\n",
        "plt.bar(label_counts.index.values, label_counts.values, color=['#3495eb', '#ebab34'])\n"
      ],
      "metadata": {
        "colab": {
          "base_uri": "https://localhost:8080/",
          "height": 447
        },
        "id": "u0yf073HKMKS",
        "outputId": "a98dad59-4c70-4b6e-cffc-0452d02e386d"
      },
      "execution_count": 9,
      "outputs": [
        {
          "output_type": "execute_result",
          "data": {
            "text/plain": [
              "<BarContainer object of 2 artists>"
            ]
          },
          "metadata": {},
          "execution_count": 9
        },
        {
          "output_type": "display_data",
          "data": {
            "text/plain": [
              "<Figure size 640x480 with 1 Axes>"
            ],
            "image/png": "[encoded data removed]"
          },
          "metadata": {}
        }
      ]
    },
    {
      "cell_type": "markdown",
      "source": [
        "### Normalizing the data"
      ],
      "metadata": {
        "id": "I0SctE1dQyyo"
      }
    },
    {
      "cell_type": "code",
      "source": [
        "train_vectors = get_image_vectors(train_set)\n",
        "\n",
        "scaler = MinMaxScaler()\n",
        "train_vectors = scaler.fit_transform(train_vectors)"
      ],
      "metadata": {
        "id": "g1lhK3XwLKP_"
      },
      "execution_count": 10,
      "outputs": []
    },
    {
      "cell_type": "markdown",
      "source": [
        "### Building and training the neural network"
      ],
      "metadata": {
        "id": "wHakKBJ9Q7vT"
      }
    },
    {
      "cell_type": "code",
      "source": [
        "net = Sequential()\n",
        "net.add(Dense(input_shape=(16384,), units=8193, activation='relu'))\n",
        "net.add(Dense(units=8193, activation = 'relu'))\n",
        "net.add(Dense(units = 1, activation = 'sigmoid'))"
      ],
      "metadata": {
        "id": "BNUwJJIJQ805"
      },
      "execution_count": 11,
      "outputs": []
    },
    {
      "cell_type": "code",
      "source": [
        "net.summary()"
      ],
      "metadata": {
        "colab": {
          "base_uri": "https://localhost:8080/"
        },
        "id": "wZGEVWVORuVG",
        "outputId": "ce9589a1-3b5e-4fec-95dc-f9b54b2359ba"
      },
      "execution_count": 12,
      "outputs": [
        {
          "output_type": "stream",
          "name": "stdout",
          "text": [
            "Model: \"sequential\"\n",
            "_________________________________________________________________\n",
            " Layer (type)                Output Shape              Param #   \n",
            "=================================================================\n",
            " dense (Dense)               (None, 8193)              134242305 \n",
            "                                                                 \n",
            " dense_1 (Dense)             (None, 8193)              67133442  \n",
            "                                                                 \n",
            " dense_2 (Dense)             (None, 1)                 8194      \n",
            "                                                                 \n",
            "=================================================================\n",
            "Total params: 201383941 (768.22 MB)\n",
            "Trainable params: 201383941 (768.22 MB)\n",
            "Non-trainable params: 0 (0.00 Byte)\n",
            "_________________________________________________________________\n"
          ]
        }
      ]
    },
    {
      "cell_type": "code",
      "source": [
        "# https://keras.io/api/optimizers/\n",
        "# https://keras.io/api/losses/\n",
        "net.compile(optimizer='Adam', loss='binary_crossentropy', metrics = ['accuracy'])"
      ],
      "metadata": {
        "id": "0TjK-LVnR0BD"
      },
      "execution_count": 13,
      "outputs": []
    },
    {
      "cell_type": "code",
      "source": [
        "history = net.fit(train_vectors, train_labels, epochs=40)"
      ],
      "metadata": {
        "colab": {
          "base_uri": "https://localhost:8080/"
        },
        "id": "fIxvxMKBR4zP",
        "outputId": "056e884b-70bc-4ef2-cbdd-f60bb4d093a5"
      },
      "execution_count": 14,
      "outputs": [
        {
          "output_type": "stream",
          "name": "stdout",
          "text": [
            "Epoch 1/40\n",
            "7/7 [==============================] - 7s 74ms/step - loss: 160.6493 - accuracy: 0.5816\n",
            "Epoch 2/40\n",
            "7/7 [==============================] - 1s 72ms/step - loss: 8.4687 - accuracy: 0.6020\n",
            "Epoch 3/40\n",
            "7/7 [==============================] - 1s 75ms/step - loss: 1.5834 - accuracy: 0.5153\n",
            "Epoch 4/40\n",
            "7/7 [==============================] - 0s 69ms/step - loss: 0.8025 - accuracy: 0.5816\n",
            "Epoch 5/40\n",
            "7/7 [==============================] - 1s 72ms/step - loss: 0.6944 - accuracy: 0.5765\n",
            "Epoch 6/40\n",
            "7/7 [==============================] - 1s 75ms/step - loss: 0.6867 - accuracy: 0.6327\n",
            "Epoch 7/40\n",
            "7/7 [==============================] - 0s 68ms/step - loss: 0.6554 - accuracy: 0.6327\n",
            "Epoch 8/40\n",
            "7/7 [==============================] - 0s 71ms/step - loss: 0.6262 - accuracy: 0.6327\n",
            "Epoch 9/40\n",
            "7/7 [==============================] - 0s 63ms/step - loss: 0.6285 - accuracy: 0.6531\n",
            "Epoch 10/40\n",
            "7/7 [==============================] - 0s 70ms/step - loss: 0.6412 - accuracy: 0.6531\n",
            "Epoch 11/40\n",
            "7/7 [==============================] - 0s 67ms/step - loss: 0.6213 - accuracy: 0.6888\n",
            "Epoch 12/40\n",
            "7/7 [==============================] - 1s 73ms/step - loss: 0.6585 - accuracy: 0.6531\n",
            "Epoch 13/40\n",
            "7/7 [==============================] - 1s 73ms/step - loss: 0.7028 - accuracy: 0.6224\n",
            "Epoch 14/40\n",
            "7/7 [==============================] - 0s 68ms/step - loss: 0.8744 - accuracy: 0.5561\n",
            "Epoch 15/40\n",
            "7/7 [==============================] - 1s 79ms/step - loss: 0.7093 - accuracy: 0.5510\n",
            "Epoch 16/40\n",
            "7/7 [==============================] - 1s 78ms/step - loss: 0.6762 - accuracy: 0.6020\n",
            "Epoch 17/40\n",
            "7/7 [==============================] - 1s 77ms/step - loss: 0.6460 - accuracy: 0.6020\n",
            "Epoch 18/40\n",
            "7/7 [==============================] - 1s 75ms/step - loss: 0.6314 - accuracy: 0.6071\n",
            "Epoch 19/40\n",
            "7/7 [==============================] - 0s 71ms/step - loss: 0.6126 - accuracy: 0.6020\n",
            "Epoch 20/40\n",
            "7/7 [==============================] - 1s 77ms/step - loss: 0.5994 - accuracy: 0.6939\n",
            "Epoch 21/40\n",
            "7/7 [==============================] - 1s 82ms/step - loss: 0.5992 - accuracy: 0.6684\n",
            "Epoch 22/40\n",
            "7/7 [==============================] - 1s 84ms/step - loss: 0.6271 - accuracy: 0.6888\n",
            "Epoch 23/40\n",
            "7/7 [==============================] - 1s 71ms/step - loss: 0.6077 - accuracy: 0.6173\n",
            "Epoch 24/40\n",
            "7/7 [==============================] - 0s 70ms/step - loss: 0.5889 - accuracy: 0.6888\n",
            "Epoch 25/40\n",
            "7/7 [==============================] - 0s 69ms/step - loss: 0.5654 - accuracy: 0.6837\n",
            "Epoch 26/40\n",
            "7/7 [==============================] - 0s 70ms/step - loss: 0.5228 - accuracy: 0.6888\n",
            "Epoch 27/40\n",
            "7/7 [==============================] - 0s 69ms/step - loss: 0.5648 - accuracy: 0.7398\n",
            "Epoch 28/40\n",
            "7/7 [==============================] - 0s 59ms/step - loss: 0.5149 - accuracy: 0.7500\n",
            "Epoch 29/40\n",
            "7/7 [==============================] - 0s 59ms/step - loss: 0.5773 - accuracy: 0.6735\n",
            "Epoch 30/40\n",
            "7/7 [==============================] - 0s 59ms/step - loss: 0.5406 - accuracy: 0.6276\n",
            "Epoch 31/40\n",
            "7/7 [==============================] - 0s 59ms/step - loss: 0.5350 - accuracy: 0.6888\n",
            "Epoch 32/40\n",
            "7/7 [==============================] - 0s 59ms/step - loss: 0.5840 - accuracy: 0.6378\n",
            "Epoch 33/40\n",
            "7/7 [==============================] - 0s 59ms/step - loss: 0.4265 - accuracy: 0.8010\n",
            "Epoch 34/40\n",
            "7/7 [==============================] - 0s 59ms/step - loss: 0.5656 - accuracy: 0.7296\n",
            "Epoch 35/40\n",
            "7/7 [==============================] - 0s 59ms/step - loss: 0.5179 - accuracy: 0.7245\n",
            "Epoch 36/40\n",
            "7/7 [==============================] - 0s 59ms/step - loss: 0.4711 - accuracy: 0.7755\n",
            "Epoch 37/40\n",
            "7/7 [==============================] - 0s 59ms/step - loss: 0.4067 - accuracy: 0.8724\n",
            "Epoch 38/40\n",
            "7/7 [==============================] - 0s 59ms/step - loss: 0.3583 - accuracy: 0.8878\n",
            "Epoch 39/40\n",
            "7/7 [==============================] - 0s 58ms/step - loss: 0.3995 - accuracy: 0.8112\n",
            "Epoch 40/40\n",
            "7/7 [==============================] - 0s 58ms/step - loss: 0.3363 - accuracy: 0.8827\n"
          ]
        }
      ]
    },
    {
      "cell_type": "markdown",
      "source": [
        "### Evaluating the neural network"
      ],
      "metadata": {
        "id": "vMeK-V0sTkif"
      }
    },
    {
      "cell_type": "code",
      "source": [
        "plt.plot(history.history['loss']);"
      ],
      "metadata": {
        "colab": {
          "base_uri": "https://localhost:8080/",
          "height": 430
        },
        "id": "TtLM65yYTjtM",
        "outputId": "f2c1775e-0bbb-47fa-b4ef-df292478f161"
      },
      "execution_count": 15,
      "outputs": [
        {
          "output_type": "display_data",
          "data": {
            "text/plain": [
              "<Figure size 640x480 with 1 Axes>"
            ],
            "image/png": "[encoded data removed]"
          },
          "metadata": {}
        }
      ]
    },
    {
      "cell_type": "code",
      "source": [
        "plt.plot(history.history['accuracy']);"
      ],
      "metadata": {
        "colab": {
          "base_uri": "https://localhost:8080/",
          "height": 430
        },
        "id": "vmKkI5FPTwZH",
        "outputId": "b180115d-bae7-4369-ebd4-4b160c9dcc0f"
      },
      "execution_count": 16,
      "outputs": [
        {
          "output_type": "display_data",
          "data": {
            "text/plain": [
              "<Figure size 640x480 with 1 Axes>"
            ],
            "image/png": "[encoded data removed]"
          },
          "metadata": {}
        }
      ]
    },
    {
      "cell_type": "code",
      "source": [
        "test_labels = get_labels(test_set)\n",
        "test_vectors = get_image_vectors(test_set)"
      ],
      "metadata": {
        "id": "rdm84aJsU86z"
      },
      "execution_count": 17,
      "outputs": []
    },
    {
      "cell_type": "code",
      "source": [
        "predictions = net.predict(test_vectors)"
      ],
      "metadata": {
        "colab": {
          "base_uri": "https://localhost:8080/"
        },
        "id": "jJ2U4R-XVF07",
        "outputId": "fbc582df-a223-421d-fdb4-0d40f73eb59c"
      },
      "execution_count": 18,
      "outputs": [
        {
          "output_type": "stream",
          "name": "stdout",
          "text": [
            "3/3 [==============================] - 0s 6ms/step\n"
          ]
        }
      ]
    },
    {
      "cell_type": "code",
      "source": [
        "predictions = (predictions > 0.5)\n",
        "accuracy_score(test_labels, predictions)"
      ],
      "metadata": {
        "colab": {
          "base_uri": "https://localhost:8080/"
        },
        "id": "1C5mDwnuVQ1y",
        "outputId": "c248c819-2f94-49b5-ff99-46a4cc803236"
      },
      "execution_count": 19,
      "outputs": [
        {
          "output_type": "execute_result",
          "data": {
            "text/plain": [
              "0.7397260273972602"
            ]
          },
          "metadata": {},
          "execution_count": 19
        }
      ]
    },
    {
      "cell_type": "code",
      "source": [
        "cm = confusion_matrix(test_labels, predictions)\n",
        "sns.heatmap(cm, annot=True);"
      ],
      "metadata": {
        "colab": {
          "base_uri": "https://localhost:8080/",
          "height": 430
        },
        "id": "Cmw0ZPcBQmL_",
        "outputId": "dd4fb397-fe08-4795-a30e-7bf3cbbe450a"
      },
      "execution_count": 20,
      "outputs": [
        {
          "output_type": "display_data",
          "data": {
            "text/plain": [
              "<Figure size 640x480 with 2 Axes>"
            ],
            "image/png": "[encoded data removed]"
          },
          "metadata": {}
        }
      ]
    }
  ]
}