{
  "nbformat": 4,
  "nbformat_minor": 0,
  "metadata": {
    "colab": {
      "provenance": [],
      "gpuType": "T4",
      "authorship_tag": "ABX9TyNcxZmsgy4dkXedogt2z2bj",
      "include_colab_link": true
    },
    "kernelspec": {
      "name": "python3",
      "display_name": "Python 3"
    },
    "language_info": {
      "name": "python"
    },
    "accelerator": "GPU"
  },
  "cells": [
    {
      "cell_type": "markdown",
      "metadata": {
        "id": "view-in-github",
        "colab_type": "text"
      },
      "source": [
        "<a href=\"https://colab.research.google.com/github/iliya1984/DevML/blob/main/computer_vision/image_classification/homer_bart_classification_nn.ipynb\" target=\"_parent\"><img src=\"https://colab.research.google.com/assets/colab-badge.svg\" alt=\"Open In Colab\"/></a>"
      ]
    },
    {
      "cell_type": "markdown",
      "source": [
        "# Neural network for image classification"
      ],
      "metadata": {
        "id": "sPnJylDY2PK9"
      }
    },
    {
      "cell_type": "markdown",
      "source": [
        "### Importing the libraries"
      ],
      "metadata": {
        "id": "vuCqmWCc2ZU8"
      }
    },
    {
      "cell_type": "code",
      "source": [
        "import cv2\n",
        "import numpy as np\n",
        "import os\n",
        "import zipfile\n",
        "import tensorflow as tf\n",
        "from tensorflow.keras.models import Sequential\n",
        "from tensorflow.keras.layers import Dense\n",
        "\n",
        "import pandas as pd\n",
        "import seaborn as sns\n",
        "import matplotlib.pyplot as plt\n",
        "import random\n",
        "\n",
        "from sklearn.preprocessing import MinMaxScaler\n",
        "from sklearn.metrics import accuracy_score\n",
        "\n",
        "from google.colab import drive\n",
        "from google.colab.patches import cv2_imshow\n",
        "drive.mount('/content/drive')\n",
        "\n",
        "tf.__version__"
      ],
      "metadata": {
        "colab": {
          "base_uri": "https://localhost:8080/",
          "height": 53
        },
        "id": "2MDfiQXr2cLM",
        "outputId": "7d0afe66-849e-4cc1-af00-e92c5cf12c6c"
      },
      "execution_count": 1,
      "outputs": [
        {
          "output_type": "stream",
          "name": "stdout",
          "text": [
            "Drive already mounted at /content/drive; to attempt to forcibly remount, call drive.mount(\"/content/drive\", force_remount=True).\n"
          ]
        },
        {
          "output_type": "execute_result",
          "data": {
            "text/plain": [
              "'2.15.0'"
            ],
            "application/vnd.google.colaboratory.intrinsic+json": {
              "type": "string"
            }
          },
          "metadata": {},
          "execution_count": 1
        }
      ]
    },
    {
      "cell_type": "code",
      "source": [
        "%run '/content/drive/MyDrive/Workspace/Computer Vision/cv_common.ipynb'"
      ],
      "metadata": {
        "colab": {
          "base_uri": "https://localhost:8080/"
        },
        "id": "4Grb7VoF2wNC",
        "outputId": "0feceab5-018d-4baa-82b0-1ddc02841582"
      },
      "execution_count": 2,
      "outputs": [
        {
          "output_type": "stream",
          "name": "stdout",
          "text": [
            "Common library was successfully loaded\n"
          ]
        }
      ]
    },
    {
      "cell_type": "markdown",
      "source": [
        "### Extracting pixels from images"
      ],
      "metadata": {
        "id": "YYe1a0tq2g-z"
      }
    },
    {
      "cell_type": "code",
      "source": [
        "zip_file_path = f'{datasets_directory}/Simpsons/simpsons.zip'\n",
        "working_directory = './content/simpsons'\n",
        "data_extract_path = f'{working_directory}/datasets'\n",
        "train_set_path = f'{data_extract_path}/simpsons/training_set'\n",
        "test_set_path = f'{data_extract_path}/simpsons/test_set'\n",
        "\n",
        "image_height = 128\n",
        "image_width = 128"
      ],
      "metadata": {
        "id": "HrLSthJd2kaR"
      },
      "execution_count": 3,
      "outputs": []
    },
    {
      "cell_type": "code",
      "source": [
        "create_empty_directory(data_extract_path)\n",
        "zipe_file = zipfile.ZipFile(file=zip_file_path, mode = 'r')\n",
        "zipe_file.extractall(data_extract_path)\n",
        "zipe_file.close()"
      ],
      "metadata": {
        "colab": {
          "base_uri": "https://localhost:8080/"
        },
        "id": "fbXPFyr53gZa",
        "outputId": "4dc14004-a467-4730-cf2b-a4eab58584ff"
      },
      "execution_count": 4,
      "outputs": [
        {
          "output_type": "stream",
          "name": "stdout",
          "text": [
            "./content/simpsons/datasets directory already exists\n"
          ]
        }
      ]
    },
    {
      "cell_type": "code",
      "source": [
        "def get_labels(images):\n",
        "  labels = []\n",
        "\n",
        "  for image_info in images:\n",
        "    label = image_info[2]\n",
        "    labels.append(label)\n",
        "\n",
        "  return np.asarray(labels)\n",
        "\n",
        "def get_image_vectors(images):\n",
        "  vectors = []\n",
        "\n",
        "  for image_info in images:\n",
        "    vector = image_info[1]\n",
        "    vectors.append(vector)\n",
        "\n",
        "  return np.asarray(vectors)\n",
        "\n",
        "def load_images_and_classes(directory, images, preview_images=False):\n",
        "\n",
        "  files = [os.path.join(directory, f) for f in sorted(os.listdir(directory))]\n",
        "  #print(files)\n",
        "\n",
        "  preview_index = 0\n",
        "  for image_path in files:\n",
        "    #print(image_path)\n",
        "    try:\n",
        "      image = cv2.imread(image_path)\n",
        "      (H, W) = image.shape[:2]\n",
        "    except:\n",
        "      print('Image read error')\n",
        "      continue\n",
        "\n",
        "    image = cv2.resize(image, (image_width, image_height))\n",
        "    image = cv2.cvtColor(image, cv2.COLOR_BGR2GRAY)\n",
        "\n",
        "    if preview_images and preview_index < 1:\n",
        "      cv2_imshow(image)\n",
        "      preview_index += 1\n",
        "\n",
        "    #Converting image matrix into vector\n",
        "    vector = image.ravel()\n",
        "    #print(image.shape)\n",
        "\n",
        "    image_name = os.path.basename(os.path.normpath(image_path))\n",
        "    if image_name.startswith('b'):\n",
        "      class_name = 0\n",
        "    else:\n",
        "      class_name = 1\n",
        "\n",
        "    images.append((image, vector, class_name))\n",
        "    #print(class_name)\n",
        "\n",
        "  return images"
      ],
      "metadata": {
        "id": "qLj8qvhC7Qnv"
      },
      "execution_count": 5,
      "outputs": []
    },
    {
      "cell_type": "code",
      "source": [
        "#Loading Homer's images and labels\n",
        "train_set = load_images_and_classes(f'{train_set_path}/homer', [], preview_images=True)\n",
        "test_set = load_images_and_classes(f'{test_set_path}/homer', [], preview_images=True)"
      ],
      "metadata": {
        "colab": {
          "base_uri": "https://localhost:8080/",
          "height": 273
        },
        "id": "VtUbM69O4r-g",
        "outputId": "2dec5a15-7440-469c-a092-aa091fb61059"
      },
      "execution_count": 6,
      "outputs": [
        {
          "output_type": "display_data",
          "data": {
            "text/plain": [
              "<PIL.Image.Image image mode=L size=128x128>"
            ],
            "image/png": "[encoded data removed]"
          },
          "metadata": {}
        },
        {
          "output_type": "display_data",
          "data": {
            "text/plain": [
              "<PIL.Image.Image image mode=L size=128x128>"
            ],
            "image/png": "[encoded data removed]"
          },
          "metadata": {}
        }
      ]
    },
    {
      "cell_type": "code",
      "source": [
        "#Loading Bart's images and labels\n",
        "train_set = load_images_and_classes(f'{train_set_path}/bart', train_set, preview_images=True)\n",
        "test_set = load_images_and_classes(f'{test_set_path}/bart', test_set, preview_images=True)"
      ],
      "metadata": {
        "colab": {
          "base_uri": "https://localhost:8080/",
          "height": 273
        },
        "id": "xfGMPXDH8OPd",
        "outputId": "ed7fce4e-0766-458b-b169-93882a94d632"
      },
      "execution_count": 7,
      "outputs": [
        {
          "output_type": "display_data",
          "data": {
            "text/plain": [
              "<PIL.Image.Image image mode=L size=128x128>"
            ],
            "image/png": "[encoded data removed]"
          },
          "metadata": {}
        },
        {
          "output_type": "display_data",
          "data": {
            "text/plain": [
              "<PIL.Image.Image image mode=L size=128x128>"
            ],
            "image/png": "[encoded data removed]"
          },
          "metadata": {}
        }
      ]
    },
    {
      "cell_type": "code",
      "source": [
        "#Shuffling training set\n",
        "random.shuffle(train_set)\n",
        "cv2_imshow(train_set[0][0])\n"
      ],
      "metadata": {
        "colab": {
          "base_uri": "https://localhost:8080/",
          "height": 145
        },
        "id": "1ig4fWAhAEjW",
        "outputId": "96517ef3-4fe7-46ff-f5dd-156d39475609"
      },
      "execution_count": 8,
      "outputs": [
        {
          "output_type": "display_data",
          "data": {
            "text/plain": [
              "<PIL.Image.Image image mode=L size=128x128>"
            ],
            "image/png": "[encoded data removed]"
          },
          "metadata": {}
        }
      ]
    },
    {
      "cell_type": "code",
      "source": [
        "train_labels = get_labels(train_set)\n",
        "label_counts = pd.Series(train_labels).value_counts()\n",
        "plt.bar(label_counts.index.values, label_counts.values, color=['#3495eb', '#ebab34'])\n"
      ],
      "metadata": {
        "colab": {
          "base_uri": "https://localhost:8080/",
          "height": 447
        },
        "id": "u0yf073HKMKS",
        "outputId": "79e5acae-5b54-4ef9-91e2-57305a226018"
      },
      "execution_count": 9,
      "outputs": [
        {
          "output_type": "execute_result",
          "data": {
            "text/plain": [
              "<BarContainer object of 2 artists>"
            ]
          },
          "metadata": {},
          "execution_count": 9
        },
        {
          "output_type": "display_data",
          "data": {
            "text/plain": [
              "<Figure size 640x480 with 1 Axes>"
            ],
            "image/png": "[encoded data removed]"
          },
          "metadata": {}
        }
      ]
    },
    {
      "cell_type": "markdown",
      "source": [
        "### Normalizing the data"
      ],
      "metadata": {
        "id": "I0SctE1dQyyo"
      }
    },
    {
      "cell_type": "code",
      "source": [
        "train_vectors = get_image_vectors(train_set)\n",
        "\n",
        "scaler = MinMaxScaler()\n",
        "train_vectors = scaler.fit_transform(train_vectors)"
      ],
      "metadata": {
        "id": "g1lhK3XwLKP_"
      },
      "execution_count": 10,
      "outputs": []
    },
    {
      "cell_type": "markdown",
      "source": [
        "### Building and training the neural network"
      ],
      "metadata": {
        "id": "wHakKBJ9Q7vT"
      }
    },
    {
      "cell_type": "code",
      "source": [
        "net = Sequential()\n",
        "net.add(Dense(input_shape=(16384,), units=8193, activation='relu'))\n",
        "net.add(Dense(units=8193, activation = 'relu'))\n",
        "net.add(Dense(units = 1, activation = 'sigmoid'))"
      ],
      "metadata": {
        "id": "BNUwJJIJQ805"
      },
      "execution_count": 20,
      "outputs": []
    },
    {
      "cell_type": "code",
      "source": [
        "net.summary()"
      ],
      "metadata": {
        "colab": {
          "base_uri": "https://localhost:8080/"
        },
        "id": "wZGEVWVORuVG",
        "outputId": "e42996b7-a55d-4ceb-fc5b-8f3592b9e56b"
      },
      "execution_count": 21,
      "outputs": [
        {
          "output_type": "stream",
          "name": "stdout",
          "text": [
            "Model: \"sequential_1\"\n",
            "_________________________________________________________________\n",
            " Layer (type)                Output Shape              Param #   \n",
            "=================================================================\n",
            " dense_3 (Dense)             (None, 8193)              134242305 \n",
            "                                                                 \n",
            " dense_4 (Dense)             (None, 8193)              67133442  \n",
            "                                                                 \n",
            " dense_5 (Dense)             (None, 1)                 8194      \n",
            "                                                                 \n",
            "=================================================================\n",
            "Total params: 201383941 (768.22 MB)\n",
            "Trainable params: 201383941 (768.22 MB)\n",
            "Non-trainable params: 0 (0.00 Byte)\n",
            "_________________________________________________________________\n"
          ]
        }
      ]
    },
    {
      "cell_type": "code",
      "source": [
        "# https://keras.io/api/optimizers/\n",
        "# https://keras.io/api/losses/\n",
        "net.compile(optimizer='Adam', loss='binary_crossentropy', metrics = ['accuracy'])"
      ],
      "metadata": {
        "id": "0TjK-LVnR0BD"
      },
      "execution_count": 22,
      "outputs": []
    },
    {
      "cell_type": "code",
      "source": [
        "history = net.fit(train_vectors, train_labels, epochs=40)"
      ],
      "metadata": {
        "colab": {
          "base_uri": "https://localhost:8080/"
        },
        "id": "fIxvxMKBR4zP",
        "outputId": "b33d1c2f-21b9-4aef-90cc-c5bce9da6a76"
      },
      "execution_count": 23,
      "outputs": [
        {
          "output_type": "stream",
          "name": "stdout",
          "text": [
            "Epoch 1/40\n",
            "7/7 [==============================] - 3s 71ms/step - loss: 90.2926 - accuracy: 0.5459\n",
            "Epoch 2/40\n",
            "7/7 [==============================] - 0s 67ms/step - loss: 3.8941 - accuracy: 0.5204\n",
            "Epoch 3/40\n",
            "7/7 [==============================] - 0s 64ms/step - loss: 3.3701 - accuracy: 0.4898\n",
            "Epoch 4/40\n",
            "7/7 [==============================] - 0s 71ms/step - loss: 1.7668 - accuracy: 0.5765\n",
            "Epoch 5/40\n",
            "7/7 [==============================] - 0s 68ms/step - loss: 0.7633 - accuracy: 0.5306\n",
            "Epoch 6/40\n",
            "7/7 [==============================] - 0s 66ms/step - loss: 0.6268 - accuracy: 0.6684\n",
            "Epoch 7/40\n",
            "7/7 [==============================] - 1s 73ms/step - loss: 0.6853 - accuracy: 0.5408\n",
            "Epoch 8/40\n",
            "7/7 [==============================] - 0s 61ms/step - loss: 0.6469 - accuracy: 0.5867\n",
            "Epoch 9/40\n",
            "7/7 [==============================] - 0s 61ms/step - loss: 0.7016 - accuracy: 0.5357\n",
            "Epoch 10/40\n",
            "7/7 [==============================] - 0s 58ms/step - loss: 0.6981 - accuracy: 0.6224\n",
            "Epoch 11/40\n",
            "7/7 [==============================] - 0s 57ms/step - loss: 0.6411 - accuracy: 0.5816\n",
            "Epoch 12/40\n",
            "7/7 [==============================] - 0s 58ms/step - loss: 0.6447 - accuracy: 0.6327\n",
            "Epoch 13/40\n",
            "7/7 [==============================] - 0s 58ms/step - loss: 0.5737 - accuracy: 0.6939\n",
            "Epoch 14/40\n",
            "7/7 [==============================] - 0s 59ms/step - loss: 0.6772 - accuracy: 0.6786\n",
            "Epoch 15/40\n",
            "7/7 [==============================] - 0s 58ms/step - loss: 0.6527 - accuracy: 0.5867\n",
            "Epoch 16/40\n",
            "7/7 [==============================] - 0s 58ms/step - loss: 0.5321 - accuracy: 0.7755\n",
            "Epoch 17/40\n",
            "7/7 [==============================] - 0s 61ms/step - loss: 0.4910 - accuracy: 0.7704\n",
            "Epoch 18/40\n",
            "7/7 [==============================] - 0s 59ms/step - loss: 0.7626 - accuracy: 0.6276\n",
            "Epoch 19/40\n",
            "7/7 [==============================] - 0s 61ms/step - loss: 0.6204 - accuracy: 0.6582\n",
            "Epoch 20/40\n",
            "7/7 [==============================] - 0s 60ms/step - loss: 0.5744 - accuracy: 0.7194\n",
            "Epoch 21/40\n",
            "7/7 [==============================] - 0s 60ms/step - loss: 0.5532 - accuracy: 0.7143\n",
            "Epoch 22/40\n",
            "7/7 [==============================] - 0s 58ms/step - loss: 0.5316 - accuracy: 0.7449\n",
            "Epoch 23/40\n",
            "7/7 [==============================] - 0s 61ms/step - loss: 0.4738 - accuracy: 0.7959\n",
            "Epoch 24/40\n",
            "7/7 [==============================] - 0s 60ms/step - loss: 0.4757 - accuracy: 0.7755\n",
            "Epoch 25/40\n",
            "7/7 [==============================] - 0s 60ms/step - loss: 0.4306 - accuracy: 0.7959\n",
            "Epoch 26/40\n",
            "7/7 [==============================] - 0s 60ms/step - loss: 0.4494 - accuracy: 0.7806\n",
            "Epoch 27/40\n",
            "7/7 [==============================] - 0s 61ms/step - loss: 0.4885 - accuracy: 0.7092\n",
            "Epoch 28/40\n",
            "7/7 [==============================] - 0s 59ms/step - loss: 0.6121 - accuracy: 0.6429\n",
            "Epoch 29/40\n",
            "7/7 [==============================] - 0s 58ms/step - loss: 0.4213 - accuracy: 0.7908\n",
            "Epoch 30/40\n",
            "7/7 [==============================] - 0s 58ms/step - loss: 0.5352 - accuracy: 0.7602\n",
            "Epoch 31/40\n",
            "7/7 [==============================] - 0s 58ms/step - loss: 0.5278 - accuracy: 0.7143\n",
            "Epoch 32/40\n",
            "7/7 [==============================] - 0s 58ms/step - loss: 0.3625 - accuracy: 0.8776\n",
            "Epoch 33/40\n",
            "7/7 [==============================] - 0s 58ms/step - loss: 0.4437 - accuracy: 0.7602\n",
            "Epoch 34/40\n",
            "7/7 [==============================] - 0s 58ms/step - loss: 0.3439 - accuracy: 0.8367\n",
            "Epoch 35/40\n",
            "7/7 [==============================] - 0s 57ms/step - loss: 0.3085 - accuracy: 0.8673\n",
            "Epoch 36/40\n",
            "7/7 [==============================] - 0s 57ms/step - loss: 0.3962 - accuracy: 0.7755\n",
            "Epoch 37/40\n",
            "7/7 [==============================] - 0s 58ms/step - loss: 0.2207 - accuracy: 0.9286\n",
            "Epoch 38/40\n",
            "7/7 [==============================] - 0s 58ms/step - loss: 0.2467 - accuracy: 0.8827\n",
            "Epoch 39/40\n",
            "7/7 [==============================] - 0s 58ms/step - loss: 0.1748 - accuracy: 0.9337\n",
            "Epoch 40/40\n",
            "7/7 [==============================] - 0s 57ms/step - loss: 0.1100 - accuracy: 0.9898\n"
          ]
        }
      ]
    },
    {
      "cell_type": "markdown",
      "source": [
        "### Evaluating the neural network"
      ],
      "metadata": {
        "id": "vMeK-V0sTkif"
      }
    },
    {
      "cell_type": "code",
      "source": [
        "plt.plot(history.history['loss']);"
      ],
      "metadata": {
        "colab": {
          "base_uri": "https://localhost:8080/",
          "height": 430
        },
        "id": "TtLM65yYTjtM",
        "outputId": "969d9952-c521-4831-e572-5ed20b9e2101"
      },
      "execution_count": 24,
      "outputs": [
        {
          "output_type": "display_data",
          "data": {
            "text/plain": [
              "<Figure size 640x480 with 1 Axes>"
            ],
            "image/png": "[encoded data removed]"
          },
          "metadata": {}
        }
      ]
    },
    {
      "cell_type": "code",
      "source": [
        "plt.plot(history.history['accuracy']);"
      ],
      "metadata": {
        "colab": {
          "base_uri": "https://localhost:8080/",
          "height": 430
        },
        "id": "vmKkI5FPTwZH",
        "outputId": "7a373cf2-f16a-4e1e-caf7-5d723d937535"
      },
      "execution_count": 25,
      "outputs": [
        {
          "output_type": "display_data",
          "data": {
            "text/plain": [
              "<Figure size 640x480 with 1 Axes>"
            ],
            "image/png": "[encoded data removed]"
          },
          "metadata": {}
        }
      ]
    },
    {
      "cell_type": "code",
      "source": [
        "test_labels = get_labels(test_set)\n",
        "test_vectors = get_image_vectors(test_set)"
      ],
      "metadata": {
        "id": "rdm84aJsU86z"
      },
      "execution_count": 26,
      "outputs": []
    },
    {
      "cell_type": "code",
      "source": [
        "predictions = net.predict(test_vectors)"
      ],
      "metadata": {
        "colab": {
          "base_uri": "https://localhost:8080/"
        },
        "id": "jJ2U4R-XVF07",
        "outputId": "69e1f036-bf65-4796-9008-551b5f079bb8"
      },
      "execution_count": 27,
      "outputs": [
        {
          "output_type": "stream",
          "name": "stdout",
          "text": [
            "3/3 [==============================] - 0s 6ms/step\n"
          ]
        }
      ]
    },
    {
      "cell_type": "code",
      "source": [
        "predictions = (predictions > 0.5)\n",
        "accuracy_score(test_labels, predictions)"
      ],
      "metadata": {
        "colab": {
          "base_uri": "https://localhost:8080/"
        },
        "id": "1C5mDwnuVQ1y",
        "outputId": "9acebae8-4415-48ac-b882-cd607ae5b3ce"
      },
      "execution_count": 28,
      "outputs": [
        {
          "output_type": "execute_result",
          "data": {
            "text/plain": [
              "0.7671232876712328"
            ]
          },
          "metadata": {},
          "execution_count": 28
        }
      ]
    }
  ]
}