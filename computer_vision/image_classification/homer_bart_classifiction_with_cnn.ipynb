{
  "nbformat": 4,
  "nbformat_minor": 0,
  "metadata": {
    "colab": {
      "provenance": [],
      "gpuType": "T4",
      "authorship_tag": "ABX9TyNNfR7yvxi5sZlXG6qo0YM9",
      "include_colab_link": true
    },
    "kernelspec": {
      "name": "python3",
      "display_name": "Python 3"
    },
    "language_info": {
      "name": "python"
    },
    "accelerator": "GPU"
  },
  "cells": [
    {
      "cell_type": "markdown",
      "metadata": {
        "id": "view-in-github",
        "colab_type": "text"
      },
      "source": [
        "<a href=\"https://colab.research.google.com/github/iliya1984/DevML/blob/main/computer_vision/image_classification/homer_bart_classifiction_with_cnn.ipynb\" target=\"_parent\"><img src=\"https://colab.research.google.com/assets/colab-badge.svg\" alt=\"Open In Colab\"/></a>"
      ]
    },
    {
      "cell_type": "markdown",
      "source": [
        "# Homer/Bart image classification with feature extraction"
      ],
      "metadata": {
        "id": "O07rcTV_k4tr"
      }
    },
    {
      "cell_type": "markdown",
      "source": [
        "### Importing the libraries"
      ],
      "metadata": {
        "id": "RFbrsxuDk9HD"
      }
    },
    {
      "cell_type": "code",
      "execution_count": 49,
      "metadata": {
        "colab": {
          "base_uri": "https://localhost:8080/",
          "height": 53
        },
        "id": "_mqC42ZFjlBJ",
        "outputId": "91b8084b-fd7a-49e9-a97d-dacebcc19d03"
      },
      "outputs": [
        {
          "output_type": "stream",
          "name": "stdout",
          "text": [
            "Drive already mounted at /content/drive; to attempt to forcibly remount, call drive.mount(\"/content/drive\", force_remount=True).\n"
          ]
        },
        {
          "output_type": "execute_result",
          "data": {
            "text/plain": [
              "'2.15.0'"
            ],
            "application/vnd.google.colaboratory.intrinsic+json": {
              "type": "string"
            }
          },
          "metadata": {},
          "execution_count": 49
        }
      ],
      "source": [
        "import tensorflow as tf\n",
        "from tensorflow.keras.models import Sequential\n",
        "from tensorflow.keras.layers import Conv2D, MaxPooling2D, Flatten, Dense\n",
        "from tensorflow.keras.preprocessing.image import ImageDataGenerator\n",
        "import matplotlib.pyplot as plt\n",
        "import seaborn as sns\n",
        "import zipfile\n",
        "import pandas as pd\n",
        "import numpy as np\n",
        "import cv2\n",
        "\n",
        "from sklearn.metrics import accuracy_score\n",
        "from sklearn.metrics import confusion_matrix\n",
        "from sklearn.metrics import classification_report\n",
        "from keras.models import save_model\n",
        "import math\n",
        "\n",
        "from google.colab.patches import cv2_imshow\n",
        "from google.colab import drive\n",
        "drive.mount('/content/drive')\n",
        "\n",
        "tf.__version__"
      ]
    },
    {
      "cell_type": "code",
      "source": [
        "%run '/content/drive/MyDrive/Workspace/Computer Vision/cv_common.ipynb'"
      ],
      "metadata": {
        "colab": {
          "base_uri": "https://localhost:8080/"
        },
        "id": "VyYXbyB5lB8J",
        "outputId": "fb2f98e6-9683-4cd5-f97f-27c28f91a0d1"
      },
      "execution_count": 50,
      "outputs": [
        {
          "output_type": "stream",
          "name": "stdout",
          "text": [
            "Common library was successfully loaded\n"
          ]
        }
      ]
    },
    {
      "cell_type": "markdown",
      "source": [
        "### Loading the images"
      ],
      "metadata": {
        "id": "rpiS9niblI6h"
      }
    },
    {
      "cell_type": "code",
      "source": [
        "zip_file_path = f'{datasets_directory}/Simpsons/simpsons.zip'\n",
        "working_directory = './content/simpsons'\n",
        "data_extract_path = f'{working_directory}/datasets'\n",
        "train_set_path = f'{data_extract_path}/simpsons/training_set'\n",
        "test_set_path = f'{data_extract_path}/simpsons/test_set'\n",
        "model_directory = f'{working_directory}/models'"
      ],
      "metadata": {
        "id": "qpOOJBmklLdz"
      },
      "execution_count": 51,
      "outputs": []
    },
    {
      "cell_type": "code",
      "source": [
        "zip_object = zipfile.ZipFile(file=zip_file_path, mode='r')\n",
        "zip_object.extractall(data_extract_path)\n",
        "zip_object.close()"
      ],
      "metadata": {
        "id": "8ckhrP_ylPTa"
      },
      "execution_count": 52,
      "outputs": []
    },
    {
      "cell_type": "code",
      "source": [
        "# Create training set generation, in order to provide training image augmentation\n",
        "# Image augmentation transformations are Rescalling/Rotation/Horizontal Flip/Zoom In or Out\n",
        "training_generator = ImageDataGenerator(rescale=1./255,\n",
        "                                        rotation_range=7,\n",
        "                                        horizontal_flip=True,\n",
        "                                        zoom_range=0.2)\n",
        "\n",
        "#Loading and transforming image training set\n",
        "# 1) Resizing all images to 64*64 size\n",
        "# 2) Shuffling and spliting to baches\n",
        "train_dataset = training_generator.flow_from_directory(train_set_path,\n",
        "                                                        target_size = (64, 64),\n",
        "                                                        batch_size = 8,\n",
        "                                                        class_mode = 'categorical',\n",
        "                                                       shuffle = True)\n",
        "train_dataset.classes"
      ],
      "metadata": {
        "colab": {
          "base_uri": "https://localhost:8080/"
        },
        "id": "p4nWlSuJlxv_",
        "outputId": "ca8234c4-9e1e-4874-dab5-d2d2a7e497a7"
      },
      "execution_count": 53,
      "outputs": [
        {
          "output_type": "stream",
          "name": "stdout",
          "text": [
            "Found 196 images belonging to 2 classes.\n"
          ]
        },
        {
          "output_type": "execute_result",
          "data": {
            "text/plain": [
              "array([0, 0, 0, 0, 0, 0, 0, 0, 0, 0, 0, 0, 0, 0, 0, 0, 0, 0, 0, 0, 0, 0,\n",
              "       0, 0, 0, 0, 0, 0, 0, 0, 0, 0, 0, 0, 0, 0, 0, 0, 0, 0, 0, 0, 0, 0,\n",
              "       0, 0, 0, 0, 0, 0, 0, 0, 0, 0, 0, 0, 0, 0, 0, 0, 0, 0, 0, 0, 0, 0,\n",
              "       0, 0, 0, 0, 0, 0, 0, 0, 0, 0, 0, 0, 0, 0, 0, 0, 0, 0, 0, 0, 0, 0,\n",
              "       0, 0, 0, 0, 0, 0, 0, 0, 0, 0, 0, 0, 0, 0, 0, 0, 0, 0, 0, 0, 0, 0,\n",
              "       0, 0, 0, 0, 0, 0, 0, 0, 1, 1, 1, 1, 1, 1, 1, 1, 1, 1, 1, 1, 1, 1,\n",
              "       1, 1, 1, 1, 1, 1, 1, 1, 1, 1, 1, 1, 1, 1, 1, 1, 1, 1, 1, 1, 1, 1,\n",
              "       1, 1, 1, 1, 1, 1, 1, 1, 1, 1, 1, 1, 1, 1, 1, 1, 1, 1, 1, 1, 1, 1,\n",
              "       1, 1, 1, 1, 1, 1, 1, 1, 1, 1, 1, 1, 1, 1, 1, 1, 1, 1, 1, 1],\n",
              "      dtype=int32)"
            ]
          },
          "metadata": {},
          "execution_count": 53
        }
      ]
    },
    {
      "cell_type": "code",
      "source": [
        "train_dataset.class_indices\n",
        "\n",
        "train_dataset"
      ],
      "metadata": {
        "colab": {
          "base_uri": "https://localhost:8080/"
        },
        "id": "3f29_8GfmUSu",
        "outputId": "b639e33b-0604-4dcb-8319-daa54975c7e0"
      },
      "execution_count": 54,
      "outputs": [
        {
          "output_type": "execute_result",
          "data": {
            "text/plain": [
              "<keras.src.preprocessing.image.DirectoryIterator at 0x7ee58510b460>"
            ]
          },
          "metadata": {},
          "execution_count": 54
        }
      ]
    },
    {
      "cell_type": "code",
      "source": [
        "# Create testing set generator.\n",
        "test_generator = ImageDataGenerator(rescale=1./255)\n",
        "test_dataset = test_generator.flow_from_directory(test_set_path,\n",
        "                                                     target_size = (64, 64),\n",
        "                                                     batch_size = 1,\n",
        "                                                     class_mode = 'categorical',\n",
        "                                                     shuffle = False)"
      ],
      "metadata": {
        "colab": {
          "base_uri": "https://localhost:8080/"
        },
        "id": "gDHLoN3-mUu-",
        "outputId": "f31a776c-52c6-415a-96f9-66e702d60d53"
      },
      "execution_count": 55,
      "outputs": [
        {
          "output_type": "stream",
          "name": "stdout",
          "text": [
            "Found 73 images belonging to 2 classes.\n"
          ]
        }
      ]
    },
    {
      "cell_type": "markdown",
      "source": [
        "## Network weight number and layer output size calculation"
      ],
      "metadata": {
        "id": "9OBQVUm2jfZi"
      }
    },
    {
      "cell_type": "code",
      "source": [
        "#Network weights and layer output size calculation with custom code\n",
        "#Done for the study porpose\n",
        "\n",
        "def calc_layer_weight_number(filter_number, filter_size, channels):\n",
        "  bias = 1\n",
        "  return filter_number * (filter_size[0] * filter_size[1] * channels + bias)\n",
        "\n",
        "def calc_layer_output_size(image_shape, filter_number, filter_size):\n",
        "  height = image_shape[0]\n",
        "  width = image_shape[1]\n",
        "  bias = 1\n",
        "\n",
        "  output_height = height - filter_size[0] + bias\n",
        "  output_width = width - filter_size[1] + bias\n",
        "  return (output_height, output_width, filter_number)\n",
        "\n",
        "def calc_max_pool_output_size(input_size, pool_size):\n",
        "  default_strides = pool_size\n",
        "  height = int((input_size[0] - pool_size[0]) / default_strides[0] + 1)\n",
        "  width = int((input_size[1] - pool_size[1]) / default_strides[1] + 1)\n",
        "  return (height, width, input_size[2])\n",
        "\n",
        "def calc_flatten_layer_size(input_size):\n",
        "  return input_size[0] * input_size[1] * input_size[2]\n",
        "\n",
        "def calc_net_summary(input_size, filter_number, filter_size, max_pool_size):\n",
        "  layer_input_size = input_size\n",
        "  layer_output_size = None\n",
        "  layer_weights_size = None\n",
        "  summary_df = pd.DataFrame(columns=['layer_name', 'weight_number', 'output_size'])\n",
        "\n",
        "  for i in range(3):\n",
        "    layer_index = i + 1\n",
        "    layer_weights_size = calc_layer_weight_number(filter_number, filter_size, layer_input_size[2])\n",
        "    layer_output_size = calc_layer_output_size(layer_input_size, filter_number, filter_size)\n",
        "    summary_df.loc[len(summary_df)] = [f'conv_{layer_index}', layer_weights_size, layer_output_size]\n",
        "\n",
        "    layer_output_size = calc_max_pool_output_size(layer_output_size, max_pool_size)\n",
        "    summary_df.loc[len(summary_df)] = [f'max_pool_{layer_index}', 0, layer_output_size]\n",
        "\n",
        "    layer_input_size = layer_output_size\n",
        "\n",
        "  layer_output_size = calc_flatten_layer_size(layer_output_size)\n",
        "  summary_df.loc[len(summary_df)] = ['flatten', 0, layer_output_size]\n",
        "\n",
        "  layer_input_size = layer_output_size\n",
        "  layer_output_size = 3137\n",
        "  layer_weights_size = (layer_output_size) * (layer_input_size + 1)\n",
        "  summary_df.loc[len(summary_df)] = ['dense_1', layer_weights_size, layer_output_size]\n",
        "\n",
        "  layer_input_size = layer_output_size\n",
        "  layer_weights_size = (layer_output_size) * (layer_input_size + 1)\n",
        "  summary_df.loc[len(summary_df)] = ['dense_2', layer_weights_size, layer_output_size]\n",
        "\n",
        "  layer_input_size = layer_output_size\n",
        "  layer_output_size = 2\n",
        "  layer_weights_size = (layer_output_size) * (layer_input_size + 1)\n",
        "  summary_df.loc[len(summary_df)] = ['output', layer_weights_size, layer_output_size]\n",
        "\n",
        "  summary_df.loc[len(summary_df)] = ['total_weights', summary_df['weight_number'].sum(), '']\n",
        "\n",
        "  return summary_df"
      ],
      "metadata": {
        "id": "HlCA1oQ8jgpB"
      },
      "execution_count": 78,
      "outputs": []
    },
    {
      "cell_type": "code",
      "source": [
        "#Calculating network summary for:\n",
        "#Image size = (64,64,3)\n",
        "#Filter number = 32\n",
        "#Filter size = (3, 3)\n",
        "#Max pool size = (2, 2)\n",
        "\n",
        "summary_df = calc_net_summary((64,64,3), 32, (3, 3), (2, 2))\n",
        "summary_df"
      ],
      "metadata": {
        "colab": {
          "base_uri": "https://localhost:8080/",
          "height": 394
        },
        "id": "mdXZzS4VlH_w",
        "outputId": "3a0ac03a-2158-466b-c735-35e8ef894bc1"
      },
      "execution_count": 79,
      "outputs": [
        {
          "output_type": "execute_result",
          "data": {
            "text/plain": [
              "       layer_name  weight_number   output_size\n",
              "0          conv_1            896  (62, 62, 32)\n",
              "1      max_pool_1              0  (31, 31, 32)\n",
              "2          conv_2           9248  (29, 29, 32)\n",
              "3      max_pool_2              0  (14, 14, 32)\n",
              "4          conv_3           9248  (12, 12, 32)\n",
              "5      max_pool_3              0    (6, 6, 32)\n",
              "6         flatten              0          1152\n",
              "7         dense_1        3616961          3137\n",
              "8         dense_2        9843906          3137\n",
              "9          output           6276             2\n",
              "10  total_weights       13486535              "
            ],
            "text/html": [
              "\n",
              "  <div id=\"df-4f5e02c3-ae71-4284-9b56-701036258069\" class=\"colab-df-container\">\n",
              "    <div>\n",
              "<style scoped>\n",
              "    .dataframe tbody tr th:only-of-type {\n",
              "        vertical-align: middle;\n",
              "    }\n",
              "\n",
              "    .dataframe tbody tr th {\n",
              "        vertical-align: top;\n",
              "    }\n",
              "\n",
              "    .dataframe thead th {\n",
              "        text-align: right;\n",
              "    }\n",
              "</style>\n",
              "<table border=\"1\" class=\"dataframe\">\n",
              "  <thead>\n",
              "    <tr style=\"text-align: right;\">\n",
              "      <th></th>\n",
              "      <th>layer_name</th>\n",
              "      <th>weight_number</th>\n",
              "      <th>output_size</th>\n",
              "    </tr>\n",
              "  </thead>\n",
              "  <tbody>\n",
              "    <tr>\n",
              "      <th>0</th>\n",
              "      <td>conv_1</td>\n",
              "      <td>896</td>\n",
              "      <td>(62, 62, 32)</td>\n",
              "    </tr>\n",
              "    <tr>\n",
              "      <th>1</th>\n",
              "      <td>max_pool_1</td>\n",
              "      <td>0</td>\n",
              "      <td>(31, 31, 32)</td>\n",
              "    </tr>\n",
              "    <tr>\n",
              "      <th>2</th>\n",
              "      <td>conv_2</td>\n",
              "      <td>9248</td>\n",
              "      <td>(29, 29, 32)</td>\n",
              "    </tr>\n",
              "    <tr>\n",
              "      <th>3</th>\n",
              "      <td>max_pool_2</td>\n",
              "      <td>0</td>\n",
              "      <td>(14, 14, 32)</td>\n",
              "    </tr>\n",
              "    <tr>\n",
              "      <th>4</th>\n",
              "      <td>conv_3</td>\n",
              "      <td>9248</td>\n",
              "      <td>(12, 12, 32)</td>\n",
              "    </tr>\n",
              "    <tr>\n",
              "      <th>5</th>\n",
              "      <td>max_pool_3</td>\n",
              "      <td>0</td>\n",
              "      <td>(6, 6, 32)</td>\n",
              "    </tr>\n",
              "    <tr>\n",
              "      <th>6</th>\n",
              "      <td>flatten</td>\n",
              "      <td>0</td>\n",
              "      <td>1152</td>\n",
              "    </tr>\n",
              "    <tr>\n",
              "      <th>7</th>\n",
              "      <td>dense_1</td>\n",
              "      <td>3616961</td>\n",
              "      <td>3137</td>\n",
              "    </tr>\n",
              "    <tr>\n",
              "      <th>8</th>\n",
              "      <td>dense_2</td>\n",
              "      <td>9843906</td>\n",
              "      <td>3137</td>\n",
              "    </tr>\n",
              "    <tr>\n",
              "      <th>9</th>\n",
              "      <td>output</td>\n",
              "      <td>6276</td>\n",
              "      <td>2</td>\n",
              "    </tr>\n",
              "    <tr>\n",
              "      <th>10</th>\n",
              "      <td>total_weights</td>\n",
              "      <td>13486535</td>\n",
              "      <td></td>\n",
              "    </tr>\n",
              "  </tbody>\n",
              "</table>\n",
              "</div>\n",
              "    <div class=\"colab-df-buttons\">\n",
              "\n",
              "  <div class=\"colab-df-container\">\n",
              "    <button class=\"colab-df-convert\" onclick=\"convertToInteractive('df-4f5e02c3-ae71-4284-9b56-701036258069')\"\n",
              "            title=\"Convert this dataframe to an interactive table.\"\n",
              "            style=\"display:none;\">\n",
              "\n",
              "  <svg xmlns=\"http://www.w3.org/2000/svg\" height=\"24px\" viewBox=\"0 -960 960 960\">\n",
              "    <path d=\"M120-120v-720h720v720H120Zm60-500h600v-160H180v160Zm220 220h160v-160H400v160Zm0 220h160v-160H400v160ZM180-400h160v-160H180v160Zm440 0h160v-160H620v160ZM180-180h160v-160H180v160Zm440 0h160v-160H620v160Z\"/>\n",
              "  </svg>\n",
              "    </button>\n",
              "\n",
              "  <style>\n",
              "    .colab-df-container {\n",
              "      display:flex;\n",
              "      gap: 12px;\n",
              "    }\n",
              "\n",
              "    .colab-df-convert {\n",
              "      background-color: #E8F0FE;\n",
              "      border: none;\n",
              "      border-radius: 50%;\n",
              "      cursor: pointer;\n",
              "      display: none;\n",
              "      fill: #1967D2;\n",
              "      height: 32px;\n",
              "      padding: 0 0 0 0;\n",
              "      width: 32px;\n",
              "    }\n",
              "\n",
              "    .colab-df-convert:hover {\n",
              "      background-color: #E2EBFA;\n",
              "      box-shadow: 0px 1px 2px rgba(60, 64, 67, 0.3), 0px 1px 3px 1px rgba(60, 64, 67, 0.15);\n",
              "      fill: #174EA6;\n",
              "    }\n",
              "\n",
              "    .colab-df-buttons div {\n",
              "      margin-bottom: 4px;\n",
              "    }\n",
              "\n",
              "    [theme=dark] .colab-df-convert {\n",
              "      background-color: #3B4455;\n",
              "      fill: #D2E3FC;\n",
              "    }\n",
              "\n",
              "    [theme=dark] .colab-df-convert:hover {\n",
              "      background-color: #434B5C;\n",
              "      box-shadow: 0px 1px 3px 1px rgba(0, 0, 0, 0.15);\n",
              "      filter: drop-shadow(0px 1px 2px rgba(0, 0, 0, 0.3));\n",
              "      fill: #FFFFFF;\n",
              "    }\n",
              "  </style>\n",
              "\n",
              "    <script>\n",
              "      const buttonEl =\n",
              "        document.querySelector('#df-4f5e02c3-ae71-4284-9b56-701036258069 button.colab-df-convert');\n",
              "      buttonEl.style.display =\n",
              "        google.colab.kernel.accessAllowed ? 'block' : 'none';\n",
              "\n",
              "      async function convertToInteractive(key) {\n",
              "        const element = document.querySelector('#df-4f5e02c3-ae71-4284-9b56-701036258069');\n",
              "        const dataTable =\n",
              "          await google.colab.kernel.invokeFunction('convertToInteractive',\n",
              "                                                    [key], {});\n",
              "        if (!dataTable) return;\n",
              "\n",
              "        const docLinkHtml = 'Like what you see? Visit the ' +\n",
              "          '<a target=\"_blank\" href=https://colab.research.google.com/notebooks/data_table.ipynb>data table notebook</a>'\n",
              "          + ' to learn more about interactive tables.';\n",
              "        element.innerHTML = '';\n",
              "        dataTable['output_type'] = 'display_data';\n",
              "        await google.colab.output.renderOutput(dataTable, element);\n",
              "        const docLink = document.createElement('div');\n",
              "        docLink.innerHTML = docLinkHtml;\n",
              "        element.appendChild(docLink);\n",
              "      }\n",
              "    </script>\n",
              "  </div>\n",
              "\n",
              "\n",
              "<div id=\"df-b91890a3-53b5-4afe-8078-1fb8af95dffa\">\n",
              "  <button class=\"colab-df-quickchart\" onclick=\"quickchart('df-b91890a3-53b5-4afe-8078-1fb8af95dffa')\"\n",
              "            title=\"Suggest charts\"\n",
              "            style=\"display:none;\">\n",
              "\n",
              "<svg xmlns=\"http://www.w3.org/2000/svg\" height=\"24px\"viewBox=\"0 0 24 24\"\n",
              "     width=\"24px\">\n",
              "    <g>\n",
              "        <path d=\"M19 3H5c-1.1 0-2 .9-2 2v14c0 1.1.9 2 2 2h14c1.1 0 2-.9 2-2V5c0-1.1-.9-2-2-2zM9 17H7v-7h2v7zm4 0h-2V7h2v10zm4 0h-2v-4h2v4z\"/>\n",
              "    </g>\n",
              "</svg>\n",
              "  </button>\n",
              "\n",
              "<style>\n",
              "  .colab-df-quickchart {\n",
              "      --bg-color: #E8F0FE;\n",
              "      --fill-color: #1967D2;\n",
              "      --hover-bg-color: #E2EBFA;\n",
              "      --hover-fill-color: #174EA6;\n",
              "      --disabled-fill-color: #AAA;\n",
              "      --disabled-bg-color: #DDD;\n",
              "  }\n",
              "\n",
              "  [theme=dark] .colab-df-quickchart {\n",
              "      --bg-color: #3B4455;\n",
              "      --fill-color: #D2E3FC;\n",
              "      --hover-bg-color: #434B5C;\n",
              "      --hover-fill-color: #FFFFFF;\n",
              "      --disabled-bg-color: #3B4455;\n",
              "      --disabled-fill-color: #666;\n",
              "  }\n",
              "\n",
              "  .colab-df-quickchart {\n",
              "    background-color: var(--bg-color);\n",
              "    border: none;\n",
              "    border-radius: 50%;\n",
              "    cursor: pointer;\n",
              "    display: none;\n",
              "    fill: var(--fill-color);\n",
              "    height: 32px;\n",
              "    padding: 0;\n",
              "    width: 32px;\n",
              "  }\n",
              "\n",
              "  .colab-df-quickchart:hover {\n",
              "    background-color: var(--hover-bg-color);\n",
              "    box-shadow: 0 1px 2px rgba(60, 64, 67, 0.3), 0 1px 3px 1px rgba(60, 64, 67, 0.15);\n",
              "    fill: var(--button-hover-fill-color);\n",
              "  }\n",
              "\n",
              "  .colab-df-quickchart-complete:disabled,\n",
              "  .colab-df-quickchart-complete:disabled:hover {\n",
              "    background-color: var(--disabled-bg-color);\n",
              "    fill: var(--disabled-fill-color);\n",
              "    box-shadow: none;\n",
              "  }\n",
              "\n",
              "  .colab-df-spinner {\n",
              "    border: 2px solid var(--fill-color);\n",
              "    border-color: transparent;\n",
              "    border-bottom-color: var(--fill-color);\n",
              "    animation:\n",
              "      spin 1s steps(1) infinite;\n",
              "  }\n",
              "\n",
              "  @keyframes spin {\n",
              "    0% {\n",
              "      border-color: transparent;\n",
              "      border-bottom-color: var(--fill-color);\n",
              "      border-left-color: var(--fill-color);\n",
              "    }\n",
              "    20% {\n",
              "      border-color: transparent;\n",
              "      border-left-color: var(--fill-color);\n",
              "      border-top-color: var(--fill-color);\n",
              "    }\n",
              "    30% {\n",
              "      border-color: transparent;\n",
              "      border-left-color: var(--fill-color);\n",
              "      border-top-color: var(--fill-color);\n",
              "      border-right-color: var(--fill-color);\n",
              "    }\n",
              "    40% {\n",
              "      border-color: transparent;\n",
              "      border-right-color: var(--fill-color);\n",
              "      border-top-color: var(--fill-color);\n",
              "    }\n",
              "    60% {\n",
              "      border-color: transparent;\n",
              "      border-right-color: var(--fill-color);\n",
              "    }\n",
              "    80% {\n",
              "      border-color: transparent;\n",
              "      border-right-color: var(--fill-color);\n",
              "      border-bottom-color: var(--fill-color);\n",
              "    }\n",
              "    90% {\n",
              "      border-color: transparent;\n",
              "      border-bottom-color: var(--fill-color);\n",
              "    }\n",
              "  }\n",
              "</style>\n",
              "\n",
              "  <script>\n",
              "    async function quickchart(key) {\n",
              "      const quickchartButtonEl =\n",
              "        document.querySelector('#' + key + ' button');\n",
              "      quickchartButtonEl.disabled = true;  // To prevent multiple clicks.\n",
              "      quickchartButtonEl.classList.add('colab-df-spinner');\n",
              "      try {\n",
              "        const charts = await google.colab.kernel.invokeFunction(\n",
              "            'suggestCharts', [key], {});\n",
              "      } catch (error) {\n",
              "        console.error('Error during call to suggestCharts:', error);\n",
              "      }\n",
              "      quickchartButtonEl.classList.remove('colab-df-spinner');\n",
              "      quickchartButtonEl.classList.add('colab-df-quickchart-complete');\n",
              "    }\n",
              "    (() => {\n",
              "      let quickchartButtonEl =\n",
              "        document.querySelector('#df-b91890a3-53b5-4afe-8078-1fb8af95dffa button');\n",
              "      quickchartButtonEl.style.display =\n",
              "        google.colab.kernel.accessAllowed ? 'block' : 'none';\n",
              "    })();\n",
              "  </script>\n",
              "</div>\n",
              "\n",
              "  <div id=\"id_25725ebc-8188-40d0-a8a4-ff7dbd9f5f25\">\n",
              "    <style>\n",
              "      .colab-df-generate {\n",
              "        background-color: #E8F0FE;\n",
              "        border: none;\n",
              "        border-radius: 50%;\n",
              "        cursor: pointer;\n",
              "        display: none;\n",
              "        fill: #1967D2;\n",
              "        height: 32px;\n",
              "        padding: 0 0 0 0;\n",
              "        width: 32px;\n",
              "      }\n",
              "\n",
              "      .colab-df-generate:hover {\n",
              "        background-color: #E2EBFA;\n",
              "        box-shadow: 0px 1px 2px rgba(60, 64, 67, 0.3), 0px 1px 3px 1px rgba(60, 64, 67, 0.15);\n",
              "        fill: #174EA6;\n",
              "      }\n",
              "\n",
              "      [theme=dark] .colab-df-generate {\n",
              "        background-color: #3B4455;\n",
              "        fill: #D2E3FC;\n",
              "      }\n",
              "\n",
              "      [theme=dark] .colab-df-generate:hover {\n",
              "        background-color: #434B5C;\n",
              "        box-shadow: 0px 1px 3px 1px rgba(0, 0, 0, 0.15);\n",
              "        filter: drop-shadow(0px 1px 2px rgba(0, 0, 0, 0.3));\n",
              "        fill: #FFFFFF;\n",
              "      }\n",
              "    </style>\n",
              "    <button class=\"colab-df-generate\" onclick=\"generateWithVariable('summary_df')\"\n",
              "            title=\"Generate code using this dataframe.\"\n",
              "            style=\"display:none;\">\n",
              "\n",
              "  <svg xmlns=\"http://www.w3.org/2000/svg\" height=\"24px\"viewBox=\"0 0 24 24\"\n",
              "       width=\"24px\">\n",
              "    <path d=\"M7,19H8.4L18.45,9,17,7.55,7,17.6ZM5,21V16.75L18.45,3.32a2,2,0,0,1,2.83,0l1.4,1.43a1.91,1.91,0,0,1,.58,1.4,1.91,1.91,0,0,1-.58,1.4L9.25,21ZM18.45,9,17,7.55Zm-12,3A5.31,5.31,0,0,0,4.9,8.1,5.31,5.31,0,0,0,1,6.5,5.31,5.31,0,0,0,4.9,4.9,5.31,5.31,0,0,0,6.5,1,5.31,5.31,0,0,0,8.1,4.9,5.31,5.31,0,0,0,12,6.5,5.46,5.46,0,0,0,6.5,12Z\"/>\n",
              "  </svg>\n",
              "    </button>\n",
              "    <script>\n",
              "      (() => {\n",
              "      const buttonEl =\n",
              "        document.querySelector('#id_25725ebc-8188-40d0-a8a4-ff7dbd9f5f25 button.colab-df-generate');\n",
              "      buttonEl.style.display =\n",
              "        google.colab.kernel.accessAllowed ? 'block' : 'none';\n",
              "\n",
              "      buttonEl.onclick = () => {\n",
              "        google.colab.notebook.generateWithVariable('summary_df');\n",
              "      }\n",
              "      })();\n",
              "    </script>\n",
              "  </div>\n",
              "\n",
              "    </div>\n",
              "  </div>\n"
            ]
          },
          "metadata": {},
          "execution_count": 79
        }
      ]
    },
    {
      "cell_type": "markdown",
      "source": [
        "## Building and training the neural network"
      ],
      "metadata": {
        "id": "jxWLnuyLmezF"
      }
    },
    {
      "cell_type": "code",
      "source": [
        "network = Sequential()\n",
        "network.add(Conv2D(32, (3,3), input_shape = (64,64,3), activation='relu'))\n",
        "network.add(MaxPooling2D(pool_size=(2,2)))\n",
        "\n",
        "network.add(Conv2D(32, (3,3), activation='relu'))\n",
        "network.add(MaxPooling2D(pool_size=(2,2)))\n",
        "\n",
        "network.add(Conv2D(32, (3,3), activation='relu'))\n",
        "network.add(MaxPooling2D(pool_size=(2,2)))\n",
        "\n",
        "\n",
        "network.add(Flatten())\n",
        "\n",
        "network.add(Dense(units = 3137, activation='relu'))\n",
        "network.add(Dense(units = 3137, activation='relu'))\n",
        "network.add(Dense(units = 2, activation='softmax'))"
      ],
      "metadata": {
        "id": "BJ08nxiomm9t"
      },
      "execution_count": 57,
      "outputs": []
    },
    {
      "cell_type": "code",
      "source": [
        "network.summary()"
      ],
      "metadata": {
        "colab": {
          "base_uri": "https://localhost:8080/"
        },
        "id": "-6TL_nBlmtgn",
        "outputId": "e7a00b14-335e-4772-8d0b-3780e463c2e0"
      },
      "execution_count": 58,
      "outputs": [
        {
          "output_type": "stream",
          "name": "stdout",
          "text": [
            "Model: \"sequential_2\"\n",
            "_________________________________________________________________\n",
            " Layer (type)                Output Shape              Param #   \n",
            "=================================================================\n",
            " conv2d_6 (Conv2D)           (None, 62, 62, 32)        896       \n",
            "                                                                 \n",
            " max_pooling2d_6 (MaxPoolin  (None, 31, 31, 32)        0         \n",
            " g2D)                                                            \n",
            "                                                                 \n",
            " conv2d_7 (Conv2D)           (None, 29, 29, 32)        9248      \n",
            "                                                                 \n",
            " max_pooling2d_7 (MaxPoolin  (None, 14, 14, 32)        0         \n",
            " g2D)                                                            \n",
            "                                                                 \n",
            " conv2d_8 (Conv2D)           (None, 12, 12, 32)        9248      \n",
            "                                                                 \n",
            " max_pooling2d_8 (MaxPoolin  (None, 6, 6, 32)          0         \n",
            " g2D)                                                            \n",
            "                                                                 \n",
            " flatten_2 (Flatten)         (None, 1152)              0         \n",
            "                                                                 \n",
            " dense_6 (Dense)             (None, 3137)              3616961   \n",
            "                                                                 \n",
            " dense_7 (Dense)             (None, 3137)              9843906   \n",
            "                                                                 \n",
            " dense_8 (Dense)             (None, 2)                 6276      \n",
            "                                                                 \n",
            "=================================================================\n",
            "Total params: 13486535 (51.45 MB)\n",
            "Trainable params: 13486535 (51.45 MB)\n",
            "Non-trainable params: 0 (0.00 Byte)\n",
            "_________________________________________________________________\n"
          ]
        }
      ]
    },
    {
      "cell_type": "code",
      "source": [
        "network.compile(optimizer='Adam', loss='categorical_crossentropy', metrics = ['accuracy'])"
      ],
      "metadata": {
        "id": "UdeaPDP_mwMF"
      },
      "execution_count": 59,
      "outputs": []
    },
    {
      "cell_type": "code",
      "source": [
        "history = network.fit_generator(train_dataset, epochs=50, validation_data=test_dataset)"
      ],
      "metadata": {
        "colab": {
          "base_uri": "https://localhost:8080/"
        },
        "id": "AqHgIMZYmy63",
        "outputId": "31c7d85d-cad9-4001-f384-cf85eda84338"
      },
      "execution_count": 60,
      "outputs": [
        {
          "output_type": "stream",
          "name": "stdout",
          "text": [
            "Epoch 1/50\n"
          ]
        },
        {
          "output_type": "stream",
          "name": "stderr",
          "text": [
            "<ipython-input-60-70460a0dc6fc>:1: UserWarning: `Model.fit_generator` is deprecated and will be removed in a future version. Please use `Model.fit`, which supports generators.\n",
            "  history = network.fit_generator(train_dataset, epochs=50, validation_data=test_dataset)\n"
          ]
        },
        {
          "output_type": "stream",
          "name": "stdout",
          "text": [
            "25/25 [==============================] - 5s 70ms/step - loss: 0.8710 - accuracy: 0.5918 - val_loss: 0.5866 - val_accuracy: 0.7123\n",
            "Epoch 2/50\n",
            "25/25 [==============================] - 1s 27ms/step - loss: 0.5793 - accuracy: 0.7194 - val_loss: 0.4760 - val_accuracy: 0.7808\n",
            "Epoch 3/50\n",
            "25/25 [==============================] - 1s 28ms/step - loss: 0.5346 - accuracy: 0.7143 - val_loss: 0.5054 - val_accuracy: 0.7808\n",
            "Epoch 4/50\n",
            "25/25 [==============================] - 1s 28ms/step - loss: 0.4564 - accuracy: 0.7602 - val_loss: 0.7627 - val_accuracy: 0.7123\n",
            "Epoch 5/50\n",
            "25/25 [==============================] - 1s 33ms/step - loss: 0.4467 - accuracy: 0.7653 - val_loss: 0.2992 - val_accuracy: 0.8219\n",
            "Epoch 6/50\n",
            "25/25 [==============================] - 1s 28ms/step - loss: 0.4197 - accuracy: 0.7959 - val_loss: 0.3012 - val_accuracy: 0.8904\n",
            "Epoch 7/50\n",
            "25/25 [==============================] - 1s 32ms/step - loss: 0.4348 - accuracy: 0.8061 - val_loss: 0.4567 - val_accuracy: 0.8082\n",
            "Epoch 8/50\n",
            "25/25 [==============================] - 1s 31ms/step - loss: 0.4186 - accuracy: 0.8112 - val_loss: 0.2708 - val_accuracy: 0.8904\n",
            "Epoch 9/50\n",
            "25/25 [==============================] - 1s 32ms/step - loss: 0.3668 - accuracy: 0.8214 - val_loss: 0.2926 - val_accuracy: 0.8219\n",
            "Epoch 10/50\n",
            "25/25 [==============================] - 1s 42ms/step - loss: 0.2703 - accuracy: 0.8724 - val_loss: 0.3759 - val_accuracy: 0.8493\n",
            "Epoch 11/50\n",
            "25/25 [==============================] - 1s 46ms/step - loss: 0.3515 - accuracy: 0.8520 - val_loss: 0.3122 - val_accuracy: 0.8767\n",
            "Epoch 12/50\n",
            "25/25 [==============================] - 1s 42ms/step - loss: 0.2921 - accuracy: 0.8724 - val_loss: 0.2190 - val_accuracy: 0.9315\n",
            "Epoch 13/50\n",
            "25/25 [==============================] - 1s 29ms/step - loss: 0.2859 - accuracy: 0.8673 - val_loss: 0.2944 - val_accuracy: 0.9178\n",
            "Epoch 14/50\n",
            "25/25 [==============================] - 1s 28ms/step - loss: 0.2776 - accuracy: 0.8878 - val_loss: 0.1849 - val_accuracy: 0.8767\n",
            "Epoch 15/50\n",
            "25/25 [==============================] - 1s 28ms/step - loss: 0.1870 - accuracy: 0.9082 - val_loss: 0.2696 - val_accuracy: 0.9041\n",
            "Epoch 16/50\n",
            "25/25 [==============================] - 1s 28ms/step - loss: 0.1774 - accuracy: 0.9235 - val_loss: 0.3097 - val_accuracy: 0.8493\n",
            "Epoch 17/50\n",
            "25/25 [==============================] - 1s 28ms/step - loss: 0.3435 - accuracy: 0.8827 - val_loss: 0.2985 - val_accuracy: 0.8904\n",
            "Epoch 18/50\n",
            "25/25 [==============================] - 1s 31ms/step - loss: 0.2732 - accuracy: 0.8571 - val_loss: 0.2066 - val_accuracy: 0.9315\n",
            "Epoch 19/50\n",
            "25/25 [==============================] - 1s 31ms/step - loss: 0.2159 - accuracy: 0.9337 - val_loss: 0.3393 - val_accuracy: 0.9041\n",
            "Epoch 20/50\n",
            "25/25 [==============================] - 1s 32ms/step - loss: 0.2707 - accuracy: 0.8878 - val_loss: 0.3547 - val_accuracy: 0.8356\n",
            "Epoch 21/50\n",
            "25/25 [==============================] - 1s 29ms/step - loss: 0.2000 - accuracy: 0.9082 - val_loss: 0.2613 - val_accuracy: 0.8767\n",
            "Epoch 22/50\n",
            "25/25 [==============================] - 1s 28ms/step - loss: 0.1307 - accuracy: 0.9439 - val_loss: 0.4301 - val_accuracy: 0.8767\n",
            "Epoch 23/50\n",
            "25/25 [==============================] - 1s 45ms/step - loss: 0.1747 - accuracy: 0.9184 - val_loss: 0.1647 - val_accuracy: 0.9041\n",
            "Epoch 24/50\n",
            "25/25 [==============================] - 1s 58ms/step - loss: 0.0896 - accuracy: 0.9643 - val_loss: 0.5283 - val_accuracy: 0.8904\n",
            "Epoch 25/50\n",
            "25/25 [==============================] - 1s 36ms/step - loss: 0.1387 - accuracy: 0.9337 - val_loss: 0.3656 - val_accuracy: 0.8904\n",
            "Epoch 26/50\n",
            "25/25 [==============================] - 1s 28ms/step - loss: 0.1770 - accuracy: 0.9235 - val_loss: 0.6787 - val_accuracy: 0.8630\n",
            "Epoch 27/50\n",
            "25/25 [==============================] - 1s 31ms/step - loss: 0.1164 - accuracy: 0.9541 - val_loss: 0.4415 - val_accuracy: 0.9178\n",
            "Epoch 28/50\n",
            "25/25 [==============================] - 1s 28ms/step - loss: 0.1161 - accuracy: 0.9490 - val_loss: 1.3191 - val_accuracy: 0.7808\n",
            "Epoch 29/50\n",
            "25/25 [==============================] - 1s 28ms/step - loss: 0.1817 - accuracy: 0.9490 - val_loss: 0.6051 - val_accuracy: 0.8904\n",
            "Epoch 30/50\n",
            "25/25 [==============================] - 1s 28ms/step - loss: 0.3952 - accuracy: 0.8724 - val_loss: 0.3048 - val_accuracy: 0.8219\n",
            "Epoch 31/50\n",
            "25/25 [==============================] - 1s 32ms/step - loss: 0.1850 - accuracy: 0.9286 - val_loss: 0.2587 - val_accuracy: 0.9178\n",
            "Epoch 32/50\n",
            "25/25 [==============================] - 1s 32ms/step - loss: 0.1222 - accuracy: 0.9490 - val_loss: 0.2397 - val_accuracy: 0.9041\n",
            "Epoch 33/50\n",
            "25/25 [==============================] - 1s 28ms/step - loss: 0.0658 - accuracy: 0.9796 - val_loss: 0.3664 - val_accuracy: 0.9178\n",
            "Epoch 34/50\n",
            "25/25 [==============================] - 1s 31ms/step - loss: 0.1048 - accuracy: 0.9694 - val_loss: 0.4177 - val_accuracy: 0.8767\n",
            "Epoch 35/50\n",
            "25/25 [==============================] - 1s 32ms/step - loss: 0.0999 - accuracy: 0.9643 - val_loss: 0.1355 - val_accuracy: 0.9589\n",
            "Epoch 36/50\n",
            "25/25 [==============================] - 1s 31ms/step - loss: 0.0477 - accuracy: 0.9949 - val_loss: 0.6995 - val_accuracy: 0.8767\n",
            "Epoch 37/50\n",
            "25/25 [==============================] - 1s 47ms/step - loss: 0.0645 - accuracy: 0.9796 - val_loss: 0.1623 - val_accuracy: 0.9452\n",
            "Epoch 38/50\n",
            "25/25 [==============================] - 1s 48ms/step - loss: 0.0363 - accuracy: 0.9898 - val_loss: 0.4030 - val_accuracy: 0.9178\n",
            "Epoch 39/50\n",
            "25/25 [==============================] - 1s 38ms/step - loss: 0.0667 - accuracy: 0.9898 - val_loss: 0.4996 - val_accuracy: 0.9178\n",
            "Epoch 40/50\n",
            "25/25 [==============================] - 1s 33ms/step - loss: 0.0188 - accuracy: 0.9949 - val_loss: 0.2610 - val_accuracy: 0.9178\n",
            "Epoch 41/50\n",
            "25/25 [==============================] - 1s 31ms/step - loss: 0.0043 - accuracy: 1.0000 - val_loss: 0.3347 - val_accuracy: 0.8904\n",
            "Epoch 42/50\n",
            "25/25 [==============================] - 1s 32ms/step - loss: 0.0712 - accuracy: 0.9847 - val_loss: 0.2437 - val_accuracy: 0.9178\n",
            "Epoch 43/50\n",
            "25/25 [==============================] - 1s 32ms/step - loss: 0.0450 - accuracy: 0.9796 - val_loss: 0.2687 - val_accuracy: 0.9589\n",
            "Epoch 44/50\n",
            "25/25 [==============================] - 1s 32ms/step - loss: 0.0592 - accuracy: 0.9796 - val_loss: 0.3948 - val_accuracy: 0.9178\n",
            "Epoch 45/50\n",
            "25/25 [==============================] - 1s 29ms/step - loss: 0.1003 - accuracy: 0.9643 - val_loss: 0.3829 - val_accuracy: 0.8767\n",
            "Epoch 46/50\n",
            "25/25 [==============================] - 1s 33ms/step - loss: 0.1024 - accuracy: 0.9694 - val_loss: 0.1870 - val_accuracy: 0.9452\n",
            "Epoch 47/50\n",
            "25/25 [==============================] - 1s 28ms/step - loss: 0.0326 - accuracy: 0.9847 - val_loss: 0.7039 - val_accuracy: 0.8493\n",
            "Epoch 48/50\n",
            "25/25 [==============================] - 1s 29ms/step - loss: 0.0762 - accuracy: 0.9694 - val_loss: 0.3490 - val_accuracy: 0.9041\n",
            "Epoch 49/50\n",
            "25/25 [==============================] - 1s 35ms/step - loss: 0.0800 - accuracy: 0.9694 - val_loss: 0.4133 - val_accuracy: 0.8630\n",
            "Epoch 50/50\n",
            "25/25 [==============================] - 2s 60ms/step - loss: 0.1914 - accuracy: 0.9286 - val_loss: 0.2210 - val_accuracy: 0.9315\n"
          ]
        }
      ]
    },
    {
      "cell_type": "markdown",
      "source": [
        "## Evaluating the neural network"
      ],
      "metadata": {
        "id": "PZzx0c5Wm3Hu"
      }
    },
    {
      "cell_type": "code",
      "source": [
        "plt.plot(history.history['val_loss'], linewidth=3)\n",
        "plt.title('Model Training Loss By Epoch')\n",
        "plt.xlabel(\"Epochs\")\n",
        "plt.ylabel(\"Loss\")\n",
        "plt.show()"
      ],
      "metadata": {
        "colab": {
          "base_uri": "https://localhost:8080/",
          "height": 472
        },
        "id": "gdpxQxwam2o3",
        "outputId": "5430c357-e387-4241-a559-dd517c206ff9"
      },
      "execution_count": 61,
      "outputs": [
        {
          "output_type": "display_data",
          "data": {
            "text/plain": [
              "<Figure size 640x480 with 1 Axes>"
            ],
            "image/png": "[encoded data removed]"
          },
          "metadata": {}
        }
      ]
    },
    {
      "cell_type": "code",
      "source": [
        "plt.plot(history.history['val_accuracy'], linewidth=3)\n",
        "plt.title('Model Training Accuracy By Epoch')\n",
        "plt.xlabel(\"Epochs\")\n",
        "plt.ylabel(\"Accuracy\")\n",
        "plt.show()"
      ],
      "metadata": {
        "colab": {
          "base_uri": "https://localhost:8080/",
          "height": 472
        },
        "id": "97g8RRBXm7RW",
        "outputId": "a7dd4fbf-6280-44c2-acca-9796c15745e5"
      },
      "execution_count": 62,
      "outputs": [
        {
          "output_type": "display_data",
          "data": {
            "text/plain": [
              "<Figure size 640x480 with 1 Axes>"
            ],
            "image/png": "[encoded data removed]"
          },
          "metadata": {}
        }
      ]
    },
    {
      "cell_type": "code",
      "source": [
        "predictions = network.predict(test_dataset)\n",
        "predictions = np.argmax(predictions, axis = 1)\n",
        "predictions"
      ],
      "metadata": {
        "colab": {
          "base_uri": "https://localhost:8080/"
        },
        "id": "aar6CnHfnFRr",
        "outputId": "01efca7d-5d44-4870-cbb6-08473406a6bf"
      },
      "execution_count": 63,
      "outputs": [
        {
          "output_type": "stream",
          "name": "stdout",
          "text": [
            "73/73 [==============================] - 0s 3ms/step\n"
          ]
        },
        {
          "output_type": "execute_result",
          "data": {
            "text/plain": [
              "array([0, 0, 1, 0, 0, 0, 0, 0, 0, 1, 1, 0, 0, 0, 0, 0, 0, 0, 1, 0, 0, 0,\n",
              "       0, 0, 0, 0, 1, 0, 0, 0, 0, 0, 0, 0, 0, 0, 0, 0, 0, 0, 0, 0, 1, 1,\n",
              "       1, 1, 1, 1, 1, 1, 1, 1, 1, 1, 1, 1, 1, 1, 1, 1, 1, 1, 1, 1, 1, 1,\n",
              "       1, 1, 1, 1, 1, 1, 1])"
            ]
          },
          "metadata": {},
          "execution_count": 63
        }
      ]
    },
    {
      "cell_type": "code",
      "source": [
        "accuracy_score(test_dataset.classes, predictions)"
      ],
      "metadata": {
        "colab": {
          "base_uri": "https://localhost:8080/"
        },
        "id": "jWGsOLe9nR1d",
        "outputId": "b8e0aed7-7b45-43ca-b3b8-bd9bc559710a"
      },
      "execution_count": 64,
      "outputs": [
        {
          "output_type": "execute_result",
          "data": {
            "text/plain": [
              "0.9315068493150684"
            ]
          },
          "metadata": {},
          "execution_count": 64
        }
      ]
    },
    {
      "cell_type": "code",
      "source": [
        "cm = confusion_matrix(test_dataset.classes, predictions)\n",
        "sns.heatmap(cm, annot=True)"
      ],
      "metadata": {
        "colab": {
          "base_uri": "https://localhost:8080/",
          "height": 447
        },
        "id": "-Z6gvaA-nW-e",
        "outputId": "33aa6904-6f92-497f-8937-6b5217949027"
      },
      "execution_count": 65,
      "outputs": [
        {
          "output_type": "execute_result",
          "data": {
            "text/plain": [
              "<Axes: >"
            ]
          },
          "metadata": {},
          "execution_count": 65
        },
        {
          "output_type": "display_data",
          "data": {
            "text/plain": [
              "<Figure size 640x480 with 2 Axes>"
            ],
            "image/png": "[encoded data removed]"
          },
          "metadata": {}
        }
      ]
    },
    {
      "cell_type": "code",
      "source": [
        "print(classification_report(test_dataset.classes, predictions))"
      ],
      "metadata": {
        "colab": {
          "base_uri": "https://localhost:8080/"
        },
        "id": "z_k0LmVgneN0",
        "outputId": "c9a5178d-9266-4c51-ac12-3435c0e5f96d"
      },
      "execution_count": 66,
      "outputs": [
        {
          "output_type": "stream",
          "name": "stdout",
          "text": [
            "              precision    recall  f1-score   support\n",
            "\n",
            "           0       1.00      0.88      0.94        42\n",
            "           1       0.86      1.00      0.93        31\n",
            "\n",
            "    accuracy                           0.93        73\n",
            "   macro avg       0.93      0.94      0.93        73\n",
            "weighted avg       0.94      0.93      0.93        73\n",
            "\n"
          ]
        }
      ]
    },
    {
      "cell_type": "markdown",
      "source": [
        "## Saving and loading the model"
      ],
      "metadata": {
        "id": "ubnzJ2Tonkhb"
      }
    },
    {
      "cell_type": "code",
      "source": [
        "#create_empty_directory(model_directory)\n",
        "model_json = network.to_json()\n",
        "with open(f'{model_directory}/network.json','w') as json_file:\n",
        "  json_file.write(model_json)"
      ],
      "metadata": {
        "id": "wP30QHsJnomz"
      },
      "execution_count": 69,
      "outputs": []
    },
    {
      "cell_type": "code",
      "source": [
        "network_saved = save_model(network, f'{model_directory}/weights.hdf5')"
      ],
      "metadata": {
        "colab": {
          "base_uri": "https://localhost:8080/"
        },
        "id": "G0lKynjtn1CD",
        "outputId": "7a937577-63e6-4dfa-808a-a19107c32b08"
      },
      "execution_count": 70,
      "outputs": [
        {
          "output_type": "stream",
          "name": "stderr",
          "text": [
            "<ipython-input-70-607e19d7058f>:1: UserWarning: You are saving your model as an HDF5 file via `model.save()`. This file format is considered legacy. We recommend using instead the native Keras format, e.g. `model.save('my_model.keras')`.\n",
            "  network_saved = save_model(network, f'{model_directory}/weights.hdf5')\n"
          ]
        }
      ]
    },
    {
      "cell_type": "code",
      "source": [
        "with open(f'{model_directory}/network.json', 'r') as json_file:\n",
        "  json_saved_model = json_file.read()\n",
        "json_saved_model"
      ],
      "metadata": {
        "colab": {
          "base_uri": "https://localhost:8080/",
          "height": 105
        },
        "id": "rG7-Q7S7oA3l",
        "outputId": "afd78b90-0f6b-4135-d190-b464e9f22633"
      },
      "execution_count": 71,
      "outputs": [
        {
          "output_type": "execute_result",
          "data": {
            "text/plain": [
              "'{\"class_name\": \"Sequential\", \"config\": {\"name\": \"sequential_2\", \"layers\": [{\"module\": \"keras.layers\", \"class_name\": \"InputLayer\", \"config\": {\"batch_input_shape\": [null, 64, 64, 3], \"dtype\": \"float32\", \"sparse\": false, \"ragged\": false, \"name\": \"conv2d_6_input\"}, \"registered_name\": null}, {\"module\": \"keras.layers\", \"class_name\": \"Conv2D\", \"config\": {\"name\": \"conv2d_6\", \"trainable\": true, \"dtype\": \"float32\", \"batch_input_shape\": [null, 64, 64, 3], \"filters\": 32, \"kernel_size\": [3, 3], \"strides\": [1, 1], \"padding\": \"valid\", \"data_format\": \"channels_last\", \"dilation_rate\": [1, 1], \"groups\": 1, \"activation\": \"relu\", \"use_bias\": true, \"kernel_initializer\": {\"module\": \"keras.initializers\", \"class_name\": \"GlorotUniform\", \"config\": {\"seed\": null}, \"registered_name\": null}, \"bias_initializer\": {\"module\": \"keras.initializers\", \"class_name\": \"Zeros\", \"config\": {}, \"registered_name\": null}, \"kernel_regularizer\": null, \"bias_regularizer\": null, \"activity_regularizer\": null, \"kernel_constraint\": null, \"bias_constraint\": null}, \"registered_name\": null, \"build_config\": {\"input_shape\": [null, 64, 64, 3]}}, {\"module\": \"keras.layers\", \"class_name\": \"MaxPooling2D\", \"config\": {\"name\": \"max_pooling2d_6\", \"trainable\": true, \"dtype\": \"float32\", \"pool_size\": [2, 2], \"padding\": \"valid\", \"strides\": [2, 2], \"data_format\": \"channels_last\"}, \"registered_name\": null, \"build_config\": {\"input_shape\": [null, 62, 62, 32]}}, {\"module\": \"keras.layers\", \"class_name\": \"Conv2D\", \"config\": {\"name\": \"conv2d_7\", \"trainable\": true, \"dtype\": \"float32\", \"filters\": 32, \"kernel_size\": [3, 3], \"strides\": [1, 1], \"padding\": \"valid\", \"data_format\": \"channels_last\", \"dilation_rate\": [1, 1], \"groups\": 1, \"activation\": \"relu\", \"use_bias\": true, \"kernel_initializer\": {\"module\": \"keras.initializers\", \"class_name\": \"GlorotUniform\", \"config\": {\"seed\": null}, \"registered_name\": null}, \"bias_initializer\": {\"module\": \"keras.initializers\", \"class_name\": \"Zeros\", \"config\": {}, \"registered_name\": null}, \"kernel_regularizer\": null, \"bias_regularizer\": null, \"activity_regularizer\": null, \"kernel_constraint\": null, \"bias_constraint\": null}, \"registered_name\": null, \"build_config\": {\"input_shape\": [null, 31, 31, 32]}}, {\"module\": \"keras.layers\", \"class_name\": \"MaxPooling2D\", \"config\": {\"name\": \"max_pooling2d_7\", \"trainable\": true, \"dtype\": \"float32\", \"pool_size\": [2, 2], \"padding\": \"valid\", \"strides\": [2, 2], \"data_format\": \"channels_last\"}, \"registered_name\": null, \"build_config\": {\"input_shape\": [null, 29, 29, 32]}}, {\"module\": \"keras.layers\", \"class_name\": \"Conv2D\", \"config\": {\"name\": \"conv2d_8\", \"trainable\": true, \"dtype\": \"float32\", \"filters\": 32, \"kernel_size\": [3, 3], \"strides\": [1, 1], \"padding\": \"valid\", \"data_format\": \"channels_last\", \"dilation_rate\": [1, 1], \"groups\": 1, \"activation\": \"relu\", \"use_bias\": true, \"kernel_initializer\": {\"module\": \"keras.initializers\", \"class_name\": \"GlorotUniform\", \"config\": {\"seed\": null}, \"registered_name\": null}, \"bias_initializer\": {\"module\": \"keras.initializers\", \"class_name\": \"Zeros\", \"config\": {}, \"registered_name\": null}, \"kernel_regularizer\": null, \"bias_regularizer\": null, \"activity_regularizer\": null, \"kernel_constraint\": null, \"bias_constraint\": null}, \"registered_name\": null, \"build_config\": {\"input_shape\": [null, 14, 14, 32]}}, {\"module\": \"keras.layers\", \"class_name\": \"MaxPooling2D\", \"config\": {\"name\": \"max_pooling2d_8\", \"trainable\": true, \"dtype\": \"float32\", \"pool_size\": [2, 2], \"padding\": \"valid\", \"strides\": [2, 2], \"data_format\": \"channels_last\"}, \"registered_name\": null, \"build_config\": {\"input_shape\": [null, 12, 12, 32]}}, {\"module\": \"keras.layers\", \"class_name\": \"Flatten\", \"config\": {\"name\": \"flatten_2\", \"trainable\": true, \"dtype\": \"float32\", \"data_format\": \"channels_last\"}, \"registered_name\": null, \"build_config\": {\"input_shape\": [null, 6, 6, 32]}}, {\"module\": \"keras.layers\", \"class_name\": \"Dense\", \"config\": {\"name\": \"dense_6\", \"trainable\": true, \"dtype\": \"float32\", \"units\": 3137, \"activation\": \"relu\", \"use_bias\": true, \"kernel_initializer\": {\"module\": \"keras.initializers\", \"class_name\": \"GlorotUniform\", \"config\": {\"seed\": null}, \"registered_name\": null}, \"bias_initializer\": {\"module\": \"keras.initializers\", \"class_name\": \"Zeros\", \"config\": {}, \"registered_name\": null}, \"kernel_regularizer\": null, \"bias_regularizer\": null, \"activity_regularizer\": null, \"kernel_constraint\": null, \"bias_constraint\": null}, \"registered_name\": null, \"build_config\": {\"input_shape\": [null, 1152]}}, {\"module\": \"keras.layers\", \"class_name\": \"Dense\", \"config\": {\"name\": \"dense_7\", \"trainable\": true, \"dtype\": \"float32\", \"units\": 3137, \"activation\": \"relu\", \"use_bias\": true, \"kernel_initializer\": {\"module\": \"keras.initializers\", \"class_name\": \"GlorotUniform\", \"config\": {\"seed\": null}, \"registered_name\": null}, \"bias_initializer\": {\"module\": \"keras.initializers\", \"class_name\": \"Zeros\", \"config\": {}, \"registered_name\": null}, \"kernel_regularizer\": null, \"bias_regularizer\": null, \"activity_regularizer\": null, \"kernel_constraint\": null, \"bias_constraint\": null}, \"registered_name\": null, \"build_config\": {\"input_shape\": [null, 3137]}}, {\"module\": \"keras.layers\", \"class_name\": \"Dense\", \"config\": {\"name\": \"dense_8\", \"trainable\": true, \"dtype\": \"float32\", \"units\": 2, \"activation\": \"softmax\", \"use_bias\": true, \"kernel_initializer\": {\"module\": \"keras.initializers\", \"class_name\": \"GlorotUniform\", \"config\": {\"seed\": null}, \"registered_name\": null}, \"bias_initializer\": {\"module\": \"keras.initializers\", \"class_name\": \"Zeros\", \"config\": {}, \"registered_name\": null}, \"kernel_regularizer\": null, \"bias_regularizer\": null, \"activity_regularizer\": null, \"kernel_constraint\": null, \"bias_constraint\": null}, \"registered_name\": null, \"build_config\": {\"input_shape\": [null, 3137]}}]}, \"keras_version\": \"2.15.0\", \"backend\": \"tensorflow\"}'"
            ],
            "application/vnd.google.colaboratory.intrinsic+json": {
              "type": "string"
            }
          },
          "metadata": {},
          "execution_count": 71
        }
      ]
    },
    {
      "cell_type": "code",
      "source": [
        "network_loaded = tf.keras.models.model_from_json(json_saved_model)\n",
        "network_loaded.load_weights(f'{model_directory}/weights.hdf5')\n",
        "network_loaded.compile(loss = 'categorical_crossentropy', optimizer='Adam', metrics=['accuracy'])"
      ],
      "metadata": {
        "id": "taXmReApoIgs"
      },
      "execution_count": 72,
      "outputs": []
    },
    {
      "cell_type": "code",
      "source": [
        "network_loaded.summary()"
      ],
      "metadata": {
        "colab": {
          "base_uri": "https://localhost:8080/"
        },
        "id": "Krqz8Tp2oKRu",
        "outputId": "3f4beed4-dabd-4fb9-b1be-3a6d094ed59a"
      },
      "execution_count": 73,
      "outputs": [
        {
          "output_type": "stream",
          "name": "stdout",
          "text": [
            "Model: \"sequential_2\"\n",
            "_________________________________________________________________\n",
            " Layer (type)                Output Shape              Param #   \n",
            "=================================================================\n",
            " conv2d_6 (Conv2D)           (None, 62, 62, 32)        896       \n",
            "                                                                 \n",
            " max_pooling2d_6 (MaxPoolin  (None, 31, 31, 32)        0         \n",
            " g2D)                                                            \n",
            "                                                                 \n",
            " conv2d_7 (Conv2D)           (None, 29, 29, 32)        9248      \n",
            "                                                                 \n",
            " max_pooling2d_7 (MaxPoolin  (None, 14, 14, 32)        0         \n",
            " g2D)                                                            \n",
            "                                                                 \n",
            " conv2d_8 (Conv2D)           (None, 12, 12, 32)        9248      \n",
            "                                                                 \n",
            " max_pooling2d_8 (MaxPoolin  (None, 6, 6, 32)          0         \n",
            " g2D)                                                            \n",
            "                                                                 \n",
            " flatten_2 (Flatten)         (None, 1152)              0         \n",
            "                                                                 \n",
            " dense_6 (Dense)             (None, 3137)              3616961   \n",
            "                                                                 \n",
            " dense_7 (Dense)             (None, 3137)              9843906   \n",
            "                                                                 \n",
            " dense_8 (Dense)             (None, 2)                 6276      \n",
            "                                                                 \n",
            "=================================================================\n",
            "Total params: 13486535 (51.45 MB)\n",
            "Trainable params: 13486535 (51.45 MB)\n",
            "Non-trainable params: 0 (0.00 Byte)\n",
            "_________________________________________________________________\n"
          ]
        }
      ]
    },
    {
      "cell_type": "markdown",
      "source": [
        "### Classifying one single image"
      ],
      "metadata": {
        "id": "ubkoizL-oPk8"
      }
    },
    {
      "cell_type": "code",
      "source": [
        "image = cv2.imread(f'{test_set_path}/homer/homer15.bmp')\n",
        "cv2_imshow(image)"
      ],
      "metadata": {
        "colab": {
          "base_uri": "https://localhost:8080/",
          "height": 553
        },
        "id": "LjFrTRPHoRCK",
        "outputId": "1297e52c-adf8-407c-ff3e-2f5493ec491b"
      },
      "execution_count": 74,
      "outputs": [
        {
          "output_type": "display_data",
          "data": {
            "text/plain": [
              "<PIL.Image.Image image mode=RGB size=514x536>"
            ],
            "image/png": "[encoded data removed]"
          },
          "metadata": {}
        }
      ]
    },
    {
      "cell_type": "code",
      "source": [
        "image = cv2.resize(image, (64, 64))\n",
        "image = image / 255\n",
        "image = image.reshape(-1, 64, 64, 3)\n",
        "image.shape"
      ],
      "metadata": {
        "colab": {
          "base_uri": "https://localhost:8080/"
        },
        "id": "zwZ7GaQOohlP",
        "outputId": "4c26b14f-e491-4c59-f282-fd6fb625a5f9"
      },
      "execution_count": 75,
      "outputs": [
        {
          "output_type": "execute_result",
          "data": {
            "text/plain": [
              "(1, 64, 64, 3)"
            ]
          },
          "metadata": {},
          "execution_count": 75
        }
      ]
    },
    {
      "cell_type": "code",
      "source": [
        "result = network_loaded(image)\n",
        "result = np.argmax(result)\n",
        "result"
      ],
      "metadata": {
        "colab": {
          "base_uri": "https://localhost:8080/"
        },
        "id": "znvq7YX9osZM",
        "outputId": "f75ba07d-defb-4488-d762-7c7b0bc5602f"
      },
      "execution_count": 76,
      "outputs": [
        {
          "output_type": "execute_result",
          "data": {
            "text/plain": [
              "1"
            ]
          },
          "metadata": {},
          "execution_count": 76
        }
      ]
    },
    {
      "cell_type": "code",
      "source": [
        "if result == 0:\n",
        "  print('Bart')\n",
        "else:\n",
        "  print('Homer')"
      ],
      "metadata": {
        "colab": {
          "base_uri": "https://localhost:8080/"
        },
        "id": "Bn5shXR3owd8",
        "outputId": "20967c8c-a60d-48b7-b27a-53d21070e56e"
      },
      "execution_count": 77,
      "outputs": [
        {
          "output_type": "stream",
          "name": "stdout",
          "text": [
            "Homer\n"
          ]
        }
      ]
    }
  ]
}