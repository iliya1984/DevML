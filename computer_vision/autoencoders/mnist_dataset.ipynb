{
  "nbformat": 4,
  "nbformat_minor": 0,
  "metadata": {
    "colab": {
      "provenance": [],
      "authorship_tag": "ABX9TyO1DXwU5s34hSqJoqwLPhUK",
      "include_colab_link": true
    },
    "kernelspec": {
      "name": "python3",
      "display_name": "Python 3"
    },
    "language_info": {
      "name": "python"
    }
  },
  "cells": [
    {
      "cell_type": "markdown",
      "metadata": {
        "id": "view-in-github",
        "colab_type": "text"
      },
      "source": [
        "<a href=\"https://colab.research.google.com/github/iliya1984/DevML/blob/main/computer_vision/autoencoders/mnist_dataset.ipynb\" target=\"_parent\"><img src=\"https://colab.research.google.com/assets/colab-badge.svg\" alt=\"Open In Colab\"/></a>"
      ]
    },
    {
      "cell_type": "code",
      "execution_count": 20,
      "metadata": {
        "id": "66JMlspCwnBs"
      },
      "outputs": [],
      "source": [
        "from tensorflow.keras.datasets import mnist\n",
        "from tensorflow.keras.datasets import fashion_mnist\n",
        "import numpy as np\n",
        "import matplotlib.pyplot as plt"
      ]
    },
    {
      "cell_type": "code",
      "source": [
        "class BaseDataset:\n",
        "  @staticmethod\n",
        "  def preview(priview_size, features, labels, set_size):\n",
        "    width = priview_size[0]\n",
        "    height = priview_size[1]\n",
        "    fig, axes = plt.subplots(height, width, figsize=priview_size)\n",
        "    axes = axes.ravel()\n",
        "\n",
        "    for i in np.arange(0, width * height):\n",
        "      index = np.random.randint(0, set_size - 1)\n",
        "      axes[i].imshow(features[index], cmap = 'gray')\n",
        "      axes[i].set_title(labels[index], fontsize = 8)\n",
        "      axes[i].axis('off')\n",
        "      plt.subplots_adjust(hspace=0.4)\n",
        "\n",
        "  @staticmethod\n",
        "  def extract_metadata(dataset):\n",
        "    metadata = {}\n",
        "    metadata['train_set_size'] = dataset.shape[0]\n",
        "    metadata['test_set_size'] = dataset.shape[0]\n",
        "    metadata['image_size'] = (dataset.shape[1], dataset.shape[2])\n",
        "    return metadata\n",
        "\n",
        "class MnistDataset:\n",
        "  def load(preview=False, preview_size=(5,5)):\n",
        "    (X_train, y_train), (X_test, y_test) = mnist.load_data()\n",
        "    if preview:\n",
        "      BaseDataset.preview(preview_size, X_train, y_train, X_train.shape[0])\n",
        "\n",
        "    metadata = BaseDataset.extract_metadata(X_train)\n",
        "    metadata['dataset_url'] = 'https://keras.io/api/datasets/mnist/'\n",
        "    return (X_train, y_train), (X_test, y_test), metadata\n",
        "\n",
        "class FashonMnistDataset:\n",
        "  def load(preview=False, preview_size=(5,5)):\n",
        "    (X_train, y_train), (X_test, y_test) = fashion_mnist.load_data()\n",
        "    if preview:\n",
        "      classes = ['T-shirt/top', 'Trouser', 'Pullover', 'Dress', 'Coat', 'Sandal', 'Shirt', 'Sneaker', 'Bag', 'Ankle boot']\n",
        "      labels = [classes[y_train[index]] for index in range(len(y_train))]\n",
        "      BaseDataset.preview(preview_size, X_train, labels, X_train.shape[0])\n",
        "\n",
        "    metadata = BaseDataset.extract_metadata(X_train)\n",
        "    metadata['dataset_url'] = ' https://keras.io/api/datasets/fashion_mnist/'\n",
        "    return (X_train, y_train), (X_test, y_test), metadata"
      ],
      "metadata": {
        "id": "JZK8vkLSwtOt"
      },
      "execution_count": 21,
      "outputs": []
    },
    {
      "cell_type": "code",
      "source": [
        "#(X_train, y_train), (X_test, y_test), metadata = FashonMnistDataset.load(preview=True, preview_size=(10, 5))"
      ],
      "metadata": {
        "id": "0ovpP6VS0IuF"
      },
      "execution_count": 22,
      "outputs": []
    }
  ]
}