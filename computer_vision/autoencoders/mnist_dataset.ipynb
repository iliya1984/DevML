{
  "nbformat": 4,
  "nbformat_minor": 0,
  "metadata": {
    "colab": {
      "provenance": [],
      "authorship_tag": "ABX9TyMnxHp9/SRSlyv2rJhDxgiZ",
      "include_colab_link": true
    },
    "kernelspec": {
      "name": "python3",
      "display_name": "Python 3"
    },
    "language_info": {
      "name": "python"
    }
  },
  "cells": [
    {
      "cell_type": "markdown",
      "metadata": {
        "id": "view-in-github",
        "colab_type": "text"
      },
      "source": [
        "<a href=\"https://colab.research.google.com/github/iliya1984/DevML/blob/main/computer_vision/autoencoders/mnist_dataset.ipynb\" target=\"_parent\"><img src=\"https://colab.research.google.com/assets/colab-badge.svg\" alt=\"Open In Colab\"/></a>"
      ]
    },
    {
      "cell_type": "code",
      "execution_count": null,
      "metadata": {
        "id": "66JMlspCwnBs"
      },
      "outputs": [],
      "source": [
        "from tensorflow.keras.datasets import mnist\n",
        "import numpy as np\n",
        "import matplotlib.pyplot as plt"
      ]
    },
    {
      "cell_type": "code",
      "source": [
        "class MnistDataset:\n",
        "  @staticmethod\n",
        "  def __preview(priview_size, features, labels, set_size):\n",
        "    width = priview_size[0]\n",
        "    height = priview_size[1]\n",
        "    fig, axes = plt.subplots(height, width, figsize=priview_size)\n",
        "    axes = axes.ravel()\n",
        "\n",
        "    for i in np.arange(0, width * height):\n",
        "      index = np.random.randint(0, set_size - 1)\n",
        "      axes[i].imshow(features[index], cmap = 'gray')\n",
        "      axes[i].set_title(labels[index], fontsize = 8)\n",
        "      axes[i].axis('off')\n",
        "      plt.subplots_adjust(hspace=0.4)\n",
        "\n",
        "  def load(preview=False, preview_size=(5,5)):\n",
        "    (X_train, y_train), (X_test, y_test) = mnist.load_data()\n",
        "    if preview:\n",
        "      MnistDataset.__preview(preview_size, X_train, y_train, X_train.shape[0])\n",
        "\n",
        "    metadata = {}\n",
        "    metadata['dataset_url'] = 'https://keras.io/api/datasets/mnist/'\n",
        "    metadata['train_set_size'] = X_train.shape[0]\n",
        "    metadata['test_set_size'] = X_test.shape[0]\n",
        "    metadata['image_size'] = (X_train.shape[1], X_train.shape[2])\n",
        "\n",
        "    return (X_train, y_train), (X_test, y_test), metadata\n"
      ],
      "metadata": {
        "id": "JZK8vkLSwtOt"
      },
      "execution_count": null,
      "outputs": []
    },
    {
      "cell_type": "code",
      "source": [
        "#(X_train, y_train), (X_test, y_test), metadata = MnistDataset.load(preview=True, preview_size=(10, 5))"
      ],
      "metadata": {
        "id": "0ovpP6VS0IuF"
      },
      "execution_count": null,
      "outputs": []
    }
  ]
}