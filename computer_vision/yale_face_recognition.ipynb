{
  "nbformat": 4,
  "nbformat_minor": 0,
  "metadata": {
    "colab": {
      "provenance": [],
      "authorship_tag": "ABX9TyODpTEuGYB9DjNwG8ZKhuBg",
      "include_colab_link": true
    },
    "kernelspec": {
      "name": "python3",
      "display_name": "Python 3"
    },
    "language_info": {
      "name": "python"
    }
  },
  "cells": [
    {
      "cell_type": "markdown",
      "metadata": {
        "id": "view-in-github",
        "colab_type": "text"
      },
      "source": [
        "<a href=\"https://colab.research.google.com/github/iliya1984/DevML/blob/main/computer_vision/yale_face_recognition.ipynb\" target=\"_parent\"><img src=\"https://colab.research.google.com/assets/colab-badge.svg\" alt=\"Open In Colab\"/></a>"
      ]
    },
    {
      "cell_type": "code",
      "execution_count": 89,
      "metadata": {
        "colab": {
          "base_uri": "https://localhost:8080/"
        },
        "id": "XDE5kegObfQk",
        "outputId": "87b6127c-4990-4e48-ef85-cca8f4016581"
      },
      "outputs": [
        {
          "output_type": "stream",
          "name": "stdout",
          "text": [
            "Drive already mounted at /content/drive; to attempt to forcibly remount, call drive.mount(\"/content/drive\", force_remount=True).\n"
          ]
        }
      ],
      "source": [
        "from PIL import Image\n",
        "import cv2\n",
        "import numpy as np\n",
        "from google.colab.patches import cv2_imshow\n",
        "from google.colab import drive\n",
        "\n",
        "import zipfile\n",
        "import os\n",
        "import random\n",
        "from sklearn.metrics import accuracy_score\n",
        "\n",
        "drive.mount('/content/drive')"
      ]
    },
    {
      "cell_type": "code",
      "source": [
        "! ls"
      ],
      "metadata": {
        "colab": {
          "base_uri": "https://localhost:8080/"
        },
        "id": "AnA6vvczuDZv",
        "outputId": "8750d760-41a6-4bac-8bf2-a77cf5382c81"
      },
      "execution_count": 90,
      "outputs": [
        {
          "output_type": "stream",
          "name": "stdout",
          "text": [
            "content  drive\tsample_data\n"
          ]
        }
      ]
    },
    {
      "cell_type": "code",
      "source": [
        "zip_file_path = '/content/drive/MyDrive/Workspace/Computer Vision/datasets/yalefaces.zip'\n",
        "extract_path = './content/datasets/yalefaces'\n",
        "models_path = './content/models'\n",
        "model_yml_path = models_path + '/lbph_classifier.yml'"
      ],
      "metadata": {
        "id": "pBkgDc0wihpS"
      },
      "execution_count": null,
      "outputs": []
    },
    {
      "cell_type": "code",
      "source": [
        "zip_object = zipfile.ZipFile(file=zip_file_path, mode = 'r')\n",
        "zip_object.extractall(extract_path)\n",
        "zip_object.close()"
      ],
      "metadata": {
        "id": "xV49z8Riellc"
      },
      "execution_count": null,
      "outputs": []
    },
    {
      "cell_type": "code",
      "source": [
        "print(os.listdir(extract_path))"
      ],
      "metadata": {
        "colab": {
          "base_uri": "https://localhost:8080/"
        },
        "id": "5tvDZI1DhiDT",
        "outputId": "48e4c083-77fe-4c7b-eebc-244fe4eef2e9"
      },
      "execution_count": null,
      "outputs": [
        {
          "output_type": "stream",
          "name": "stdout",
          "text": [
            "['subject09.rightlight', 'subject05.sleepy', 'subject03.wink', 'subject14.rightlight', 'subject02.leftlight', 'subject09.sad', 'subject13.surprised', 'subject02.wink', 'subject12.sleepy', 'subject13.wink', 'subject03.rightlight', 'subject08.glasses', 'subject07.noglasses', 'subject05.surprised', 'subject09.sleepy', 'subject07.centerlight', 'subject08.noglasses', 'subject03.noglasses', 'subject09.normal', 'subject12.wink', 'subject11.rightlight', 'subject11.noglasses', 'subject11.normal', 'subject15.surprised', 'subject07.leftlight', 'subject11.happy', 'subject10.leftlight', 'subject06.glasses', 'subject05.noglasses', 'subject02.sleepy', 'subject10.normal', 'subject05.happy', 'subject13.leftlight', 'subject13.sad', 'subject04.rightlight', 'subject03.leftlight', 'subject10.wink', 'subject09.surprised', 'data', 'subject11.wink', 'subject14.leftlight', 'subject01.rightlight', 'subject10.noglasses', 'subject04.noglasses', 'subject05.rightlight', 'subject03.happy', 'subject15.sleepy', 'subject10.surprised', 'subject13.normal', 'subject04.surprised', 'subject07.rightlight', 'subject14.noglasses', 'subject12.normal', 'subject01.noglasses', 'subject14.sleepy', 'subject10.rightlight', 'subject05.centerlight', 'subject04.wink', 'subject03.glasses', 'subject15.rightlight', 'subject08.sad', 'subject06.centerlight', 'subject08.rightlight', 'subject06.wink', 'subject07.wink', 'subject13.rightlight', 'subject06.normal', 'subject01.glasses', 'subject06.surprised', 'subject05.sad', 'subject06.happy', 'subject06.rightlight', 'subject14.happy', 'subject11.sleepy', 'subject02.centerlight', 'subject01.sleepy', 'subject07.happy', 'subject12.leftlight', 'subject03.normal', 'subject15.leftlight', 'subject15.happy', 'subject12.surprised', 'subject10.glasses', 'subject01.leftlight', 'subject06.sad', 'subject10.sleepy', 'subject10.centerlight', 'subject10.sad', 'subject08.sleepy', 'subject09.leftlight', 'subject02.happy', 'subject15.glasses', 'subject14.wink', 'subject12.noglasses', 'subject02.noglasses', 'subject14.surprised', 'subject12.sad', 'subject15.sad', 'subject15.noglasses', 'subject06.leftlight', 'subject11.leftlight', 'subject01.normal', 'subject07.normal', 'subject04.glasses', 'subject13.centerlight', 'subject05.normal', 'subject07.glasses', 'subject13.glasses', 'subject08.wink', 'subject13.sleepy', 'subject04.leftlight', 'subject08.normal', 'subject03.sleepy', 'subject11.sad', 'subject01.wink', 'subject06.sleepy', 'subject14.glasses', 'subject05.glasses', 'subject01.happy', 'subject04.centerlight', 'subject15.normal', 'subject09.noglasses', 'subject11.centerlight', 'subject14.sad', 'subject13.noglasses', 'subject02.glasses', 'subject03.surprised', 'subject09.happy', 'subject09.wink', 'subject14.normal', 'subject08.surprised', 'subject05.leftlight', 'subject11.glasses', 'subject09.glasses', 'subject02.sad', 'subject09.centerlight', 'subject02.rightlight', 'subject12.happy', 'subject07.sleepy', 'subject13.happy', 'subject02.surprised', 'subject07.sad', 'subject04.normal', 'subject14.centerlight', 'subject04.sleepy', 'subject01.surprised', 'subject03.sad', 'subject01.sad', 'subject03.centerlight', 'subject11.surprised', 'subject15.wink', 'subject07.surprised', 'subject04.sad', 'subject02.normal', 'subject08.leftlight', 'subject08.happy', 'subject12.centerlight', 'subject05.wink', 'subject12.glasses', 'subject15.centerlight', 'subject10.happy', 'subject04.happy', 'subject08.centerlight', 'subject06.noglasses', 'subject01.centerlight', 'subject12.rightlight', 'Readme.txt']\n"
          ]
        }
      ]
    },
    {
      "cell_type": "code",
      "source": [
        "class FaceImages:\n",
        "  def __init__(self):\n",
        "    self.images = []\n",
        "\n",
        "  def get_npimages(self):\n",
        "    images = []\n",
        "    for image in self.images:\n",
        "      np_image = image.image\n",
        "      images.append(np_image)\n",
        "    return images\n",
        "\n",
        "  def get_ids(self):\n",
        "    ids = []\n",
        "    for image in self.images:\n",
        "      id = image.id\n",
        "      ids.append(id)\n",
        "\n",
        "    return np.array(ids)\n",
        "\n",
        "class FaceImage:\n",
        "  def __init__(self, id, image):\n",
        "    self.id = id\n",
        "    self.image = image\n",
        "    self.prediction = None\n",
        "\n",
        "def get_image_paths():\n",
        "  image_paths = os.listdir(extract_path)\n",
        "  invalid_paths = []\n",
        "  for path in image_paths:\n",
        "    if not (\"subject\" in path):\n",
        "      print(f'Invalid path \"{path}\"')\n",
        "      invalid_paths.append(path)\n",
        "\n",
        "  for path in invalid_paths:\n",
        "    image_paths.remove(path)\n",
        "    print(f'Removed path \"{path}\"')\n",
        "\n",
        "  return image_paths\n",
        "\n",
        "paths = [os.path.join(extract_path, f) for f in os.listdir(extract_path)]\n",
        "print(paths)\n",
        "\n",
        "def get_image_data():\n",
        "  image_paths = get_image_paths()\n",
        "  paths = [os.path.join(extract_path, f) for f in image_paths]\n",
        "  #print(paths)\n",
        "\n",
        "  images = FaceImages()\n",
        "  for path in paths:\n",
        "    #print(path)\n",
        "    image = Image.open(path).convert('L')\n",
        "    #print(type(image))\n",
        "    image_np = np.array(image, 'uint8')\n",
        "    #print(type(image_np))\n",
        "    id = int(os.path.split(path)[1].split('.')[0].replace('subject', ''))\n",
        "    #print(id)\n",
        "    images.images.append(FaceImage(id, image_np))\n",
        "\n",
        "  return images"
      ],
      "metadata": {
        "colab": {
          "base_uri": "https://localhost:8080/"
        },
        "id": "QyPLOTxuiZFa",
        "outputId": "e60606d2-2cd2-4b3b-f906-1df47172fe30"
      },
      "execution_count": null,
      "outputs": [
        {
          "output_type": "stream",
          "name": "stdout",
          "text": [
            "['./content/datasets/yalefaces/subject09.rightlight', './content/datasets/yalefaces/subject05.sleepy', './content/datasets/yalefaces/subject03.wink', './content/datasets/yalefaces/subject14.rightlight', './content/datasets/yalefaces/subject02.leftlight', './content/datasets/yalefaces/subject09.sad', './content/datasets/yalefaces/subject13.surprised', './content/datasets/yalefaces/subject02.wink', './content/datasets/yalefaces/subject12.sleepy', './content/datasets/yalefaces/subject13.wink', './content/datasets/yalefaces/subject03.rightlight', './content/datasets/yalefaces/subject08.glasses', './content/datasets/yalefaces/subject07.noglasses', './content/datasets/yalefaces/subject05.surprised', './content/datasets/yalefaces/subject09.sleepy', './content/datasets/yalefaces/subject07.centerlight', './content/datasets/yalefaces/subject08.noglasses', './content/datasets/yalefaces/subject03.noglasses', './content/datasets/yalefaces/subject09.normal', './content/datasets/yalefaces/subject12.wink', './content/datasets/yalefaces/subject11.rightlight', './content/datasets/yalefaces/subject11.noglasses', './content/datasets/yalefaces/subject11.normal', './content/datasets/yalefaces/subject15.surprised', './content/datasets/yalefaces/subject07.leftlight', './content/datasets/yalefaces/subject11.happy', './content/datasets/yalefaces/subject10.leftlight', './content/datasets/yalefaces/subject06.glasses', './content/datasets/yalefaces/subject05.noglasses', './content/datasets/yalefaces/subject02.sleepy', './content/datasets/yalefaces/subject10.normal', './content/datasets/yalefaces/subject05.happy', './content/datasets/yalefaces/subject13.leftlight', './content/datasets/yalefaces/subject13.sad', './content/datasets/yalefaces/subject04.rightlight', './content/datasets/yalefaces/subject03.leftlight', './content/datasets/yalefaces/subject10.wink', './content/datasets/yalefaces/subject09.surprised', './content/datasets/yalefaces/data', './content/datasets/yalefaces/subject11.wink', './content/datasets/yalefaces/subject14.leftlight', './content/datasets/yalefaces/subject01.rightlight', './content/datasets/yalefaces/subject10.noglasses', './content/datasets/yalefaces/subject04.noglasses', './content/datasets/yalefaces/subject05.rightlight', './content/datasets/yalefaces/subject03.happy', './content/datasets/yalefaces/subject15.sleepy', './content/datasets/yalefaces/subject10.surprised', './content/datasets/yalefaces/subject13.normal', './content/datasets/yalefaces/subject04.surprised', './content/datasets/yalefaces/subject07.rightlight', './content/datasets/yalefaces/subject14.noglasses', './content/datasets/yalefaces/subject12.normal', './content/datasets/yalefaces/subject01.noglasses', './content/datasets/yalefaces/subject14.sleepy', './content/datasets/yalefaces/subject10.rightlight', './content/datasets/yalefaces/subject05.centerlight', './content/datasets/yalefaces/subject04.wink', './content/datasets/yalefaces/subject03.glasses', './content/datasets/yalefaces/subject15.rightlight', './content/datasets/yalefaces/subject08.sad', './content/datasets/yalefaces/subject06.centerlight', './content/datasets/yalefaces/subject08.rightlight', './content/datasets/yalefaces/subject06.wink', './content/datasets/yalefaces/subject07.wink', './content/datasets/yalefaces/subject13.rightlight', './content/datasets/yalefaces/subject06.normal', './content/datasets/yalefaces/subject01.glasses', './content/datasets/yalefaces/subject06.surprised', './content/datasets/yalefaces/subject05.sad', './content/datasets/yalefaces/subject06.happy', './content/datasets/yalefaces/subject06.rightlight', './content/datasets/yalefaces/subject14.happy', './content/datasets/yalefaces/subject11.sleepy', './content/datasets/yalefaces/subject02.centerlight', './content/datasets/yalefaces/subject01.sleepy', './content/datasets/yalefaces/subject07.happy', './content/datasets/yalefaces/subject12.leftlight', './content/datasets/yalefaces/subject03.normal', './content/datasets/yalefaces/subject15.leftlight', './content/datasets/yalefaces/subject15.happy', './content/datasets/yalefaces/subject12.surprised', './content/datasets/yalefaces/subject10.glasses', './content/datasets/yalefaces/subject01.leftlight', './content/datasets/yalefaces/subject06.sad', './content/datasets/yalefaces/subject10.sleepy', './content/datasets/yalefaces/subject10.centerlight', './content/datasets/yalefaces/subject10.sad', './content/datasets/yalefaces/subject08.sleepy', './content/datasets/yalefaces/subject09.leftlight', './content/datasets/yalefaces/subject02.happy', './content/datasets/yalefaces/subject15.glasses', './content/datasets/yalefaces/subject14.wink', './content/datasets/yalefaces/subject12.noglasses', './content/datasets/yalefaces/subject02.noglasses', './content/datasets/yalefaces/subject14.surprised', './content/datasets/yalefaces/subject12.sad', './content/datasets/yalefaces/subject15.sad', './content/datasets/yalefaces/subject15.noglasses', './content/datasets/yalefaces/subject06.leftlight', './content/datasets/yalefaces/subject11.leftlight', './content/datasets/yalefaces/subject01.normal', './content/datasets/yalefaces/subject07.normal', './content/datasets/yalefaces/subject04.glasses', './content/datasets/yalefaces/subject13.centerlight', './content/datasets/yalefaces/subject05.normal', './content/datasets/yalefaces/subject07.glasses', './content/datasets/yalefaces/subject13.glasses', './content/datasets/yalefaces/subject08.wink', './content/datasets/yalefaces/subject13.sleepy', './content/datasets/yalefaces/subject04.leftlight', './content/datasets/yalefaces/subject08.normal', './content/datasets/yalefaces/subject03.sleepy', './content/datasets/yalefaces/subject11.sad', './content/datasets/yalefaces/subject01.wink', './content/datasets/yalefaces/subject06.sleepy', './content/datasets/yalefaces/subject14.glasses', './content/datasets/yalefaces/subject05.glasses', './content/datasets/yalefaces/subject01.happy', './content/datasets/yalefaces/subject04.centerlight', './content/datasets/yalefaces/subject15.normal', './content/datasets/yalefaces/subject09.noglasses', './content/datasets/yalefaces/subject11.centerlight', './content/datasets/yalefaces/subject14.sad', './content/datasets/yalefaces/subject13.noglasses', './content/datasets/yalefaces/subject02.glasses', './content/datasets/yalefaces/subject03.surprised', './content/datasets/yalefaces/subject09.happy', './content/datasets/yalefaces/subject09.wink', './content/datasets/yalefaces/subject14.normal', './content/datasets/yalefaces/subject08.surprised', './content/datasets/yalefaces/subject05.leftlight', './content/datasets/yalefaces/subject11.glasses', './content/datasets/yalefaces/subject09.glasses', './content/datasets/yalefaces/subject02.sad', './content/datasets/yalefaces/subject09.centerlight', './content/datasets/yalefaces/subject02.rightlight', './content/datasets/yalefaces/subject12.happy', './content/datasets/yalefaces/subject07.sleepy', './content/datasets/yalefaces/subject13.happy', './content/datasets/yalefaces/subject02.surprised', './content/datasets/yalefaces/subject07.sad', './content/datasets/yalefaces/subject04.normal', './content/datasets/yalefaces/subject14.centerlight', './content/datasets/yalefaces/subject04.sleepy', './content/datasets/yalefaces/subject01.surprised', './content/datasets/yalefaces/subject03.sad', './content/datasets/yalefaces/subject01.sad', './content/datasets/yalefaces/subject03.centerlight', './content/datasets/yalefaces/subject11.surprised', './content/datasets/yalefaces/subject15.wink', './content/datasets/yalefaces/subject07.surprised', './content/datasets/yalefaces/subject04.sad', './content/datasets/yalefaces/subject02.normal', './content/datasets/yalefaces/subject08.leftlight', './content/datasets/yalefaces/subject08.happy', './content/datasets/yalefaces/subject12.centerlight', './content/datasets/yalefaces/subject05.wink', './content/datasets/yalefaces/subject12.glasses', './content/datasets/yalefaces/subject15.centerlight', './content/datasets/yalefaces/subject10.happy', './content/datasets/yalefaces/subject04.happy', './content/datasets/yalefaces/subject08.centerlight', './content/datasets/yalefaces/subject06.noglasses', './content/datasets/yalefaces/subject01.centerlight', './content/datasets/yalefaces/subject12.rightlight', './content/datasets/yalefaces/Readme.txt']\n"
          ]
        }
      ]
    },
    {
      "cell_type": "code",
      "source": [
        "faces = get_image_data()\n",
        "random.shuffle(faces.images)"
      ],
      "metadata": {
        "colab": {
          "base_uri": "https://localhost:8080/"
        },
        "id": "aEU0AH2Ii8MZ",
        "outputId": "36db1cab-9ade-49fd-b392-2346903b7c89"
      },
      "execution_count": null,
      "outputs": [
        {
          "output_type": "stream",
          "name": "stdout",
          "text": [
            "Invalid path \"data\"\n",
            "Invalid path \"Readme.txt\"\n",
            "Removed path \"data\"\n",
            "Removed path \"Readme.txt\"\n"
          ]
        }
      ]
    },
    {
      "cell_type": "code",
      "source": [
        "cv2_imshow(faces.get_npimages()[0])"
      ],
      "metadata": {
        "colab": {
          "base_uri": "https://localhost:8080/",
          "height": 260
        },
        "id": "63VKc7Pg2E6B",
        "outputId": "00c6190e-3d3d-4902-9337-a093e4e431e3"
      },
      "execution_count": null,
      "outputs": [
        {
          "output_type": "display_data",
          "data": {
            "text/plain": [
              "<PIL.Image.Image image mode=L size=320x243>"
            ],
            "image/png": "[encoded data removed]"
          },
          "metadata": {}
        }
      ]
    },
    {
      "cell_type": "code",
      "source": [
        "dataset_size = len(faces.images)\n",
        "train_set = FaceImages()\n",
        "test_set = FaceImages()\n",
        "\n",
        "split_ratio = 0.75\n",
        "split_threshold = int(split_ratio * dataset_size)\n",
        "\n",
        "index = 0;\n",
        "for face in faces.images:\n",
        "  if index < split_threshold:\n",
        "    train_set.images.append(face)\n",
        "  else:\n",
        "    test_set.images.append(face)\n",
        "\n",
        "  index = index + 1\n",
        "\n",
        "print(f'Splited faces dataset to a train set of the size {len(train_set.images)} and a test set of the size {len(test_set.images)}')\n"
      ],
      "metadata": {
        "colab": {
          "base_uri": "https://localhost:8080/"
        },
        "id": "Lplt2Xzn6IyH",
        "outputId": "cade9391-ecbc-4676-93f8-55107efb4df1"
      },
      "execution_count": null,
      "outputs": [
        {
          "output_type": "stream",
          "name": "stdout",
          "text": [
            "Splited faces dataset to a train set of the size 123 and a test set of the size 42\n"
          ]
        }
      ]
    },
    {
      "cell_type": "code",
      "source": [
        "len(train_set.get_ids())"
      ],
      "metadata": {
        "colab": {
          "base_uri": "https://localhost:8080/"
        },
        "id": "_Sn5ChDU6fzr",
        "outputId": "986e29b0-a067-4249-a04b-5ac3a1b09d63"
      },
      "execution_count": null,
      "outputs": [
        {
          "output_type": "execute_result",
          "data": {
            "text/plain": [
              "123"
            ]
          },
          "metadata": {},
          "execution_count": 81
        }
      ]
    },
    {
      "cell_type": "code",
      "source": [
        "lbph_classifier = cv2.face.LBPHFaceRecognizer_create(radius = 4, neighbors=14, grid_x = 9, grid_y = 9)\n",
        "lbph_classifier.train(train_set.get_npimages(), train_set.get_ids())\n",
        "lbph_classifier.write(model_yml_path)"
      ],
      "metadata": {
        "id": "liKIgp-V7ceL"
      },
      "execution_count": null,
      "outputs": []
    },
    {
      "cell_type": "code",
      "source": [
        "lbph_face_classifier = cv2.face.LBPHFaceRecognizer_create()\n",
        "lbph_face_classifier.read(model_yml_path)"
      ],
      "metadata": {
        "id": "Yx5DuP-d_jdi"
      },
      "execution_count": null,
      "outputs": []
    },
    {
      "cell_type": "code",
      "source": [
        "test_image = test_set.images[0]\n",
        "prediction = lbph_face_classifier.predict(test_image.image)\n",
        "prediction"
      ],
      "metadata": {
        "colab": {
          "base_uri": "https://localhost:8080/"
        },
        "id": "z3jvsBw5MwcX",
        "outputId": "241dd69c-bbbe-4ada-97e0-1398f01c4325"
      },
      "execution_count": null,
      "outputs": [
        {
          "output_type": "execute_result",
          "data": {
            "text/plain": [
              "(5, 84.76596656056041)"
            ]
          },
          "metadata": {},
          "execution_count": 84
        }
      ]
    },
    {
      "cell_type": "code",
      "source": [
        "test_image.id"
      ],
      "metadata": {
        "colab": {
          "base_uri": "https://localhost:8080/"
        },
        "id": "oOGJ5nhDNRzP",
        "outputId": "f646bc43-1889-443e-d1a4-c22280ceea69"
      },
      "execution_count": null,
      "outputs": [
        {
          "output_type": "execute_result",
          "data": {
            "text/plain": [
              "4"
            ]
          },
          "metadata": {},
          "execution_count": 85
        }
      ]
    },
    {
      "cell_type": "code",
      "source": [
        "cv2.putText(test_image.image, 'Pred: ' + str(prediction[0]), (10, 30), cv2.FONT_HERSHEY_COMPLEX_SMALL, 1, (0,255,0))\n",
        "cv2.putText(test_image.image, 'Exp: ' + str(test_image.id), (10, 50), cv2.FONT_HERSHEY_COMPLEX_SMALL, 1, (0,255,0))\n",
        "cv2_imshow(test_image.image)"
      ],
      "metadata": {
        "colab": {
          "base_uri": "https://localhost:8080/",
          "height": 260
        },
        "id": "h5xJH84sifz6",
        "outputId": "35f9c038-11ef-440b-9b57-877f33f3cc14"
      },
      "execution_count": null,
      "outputs": [
        {
          "output_type": "display_data",
          "data": {
            "text/plain": [
              "<PIL.Image.Image image mode=L size=320x243>"
            ],
            "image/png": "[encoded data removed]"
          },
          "metadata": {}
        }
      ]
    },
    {
      "cell_type": "code",
      "source": [
        "predictions = []\n",
        "labels = []\n",
        "\n",
        "for test_image in test_set.images:\n",
        "  prediction, _ = lbph_face_classifier.predict(test_image.image)\n",
        "  predictions.append(prediction)\n",
        "  labels.append(test_image.id)\n",
        "\n",
        "predictions = np.array(predictions)\n",
        "labels = np.array(labels)"
      ],
      "metadata": {
        "id": "z7Jzp2DzrKH3"
      },
      "execution_count": null,
      "outputs": []
    },
    {
      "cell_type": "code",
      "source": [
        "accuracy_score(labels, predictions)"
      ],
      "metadata": {
        "colab": {
          "base_uri": "https://localhost:8080/"
        },
        "id": "idS64rHOsZq1",
        "outputId": "c49ceb2d-bf25-4703-f41c-0580a220a723"
      },
      "execution_count": null,
      "outputs": [
        {
          "output_type": "execute_result",
          "data": {
            "text/plain": [
              "0.8333333333333334"
            ]
          },
          "metadata": {},
          "execution_count": 88
        }
      ]
    }
  ]
}