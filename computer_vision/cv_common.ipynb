{
  "nbformat": 4,
  "nbformat_minor": 0,
  "metadata": {
    "colab": {
      "provenance": [],
      "authorship_tag": "ABX9TyNBVAPsmtVJssOOxquOYEzE",
      "include_colab_link": true
    },
    "kernelspec": {
      "name": "python3",
      "display_name": "Python 3"
    },
    "language_info": {
      "name": "python"
    }
  },
  "cells": [
    {
      "cell_type": "markdown",
      "metadata": {
        "id": "view-in-github",
        "colab_type": "text"
      },
      "source": [
        "<a href=\"https://colab.research.google.com/github/iliya1984/DevML/blob/main/computer_vision/cv_common.ipynb\" target=\"_parent\"><img src=\"https://colab.research.google.com/assets/colab-badge.svg\" alt=\"Open In Colab\"/></a>"
      ]
    },
    {
      "cell_type": "code",
      "execution_count": 12,
      "metadata": {
        "colab": {
          "base_uri": "https://localhost:8080/"
        },
        "id": "tqxzfbXBCxrT",
        "outputId": "152db9bf-cb01-4b72-967b-c1416328e17e"
      },
      "outputs": [
        {
          "output_type": "stream",
          "name": "stdout",
          "text": [
            "Common library was successfully loaded\n"
          ]
        }
      ],
      "source": [
        "print('Common library was successfully loaded')"
      ]
    },
    {
      "cell_type": "markdown",
      "source": [
        "##Global Variables"
      ],
      "metadata": {
        "id": "gmPvoSGrF4xd"
      }
    },
    {
      "cell_type": "code",
      "source": [
        "root_directory = '/content'\n",
        "mount_directory = f'{root_directory}/drive'\n",
        "source_directory = f'{mount_directory}/MyDrive/Workspace/Computer Vision'\n",
        "datasets_directory = f'{source_directory}/datasets'\n",
        "models_directory = f'{source_directory}/models'"
      ],
      "metadata": {
        "id": "MYBt_ZH8F3mh"
      },
      "execution_count": 13,
      "outputs": []
    },
    {
      "cell_type": "code",
      "source": [
        "import os\n",
        "from os import path\n",
        "import glob\n",
        "import shutil\n",
        "\n",
        "import dlib\n",
        "import cv2\n",
        "from pathlib import Path\n",
        "import numpy as np\n",
        "\n",
        "from google.colab.patches import cv2_imshow"
      ],
      "metadata": {
        "id": "oR6zzxKgVpBb"
      },
      "execution_count": 14,
      "outputs": []
    },
    {
      "cell_type": "code",
      "source": [
        "def create_directory(directory):\n",
        "  if path.exists(directory) == False:\n",
        "    p = Path(directory)\n",
        "    p.mkdir(parents=True)\n",
        "    print(f'{directory} directory was created')\n",
        "  else:\n",
        "    print(f'{directory} directory already exists')\n",
        "\n",
        "def clear_directory(directory):\n",
        "  files = glob.glob(f'{directory}/*')\n",
        "  for f in files:\n",
        "    shutil.rmtree(f)\n",
        "\n",
        "def create_empty_directory(directory):\n",
        "  create_directory(directory)\n",
        "  clear_directory(directory)"
      ],
      "metadata": {
        "id": "jU_5aKbNVc2s"
      },
      "execution_count": 15,
      "outputs": []
    },
    {
      "cell_type": "code",
      "source": [
        "class CVImage:\n",
        "\n",
        "  def __init__(self, np_image):\n",
        "    self.image = np_image\n",
        "\n",
        "  def read(image_path):\n",
        "    np_image = cv2.imread(image_path)\n",
        "    return CVImage(np_image)\n",
        "\n",
        "  def read_gray(image_path):\n",
        "    image = CVImage.read(image_path)\n",
        "    image.image = cv2.cvtColor(image.image, cv2.COLOR_BGR2GRAY)\n",
        "    return image\n",
        "\n",
        "  def to_nparray(self):\n",
        "    return self.image\n",
        "\n",
        "  def draw_rectangle(self, rectangle, color, thickness):\n",
        "    left = rectangle.left()\n",
        "    top = rectangle.top()\n",
        "    right = rectangle.right()\n",
        "    bottom = rectangle.bottom()\n",
        "\n",
        "    cv2.rectangle(self.image, (left, top), (right, bottom), color, thickness)\n",
        "\n",
        "  def draw_point(self, point, radius, color, thickness):\n",
        "     cv2.circle(self.image, (point.x, point.y), radius, color, thickness)\n",
        "\n",
        "  def show(self):\n",
        "    cv2_imshow(self.image)\n",
        "\n",
        "\n"
      ],
      "metadata": {
        "id": "Cm8ayFvfCw1S"
      },
      "execution_count": 16,
      "outputs": []
    }
  ]
}