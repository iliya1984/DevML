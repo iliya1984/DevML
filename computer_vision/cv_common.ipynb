{
  "nbformat": 4,
  "nbformat_minor": 0,
  "metadata": {
    "colab": {
      "provenance": [],
      "authorship_tag": "ABX9TyNQ3jy9A4FpV2xlJHCOjjno",
      "include_colab_link": true
    },
    "kernelspec": {
      "name": "python3",
      "display_name": "Python 3"
    },
    "language_info": {
      "name": "python"
    }
  },
  "cells": [
    {
      "cell_type": "markdown",
      "metadata": {
        "id": "view-in-github",
        "colab_type": "text"
      },
      "source": [
        "<a href=\"https://colab.research.google.com/github/iliya1984/DevML/blob/main/computer_vision/cv_common.ipynb\" target=\"_parent\"><img src=\"https://colab.research.google.com/assets/colab-badge.svg\" alt=\"Open In Colab\"/></a>"
      ]
    },
    {
      "cell_type": "code",
      "execution_count": 1,
      "metadata": {
        "colab": {
          "base_uri": "https://localhost:8080/"
        },
        "id": "tqxzfbXBCxrT",
        "outputId": "eec8e1c0-6c32-4e4a-b635-3940820ec22e"
      },
      "outputs": [
        {
          "output_type": "stream",
          "name": "stdout",
          "text": [
            "Common library was successfully loaded\n"
          ]
        }
      ],
      "source": [
        "print('Common library was successfully loaded')"
      ]
    },
    {
      "cell_type": "markdown",
      "source": [
        "##Global Variables"
      ],
      "metadata": {
        "id": "gmPvoSGrF4xd"
      }
    },
    {
      "cell_type": "code",
      "source": [
        "root_directory = '/content'\n",
        "mount_directory = f'{root_directory}/drive'\n",
        "source_directory = f'{mount_directory}/MyDrive/Workspace/Computer Vision'\n",
        "datasets_directory = f'{source_directory}/datasets'"
      ],
      "metadata": {
        "id": "MYBt_ZH8F3mh"
      },
      "execution_count": 2,
      "outputs": []
    },
    {
      "cell_type": "code",
      "source": [
        "import os\n",
        "from os import path"
      ],
      "metadata": {
        "id": "oR6zzxKgVpBb"
      },
      "execution_count": 3,
      "outputs": []
    },
    {
      "cell_type": "code",
      "source": [
        "def create_directory(directory):\n",
        "  if path.exists(directory) == False:\n",
        "    os.mkdir(directory)\n",
        "    print(f'{directory} directory was created')\n",
        "  else:\n",
        "    print(f'{directory} directory already exists')"
      ],
      "metadata": {
        "id": "jU_5aKbNVc2s"
      },
      "execution_count": 4,
      "outputs": []
    }
  ]
}