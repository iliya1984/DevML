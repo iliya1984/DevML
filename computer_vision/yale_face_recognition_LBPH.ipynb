{
  "cells": [
    {
      "cell_type": "markdown",
      "metadata": {
        "id": "view-in-github",
        "colab_type": "text"
      },
      "source": [
        "<a href=\"https://colab.research.google.com/github/iliya1984/DevML/blob/main/computer_vision/yale_face_recognition_LBPH.ipynb\" target=\"_parent\"><img src=\"https://colab.research.google.com/assets/colab-badge.svg\" alt=\"Open In Colab\"/></a>"
      ]
    },
    {
      "cell_type": "markdown",
      "source": [
        "# Face recognition using Local Binary Pattern Histogram algorithm"
      ],
      "metadata": {
        "id": "C0tDj_65NsGQ"
      }
    },
    {
      "cell_type": "markdown",
      "source": [
        "## Importing python libraries"
      ],
      "metadata": {
        "id": "4u5nuTN2N7V_"
      }
    },
    {
      "cell_type": "code",
      "execution_count": 83,
      "metadata": {
        "colab": {
          "base_uri": "https://localhost:8080/"
        },
        "id": "XDE5kegObfQk",
        "outputId": "35c2f3f2-c3f3-4650-fc72-2cbe9e4144c4"
      },
      "outputs": [
        {
          "output_type": "stream",
          "name": "stdout",
          "text": [
            "Drive already mounted at /content/drive; to attempt to forcibly remount, call drive.mount(\"/content/drive\", force_remount=True).\n"
          ]
        }
      ],
      "source": [
        "from PIL import Image\n",
        "import cv2\n",
        "import numpy as np\n",
        "from google.colab.patches import cv2_imshow\n",
        "from google.colab import drive\n",
        "\n",
        "import zipfile\n",
        "import os\n",
        "from os import path\n",
        "import random\n",
        "from sklearn.metrics import accuracy_score\n",
        "\n",
        "drive.mount('/content/drive')"
      ]
    },
    {
      "cell_type": "markdown",
      "source": [
        "## Loading and extracting images"
      ],
      "metadata": {
        "id": "_SlOzG_wOSiu"
      }
    },
    {
      "cell_type": "code",
      "execution_count": 84,
      "metadata": {
        "id": "pBkgDc0wihpS"
      },
      "outputs": [],
      "source": [
        "zip_file_path = '/content/drive/MyDrive/Workspace/Computer Vision/datasets/yalefaces.zip'\n",
        "extract_path = './content/datasets/yalefaces'\n",
        "models_path = './content/models'\n",
        "model_yml_path = models_path + '/lbph_classifier.yml'"
      ]
    },
    {
      "cell_type": "code",
      "execution_count": 85,
      "metadata": {
        "id": "xV49z8Riellc"
      },
      "outputs": [],
      "source": [
        "zip_object = zipfile.ZipFile(file=zip_file_path, mode = 'r')\n",
        "zip_object.extractall(extract_path)\n",
        "zip_object.close()"
      ]
    },
    {
      "cell_type": "markdown",
      "source": [
        "## Defining helper classes"
      ],
      "metadata": {
        "id": "HSv4grq8OZo-"
      }
    },
    {
      "cell_type": "code",
      "execution_count": 86,
      "metadata": {
        "id": "QyPLOTxuiZFa"
      },
      "outputs": [],
      "source": [
        "class FaceImages:\n",
        "  def __init__(self):\n",
        "    self.images = []\n",
        "\n",
        "  def get_npimages(self):\n",
        "    images = []\n",
        "    for image in self.images:\n",
        "      np_image = image.image\n",
        "      images.append(np_image)\n",
        "    return images\n",
        "\n",
        "  def get_ids(self):\n",
        "    ids = []\n",
        "    for image in self.images:\n",
        "      id = image.id\n",
        "      ids.append(id)\n",
        "\n",
        "    return np.array(ids)\n",
        "\n",
        "class FaceImage:\n",
        "  def __init__(self, id, image):\n",
        "    self.id = id\n",
        "    self.image = image\n",
        "    self.prediction = None\n",
        "\n",
        "def get_image_paths():\n",
        "  image_paths = os.listdir(extract_path)\n",
        "  invalid_paths = []\n",
        "  for path in image_paths:\n",
        "    if not (\"subject\" in path):\n",
        "      print(f'Invalid path \"{path}\"')\n",
        "      invalid_paths.append(path)\n",
        "\n",
        "  for path in invalid_paths:\n",
        "    image_paths.remove(path)\n",
        "    print(f'Removed path \"{path}\"')\n",
        "\n",
        "  return image_paths\n",
        "\n",
        "def get_image_data():\n",
        "  image_paths = get_image_paths()\n",
        "  paths = [os.path.join(extract_path, f) for f in image_paths]\n",
        "  #print(paths)\n",
        "\n",
        "  images = FaceImages()\n",
        "  for path in paths:\n",
        "    #print(path)\n",
        "    image = Image.open(path).convert('L')\n",
        "    #print(type(image))\n",
        "    image_np = np.array(image, 'uint8')\n",
        "    #print(type(image_np))\n",
        "    id = int(os.path.split(path)[1].split('.')[0].replace('subject', ''))\n",
        "    #print(id)\n",
        "    images.images.append(FaceImage(id, image_np))\n",
        "\n",
        "  return images"
      ]
    },
    {
      "cell_type": "markdown",
      "source": [
        "## Spliting data set to train and test sets"
      ],
      "metadata": {
        "id": "jJ-ih6XoOgnA"
      }
    },
    {
      "cell_type": "code",
      "execution_count": 87,
      "metadata": {
        "colab": {
          "base_uri": "https://localhost:8080/"
        },
        "id": "aEU0AH2Ii8MZ",
        "outputId": "507dd823-abef-4425-ad9e-9180c56a2172"
      },
      "outputs": [
        {
          "output_type": "stream",
          "name": "stdout",
          "text": [
            "Invalid path \"Readme.txt\"\n",
            "Invalid path \"data\"\n",
            "Removed path \"Readme.txt\"\n",
            "Removed path \"data\"\n"
          ]
        }
      ],
      "source": [
        "faces = get_image_data()\n",
        "random.shuffle(faces.images)"
      ]
    },
    {
      "cell_type": "markdown",
      "source": [
        "## Previewing sample image"
      ],
      "metadata": {
        "id": "jJgJtPb0Kjmr"
      }
    },
    {
      "cell_type": "code",
      "source": [
        "sample_image = faces.get_npimages()[0]"
      ],
      "metadata": {
        "id": "WeTWkdgaKVE8"
      },
      "execution_count": 88,
      "outputs": []
    },
    {
      "cell_type": "code",
      "source": [
        "sample_image"
      ],
      "metadata": {
        "colab": {
          "base_uri": "https://localhost:8080/"
        },
        "id": "UjHJMac-KaDz",
        "outputId": "75143204-8181-494e-d1db-ef60f6897bde"
      },
      "execution_count": 89,
      "outputs": [
        {
          "output_type": "execute_result",
          "data": {
            "text/plain": [
              "array([[124, 116, 102, ..., 255, 242, 246],\n",
              "       [255, 251, 230, ..., 255, 246, 248],\n",
              "       [246, 227, 231, ..., 255, 255, 255],\n",
              "       ...,\n",
              "       [243, 245, 255, ..., 231, 220, 216],\n",
              "       [255, 255, 255, ..., 213, 206, 218],\n",
              "       [ 68,  68,  68, ...,  68,  68,  68]], dtype=uint8)"
            ]
          },
          "metadata": {},
          "execution_count": 89
        }
      ]
    },
    {
      "cell_type": "code",
      "execution_count": 90,
      "metadata": {
        "colab": {
          "base_uri": "https://localhost:8080/",
          "height": 260
        },
        "id": "63VKc7Pg2E6B",
        "outputId": "f097392d-dfec-42eb-d66b-ce5d44662480"
      },
      "outputs": [
        {
          "output_type": "display_data",
          "data": {
            "text/plain": [
              "<PIL.Image.Image image mode=L size=320x243>"
            ],
            "image/png": "[encoded data removed]"
          },
          "metadata": {}
        }
      ],
      "source": [
        "cv2_imshow(sample_image)"
      ]
    },
    {
      "cell_type": "code",
      "execution_count": 91,
      "metadata": {
        "colab": {
          "base_uri": "https://localhost:8080/"
        },
        "id": "Lplt2Xzn6IyH",
        "outputId": "5a90ea28-162c-4f1a-e355-fd7653d038c0"
      },
      "outputs": [
        {
          "output_type": "stream",
          "name": "stdout",
          "text": [
            "Splited faces dataset to a train set of the size 123 and a test set of the size 42\n"
          ]
        }
      ],
      "source": [
        "dataset_size = len(faces.images)\n",
        "train_set = FaceImages()\n",
        "test_set = FaceImages()\n",
        "\n",
        "split_ratio = 0.75\n",
        "split_threshold = int(split_ratio * dataset_size)\n",
        "\n",
        "index = 0;\n",
        "for face in faces.images:\n",
        "  if index < split_threshold:\n",
        "    train_set.images.append(face)\n",
        "  else:\n",
        "    test_set.images.append(face)\n",
        "\n",
        "  index = index + 1\n",
        "\n",
        "print(f'Splited faces dataset to a train set of the size {len(train_set.images)} and a test set of the size {len(test_set.images)}')\n"
      ]
    },
    {
      "cell_type": "markdown",
      "source": [
        "## Training Local Binary Pattern Histogram classifier"
      ],
      "metadata": {
        "id": "U2xgKhQsMB0Q"
      }
    },
    {
      "cell_type": "code",
      "source": [
        "if path.exists(models_path) == False:\n",
        "  os.mkdir(models_path)\n",
        "  print(f'{models_path} directory was created')\n",
        "else:\n",
        "  print(f'{models_path} directory already exists')"
      ],
      "metadata": {
        "colab": {
          "base_uri": "https://localhost:8080/"
        },
        "id": "vPdoVXRALUh8",
        "outputId": "41e9f597-cb94-43ad-83e8-5e9235a039d5"
      },
      "execution_count": 92,
      "outputs": [
        {
          "output_type": "stream",
          "name": "stdout",
          "text": [
            "./content/models directory already exists\n"
          ]
        }
      ]
    },
    {
      "cell_type": "code",
      "source": [
        "#lbph_classifier = cv2.face.LBPHFaceRecognizer_create(radius = 4, neighbors=14, grid_x = 9, grid_y = 9)\n",
        "lbph_classifier = cv2.face.LBPHFaceRecognizer_create(radius = 1, neighbors=3, grid_x = 2, grid_y = 2)"
      ],
      "metadata": {
        "id": "HbObQRUlNM3m"
      },
      "execution_count": 93,
      "outputs": []
    },
    {
      "cell_type": "code",
      "execution_count": 94,
      "metadata": {
        "id": "liKIgp-V7ceL"
      },
      "outputs": [],
      "source": [
        "lbph_classifier.train(train_set.get_npimages(), train_set.get_ids())\n",
        "lbph_classifier.write(model_yml_path)"
      ]
    },
    {
      "cell_type": "markdown",
      "source": [
        "## Sample test image prediction"
      ],
      "metadata": {
        "id": "bX5KWV9jMi9I"
      }
    },
    {
      "cell_type": "code",
      "execution_count": 95,
      "metadata": {
        "id": "Yx5DuP-d_jdi"
      },
      "outputs": [],
      "source": [
        "lbph_face_classifier = cv2.face.LBPHFaceRecognizer_create()\n",
        "lbph_face_classifier.read(model_yml_path)"
      ]
    },
    {
      "cell_type": "code",
      "execution_count": 96,
      "metadata": {
        "id": "z3jvsBw5MwcX",
        "colab": {
          "base_uri": "https://localhost:8080/"
        },
        "outputId": "237abdbc-be19-416d-a454-3c85fdb99201"
      },
      "outputs": [
        {
          "output_type": "execute_result",
          "data": {
            "text/plain": [
              "(15, 0.04236472775884212)"
            ]
          },
          "metadata": {},
          "execution_count": 96
        }
      ],
      "source": [
        "test_image = test_set.images[0]\n",
        "prediction = lbph_face_classifier.predict(test_image.image)\n",
        "prediction"
      ]
    },
    {
      "cell_type": "code",
      "execution_count": 97,
      "metadata": {
        "id": "oOGJ5nhDNRzP",
        "colab": {
          "base_uri": "https://localhost:8080/"
        },
        "outputId": "e67b7695-6b3e-4b18-efb9-4fb158f131db"
      },
      "outputs": [
        {
          "output_type": "execute_result",
          "data": {
            "text/plain": [
              "9"
            ]
          },
          "metadata": {},
          "execution_count": 97
        }
      ],
      "source": [
        "test_image.id"
      ]
    },
    {
      "cell_type": "code",
      "execution_count": 98,
      "metadata": {
        "id": "h5xJH84sifz6",
        "colab": {
          "base_uri": "https://localhost:8080/",
          "height": 260
        },
        "outputId": "11a0df83-0b86-4f68-da7d-e442b6f3483b"
      },
      "outputs": [
        {
          "output_type": "display_data",
          "data": {
            "text/plain": [
              "<PIL.Image.Image image mode=L size=320x243>"
            ],
            "image/png": "[encoded data removed]"
          },
          "metadata": {}
        }
      ],
      "source": [
        "cv2.putText(test_image.image, 'Pred: ' + str(prediction[0]), (10, 30), cv2.FONT_HERSHEY_COMPLEX_SMALL, 1, (0,255,0))\n",
        "cv2.putText(test_image.image, 'Exp: ' + str(test_image.id), (10, 50), cv2.FONT_HERSHEY_COMPLEX_SMALL, 1, (0,255,0))\n",
        "cv2_imshow(test_image.image)"
      ]
    },
    {
      "cell_type": "markdown",
      "source": [
        "## Model evaluation"
      ],
      "metadata": {
        "id": "SJpaIlR3MqS3"
      }
    },
    {
      "cell_type": "code",
      "execution_count": 99,
      "metadata": {
        "id": "z7Jzp2DzrKH3"
      },
      "outputs": [],
      "source": [
        "def eveluate_model(lbph_face_classifier, test_set):\n",
        "  predictions = []\n",
        "  labels = []\n",
        "\n",
        "  for test_image in test_set.images:\n",
        "    prediction, _ = lbph_face_classifier.predict(test_image.image)\n",
        "    predictions.append(prediction)\n",
        "    labels.append(test_image.id)\n",
        "\n",
        "  predictions = np.array(predictions)\n",
        "  labels = np.array(labels)\n",
        "\n",
        "  return predictions, labels"
      ]
    },
    {
      "cell_type": "code",
      "execution_count": 100,
      "metadata": {
        "id": "idS64rHOsZq1",
        "colab": {
          "base_uri": "https://localhost:8080/"
        },
        "outputId": "7158af98-9183-49f5-aef8-d9077a65fe6f"
      },
      "outputs": [
        {
          "output_type": "stream",
          "name": "stdout",
          "text": [
            "Accuracy score is 0.6429\n"
          ]
        }
      ],
      "source": [
        "predictions, labels = eveluate_model(lbph_face_classifier, test_set)\n",
        "score = round(accuracy_score(labels, predictions), 4)\n",
        "print(f'Accuracy score is {score}')"
      ]
    },
    {
      "cell_type": "markdown",
      "source": [
        "## Hyperparameter tuning"
      ],
      "metadata": {
        "id": "GA7jWLH1OKht"
      }
    },
    {
      "cell_type": "code",
      "source": [
        "class ParamName:\n",
        "  ID = 'id'\n",
        "  RADIUS = 'radius'\n",
        "  NEIGHBORS = 'neighbors'\n",
        "  GRID_X = 'grid_x'\n",
        "  GRID_Y = 'grid_y'\n",
        "\n",
        "param_list = []\n",
        "\n",
        "param_bag = {}\n",
        "param_bag[ParamName.ID] = 1\n",
        "param_bag[ParamName.RADIUS] = 1\n",
        "param_bag[ParamName.NEIGHBORS] = 3\n",
        "param_bag[ParamName.GRID_X] = 2\n",
        "param_bag[ParamName.GRID_Y] = 2\n",
        "param_list.append(param_bag)\n",
        "\n",
        "param_bag = {}\n",
        "param_bag[ParamName.ID] = 2\n",
        "param_bag[ParamName.RADIUS] = 2\n",
        "param_bag[ParamName.NEIGHBORS] = 8\n",
        "param_bag[ParamName.GRID_X] = 5\n",
        "param_bag[ParamName.GRID_Y] = 5\n",
        "param_list.append(param_bag)\n",
        "\n",
        "param_bag = {}\n",
        "param_bag[ParamName.ID] = 3\n",
        "param_bag[ParamName.RADIUS] = 4\n",
        "param_bag[ParamName.NEIGHBORS] = 14\n",
        "param_bag[ParamName.GRID_X] = 9\n",
        "param_bag[ParamName.GRID_Y] = 9\n",
        "param_list.append(param_bag)"
      ],
      "metadata": {
        "id": "OM6QMuKTOJ5U"
      },
      "execution_count": 101,
      "outputs": []
    },
    {
      "cell_type": "code",
      "source": [
        "result_list = []\n",
        "\n",
        "for p in param_list:\n",
        "  model_file_path = models_path + f'/lbph_classifier_{p[ParamName.ID]}.yml'\n",
        "  lbph_classifier = cv2.face.LBPHFaceRecognizer_create(radius = p[ParamName.RADIUS], neighbors=p[ParamName.NEIGHBORS], grid_x = p[ParamName.GRID_X], grid_y = p[ParamName.GRID_Y])\n",
        "  lbph_classifier.train(train_set.get_npimages(), train_set.get_ids())\n",
        "  lbph_classifier.write(model_file_path)\n",
        "\n",
        "  lbph_face_classifier = cv2.face.LBPHFaceRecognizer_create()\n",
        "  lbph_face_classifier.read(model_file_path)\n",
        "\n",
        "  predictions, labels = eveluate_model(lbph_face_classifier, test_set)\n",
        "  score = round(accuracy_score(labels, predictions), 4)\n",
        "\n",
        "  result = {}\n",
        "  result['parameters'] = p\n",
        "  result['score'] = score\n",
        "  result_list.append(result)\n",
        "\n",
        "  print(f'Parameters for id={p[ParamName.ID]} were applied. Accuracy score={score*100}%')"
      ],
      "metadata": {
        "colab": {
          "base_uri": "https://localhost:8080/"
        },
        "id": "5GZNcLF-Qjnq",
        "outputId": "7a277f55-365a-4e5c-9fbc-b5214fdbbe42"
      },
      "execution_count": 102,
      "outputs": [
        {
          "output_type": "stream",
          "name": "stdout",
          "text": [
            "Parameters for id=1 were applied. Accuracy score=64.29%\n",
            "Parameters for id=2 were applied. Accuracy score=76.19%\n",
            "Parameters for id=3 were applied. Accuracy score=83.33%\n"
          ]
        }
      ]
    },
    {
      "cell_type": "code",
      "source": [
        "def print_parameters(parameters):\n",
        "  print(f'Configuration Id={parameters[ParamName.ID]}')\n",
        "  print(f'Radius={parameters[ParamName.RADIUS]}')\n",
        "  print(f'Neighbors={parameters[ParamName.NEIGHBORS]}')\n",
        "  print(f'Grid X={parameters[ParamName.GRID_X]}')\n",
        "  print(f'Grid Y={parameters[ParamName.GRID_Y]}')\n",
        "\n",
        "def print_parameter_tuning_result(result):\n",
        "  print_parameters(result['parameters'])\n",
        "  score = result['score']\n",
        "  print(f'Accuracy score={score*100}%')\n",
        "  print('')\n",
        "\n",
        "print('Printing hyperparameter tuning results:')\n",
        "print('')\n",
        "\n",
        "for result in result_list:\n",
        "  print_parameter_tuning_result(result)"
      ],
      "metadata": {
        "colab": {
          "base_uri": "https://localhost:8080/"
        },
        "id": "esZsLQrqQi4E",
        "outputId": "70a1e08e-b403-43ec-8ed5-065cae0c1939"
      },
      "execution_count": 114,
      "outputs": [
        {
          "output_type": "stream",
          "name": "stdout",
          "text": [
            "Printing hyperparameter tuning results:\n",
            "\n",
            "Configuration Id=1\n",
            "Radius=1\n",
            "Neighbors=3\n",
            "Grid X=2\n",
            "Grid Y=2\n",
            "Accuracy score=64.29%\n",
            "\n",
            "Configuration Id=2\n",
            "Radius=2\n",
            "Neighbors=8\n",
            "Grid X=5\n",
            "Grid Y=5\n",
            "Accuracy score=76.19%\n",
            "\n",
            "Configuration Id=3\n",
            "Radius=4\n",
            "Neighbors=14\n",
            "Grid X=9\n",
            "Grid Y=9\n",
            "Accuracy score=83.33%\n",
            "\n"
          ]
        }
      ]
    },
    {
      "cell_type": "code",
      "source": [
        "best_result = None\n",
        "best_score = 0\n",
        "for r in result_list:\n",
        "    score = r['score']\n",
        "    if score > best_score:\n",
        "      best_score = score\n",
        "      best_result = r\n",
        "\n",
        "print('Hyperparameter tuning best result:')\n",
        "print('')\n",
        "print_parameter_tuning_result(best_result)\n"
      ],
      "metadata": {
        "colab": {
          "base_uri": "https://localhost:8080/"
        },
        "id": "KR7eD3I5X3C0",
        "outputId": "1eb2e825-0bf7-4f9c-bbbd-631148bfa7fa"
      },
      "execution_count": 113,
      "outputs": [
        {
          "output_type": "stream",
          "name": "stdout",
          "text": [
            "Hyperparameter tuning best result:\n",
            "\n",
            "Configuration Id=3\n",
            "Radius=4\n",
            "Neighbors=14\n",
            "Grid X=9\n",
            "Grid Y=9\n",
            "Accuracy score=83.33%\n",
            "\n"
          ]
        }
      ]
    }
  ],
  "metadata": {
    "colab": {
      "provenance": [],
      "gpuType": "T4",
      "authorship_tag": "ABX9TyOzfvNAdwC5PmYthy5PaOuf",
      "include_colab_link": true
    },
    "kernelspec": {
      "display_name": "Python 3",
      "name": "python3"
    },
    "language_info": {
      "name": "python"
    },
    "accelerator": "GPU"
  },
  "nbformat": 4,
  "nbformat_minor": 0
}