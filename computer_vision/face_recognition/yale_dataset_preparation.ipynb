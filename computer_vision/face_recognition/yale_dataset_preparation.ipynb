{
  "nbformat": 4,
  "nbformat_minor": 0,
  "metadata": {
    "colab": {
      "provenance": [],
      "authorship_tag": "ABX9TyNc8hBcn8Rcq2mS9PBBxV/k",
      "include_colab_link": true
    },
    "kernelspec": {
      "name": "python3",
      "display_name": "Python 3"
    },
    "language_info": {
      "name": "python"
    }
  },
  "cells": [
    {
      "cell_type": "markdown",
      "metadata": {
        "id": "view-in-github",
        "colab_type": "text"
      },
      "source": [
        "<a href=\"https://colab.research.google.com/github/iliya1984/DevML/blob/main/computer_vision/face_recognition/yale_dataset_preparation.ipynb\" target=\"_parent\"><img src=\"https://colab.research.google.com/assets/colab-badge.svg\" alt=\"Open In Colab\"/></a>"
      ]
    },
    {
      "cell_type": "markdown",
      "source": [
        "# Yale dataset preparation"
      ],
      "metadata": {
        "id": "Strxn7BRKqpv"
      }
    },
    {
      "cell_type": "markdown",
      "source": [
        "## Loading libraries and mounting drive"
      ],
      "metadata": {
        "id": "0j490Tg5K1L2"
      }
    },
    {
      "cell_type": "code",
      "execution_count": 52,
      "metadata": {
        "colab": {
          "base_uri": "https://localhost:8080/"
        },
        "id": "OQ4esB22IcFN",
        "outputId": "7967fea6-62d1-40bd-cab0-5f749a70e6a2"
      },
      "outputs": [
        {
          "output_type": "stream",
          "name": "stdout",
          "text": [
            "Drive already mounted at /content/drive; to attempt to forcibly remount, call drive.mount(\"/content/drive\", force_remount=True).\n"
          ]
        }
      ],
      "source": [
        "from PIL import Image\n",
        "import cv2\n",
        "import numpy as np\n",
        "\n",
        "from google.colab.patches import cv2_imshow\n",
        "from google.colab import drive\n",
        "\n",
        "import pathlib\n",
        "import zipfile\n",
        "import os\n",
        "from os import path\n",
        "import shutil\n",
        "\n",
        "import random\n",
        "import json\n",
        "\n",
        "drive.mount('/content/drive')"
      ]
    },
    {
      "cell_type": "code",
      "source": [
        "%run '/content/drive/MyDrive/Workspace/Computer Vision/cv_common.ipynb'"
      ],
      "metadata": {
        "colab": {
          "base_uri": "https://localhost:8080/"
        },
        "id": "EVG3pJNSK_bn",
        "outputId": "f16d373b-f035-4c3e-ad06-3274ee84c1f3"
      },
      "execution_count": 53,
      "outputs": [
        {
          "output_type": "stream",
          "name": "stdout",
          "text": [
            "Common library was successfully loaded\n"
          ]
        }
      ]
    },
    {
      "cell_type": "markdown",
      "source": [
        "## Loading full dataset"
      ],
      "metadata": {
        "id": "ZGkD2ux9XKLM"
      }
    },
    {
      "cell_type": "code",
      "source": [
        "zip_file_path = f'{datasets_directory}/yale_faces/yalefaces.zip'\n",
        "extract_path = './content/datasets/yalefaces/all'\n",
        "train_set_path =  './content/datasets/yalefaces/train'\n",
        "test_set_path =  './content/datasets/yalefaces/test'"
      ],
      "metadata": {
        "id": "7WgV7qXfLbMH"
      },
      "execution_count": 54,
      "outputs": []
    },
    {
      "cell_type": "code",
      "source": [
        "zip_object = zipfile.ZipFile(file=zip_file_path, mode = 'r')\n",
        "zip_object.extractall(extract_path)\n",
        "zip_object.close()"
      ],
      "metadata": {
        "id": "tiCJyZnzLyQO"
      },
      "execution_count": 55,
      "outputs": []
    },
    {
      "cell_type": "code",
      "source": [
        "class ImageProperty:\n",
        "  FILE_NAME_INDEX = 0\n",
        "  LABEL_INDEX = 1\n",
        "  IMAGE_INDEX = 2\n",
        "\n",
        "def get_image_paths():\n",
        "  image_paths = os.listdir(extract_path)\n",
        "  invalid_paths = []\n",
        "  for path in image_paths:\n",
        "    if not (\"subject\" in path):\n",
        "      print(f'Invalid path \"{path}\"')\n",
        "      invalid_paths.append(path)\n",
        "\n",
        "  for path in invalid_paths:\n",
        "    image_paths.remove(path)\n",
        "    print(f'Removed path \"{path}\"')\n",
        "\n",
        "  return image_paths\n",
        "\n",
        "def get_image_data():\n",
        "  image_paths = get_image_paths()\n",
        "  paths = [os.path.join(extract_path, f) for f in image_paths]\n",
        "  #print(paths)\n",
        "\n",
        "  faces = []\n",
        "  for path in paths:\n",
        "    image = Image.open(path).convert('L')\n",
        "    image_np = np.array(image, 'uint8')\n",
        "    label = int(os.path.split(path)[1].split('.')[0].replace('subject', ''))\n",
        "    file_path = os.path.split(path)[1]\n",
        "    faces.append((file_path, label, image_np))\n",
        "\n",
        "  return faces"
      ],
      "metadata": {
        "id": "NSlapMKVMl6d"
      },
      "execution_count": 56,
      "outputs": []
    },
    {
      "cell_type": "code",
      "source": [
        "images = get_image_data()\n",
        "random.shuffle(images)\n",
        "sample_image = images[0]"
      ],
      "metadata": {
        "colab": {
          "base_uri": "https://localhost:8080/"
        },
        "id": "Dmo2fe3KM37c",
        "outputId": "a539dd81-0ce8-4e10-c08c-8b40b93365f4"
      },
      "execution_count": 57,
      "outputs": [
        {
          "output_type": "stream",
          "name": "stdout",
          "text": [
            "Invalid path \"data\"\n",
            "Invalid path \"Readme.txt\"\n",
            "Removed path \"data\"\n",
            "Removed path \"Readme.txt\"\n"
          ]
        }
      ]
    },
    {
      "cell_type": "markdown",
      "source": [
        "## Printing sample image"
      ],
      "metadata": {
        "id": "uKiDDcjOM-tP"
      }
    },
    {
      "cell_type": "code",
      "source": [
        "print(f'Image file name \"{sample_image[ImageProperty.FILE_NAME_INDEX]}\"')\n",
        "print(f'Label \"{sample_image[ImageProperty.LABEL_INDEX]}\"')\n",
        "cv2_imshow(sample_image[ImageProperty.IMAGE_INDEX])"
      ],
      "metadata": {
        "colab": {
          "base_uri": "https://localhost:8080/",
          "height": 295
        },
        "id": "9pyBhPonM842",
        "outputId": "23048561-9a79-4683-e3dd-8844aab62968"
      },
      "execution_count": 58,
      "outputs": [
        {
          "output_type": "stream",
          "name": "stdout",
          "text": [
            "Image file name \"subject06.normal\"\n",
            "Label \"6\"\n"
          ]
        },
        {
          "output_type": "display_data",
          "data": {
            "text/plain": [
              "<PIL.Image.Image image mode=L size=320x243>"
            ],
            "image/png": "[encoded data removed]"
          },
          "metadata": {}
        }
      ]
    },
    {
      "cell_type": "markdown",
      "source": [
        "## Spliting data set to train and test sets"
      ],
      "metadata": {
        "id": "lCL6sosLRXES"
      }
    },
    {
      "cell_type": "code",
      "source": [
        "dataset_size = len(images)\n",
        "train_set = []\n",
        "test_set = []\n",
        "\n",
        "split_ratio = 0.75\n",
        "split_threshold = int(split_ratio * dataset_size)\n",
        "\n",
        "index = 0;\n",
        "for face in images:\n",
        "  if index < split_threshold:\n",
        "    train_set.append(face)\n",
        "  else:\n",
        "    test_set.append(face)\n",
        "\n",
        "  index = index + 1\n",
        "\n",
        "print(f'Splited faces dataset to a train set of the size {len(train_set)} and a test set of the size {len(test_set)}')"
      ],
      "metadata": {
        "colab": {
          "base_uri": "https://localhost:8080/"
        },
        "id": "HXMsPb4hRWf6",
        "outputId": "a42a9be6-5736-49ac-db89-6f3b46d8d86e"
      },
      "execution_count": 59,
      "outputs": [
        {
          "output_type": "stream",
          "name": "stdout",
          "text": [
            "Splited faces dataset to a train set of the size 123 and a test set of the size 42\n"
          ]
        }
      ]
    },
    {
      "cell_type": "markdown",
      "source": [
        "## Storing archived splited dataset back to drive"
      ],
      "metadata": {
        "id": "7BDUncjYW8fh"
      }
    },
    {
      "cell_type": "code",
      "source": [
        "def store_dataset_to_drive(dataset_name, target_file_name, working_directory, image_dataset):\n",
        "  images_path = working_directory + '/images'\n",
        "\n",
        "  #Creating working directories\n",
        "  create_directory(working_directory)\n",
        "  create_directory(images_path)\n",
        "\n",
        "  #Saving images into working directory\n",
        "  images_metadata = []\n",
        "  for image_item in image_dataset:\n",
        "    file_name = image_item[ImageProperty.FILE_NAME_INDEX]\n",
        "    image = Image.fromarray(image_item[ImageProperty.IMAGE_INDEX], \"L\")\n",
        "    file_path = f'{images_path}/{file_name}.jpeg'\n",
        "    image.save(file_path)\n",
        "\n",
        "    image_metadata = {}\n",
        "    image_metadata['fileName'] = file_name\n",
        "    image_metadata['path'] = file_path\n",
        "    image_metadata['label'] = image_item[ImageProperty.LABEL_INDEX]\n",
        "    images_metadata.append(image_metadata)\n",
        "\n",
        "  #Saving metadata into working directory\n",
        "  metadata = {}\n",
        "  metadata['images'] = images_metadata\n",
        "  print(f'Image dataset was saved to {images_path}')\n",
        "\n",
        "  metadata_file_path = working_directory + '/metadata.json'\n",
        "  with open(metadata_file_path, \"w\") as outfile:\n",
        "    json.dump(metadata, outfile)\n",
        "\n",
        "  #Archiving dataset into zip file\n",
        "  directory = pathlib.Path(images_path)\n",
        "  zip_file_path = f\"{working_directory}/{target_file_name}.zip\"\n",
        "  with zipfile.ZipFile(zip_file_path, mode=\"w\") as archive:\n",
        "    for file_path in directory.iterdir():\n",
        "      archive.write(file_path, arcname=file_path.name)\n",
        "\n",
        "  #Copying archived dataset back to drive\n",
        "  shutil.copyfile(f\"{working_directory}/{target_file_name}.zip\", f'{datasets_directory}/{dataset_name}/{target_file_name}.zip')\n",
        "  shutil.copyfile(f\"{working_directory}/metadata.json\", f'{datasets_directory}/{dataset_name}/{target_file_name}_metadata.json')\n"
      ],
      "metadata": {
        "id": "5HJ_fHo2TTM7"
      },
      "execution_count": 60,
      "outputs": []
    },
    {
      "cell_type": "code",
      "source": [
        "#Storing splited archived dataset back to drive\n",
        "store_dataset_to_drive('yale_faces', 'train', train_set_path, train_set)\n",
        "store_dataset_to_drive('yale_faces', 'test', test_set_path, test_set)"
      ],
      "metadata": {
        "colab": {
          "base_uri": "https://localhost:8080/"
        },
        "id": "JEFKgmPmT9DS",
        "outputId": "38671d03-f76e-4bc6-de2d-00b8541f0115"
      },
      "execution_count": 61,
      "outputs": [
        {
          "output_type": "stream",
          "name": "stdout",
          "text": [
            "./content/datasets/yalefaces/train directory already exists\n",
            "./content/datasets/yalefaces/train/images directory already exists\n",
            "Image dataset was saved to ./content/datasets/yalefaces/train/images\n",
            "./content/datasets/yalefaces/test directory already exists\n",
            "./content/datasets/yalefaces/test/images directory already exists\n",
            "Image dataset was saved to ./content/datasets/yalefaces/test/images\n"
          ]
        }
      ]
    }
  ]
}