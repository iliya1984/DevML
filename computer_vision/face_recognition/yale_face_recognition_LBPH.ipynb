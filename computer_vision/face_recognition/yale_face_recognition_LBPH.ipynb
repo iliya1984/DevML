{
  "cells": [
    {
      "cell_type": "markdown",
      "metadata": {
        "id": "view-in-github",
        "colab_type": "text"
      },
      "source": [
        "<a href=\"https://colab.research.google.com/github/iliya1984/DevML/blob/main/computer_vision/face_recognition/yale_face_recognition_LBPH.ipynb\" target=\"_parent\"><img src=\"https://colab.research.google.com/assets/colab-badge.svg\" alt=\"Open In Colab\"/></a>"
      ]
    },
    {
      "cell_type": "markdown",
      "source": [
        "# Face recognition using Local Binary Pattern Histogram algorithm"
      ],
      "metadata": {
        "id": "C0tDj_65NsGQ"
      }
    },
    {
      "cell_type": "markdown",
      "source": [
        "## Importing python libraries"
      ],
      "metadata": {
        "id": "4u5nuTN2N7V_"
      }
    },
    {
      "cell_type": "code",
      "execution_count": 69,
      "metadata": {
        "colab": {
          "base_uri": "https://localhost:8080/"
        },
        "id": "XDE5kegObfQk",
        "outputId": "8903b3a6-3f67-41ca-cfcd-8e71b34438e6"
      },
      "outputs": [
        {
          "output_type": "stream",
          "name": "stdout",
          "text": [
            "Drive already mounted at /content/drive; to attempt to forcibly remount, call drive.mount(\"/content/drive\", force_remount=True).\n"
          ]
        }
      ],
      "source": [
        "from PIL import Image\n",
        "import cv2\n",
        "import numpy as np\n",
        "\n",
        "import zipfile\n",
        "import os\n",
        "from os import path\n",
        "import random\n",
        "from sklearn.metrics import accuracy_score\n",
        "import json\n",
        "\n",
        "from google.colab.patches import cv2_imshow\n",
        "from google.colab import drive\n",
        "\n",
        "drive.mount('/content/drive')"
      ]
    },
    {
      "cell_type": "code",
      "source": [
        "%run '/content/drive/MyDrive/Workspace/Computer Vision/cv_common.ipynb'"
      ],
      "metadata": {
        "colab": {
          "base_uri": "https://localhost:8080/"
        },
        "id": "49-d2_UnEbMX",
        "outputId": "3c3da45b-c7e4-4d16-d40c-4ab4ae3ba1b9"
      },
      "execution_count": 70,
      "outputs": [
        {
          "output_type": "stream",
          "name": "stdout",
          "text": [
            "Common library was successfully loaded\n"
          ]
        }
      ]
    },
    {
      "cell_type": "markdown",
      "source": [
        "## Loading and extracting images"
      ],
      "metadata": {
        "id": "_SlOzG_wOSiu"
      }
    },
    {
      "cell_type": "code",
      "execution_count": 71,
      "metadata": {
        "id": "pBkgDc0wihpS"
      },
      "outputs": [],
      "source": [
        "train_zip_file_path = f'{datasets_directory}/yale_faces/train.zip'\n",
        "train_metadata_path = f'{datasets_directory}/yale_faces/train_metadata.json'\n",
        "test_zip_file_path = f'{datasets_directory}/yale_faces/test.zip'\n",
        "test_metadata_path =  f'{datasets_directory}/yale_faces/test_metadata.json'\n",
        "working_directory = './content/yale_face_recognition_LBPH'\n",
        "data_extract_path = f'{working_directory}/datasets'\n",
        "train_data_path = f'{data_extract_path}/train'\n",
        "test_data_path = f'{data_extract_path}/test'\n",
        "models_path = f'{working_directory}/models'\n",
        "model_yml_path = models_path + '/lbph_classifier.yml'"
      ]
    },
    {
      "cell_type": "code",
      "execution_count": 72,
      "metadata": {
        "id": "xV49z8Riellc",
        "colab": {
          "base_uri": "https://localhost:8080/"
        },
        "outputId": "6bd9a120-55db-4597-b339-8ff0c2d0b4d7"
      },
      "outputs": [
        {
          "output_type": "stream",
          "name": "stdout",
          "text": [
            "./content/yale_face_recognition_LBPH/datasets/train directory already exists\n"
          ]
        }
      ],
      "source": [
        "create_empty_directory(train_data_path)\n",
        "train_zipe_file = zipfile.ZipFile(file=train_zip_file_path, mode = 'r')\n",
        "train_zipe_file.extractall(train_data_path)\n",
        "train_zipe_file.close()"
      ]
    },
    {
      "cell_type": "code",
      "source": [
        "create_empty_directory(test_data_path)\n",
        "test_zipe_file = zipfile.ZipFile(file=test_zip_file_path, mode = 'r')\n",
        "test_zipe_file.extractall(test_data_path)\n",
        "test_zipe_file.close()"
      ],
      "metadata": {
        "colab": {
          "base_uri": "https://localhost:8080/"
        },
        "id": "YIRUn_cLd4uh",
        "outputId": "4a5aacd9-7d68-4c1a-e4d6-ee054e9c11c3"
      },
      "execution_count": 73,
      "outputs": [
        {
          "output_type": "stream",
          "name": "stdout",
          "text": [
            "./content/yale_face_recognition_LBPH/datasets/test directory already exists\n"
          ]
        }
      ]
    },
    {
      "cell_type": "code",
      "source": [
        "train_metadata = None\n",
        "with open(train_metadata_path) as json_file:\n",
        "    train_metadata = json.load(json_file)"
      ],
      "metadata": {
        "id": "uV-5wSqBfwKu"
      },
      "execution_count": 74,
      "outputs": []
    },
    {
      "cell_type": "code",
      "source": [
        "test_metadata = None\n",
        "with open(test_metadata_path) as json_file:\n",
        "    test_metadata = json.load(json_file)\n"
      ],
      "metadata": {
        "id": "NM_UXaUr6wge"
      },
      "execution_count": 75,
      "outputs": []
    },
    {
      "cell_type": "markdown",
      "source": [
        "## Defining helper classes"
      ],
      "metadata": {
        "id": "HSv4grq8OZo-"
      }
    },
    {
      "cell_type": "code",
      "execution_count": 76,
      "metadata": {
        "id": "QyPLOTxuiZFa"
      },
      "outputs": [],
      "source": [
        "class FaceImages:\n",
        "  def __init__(self):\n",
        "    self.images = []\n",
        "\n",
        "  def get_npimages(self):\n",
        "    images = []\n",
        "    for image in self.images:\n",
        "      np_image = image.image\n",
        "      images.append(np_image)\n",
        "    return images\n",
        "\n",
        "  def get_labels(self):\n",
        "    labels = []\n",
        "    for image in self.images:\n",
        "      label = image.label\n",
        "      labels.append(label)\n",
        "\n",
        "    return np.array(labels)\n",
        "\n",
        "class FaceImage:\n",
        "  def __init__(self, label, image):\n",
        "    self.label = label\n",
        "    self.image = image\n",
        "    self.prediction = None\n",
        "\n",
        "def get_image_paths(extract_path):\n",
        "  image_paths = os.listdir(extract_path)\n",
        "  invalid_paths = []\n",
        "  for path in image_paths:\n",
        "    if not (\"subject\" in path):\n",
        "      print(f'Invalid path \"{path}\"')\n",
        "      invalid_paths.append(path)\n",
        "\n",
        "  for path in invalid_paths:\n",
        "    image_paths.remove(path)\n",
        "    print(f'Removed path \"{path}\"')\n",
        "\n",
        "  return image_paths\n",
        "\n",
        "def get_image_metadata(image_name, metadata):\n",
        "  for image_metadata in metadata['images']:\n",
        "      if image_name == image_metadata['fileName']:\n",
        "        return image_metadata\n",
        "\n",
        "  raise Exception(f'No metadata was found for image {image_name}')\n",
        "\n",
        "def get_image_data(extract_path, metadata):\n",
        "  image_paths = get_image_paths(extract_path)\n",
        "  paths = [os.path.join(extract_path, f) for f in image_paths]\n",
        "  images = FaceImages()\n",
        "\n",
        "  for path in paths:\n",
        "    image = Image.open(path).convert('L')\n",
        "    image_np = np.array(image, 'uint8')\n",
        "\n",
        "    image_name = os.path.split(path)[1].replace('.jpeg', '')\n",
        "    image_metadata = get_image_metadata(image_name, metadata)\n",
        "\n",
        "    label = image_metadata['label']\n",
        "    images.images.append(FaceImage(label, image_np))\n",
        "\n",
        "  return images"
      ]
    },
    {
      "cell_type": "code",
      "execution_count": 77,
      "metadata": {
        "id": "aEU0AH2Ii8MZ"
      },
      "outputs": [],
      "source": [
        "train_set = get_image_data(train_data_path, train_metadata)\n",
        "test_set =  get_image_data(test_data_path, test_metadata)"
      ]
    },
    {
      "cell_type": "markdown",
      "source": [
        "## Previewing sample image"
      ],
      "metadata": {
        "id": "jJgJtPb0Kjmr"
      }
    },
    {
      "cell_type": "code",
      "source": [
        "sample_image = train_set.images[0]"
      ],
      "metadata": {
        "id": "WeTWkdgaKVE8"
      },
      "execution_count": 78,
      "outputs": []
    },
    {
      "cell_type": "code",
      "execution_count": 79,
      "metadata": {
        "id": "63VKc7Pg2E6B",
        "colab": {
          "base_uri": "https://localhost:8080/",
          "height": 277
        },
        "outputId": "532e7d88-9567-4088-c8e8-6c1222c1166d"
      },
      "outputs": [
        {
          "output_type": "stream",
          "name": "stdout",
          "text": [
            "Image label is \"9\"\n"
          ]
        },
        {
          "output_type": "display_data",
          "data": {
            "text/plain": [
              "<PIL.Image.Image image mode=L size=320x243>"
            ],
            "image/png": "[encoded data removed]"
          },
          "metadata": {}
        }
      ],
      "source": [
        "print(f'Image label is \"{sample_image.label}\"')\n",
        "cv2_imshow(sample_image.image)"
      ]
    },
    {
      "cell_type": "markdown",
      "source": [
        "## Training Local Binary Pattern Histogram classifier"
      ],
      "metadata": {
        "id": "U2xgKhQsMB0Q"
      }
    },
    {
      "cell_type": "code",
      "source": [
        "create_empty_directory(models_path)"
      ],
      "metadata": {
        "id": "vPdoVXRALUh8",
        "colab": {
          "base_uri": "https://localhost:8080/"
        },
        "outputId": "55bb6526-ee8e-4862-aac0-7a57d7bd4604"
      },
      "execution_count": 80,
      "outputs": [
        {
          "output_type": "stream",
          "name": "stdout",
          "text": [
            "./content/yale_face_recognition_LBPH/models directory already exists\n"
          ]
        }
      ]
    },
    {
      "cell_type": "code",
      "source": [
        "#lbph_classifier = cv2.face.LBPHFaceRecognizer_create(radius = 4, neighbors=14, grid_x = 9, grid_y = 9)\n",
        "lbph_classifier = cv2.face.LBPHFaceRecognizer_create(radius = 1, neighbors=3, grid_x = 2, grid_y = 2)"
      ],
      "metadata": {
        "id": "HbObQRUlNM3m"
      },
      "execution_count": 81,
      "outputs": []
    },
    {
      "cell_type": "code",
      "execution_count": 82,
      "metadata": {
        "id": "liKIgp-V7ceL"
      },
      "outputs": [],
      "source": [
        "lbph_classifier.train(train_set.get_npimages(), train_set.get_labels())\n",
        "lbph_classifier.write(model_yml_path)"
      ]
    },
    {
      "cell_type": "markdown",
      "source": [
        "## Sample test image prediction"
      ],
      "metadata": {
        "id": "bX5KWV9jMi9I"
      }
    },
    {
      "cell_type": "code",
      "execution_count": 83,
      "metadata": {
        "id": "Yx5DuP-d_jdi"
      },
      "outputs": [],
      "source": [
        "lbph_face_classifier = cv2.face.LBPHFaceRecognizer_create()\n",
        "lbph_face_classifier.read(model_yml_path)"
      ]
    },
    {
      "cell_type": "code",
      "execution_count": 84,
      "metadata": {
        "id": "z3jvsBw5MwcX",
        "colab": {
          "base_uri": "https://localhost:8080/"
        },
        "outputId": "46144c4c-6560-469f-dbfb-d53d391f3d9a"
      },
      "outputs": [
        {
          "output_type": "execute_result",
          "data": {
            "text/plain": [
              "(5, 0.003793496629469387)"
            ]
          },
          "metadata": {},
          "execution_count": 84
        }
      ],
      "source": [
        "test_image = test_set.images[0]\n",
        "prediction = lbph_face_classifier.predict(test_image.image)\n",
        "prediction"
      ]
    },
    {
      "cell_type": "code",
      "execution_count": 85,
      "metadata": {
        "id": "oOGJ5nhDNRzP",
        "colab": {
          "base_uri": "https://localhost:8080/"
        },
        "outputId": "fbdcfa4e-1ed2-48a1-de07-f1a266609b3f"
      },
      "outputs": [
        {
          "output_type": "execute_result",
          "data": {
            "text/plain": [
              "5"
            ]
          },
          "metadata": {},
          "execution_count": 85
        }
      ],
      "source": [
        "test_image.label"
      ]
    },
    {
      "cell_type": "code",
      "execution_count": 86,
      "metadata": {
        "id": "h5xJH84sifz6",
        "colab": {
          "base_uri": "https://localhost:8080/",
          "height": 260
        },
        "outputId": "4f665959-36b6-4bf3-efa6-8827bd3f07ed"
      },
      "outputs": [
        {
          "output_type": "display_data",
          "data": {
            "text/plain": [
              "<PIL.Image.Image image mode=L size=320x243>"
            ],
            "image/png": "[encoded data removed]"
          },
          "metadata": {}
        }
      ],
      "source": [
        "cv2.putText(test_image.image, 'Pred: ' + str(prediction[0]), (10, 30), cv2.FONT_HERSHEY_COMPLEX_SMALL, 1, (0,255,0))\n",
        "cv2.putText(test_image.image, 'Exp: ' + str(test_image.label), (10, 50), cv2.FONT_HERSHEY_COMPLEX_SMALL, 1, (0,255,0))\n",
        "cv2_imshow(test_image.image)"
      ]
    },
    {
      "cell_type": "markdown",
      "source": [
        "## Model evaluation"
      ],
      "metadata": {
        "id": "SJpaIlR3MqS3"
      }
    },
    {
      "cell_type": "code",
      "execution_count": 87,
      "metadata": {
        "id": "z7Jzp2DzrKH3"
      },
      "outputs": [],
      "source": [
        "def eveluate_model(lbph_face_classifier, test_set):\n",
        "  predictions = []\n",
        "  labels = []\n",
        "\n",
        "  for test_image in test_set.images:\n",
        "    prediction, _ = lbph_face_classifier.predict(test_image.image)\n",
        "    predictions.append(prediction)\n",
        "    labels.append(test_image.label)\n",
        "\n",
        "  predictions = np.array(predictions)\n",
        "  labels = np.array(labels)\n",
        "\n",
        "  return predictions, labels"
      ]
    },
    {
      "cell_type": "code",
      "execution_count": 88,
      "metadata": {
        "id": "idS64rHOsZq1",
        "colab": {
          "base_uri": "https://localhost:8080/"
        },
        "outputId": "c6bbeac0-5104-47d0-b7b2-b11eec146beb"
      },
      "outputs": [
        {
          "output_type": "stream",
          "name": "stdout",
          "text": [
            "Accuracy score is 0.7619\n"
          ]
        }
      ],
      "source": [
        "predictions, labels = eveluate_model(lbph_face_classifier, test_set)\n",
        "score = round(accuracy_score(labels, predictions), 4)\n",
        "print(f'Accuracy score is {score}')"
      ]
    },
    {
      "cell_type": "markdown",
      "source": [
        "## Hyperparameter tuning"
      ],
      "metadata": {
        "id": "GA7jWLH1OKht"
      }
    },
    {
      "cell_type": "code",
      "source": [
        "class ParamName:\n",
        "  ID = 'id'\n",
        "  RADIUS = 'radius'\n",
        "  NEIGHBORS = 'neighbors'\n",
        "  GRID_X = 'grid_x'\n",
        "  GRID_Y = 'grid_y'\n",
        "\n",
        "param_list = []\n",
        "\n",
        "param_bag = {}\n",
        "param_bag[ParamName.ID] = 1\n",
        "param_bag[ParamName.RADIUS] = 1\n",
        "param_bag[ParamName.NEIGHBORS] = 3\n",
        "param_bag[ParamName.GRID_X] = 2\n",
        "param_bag[ParamName.GRID_Y] = 2\n",
        "param_list.append(param_bag)\n",
        "\n",
        "param_bag = {}\n",
        "param_bag[ParamName.ID] = 2\n",
        "param_bag[ParamName.RADIUS] = 2\n",
        "param_bag[ParamName.NEIGHBORS] = 8\n",
        "param_bag[ParamName.GRID_X] = 5\n",
        "param_bag[ParamName.GRID_Y] = 5\n",
        "param_list.append(param_bag)\n",
        "\n",
        "param_bag = {}\n",
        "param_bag[ParamName.ID] = 3\n",
        "param_bag[ParamName.RADIUS] = 4\n",
        "param_bag[ParamName.NEIGHBORS] = 14\n",
        "param_bag[ParamName.GRID_X] = 9\n",
        "param_bag[ParamName.GRID_Y] = 9\n",
        "param_list.append(param_bag)"
      ],
      "metadata": {
        "id": "OM6QMuKTOJ5U"
      },
      "execution_count": 89,
      "outputs": []
    },
    {
      "cell_type": "code",
      "source": [
        "result_list = []\n",
        "\n",
        "for p in param_list:\n",
        "  model_file_path = models_path + f'/lbph_classifier_{p[ParamName.ID]}.yml'\n",
        "  lbph_classifier = cv2.face.LBPHFaceRecognizer_create(radius = p[ParamName.RADIUS], neighbors=p[ParamName.NEIGHBORS], grid_x = p[ParamName.GRID_X], grid_y = p[ParamName.GRID_Y])\n",
        "  lbph_classifier.train(train_set.get_npimages(), train_set.get_labels())\n",
        "  lbph_classifier.write(model_file_path)\n",
        "\n",
        "  lbph_face_classifier = cv2.face.LBPHFaceRecognizer_create()\n",
        "  lbph_face_classifier.read(model_file_path)\n",
        "\n",
        "  predictions, labels = eveluate_model(lbph_face_classifier, test_set)\n",
        "  score = round(accuracy_score(labels, predictions), 4)\n",
        "\n",
        "  result = {}\n",
        "  result['parameters'] = p\n",
        "  result['score'] = score\n",
        "  result_list.append(result)\n",
        "\n",
        "  print(f'Parameters for id={p[ParamName.ID]} were applied. Accuracy score={score*100}%')"
      ],
      "metadata": {
        "id": "5GZNcLF-Qjnq",
        "colab": {
          "base_uri": "https://localhost:8080/"
        },
        "outputId": "a3d4ac80-29cc-4d54-da21-c37185f44f9e"
      },
      "execution_count": 90,
      "outputs": [
        {
          "output_type": "stream",
          "name": "stdout",
          "text": [
            "Parameters for id=1 were applied. Accuracy score=76.19%\n",
            "Parameters for id=2 were applied. Accuracy score=83.33%\n",
            "Parameters for id=3 were applied. Accuracy score=92.86%\n"
          ]
        }
      ]
    },
    {
      "cell_type": "code",
      "source": [
        "def print_parameters(parameters):\n",
        "  print(f'Configuration Id={parameters[ParamName.ID]}')\n",
        "  print(f'Radius={parameters[ParamName.RADIUS]}')\n",
        "  print(f'Neighbors={parameters[ParamName.NEIGHBORS]}')\n",
        "  print(f'Grid X={parameters[ParamName.GRID_X]}')\n",
        "  print(f'Grid Y={parameters[ParamName.GRID_Y]}')\n",
        "\n",
        "def print_parameter_tuning_result(result):\n",
        "  print_parameters(result['parameters'])\n",
        "  score = result['score']\n",
        "  print(f'Accuracy score={score*100}%')\n",
        "  print('')\n",
        "\n",
        "print('Printing hyperparameter tuning results:')\n",
        "print('')\n",
        "\n",
        "for result in result_list:\n",
        "  print_parameter_tuning_result(result)"
      ],
      "metadata": {
        "id": "esZsLQrqQi4E",
        "colab": {
          "base_uri": "https://localhost:8080/"
        },
        "outputId": "cdf75cef-fc01-47d8-982c-44125e4c70cb"
      },
      "execution_count": 91,
      "outputs": [
        {
          "output_type": "stream",
          "name": "stdout",
          "text": [
            "Printing hyperparameter tuning results:\n",
            "\n",
            "Configuration Id=1\n",
            "Radius=1\n",
            "Neighbors=3\n",
            "Grid X=2\n",
            "Grid Y=2\n",
            "Accuracy score=76.19%\n",
            "\n",
            "Configuration Id=2\n",
            "Radius=2\n",
            "Neighbors=8\n",
            "Grid X=5\n",
            "Grid Y=5\n",
            "Accuracy score=83.33%\n",
            "\n",
            "Configuration Id=3\n",
            "Radius=4\n",
            "Neighbors=14\n",
            "Grid X=9\n",
            "Grid Y=9\n",
            "Accuracy score=92.86%\n",
            "\n"
          ]
        }
      ]
    },
    {
      "cell_type": "code",
      "source": [
        "best_result = None\n",
        "best_score = 0\n",
        "for r in result_list:\n",
        "    score = r['score']\n",
        "    if score > best_score:\n",
        "      best_score = score\n",
        "      best_result = r\n",
        "\n",
        "print('Hyperparameter tuning best result:')\n",
        "print('')\n",
        "print_parameter_tuning_result(best_result)\n"
      ],
      "metadata": {
        "id": "KR7eD3I5X3C0",
        "colab": {
          "base_uri": "https://localhost:8080/"
        },
        "outputId": "75c96d64-a601-425a-daaf-279782baf094"
      },
      "execution_count": 92,
      "outputs": [
        {
          "output_type": "stream",
          "name": "stdout",
          "text": [
            "Hyperparameter tuning best result:\n",
            "\n",
            "Configuration Id=3\n",
            "Radius=4\n",
            "Neighbors=14\n",
            "Grid X=9\n",
            "Grid Y=9\n",
            "Accuracy score=92.86%\n",
            "\n"
          ]
        }
      ]
    }
  ],
  "metadata": {
    "colab": {
      "provenance": [],
      "gpuType": "T4",
      "authorship_tag": "ABX9TyMVAptqU9UxFAq8ZQVaJ9Ad",
      "include_colab_link": true
    },
    "kernelspec": {
      "display_name": "Python 3",
      "name": "python3"
    },
    "language_info": {
      "name": "python"
    },
    "accelerator": "GPU"
  },
  "nbformat": 4,
  "nbformat_minor": 0
}