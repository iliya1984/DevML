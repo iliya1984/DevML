{
  "nbformat": 4,
  "nbformat_minor": 0,
  "metadata": {
    "colab": {
      "provenance": [],
      "authorship_tag": "ABX9TyOiPGGzdip7hjkhRT7MpZBU",
      "include_colab_link": true
    },
    "kernelspec": {
      "name": "python3",
      "display_name": "Python 3"
    },
    "language_info": {
      "name": "python"
    }
  },
  "cells": [
    {
      "cell_type": "markdown",
      "metadata": {
        "id": "view-in-github",
        "colab_type": "text"
      },
      "source": [
        "<a href=\"https://colab.research.google.com/github/iliya1984/DevML/blob/main/computer_vision/face_recognition/yale_dataset.ipynb\" target=\"_parent\"><img src=\"https://colab.research.google.com/assets/colab-badge.svg\" alt=\"Open In Colab\"/></a>"
      ]
    },
    {
      "cell_type": "code",
      "source": [
        "from PIL import Image\n",
        "import cv2\n",
        "import numpy as np\n",
        "\n",
        "import zipfile\n",
        "import os\n",
        "from os import path\n",
        "import json\n",
        "\n",
        "from google.colab import drive\n",
        "from google.colab.patches import cv2_imshow\n",
        "drive.mount('/content/drive')"
      ],
      "metadata": {
        "colab": {
          "base_uri": "https://localhost:8080/"
        },
        "id": "bmGDUBrcMjBS",
        "outputId": "82ed7eb9-5f12-4461-d933-541b6f471f90"
      },
      "execution_count": null,
      "outputs": [
        {
          "output_type": "stream",
          "name": "stdout",
          "text": [
            "Drive already mounted at /content/drive; to attempt to forcibly remount, call drive.mount(\"/content/drive\", force_remount=True).\n"
          ]
        }
      ]
    },
    {
      "cell_type": "code",
      "source": [
        "%run '/content/drive/MyDrive/Workspace/Computer Vision/cv_common.ipynb'"
      ],
      "metadata": {
        "colab": {
          "base_uri": "https://localhost:8080/"
        },
        "id": "TurIu4kyMg6K",
        "outputId": "c25adb8e-f9e0-41b5-f1ee-72afbda67a0b"
      },
      "execution_count": null,
      "outputs": [
        {
          "output_type": "stream",
          "name": "stdout",
          "text": [
            "Common library was successfully loaded\n"
          ]
        }
      ]
    },
    {
      "cell_type": "markdown",
      "source": [
        "## Load and extract directories definition\n"
      ],
      "metadata": {
        "id": "Efce-hLiMaAi"
      }
    },
    {
      "cell_type": "code",
      "source": [
        "train_zip_file_path = f'{datasets_directory}/yale_faces/train.zip'\n",
        "train_metadata_path = f'{datasets_directory}/yale_faces/train_metadata.json'\n",
        "test_zip_file_path = f'{datasets_directory}/yale_faces/test.zip'\n",
        "test_metadata_path =  f'{datasets_directory}/yale_faces/test_metadata.json'\n",
        "working_directory = './content/yale_faces'\n",
        "data_extract_path = f'{working_directory}/datasets'\n",
        "train_data_path = f'{data_extract_path}/train'\n",
        "test_data_path = f'{data_extract_path}/test'\n",
        "models_path = f'{working_directory}/models'\n",
        "model_yml_path = models_path + '/lbph_classifier.yml'"
      ],
      "metadata": {
        "id": "SrycGS9tMfo7"
      },
      "execution_count": null,
      "outputs": []
    },
    {
      "cell_type": "markdown",
      "source": [
        "## Load and extract training and test sets from zip files"
      ],
      "metadata": {
        "id": "jLkKAz4q6-20"
      }
    },
    {
      "cell_type": "code",
      "source": [
        "create_empty_directory(train_data_path)\n",
        "train_zipe_file = zipfile.ZipFile(file=train_zip_file_path, mode = 'r')\n",
        "train_zipe_file.extractall(train_data_path)\n",
        "train_zipe_file.close()"
      ],
      "metadata": {
        "id": "OKXC_4ZIMtMY",
        "colab": {
          "base_uri": "https://localhost:8080/"
        },
        "outputId": "22e46002-6c61-42fb-a9f4-4852368c8606"
      },
      "execution_count": null,
      "outputs": [
        {
          "output_type": "stream",
          "name": "stdout",
          "text": [
            "./content/yale_faces/datasets/train directory was created\n"
          ]
        }
      ]
    },
    {
      "cell_type": "code",
      "source": [
        "create_empty_directory(test_data_path)\n",
        "test_zipe_file = zipfile.ZipFile(file=test_zip_file_path, mode = 'r')\n",
        "test_zipe_file.extractall(test_data_path)\n",
        "test_zipe_file.close()"
      ],
      "metadata": {
        "id": "O6e0vKd_MvLX",
        "colab": {
          "base_uri": "https://localhost:8080/"
        },
        "outputId": "588afddc-a569-4109-8db0-f6e59a0b97d3"
      },
      "execution_count": null,
      "outputs": [
        {
          "output_type": "stream",
          "name": "stdout",
          "text": [
            "./content/yale_faces/datasets/test directory was created\n"
          ]
        }
      ]
    },
    {
      "cell_type": "markdown",
      "source": [
        "## Load metadata files"
      ],
      "metadata": {
        "id": "ODb4UCxe7Ntr"
      }
    },
    {
      "cell_type": "code",
      "source": [
        "train_metadata = None\n",
        "with open(train_metadata_path) as json_file:\n",
        "    train_metadata = json.load(json_file)"
      ],
      "metadata": {
        "id": "SFtDZRrXMw_H"
      },
      "execution_count": null,
      "outputs": []
    },
    {
      "cell_type": "code",
      "source": [
        "test_metadata = None\n",
        "with open(test_metadata_path) as json_file:\n",
        "    test_metadata = json.load(json_file)"
      ],
      "metadata": {
        "id": "mU_UosEKMylA"
      },
      "execution_count": null,
      "outputs": []
    },
    {
      "cell_type": "markdown",
      "source": [
        "## Defining helper classes"
      ],
      "metadata": {
        "id": "aSGNlEahM2DA"
      }
    },
    {
      "cell_type": "code",
      "source": [
        "class FaceImages:\n",
        "  def __init__(self):\n",
        "    self.images = []\n",
        "\n",
        "  def get_npimages(self):\n",
        "    images = []\n",
        "    for image in self.images:\n",
        "      np_image = image.image\n",
        "      images.append(np_image)\n",
        "    return images\n",
        "\n",
        "  def get_labels(self):\n",
        "    labels = []\n",
        "    for image in self.images:\n",
        "      label = image.label\n",
        "      labels.append(label)\n",
        "\n",
        "    return np.array(labels)\n",
        "\n",
        "class FaceImage:\n",
        "  def __init__(self, label, image):\n",
        "    self.label = label\n",
        "    self.image = image\n",
        "    self.prediction = None\n",
        "\n",
        "def get_image_paths(extract_path):\n",
        "  image_paths = os.listdir(extract_path)\n",
        "  invalid_paths = []\n",
        "  for path in image_paths:\n",
        "    if not (\"subject\" in path):\n",
        "      print(f'Invalid path \"{path}\"')\n",
        "      invalid_paths.append(path)\n",
        "\n",
        "  for path in invalid_paths:\n",
        "    image_paths.remove(path)\n",
        "    print(f'Removed path \"{path}\"')\n",
        "\n",
        "  return image_paths\n",
        "\n",
        "def get_image_metadata(image_name, metadata):\n",
        "  for image_metadata in metadata['images']:\n",
        "      if image_name == image_metadata['fileName']:\n",
        "        return image_metadata\n",
        "\n",
        "  raise Exception(f'No metadata was found for image {image_name}')\n",
        "\n",
        "def get_image_data(extract_path, metadata):\n",
        "  image_paths = get_image_paths(extract_path)\n",
        "  paths = [os.path.join(extract_path, f) for f in image_paths]\n",
        "  images = FaceImages()\n",
        "\n",
        "  for path in paths:\n",
        "    image = Image.open(path).convert('L')\n",
        "    image_np = np.array(image, 'uint8')\n",
        "\n",
        "    image_name = os.path.split(path)[1].replace('.jpeg', '')\n",
        "    image_metadata = get_image_metadata(image_name, metadata)\n",
        "\n",
        "    label = image_metadata['label']\n",
        "    images.images.append(FaceImage(label, image_np))\n",
        "\n",
        "  return images\n",
        "\n",
        "class YaleDataset:\n",
        "\n",
        "  def load(preview):\n",
        "    train_set = get_image_data(train_data_path, train_metadata)\n",
        "    test_set =  get_image_data(test_data_path, test_metadata)\n",
        "\n",
        "    if preview == True:\n",
        "      sample_image = train_set.images[0]\n",
        "      print(f'Image label is \"{sample_image.label}\"')\n",
        "      cv2_imshow(sample_image.image)\n",
        "\n",
        "    return train_set, test_set"
      ],
      "metadata": {
        "id": "VD_aRKtSMz7Y"
      },
      "execution_count": null,
      "outputs": []
    },
    {
      "cell_type": "markdown",
      "source": [
        "## Datasets load test"
      ],
      "metadata": {
        "id": "UkMCPepGNUxL"
      }
    },
    {
      "cell_type": "code",
      "source": [
        "#YaleDataset.load(preview=True)"
      ],
      "metadata": {
        "id": "e14VeDuINAee"
      },
      "execution_count": null,
      "outputs": []
    }
  ]
}