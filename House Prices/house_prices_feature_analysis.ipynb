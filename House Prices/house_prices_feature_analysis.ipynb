{
 "cells": [
  {
   "cell_type": "markdown",
   "id": "036c5ceb",
   "metadata": {},
   "source": [
    "## Importing Libraries"
   ]
  },
  {
   "cell_type": "code",
   "execution_count": 1073,
   "id": "63016b73",
   "metadata": {},
   "outputs": [],
   "source": [
    "import pandas as pd\n",
    "import numpy as np\n",
    "import seaborn as sns\n",
    "import pylab\n",
    "import scipy.stats as stats\n",
    "import statsmodels.api as sm\n",
    "import matplotlib.pyplot as plt\n",
    "\n",
    "from sklearn.impute import SimpleImputer"
   ]
  },
  {
   "cell_type": "markdown",
   "id": "d331d3dc",
   "metadata": {},
   "source": [
    "## Constant Declaration"
   ]
  },
  {
   "cell_type": "code",
   "execution_count": 1074,
   "id": "30e6a66c",
   "metadata": {},
   "outputs": [],
   "source": [
    "class FeatureCategory:\n",
    "    CATEGORICAL = 1\n",
    "    NUMERICAL = 2\n",
    "    ORDINAL = 3\n",
    "\n",
    "num_features = ['LotFrontage', 'LotArea', 'YearBuilt', 'YearRemodAdd', 'MasVnrArea', \\\n",
    "                'BsmtFinSF1', 'BsmtFinSF2', 'BsmtUnfSF', 'TotalBsmtSF', '1stFlrSF', \\\n",
    "                 '2ndFlrSF', 'LowQualFinSF', 'GrLivArea', 'BsmtFullBath', 'BsmtHalfBath', \\\n",
    "                 'FullBath', 'HalfBath', 'BedroomAbvGr', 'KitchenAbvGr', 'TotRmsAbvGrd', \\\n",
    "                 'Fireplaces', 'GarageYrBlt', 'GarageCars', 'GarageArea', 'WoodDeckSF', \\\n",
    "                 'OpenPorchSF', 'EnclosedPorch', '3SsnPorch', 'ScreenPorch', 'PoolArea', \\\n",
    "                 'MiscVal', 'MoSold', 'YrSold']\n",
    "\n",
    "cat_features = ['MSZoning', 'Street', 'Alley', \\\n",
    "                'LotShape', 'LandContour', 'Utilities', 'LotConfig', 'LandSlope', \\\n",
    "                'Neighborhood', 'Condition1', 'Condition2', 'BldgType', 'HouseStyle', \\\n",
    "                'RoofStyle', 'RoofMatl', 'Exterior1st', 'Exterior2nd', 'MasVnrType', \\\n",
    "                'ExterQual', 'ExterCond', 'Foundation', 'BsmtQual', 'BsmtCond', \\\n",
    "                'BsmtExposure','BsmtFinType1', 'BsmtFinType2', 'Heating', 'HeatingQC', \\\n",
    "                'CentralAir', 'Electrical', 'KitchenQual', 'Functional', 'FireplaceQu', \\\n",
    "                'GarageType', 'GarageFinish', 'GarageQual', 'GarageCond', 'PavedDrive', \\\n",
    "                'PoolQC', 'Fence', 'MiscFeature', 'SaleType', 'SaleCondition' ]\n",
    "\n",
    "ord_features = ['MSSubClass', 'OverallQual', 'OverallCond' ]\n"
   ]
  },
  {
   "cell_type": "markdown",
   "id": "db18e94b",
   "metadata": {},
   "source": [
    "## Classes"
   ]
  },
  {
   "cell_type": "code",
   "execution_count": 1075,
   "id": "cdd92965",
   "metadata": {},
   "outputs": [],
   "source": [
    "class FeatureAnalysis:\n",
    "    \n",
    "    def analyse_missing_features(self, df, feature_list, to_impute):\n",
    "        if (to_impute):\n",
    "            return df[feature_list] \\\n",
    "                    .isnull().mean() \\\n",
    "                    .loc[lambda x : x > 0] \\\n",
    "                    .sort_values(ascending=False)\n",
    "        else:\n",
    "            return df[feature_list] \\\n",
    "                    .isnull().mean() \\\n",
    "                    .loc[lambda x : x == 0] \\\n",
    "                    .sort_values(ascending=False)\n",
    "            \n",
    "            \n",
    "    \n",
    "    def unique_values(self, df, feature_name):\n",
    "        feature_values = df[feature_name].unique()\n",
    "        feature_values.sort()\n",
    "        return feature_values\n",
    "    \n",
    "    def draw_feature_plots(self, df, feature_name, target_name, is_categorical):\n",
    "        feature = df[feature_name]\n",
    "        fig, axs = plt.subplots(2, 2)\n",
    "        fig.suptitle(f'\"{feature_name}\" feature analysis')\n",
    "\n",
    "        axs[0, 0].hist(feature)\n",
    "        \n",
    "        if (is_categorical == False):\n",
    "            axs[0, 1].boxplot(feature)\n",
    "    \n",
    "        stats.probplot(df[feature_name], dist='norm', plot=axs[1, 0])\n",
    "        \n",
    "        if (not (target_name == '')):\n",
    "            axs[1, 1].scatter(feature, df[target_name])\n",
    "\n",
    "        plt.show()\n",
    "    "
   ]
  },
  {
   "cell_type": "markdown",
   "id": "89d0cb34",
   "metadata": {},
   "source": [
    "## Loading training and testing sets"
   ]
  },
  {
   "cell_type": "code",
   "execution_count": 1076,
   "id": "7b2c37ce",
   "metadata": {},
   "outputs": [
    {
     "data": {
      "text/html": [
       "<div>\n",
       "<style scoped>\n",
       "    .dataframe tbody tr th:only-of-type {\n",
       "        vertical-align: middle;\n",
       "    }\n",
       "\n",
       "    .dataframe tbody tr th {\n",
       "        vertical-align: top;\n",
       "    }\n",
       "\n",
       "    .dataframe thead th {\n",
       "        text-align: right;\n",
       "    }\n",
       "</style>\n",
       "<table border=\"1\" class=\"dataframe\">\n",
       "  <thead>\n",
       "    <tr style=\"text-align: right;\">\n",
       "      <th></th>\n",
       "      <th>Id</th>\n",
       "      <th>MSSubClass</th>\n",
       "      <th>MSZoning</th>\n",
       "      <th>LotFrontage</th>\n",
       "      <th>LotArea</th>\n",
       "      <th>Street</th>\n",
       "      <th>Alley</th>\n",
       "      <th>LotShape</th>\n",
       "      <th>LandContour</th>\n",
       "      <th>Utilities</th>\n",
       "      <th>...</th>\n",
       "      <th>PoolArea</th>\n",
       "      <th>PoolQC</th>\n",
       "      <th>Fence</th>\n",
       "      <th>MiscFeature</th>\n",
       "      <th>MiscVal</th>\n",
       "      <th>MoSold</th>\n",
       "      <th>YrSold</th>\n",
       "      <th>SaleType</th>\n",
       "      <th>SaleCondition</th>\n",
       "      <th>SalePrice</th>\n",
       "    </tr>\n",
       "  </thead>\n",
       "  <tbody>\n",
       "    <tr>\n",
       "      <th>0</th>\n",
       "      <td>1</td>\n",
       "      <td>60</td>\n",
       "      <td>RL</td>\n",
       "      <td>65.0</td>\n",
       "      <td>8450</td>\n",
       "      <td>Pave</td>\n",
       "      <td>NaN</td>\n",
       "      <td>Reg</td>\n",
       "      <td>Lvl</td>\n",
       "      <td>AllPub</td>\n",
       "      <td>...</td>\n",
       "      <td>0</td>\n",
       "      <td>NaN</td>\n",
       "      <td>NaN</td>\n",
       "      <td>NaN</td>\n",
       "      <td>0</td>\n",
       "      <td>2</td>\n",
       "      <td>2008</td>\n",
       "      <td>WD</td>\n",
       "      <td>Normal</td>\n",
       "      <td>208500</td>\n",
       "    </tr>\n",
       "    <tr>\n",
       "      <th>1</th>\n",
       "      <td>2</td>\n",
       "      <td>20</td>\n",
       "      <td>RL</td>\n",
       "      <td>80.0</td>\n",
       "      <td>9600</td>\n",
       "      <td>Pave</td>\n",
       "      <td>NaN</td>\n",
       "      <td>Reg</td>\n",
       "      <td>Lvl</td>\n",
       "      <td>AllPub</td>\n",
       "      <td>...</td>\n",
       "      <td>0</td>\n",
       "      <td>NaN</td>\n",
       "      <td>NaN</td>\n",
       "      <td>NaN</td>\n",
       "      <td>0</td>\n",
       "      <td>5</td>\n",
       "      <td>2007</td>\n",
       "      <td>WD</td>\n",
       "      <td>Normal</td>\n",
       "      <td>181500</td>\n",
       "    </tr>\n",
       "    <tr>\n",
       "      <th>2</th>\n",
       "      <td>3</td>\n",
       "      <td>60</td>\n",
       "      <td>RL</td>\n",
       "      <td>68.0</td>\n",
       "      <td>11250</td>\n",
       "      <td>Pave</td>\n",
       "      <td>NaN</td>\n",
       "      <td>IR1</td>\n",
       "      <td>Lvl</td>\n",
       "      <td>AllPub</td>\n",
       "      <td>...</td>\n",
       "      <td>0</td>\n",
       "      <td>NaN</td>\n",
       "      <td>NaN</td>\n",
       "      <td>NaN</td>\n",
       "      <td>0</td>\n",
       "      <td>9</td>\n",
       "      <td>2008</td>\n",
       "      <td>WD</td>\n",
       "      <td>Normal</td>\n",
       "      <td>223500</td>\n",
       "    </tr>\n",
       "    <tr>\n",
       "      <th>3</th>\n",
       "      <td>4</td>\n",
       "      <td>70</td>\n",
       "      <td>RL</td>\n",
       "      <td>60.0</td>\n",
       "      <td>9550</td>\n",
       "      <td>Pave</td>\n",
       "      <td>NaN</td>\n",
       "      <td>IR1</td>\n",
       "      <td>Lvl</td>\n",
       "      <td>AllPub</td>\n",
       "      <td>...</td>\n",
       "      <td>0</td>\n",
       "      <td>NaN</td>\n",
       "      <td>NaN</td>\n",
       "      <td>NaN</td>\n",
       "      <td>0</td>\n",
       "      <td>2</td>\n",
       "      <td>2006</td>\n",
       "      <td>WD</td>\n",
       "      <td>Abnorml</td>\n",
       "      <td>140000</td>\n",
       "    </tr>\n",
       "    <tr>\n",
       "      <th>4</th>\n",
       "      <td>5</td>\n",
       "      <td>60</td>\n",
       "      <td>RL</td>\n",
       "      <td>84.0</td>\n",
       "      <td>14260</td>\n",
       "      <td>Pave</td>\n",
       "      <td>NaN</td>\n",
       "      <td>IR1</td>\n",
       "      <td>Lvl</td>\n",
       "      <td>AllPub</td>\n",
       "      <td>...</td>\n",
       "      <td>0</td>\n",
       "      <td>NaN</td>\n",
       "      <td>NaN</td>\n",
       "      <td>NaN</td>\n",
       "      <td>0</td>\n",
       "      <td>12</td>\n",
       "      <td>2008</td>\n",
       "      <td>WD</td>\n",
       "      <td>Normal</td>\n",
       "      <td>250000</td>\n",
       "    </tr>\n",
       "  </tbody>\n",
       "</table>\n",
       "<p>5 rows × 81 columns</p>\n",
       "</div>"
      ],
      "text/plain": [
       "   Id  MSSubClass MSZoning  LotFrontage  LotArea Street Alley LotShape  \\\n",
       "0   1          60       RL         65.0     8450   Pave   NaN      Reg   \n",
       "1   2          20       RL         80.0     9600   Pave   NaN      Reg   \n",
       "2   3          60       RL         68.0    11250   Pave   NaN      IR1   \n",
       "3   4          70       RL         60.0     9550   Pave   NaN      IR1   \n",
       "4   5          60       RL         84.0    14260   Pave   NaN      IR1   \n",
       "\n",
       "  LandContour Utilities  ... PoolArea PoolQC Fence MiscFeature MiscVal MoSold  \\\n",
       "0         Lvl    AllPub  ...        0    NaN   NaN         NaN       0      2   \n",
       "1         Lvl    AllPub  ...        0    NaN   NaN         NaN       0      5   \n",
       "2         Lvl    AllPub  ...        0    NaN   NaN         NaN       0      9   \n",
       "3         Lvl    AllPub  ...        0    NaN   NaN         NaN       0      2   \n",
       "4         Lvl    AllPub  ...        0    NaN   NaN         NaN       0     12   \n",
       "\n",
       "  YrSold  SaleType  SaleCondition  SalePrice  \n",
       "0   2008        WD         Normal     208500  \n",
       "1   2007        WD         Normal     181500  \n",
       "2   2008        WD         Normal     223500  \n",
       "3   2006        WD        Abnorml     140000  \n",
       "4   2008        WD         Normal     250000  \n",
       "\n",
       "[5 rows x 81 columns]"
      ]
     },
     "execution_count": 1076,
     "metadata": {},
     "output_type": "execute_result"
    }
   ],
   "source": [
    "train_df = pd.read_csv('../datasets/house_prices/train.csv')\n",
    "train_df.head()"
   ]
  },
  {
   "cell_type": "code",
   "execution_count": 1077,
   "id": "b0a0799e",
   "metadata": {},
   "outputs": [
    {
     "data": {
      "text/html": [
       "<div>\n",
       "<style scoped>\n",
       "    .dataframe tbody tr th:only-of-type {\n",
       "        vertical-align: middle;\n",
       "    }\n",
       "\n",
       "    .dataframe tbody tr th {\n",
       "        vertical-align: top;\n",
       "    }\n",
       "\n",
       "    .dataframe thead th {\n",
       "        text-align: right;\n",
       "    }\n",
       "</style>\n",
       "<table border=\"1\" class=\"dataframe\">\n",
       "  <thead>\n",
       "    <tr style=\"text-align: right;\">\n",
       "      <th></th>\n",
       "      <th>Id</th>\n",
       "      <th>MSSubClass</th>\n",
       "      <th>MSZoning</th>\n",
       "      <th>LotFrontage</th>\n",
       "      <th>LotArea</th>\n",
       "      <th>Street</th>\n",
       "      <th>Alley</th>\n",
       "      <th>LotShape</th>\n",
       "      <th>LandContour</th>\n",
       "      <th>Utilities</th>\n",
       "      <th>...</th>\n",
       "      <th>ScreenPorch</th>\n",
       "      <th>PoolArea</th>\n",
       "      <th>PoolQC</th>\n",
       "      <th>Fence</th>\n",
       "      <th>MiscFeature</th>\n",
       "      <th>MiscVal</th>\n",
       "      <th>MoSold</th>\n",
       "      <th>YrSold</th>\n",
       "      <th>SaleType</th>\n",
       "      <th>SaleCondition</th>\n",
       "    </tr>\n",
       "  </thead>\n",
       "  <tbody>\n",
       "    <tr>\n",
       "      <th>0</th>\n",
       "      <td>1461</td>\n",
       "      <td>20</td>\n",
       "      <td>RH</td>\n",
       "      <td>80.0</td>\n",
       "      <td>11622</td>\n",
       "      <td>Pave</td>\n",
       "      <td>NaN</td>\n",
       "      <td>Reg</td>\n",
       "      <td>Lvl</td>\n",
       "      <td>AllPub</td>\n",
       "      <td>...</td>\n",
       "      <td>120</td>\n",
       "      <td>0</td>\n",
       "      <td>NaN</td>\n",
       "      <td>MnPrv</td>\n",
       "      <td>NaN</td>\n",
       "      <td>0</td>\n",
       "      <td>6</td>\n",
       "      <td>2010</td>\n",
       "      <td>WD</td>\n",
       "      <td>Normal</td>\n",
       "    </tr>\n",
       "    <tr>\n",
       "      <th>1</th>\n",
       "      <td>1462</td>\n",
       "      <td>20</td>\n",
       "      <td>RL</td>\n",
       "      <td>81.0</td>\n",
       "      <td>14267</td>\n",
       "      <td>Pave</td>\n",
       "      <td>NaN</td>\n",
       "      <td>IR1</td>\n",
       "      <td>Lvl</td>\n",
       "      <td>AllPub</td>\n",
       "      <td>...</td>\n",
       "      <td>0</td>\n",
       "      <td>0</td>\n",
       "      <td>NaN</td>\n",
       "      <td>NaN</td>\n",
       "      <td>Gar2</td>\n",
       "      <td>12500</td>\n",
       "      <td>6</td>\n",
       "      <td>2010</td>\n",
       "      <td>WD</td>\n",
       "      <td>Normal</td>\n",
       "    </tr>\n",
       "    <tr>\n",
       "      <th>2</th>\n",
       "      <td>1463</td>\n",
       "      <td>60</td>\n",
       "      <td>RL</td>\n",
       "      <td>74.0</td>\n",
       "      <td>13830</td>\n",
       "      <td>Pave</td>\n",
       "      <td>NaN</td>\n",
       "      <td>IR1</td>\n",
       "      <td>Lvl</td>\n",
       "      <td>AllPub</td>\n",
       "      <td>...</td>\n",
       "      <td>0</td>\n",
       "      <td>0</td>\n",
       "      <td>NaN</td>\n",
       "      <td>MnPrv</td>\n",
       "      <td>NaN</td>\n",
       "      <td>0</td>\n",
       "      <td>3</td>\n",
       "      <td>2010</td>\n",
       "      <td>WD</td>\n",
       "      <td>Normal</td>\n",
       "    </tr>\n",
       "    <tr>\n",
       "      <th>3</th>\n",
       "      <td>1464</td>\n",
       "      <td>60</td>\n",
       "      <td>RL</td>\n",
       "      <td>78.0</td>\n",
       "      <td>9978</td>\n",
       "      <td>Pave</td>\n",
       "      <td>NaN</td>\n",
       "      <td>IR1</td>\n",
       "      <td>Lvl</td>\n",
       "      <td>AllPub</td>\n",
       "      <td>...</td>\n",
       "      <td>0</td>\n",
       "      <td>0</td>\n",
       "      <td>NaN</td>\n",
       "      <td>NaN</td>\n",
       "      <td>NaN</td>\n",
       "      <td>0</td>\n",
       "      <td>6</td>\n",
       "      <td>2010</td>\n",
       "      <td>WD</td>\n",
       "      <td>Normal</td>\n",
       "    </tr>\n",
       "    <tr>\n",
       "      <th>4</th>\n",
       "      <td>1465</td>\n",
       "      <td>120</td>\n",
       "      <td>RL</td>\n",
       "      <td>43.0</td>\n",
       "      <td>5005</td>\n",
       "      <td>Pave</td>\n",
       "      <td>NaN</td>\n",
       "      <td>IR1</td>\n",
       "      <td>HLS</td>\n",
       "      <td>AllPub</td>\n",
       "      <td>...</td>\n",
       "      <td>144</td>\n",
       "      <td>0</td>\n",
       "      <td>NaN</td>\n",
       "      <td>NaN</td>\n",
       "      <td>NaN</td>\n",
       "      <td>0</td>\n",
       "      <td>1</td>\n",
       "      <td>2010</td>\n",
       "      <td>WD</td>\n",
       "      <td>Normal</td>\n",
       "    </tr>\n",
       "  </tbody>\n",
       "</table>\n",
       "<p>5 rows × 80 columns</p>\n",
       "</div>"
      ],
      "text/plain": [
       "     Id  MSSubClass MSZoning  LotFrontage  LotArea Street Alley LotShape  \\\n",
       "0  1461          20       RH         80.0    11622   Pave   NaN      Reg   \n",
       "1  1462          20       RL         81.0    14267   Pave   NaN      IR1   \n",
       "2  1463          60       RL         74.0    13830   Pave   NaN      IR1   \n",
       "3  1464          60       RL         78.0     9978   Pave   NaN      IR1   \n",
       "4  1465         120       RL         43.0     5005   Pave   NaN      IR1   \n",
       "\n",
       "  LandContour Utilities  ... ScreenPorch PoolArea PoolQC  Fence MiscFeature  \\\n",
       "0         Lvl    AllPub  ...         120        0    NaN  MnPrv         NaN   \n",
       "1         Lvl    AllPub  ...           0        0    NaN    NaN        Gar2   \n",
       "2         Lvl    AllPub  ...           0        0    NaN  MnPrv         NaN   \n",
       "3         Lvl    AllPub  ...           0        0    NaN    NaN         NaN   \n",
       "4         HLS    AllPub  ...         144        0    NaN    NaN         NaN   \n",
       "\n",
       "  MiscVal MoSold  YrSold  SaleType  SaleCondition  \n",
       "0       0      6    2010        WD         Normal  \n",
       "1   12500      6    2010        WD         Normal  \n",
       "2       0      3    2010        WD         Normal  \n",
       "3       0      6    2010        WD         Normal  \n",
       "4       0      1    2010        WD         Normal  \n",
       "\n",
       "[5 rows x 80 columns]"
      ]
     },
     "execution_count": 1077,
     "metadata": {},
     "output_type": "execute_result"
    }
   ],
   "source": [
    "test_df = pd.read_csv('../datasets/house_prices/test.csv')\n",
    "test_df.head()"
   ]
  },
  {
   "cell_type": "code",
   "execution_count": 1078,
   "id": "480c294c",
   "metadata": {},
   "outputs": [
    {
     "name": "stdout",
     "output_type": "stream",
     "text": [
      "Number of FEATURES = 79\n",
      "Number of ROWS = 1460\n",
      "Number of the NUMERICAL features = 33\n",
      "Number of the CATEGORICAL features = 43\n",
      "Number of the ORDINAL features = 3\n",
      "All FEATURES = ['Id' 'MSSubClass' 'MSZoning' 'LotFrontage' 'LotArea' 'Street' 'Alley'\n",
      " 'LotShape' 'LandContour' 'Utilities' 'LotConfig' 'LandSlope'\n",
      " 'Neighborhood' 'Condition1' 'Condition2' 'BldgType' 'HouseStyle'\n",
      " 'OverallQual' 'OverallCond' 'YearBuilt' 'YearRemodAdd' 'RoofStyle'\n",
      " 'RoofMatl' 'Exterior1st' 'Exterior2nd' 'MasVnrType' 'MasVnrArea'\n",
      " 'ExterQual' 'ExterCond' 'Foundation' 'BsmtQual' 'BsmtCond' 'BsmtExposure'\n",
      " 'BsmtFinType1' 'BsmtFinSF1' 'BsmtFinType2' 'BsmtFinSF2' 'BsmtUnfSF'\n",
      " 'TotalBsmtSF' 'Heating' 'HeatingQC' 'CentralAir' 'Electrical' '1stFlrSF'\n",
      " '2ndFlrSF' 'LowQualFinSF' 'GrLivArea' 'BsmtFullBath' 'BsmtHalfBath'\n",
      " 'FullBath' 'HalfBath' 'BedroomAbvGr' 'KitchenAbvGr' 'KitchenQual'\n",
      " 'TotRmsAbvGrd' 'Functional' 'Fireplaces' 'FireplaceQu' 'GarageType'\n",
      " 'GarageYrBlt' 'GarageFinish' 'GarageCars' 'GarageArea' 'GarageQual'\n",
      " 'GarageCond' 'PavedDrive' 'WoodDeckSF' 'OpenPorchSF' 'EnclosedPorch'\n",
      " '3SsnPorch' 'ScreenPorch' 'PoolArea' 'PoolQC' 'Fence' 'MiscFeature'\n",
      " 'MiscVal' 'MoSold' 'YrSold' 'SaleType' 'SaleCondition' 'SalePrice']\n"
     ]
    }
   ],
   "source": [
    "print('Number of FEATURES = ' + str(len(num_features) + len(cat_features) + len(ord_features)))\n",
    "print('Number of ROWS = ' + str(len(train_df)))\n",
    "print('Number of the NUMERICAL features = ' + str(len(num_features)))\n",
    "print('Number of the CATEGORICAL features = ' + str(len(cat_features)))\n",
    "print('Number of the ORDINAL features = ' + str(len(ord_features)))\n",
    "print('All FEATURES = ' + str(train_df.columns.values))"
   ]
  },
  {
   "cell_type": "code",
   "execution_count": 1079,
   "id": "63f16471",
   "metadata": {},
   "outputs": [],
   "source": [
    "fa = FeatureAnalysis()"
   ]
  },
  {
   "cell_type": "markdown",
   "id": "7f604ad6",
   "metadata": {},
   "source": [
    "## Feature imputation"
   ]
  },
  {
   "cell_type": "code",
   "execution_count": 1080,
   "id": "4e898b69",
   "metadata": {},
   "outputs": [],
   "source": [
    "imputed_features = []\n",
    "imputed_train_df = pd.DataFrame()\n",
    "median_imputer = SimpleImputer(missing_values=np.nan, strategy='median')\n",
    "frequent_cat_imputer = SimpleImputer(missing_values=np.NaN, strategy='most_frequent')"
   ]
  },
  {
   "cell_type": "code",
   "execution_count": 1081,
   "id": "1da37bd9",
   "metadata": {},
   "outputs": [
    {
     "name": "stdout",
     "output_type": "stream",
     "text": [
      "Number of impute features is: 30\n"
     ]
    },
    {
     "data": {
      "text/plain": [
       "LotFrontage    0.177397\n",
       "GarageYrBlt    0.055479\n",
       "MasVnrArea     0.005479\n",
       "dtype: float64"
      ]
     },
     "execution_count": 1081,
     "metadata": {},
     "output_type": "execute_result"
    }
   ],
   "source": [
    "num_features_to_impute = fa.analyse_missing_features(train_df, num_features, True)\n",
    "num_features_no_impute = fa.analyse_missing_features(train_df, num_features, False)\n",
    "\n",
    "imputed_train_df = pd.concat([imputed_train_df, train_df[num_features_no_impute.index]])\n",
    "imputed_features = imputed_features + num_features_no_impute.index.values.tolist()\n",
    "\n",
    "print(f'Number of impute features is: {len(imputed_features)}')\n",
    "num_features_to_impute"
   ]
  },
  {
   "cell_type": "code",
   "execution_count": 1082,
   "id": "eebd467e",
   "metadata": {},
   "outputs": [
    {
     "data": {
      "text/plain": [
       "1460"
      ]
     },
     "execution_count": 1082,
     "metadata": {},
     "output_type": "execute_result"
    }
   ],
   "source": [
    "len(imputed_train_df)"
   ]
  },
  {
   "cell_type": "code",
   "execution_count": 1083,
   "id": "6229d1ce",
   "metadata": {},
   "outputs": [
    {
     "data": {
      "text/html": [
       "<div>\n",
       "<style scoped>\n",
       "    .dataframe tbody tr th:only-of-type {\n",
       "        vertical-align: middle;\n",
       "    }\n",
       "\n",
       "    .dataframe tbody tr th {\n",
       "        vertical-align: top;\n",
       "    }\n",
       "\n",
       "    .dataframe thead th {\n",
       "        text-align: right;\n",
       "    }\n",
       "</style>\n",
       "<table border=\"1\" class=\"dataframe\">\n",
       "  <thead>\n",
       "    <tr style=\"text-align: right;\">\n",
       "      <th></th>\n",
       "      <th>LotArea</th>\n",
       "      <th>YearBuilt</th>\n",
       "      <th>MoSold</th>\n",
       "      <th>MiscVal</th>\n",
       "      <th>PoolArea</th>\n",
       "      <th>ScreenPorch</th>\n",
       "      <th>3SsnPorch</th>\n",
       "      <th>EnclosedPorch</th>\n",
       "      <th>OpenPorchSF</th>\n",
       "      <th>WoodDeckSF</th>\n",
       "      <th>...</th>\n",
       "      <th>1stFlrSF</th>\n",
       "      <th>TotalBsmtSF</th>\n",
       "      <th>BsmtUnfSF</th>\n",
       "      <th>BsmtFinSF2</th>\n",
       "      <th>BsmtFinSF1</th>\n",
       "      <th>YearRemodAdd</th>\n",
       "      <th>YrSold</th>\n",
       "      <th>LotFrontage</th>\n",
       "      <th>GarageYrBlt</th>\n",
       "      <th>MasVnrArea</th>\n",
       "    </tr>\n",
       "  </thead>\n",
       "  <tbody>\n",
       "    <tr>\n",
       "      <th>0</th>\n",
       "      <td>8450</td>\n",
       "      <td>2003</td>\n",
       "      <td>2</td>\n",
       "      <td>0</td>\n",
       "      <td>0</td>\n",
       "      <td>0</td>\n",
       "      <td>0</td>\n",
       "      <td>0</td>\n",
       "      <td>61</td>\n",
       "      <td>0</td>\n",
       "      <td>...</td>\n",
       "      <td>856</td>\n",
       "      <td>856</td>\n",
       "      <td>150</td>\n",
       "      <td>0</td>\n",
       "      <td>706</td>\n",
       "      <td>2003</td>\n",
       "      <td>2008</td>\n",
       "      <td>65.0</td>\n",
       "      <td>2003.0</td>\n",
       "      <td>196.0</td>\n",
       "    </tr>\n",
       "    <tr>\n",
       "      <th>1</th>\n",
       "      <td>9600</td>\n",
       "      <td>1976</td>\n",
       "      <td>5</td>\n",
       "      <td>0</td>\n",
       "      <td>0</td>\n",
       "      <td>0</td>\n",
       "      <td>0</td>\n",
       "      <td>0</td>\n",
       "      <td>0</td>\n",
       "      <td>298</td>\n",
       "      <td>...</td>\n",
       "      <td>1262</td>\n",
       "      <td>1262</td>\n",
       "      <td>284</td>\n",
       "      <td>0</td>\n",
       "      <td>978</td>\n",
       "      <td>1976</td>\n",
       "      <td>2007</td>\n",
       "      <td>80.0</td>\n",
       "      <td>1976.0</td>\n",
       "      <td>0.0</td>\n",
       "    </tr>\n",
       "    <tr>\n",
       "      <th>2</th>\n",
       "      <td>11250</td>\n",
       "      <td>2001</td>\n",
       "      <td>9</td>\n",
       "      <td>0</td>\n",
       "      <td>0</td>\n",
       "      <td>0</td>\n",
       "      <td>0</td>\n",
       "      <td>0</td>\n",
       "      <td>42</td>\n",
       "      <td>0</td>\n",
       "      <td>...</td>\n",
       "      <td>920</td>\n",
       "      <td>920</td>\n",
       "      <td>434</td>\n",
       "      <td>0</td>\n",
       "      <td>486</td>\n",
       "      <td>2002</td>\n",
       "      <td>2008</td>\n",
       "      <td>68.0</td>\n",
       "      <td>2001.0</td>\n",
       "      <td>162.0</td>\n",
       "    </tr>\n",
       "    <tr>\n",
       "      <th>3</th>\n",
       "      <td>9550</td>\n",
       "      <td>1915</td>\n",
       "      <td>2</td>\n",
       "      <td>0</td>\n",
       "      <td>0</td>\n",
       "      <td>0</td>\n",
       "      <td>0</td>\n",
       "      <td>272</td>\n",
       "      <td>35</td>\n",
       "      <td>0</td>\n",
       "      <td>...</td>\n",
       "      <td>961</td>\n",
       "      <td>756</td>\n",
       "      <td>540</td>\n",
       "      <td>0</td>\n",
       "      <td>216</td>\n",
       "      <td>1970</td>\n",
       "      <td>2006</td>\n",
       "      <td>60.0</td>\n",
       "      <td>1998.0</td>\n",
       "      <td>0.0</td>\n",
       "    </tr>\n",
       "    <tr>\n",
       "      <th>4</th>\n",
       "      <td>14260</td>\n",
       "      <td>2000</td>\n",
       "      <td>12</td>\n",
       "      <td>0</td>\n",
       "      <td>0</td>\n",
       "      <td>0</td>\n",
       "      <td>0</td>\n",
       "      <td>0</td>\n",
       "      <td>84</td>\n",
       "      <td>192</td>\n",
       "      <td>...</td>\n",
       "      <td>1145</td>\n",
       "      <td>1145</td>\n",
       "      <td>490</td>\n",
       "      <td>0</td>\n",
       "      <td>655</td>\n",
       "      <td>2000</td>\n",
       "      <td>2008</td>\n",
       "      <td>84.0</td>\n",
       "      <td>2000.0</td>\n",
       "      <td>350.0</td>\n",
       "    </tr>\n",
       "  </tbody>\n",
       "</table>\n",
       "<p>5 rows × 33 columns</p>\n",
       "</div>"
      ],
      "text/plain": [
       "   LotArea  YearBuilt  MoSold  MiscVal  PoolArea  ScreenPorch  3SsnPorch  \\\n",
       "0     8450       2003       2        0         0            0          0   \n",
       "1     9600       1976       5        0         0            0          0   \n",
       "2    11250       2001       9        0         0            0          0   \n",
       "3     9550       1915       2        0         0            0          0   \n",
       "4    14260       2000      12        0         0            0          0   \n",
       "\n",
       "   EnclosedPorch  OpenPorchSF  WoodDeckSF  ...  1stFlrSF  TotalBsmtSF  \\\n",
       "0              0           61           0  ...       856          856   \n",
       "1              0            0         298  ...      1262         1262   \n",
       "2              0           42           0  ...       920          920   \n",
       "3            272           35           0  ...       961          756   \n",
       "4              0           84         192  ...      1145         1145   \n",
       "\n",
       "   BsmtUnfSF  BsmtFinSF2  BsmtFinSF1  YearRemodAdd  YrSold  LotFrontage  \\\n",
       "0        150           0         706          2003    2008         65.0   \n",
       "1        284           0         978          1976    2007         80.0   \n",
       "2        434           0         486          2002    2008         68.0   \n",
       "3        540           0         216          1970    2006         60.0   \n",
       "4        490           0         655          2000    2008         84.0   \n",
       "\n",
       "   GarageYrBlt  MasVnrArea  \n",
       "0       2003.0       196.0  \n",
       "1       1976.0         0.0  \n",
       "2       2001.0       162.0  \n",
       "3       1998.0         0.0  \n",
       "4       2000.0       350.0  \n",
       "\n",
       "[5 rows x 33 columns]"
      ]
     },
     "execution_count": 1083,
     "metadata": {},
     "output_type": "execute_result"
    }
   ],
   "source": [
    "median_imputer.fit(train_df[num_features_to_impute.index])\n",
    "num_features_imputed = median_imputer.transform(train_df[num_features_to_impute.index])\n",
    "num_features_imputed_df = pd.DataFrame(num_features_imputed, columns=num_features_to_impute.index)\n",
    "\n",
    "for column in num_features_imputed_df.columns:\n",
    "    imputed_train_df[column] = num_features_imputed_df[column]\n",
    "    \n",
    "#print(str(len(imputed_train_df.columns)))\n",
    "imputed_train_df.head()"
   ]
  },
  {
   "cell_type": "code",
   "execution_count": 1084,
   "id": "077b32b7",
   "metadata": {},
   "outputs": [
    {
     "name": "stdout",
     "output_type": "stream",
     "text": [
      "All numberical features were imputed successfully\n",
      "Number of impute features is: 33\n"
     ]
    }
   ],
   "source": [
    " imputed_features = imputed_features + num_features_to_impute.index.values.tolist()\n",
    "num_features_to_impute = fa.analyse_missing_features(imputed_train_df, num_features, True)\n",
    "\n",
    "if(len(num_features_to_impute) == 0):\n",
    "    print('All numberical features were imputed successfully')\n",
    "else:\n",
    "    print('Warning ! Not all numberical features were imputed')\n",
    "    \n",
    "print(f'Number of impute features is: {len(imputed_features)}')"
   ]
  },
  {
   "cell_type": "code",
   "execution_count": 1085,
   "id": "efe98c62",
   "metadata": {},
   "outputs": [
    {
     "data": {
      "text/plain": [
       "Index(['MSZoning', 'Exterior1st', 'SaleType', 'PavedDrive', 'Functional',\n",
       "       'KitchenQual', 'CentralAir', 'HeatingQC', 'Heating', 'Foundation',\n",
       "       'ExterCond', 'ExterQual', 'Exterior2nd', 'RoofMatl', 'Street',\n",
       "       'RoofStyle', 'HouseStyle', 'BldgType', 'Condition2', 'Condition1',\n",
       "       'Neighborhood', 'LandSlope', 'LotConfig', 'Utilities', 'LandContour',\n",
       "       'LotShape', 'SaleCondition'],\n",
       "      dtype='object')"
      ]
     },
     "execution_count": 1085,
     "metadata": {},
     "output_type": "execute_result"
    }
   ],
   "source": [
    "cat_features_no_impute = fa.analyse_missing_features(train_df, cat_features, False)\n",
    "cat_features_no_impute.index"
   ]
  },
  {
   "cell_type": "code",
   "execution_count": 1086,
   "id": "3cbede6a",
   "metadata": {},
   "outputs": [
    {
     "data": {
      "text/plain": [
       "PoolQC          0.995205\n",
       "MiscFeature     0.963014\n",
       "Alley           0.937671\n",
       "Fence           0.807534\n",
       "FireplaceQu     0.472603\n",
       "GarageType      0.055479\n",
       "GarageFinish    0.055479\n",
       "GarageQual      0.055479\n",
       "GarageCond      0.055479\n",
       "BsmtExposure    0.026027\n",
       "BsmtFinType2    0.026027\n",
       "BsmtQual        0.025342\n",
       "BsmtCond        0.025342\n",
       "BsmtFinType1    0.025342\n",
       "MasVnrType      0.005479\n",
       "Electrical      0.000685\n",
       "dtype: float64"
      ]
     },
     "execution_count": 1086,
     "metadata": {},
     "output_type": "execute_result"
    }
   ],
   "source": [
    "#Printing all categorical features to impute\n",
    "cat_features_to_impute = fa.analyse_missing_features(train_df, cat_features, True)\n",
    "\n",
    "cat_features_no_impute = fa.analyse_missing_features(train_df, cat_features, False)\n",
    "\n",
    "for feature_name in cat_features_no_impute.index:\n",
    "    imputed_train_df[feature_name] = train_df[feature_name]\n",
    "\n",
    "cat_features_to_impute"
   ]
  },
  {
   "cell_type": "code",
   "execution_count": 1087,
   "id": "1e162992",
   "metadata": {},
   "outputs": [
    {
     "name": "stdout",
     "output_type": "stream",
     "text": [
      "Number of the not imputable feature is 5\n"
     ]
    },
    {
     "data": {
      "text/plain": [
       "GarageType      0.055479\n",
       "GarageFinish    0.055479\n",
       "GarageQual      0.055479\n",
       "GarageCond      0.055479\n",
       "BsmtExposure    0.026027\n",
       "BsmtFinType2    0.026027\n",
       "BsmtQual        0.025342\n",
       "BsmtCond        0.025342\n",
       "BsmtFinType1    0.025342\n",
       "MasVnrType      0.005479\n",
       "Electrical      0.000685\n",
       "dtype: float64"
      ]
     },
     "execution_count": 1087,
     "metadata": {},
     "output_type": "execute_result"
    }
   ],
   "source": [
    "#Dropping features such that missing value percent is greater than 20%\n",
    "not_imputable_cat_features = cat_features_to_impute.loc[lambda x : x >= 0.1]\n",
    "cat_features_to_impute = cat_features_to_impute.loc[lambda x : x < 0.1]\n",
    "\n",
    "print(f'Number of the not imputable feature is {len(not_imputable_cat_features)}')\n",
    "\n",
    "cat_features_to_impute"
   ]
  },
  {
   "cell_type": "code",
   "execution_count": 1088,
   "id": "f73db86a",
   "metadata": {},
   "outputs": [],
   "source": [
    "for feature_name in cat_features_to_impute.index:\n",
    "    \n",
    "    most_frequent_category = train_df[feature_name].mode()\n",
    "    imputed_train_df[feature_name] = train_df[feature_name]\n",
    "    imputed_train_df[imputed_train_df[feature_name].isnull()] = most_frequent_category[0]\n",
    "    "
   ]
  },
  {
   "cell_type": "code",
   "execution_count": 1089,
   "id": "7f4f8c63",
   "metadata": {},
   "outputs": [
    {
     "name": "stdout",
     "output_type": "stream",
     "text": [
      "All categorical features were imputed successfully\n"
     ]
    }
   ],
   "source": [
    "cat_features_to_impute = fa.analyse_missing_features(imputed_train_df, cat_features_to_impute.index, True)\n",
    "\n",
    "if(len(cat_features_to_impute) == 0):\n",
    "    print('All categorical features were imputed successfully')\n",
    "else:\n",
    "    print('Warning ! Not all categorical features were imputed')\n"
   ]
  },
  {
   "cell_type": "code",
   "execution_count": 1090,
   "id": "f3a935b1",
   "metadata": {
    "scrolled": true
   },
   "outputs": [
    {
     "name": "stdout",
     "output_type": "stream",
     "text": [
      "Listing not imputable categorical features\n"
     ]
    }
   ],
   "source": [
    "print('Listing not imputable categorical features')\n",
    "not_imputable_cat_feature_list = not_imputable_cat_features.index.values.tolist()\n"
   ]
  },
  {
   "cell_type": "code",
   "execution_count": 1091,
   "id": "117409a6",
   "metadata": {},
   "outputs": [
    {
     "name": "stdout",
     "output_type": "stream",
     "text": [
      "Number of impute features is: 71\n"
     ]
    }
   ],
   "source": [
    "imputed_cat_features = []\n",
    "\n",
    "for feature_name in cat_features:\n",
    "    if(not (feature_name in not_imputable_cat_feature_list)):\n",
    "        imputed_cat_features.append(feature_name)\n",
    "\n",
    "    \n",
    "imputed_features = imputed_features + imputed_cat_features\n",
    "print(f'Number of impute features is: {len(imputed_features)}')"
   ]
  },
  {
   "cell_type": "code",
   "execution_count": 1092,
   "id": "802a7818",
   "metadata": {},
   "outputs": [
    {
     "name": "stdout",
     "output_type": "stream",
     "text": [
      "No missing values were found for the ordinal features\n"
     ]
    }
   ],
   "source": [
    "ord_features_to_impute = fa.analyse_missing_features(train_df, ord_features, True)\n",
    "ord_features_no_impute = fa.analyse_missing_features(train_df, ord_features, False)\n",
    "\n",
    "if (len(ord_features_to_impute) == 0):\n",
    "    print('No missing values were found for the ordinal features')"
   ]
  },
  {
   "cell_type": "code",
   "execution_count": 1093,
   "id": "14667dcb",
   "metadata": {},
   "outputs": [
    {
     "name": "stdout",
     "output_type": "stream",
     "text": [
      "Number of impute features is: 74\n"
     ]
    }
   ],
   "source": [
    "# Ordinal features do not have missing values\n",
    "# Adding all ordinal features to the imputed dataframe\n",
    "\n",
    "for feature_name in ord_features_no_impute.index:\n",
    "    imputed_train_df[feature_name] = train_df[feature_name]\n",
    "    \n",
    "imputed_features = imputed_features + ord_features_no_impute.index.values.tolist()\n",
    "print(f'Number of impute features is: {len(imputed_features)}')"
   ]
  },
  {
   "cell_type": "code",
   "execution_count": 1094,
   "id": "57675837",
   "metadata": {},
   "outputs": [
    {
     "data": {
      "text/plain": [
       "Index(['LotArea', 'YearBuilt', 'MoSold', 'MiscVal', 'PoolArea', 'ScreenPorch',\n",
       "       '3SsnPorch', 'EnclosedPorch', 'OpenPorchSF', 'WoodDeckSF', 'GarageArea',\n",
       "       'GarageCars', 'Fireplaces', 'TotRmsAbvGrd', 'KitchenAbvGr',\n",
       "       'BedroomAbvGr', 'HalfBath', 'FullBath', 'BsmtHalfBath', 'BsmtFullBath',\n",
       "       'GrLivArea', 'LowQualFinSF', '2ndFlrSF', '1stFlrSF', 'TotalBsmtSF',\n",
       "       'BsmtUnfSF', 'BsmtFinSF2', 'BsmtFinSF1', 'YearRemodAdd', 'YrSold',\n",
       "       'LotFrontage', 'GarageYrBlt', 'MasVnrArea', 'MSZoning', 'Exterior1st',\n",
       "       'SaleType', 'PavedDrive', 'Functional', 'KitchenQual', 'CentralAir',\n",
       "       'HeatingQC', 'Heating', 'Foundation', 'ExterCond', 'ExterQual',\n",
       "       'Exterior2nd', 'RoofMatl', 'Street', 'RoofStyle', 'HouseStyle',\n",
       "       'BldgType', 'Condition2', 'Condition1', 'Neighborhood', 'LandSlope',\n",
       "       'LotConfig', 'Utilities', 'LandContour', 'LotShape', 'SaleCondition',\n",
       "       'GarageType', 'GarageFinish', 'GarageQual', 'GarageCond',\n",
       "       'BsmtExposure', 'BsmtFinType2', 'BsmtQual', 'BsmtCond', 'BsmtFinType1',\n",
       "       'MasVnrType', 'Electrical', 'MSSubClass', 'OverallQual', 'OverallCond'],\n",
       "      dtype='object')"
      ]
     },
     "execution_count": 1094,
     "metadata": {},
     "output_type": "execute_result"
    }
   ],
   "source": [
    "imputed_train_df.columns"
   ]
  },
  {
   "cell_type": "code",
   "execution_count": 1095,
   "id": "74937423",
   "metadata": {},
   "outputs": [
    {
     "data": {
      "text/plain": [
       "Text(0.5, 1.0, 'GarageType')"
      ]
     },
     "execution_count": 1095,
     "metadata": {},
     "output_type": "execute_result"
    },
    {
     "data": {
      "image/png": "[encoded data removed]",
      "text/plain": [
       "<Figure size 640x480 with 1 Axes>"
      ]
     },
     "metadata": {},
     "output_type": "display_data"
    },
    {
     "data": {
      "image/png": "[encoded data removed]",
      "text/plain": [
       "<Figure size 640x480 with 1 Axes>"
      ]
     },
     "metadata": {},
     "output_type": "display_data"
    }
   ],
   "source": [
    "#fa.draw_feature_plots(train_df, 'MasVnrArea', 'SalePrice', False)\n",
    "#stats.probplot(train_df['MSSubClass'], dist='norm', plot=plt)\n",
    "#plt.show()\n",
    "\n",
    "sns.histplot(train_df['GarageType'])\n",
    "#x = fa.unique_values(train_df, 'Exterior1st')\n",
    "#x.size\n",
    "\n",
    "most_frequent_category = train_df['GarageType'].mode()\n",
    "category_percent = (train_df.groupby('GarageType')['GarageType'].count() / len(train_df)).sort_values(ascending=False)\n",
    "category_percent\n",
    "\n",
    "temp_df = pd.DataFrame()\n",
    "temp_df['GarageType'] = train_df['GarageType']\n",
    "\n",
    "temp_df[temp_df['GarageType'].isnull()] = most_frequent_category\n",
    "\n",
    "sns.histplot(temp_df['GarageType'])\n",
    "\n",
    "temp_df['GarageType'].isnull().mean()\n",
    "\n",
    "\n",
    "fig = plt.figure()\n",
    "ax = fig.add_subplot(111)\n",
    "# select and plot houses with the most frequent label\n",
    "train_df[train_df['GarageType'] == 'Attchd']['SalePrice'].plot(kind='kde', ax=ax)\n",
    "# select and plot houses with missing data in the variable\n",
    "train_df[train_df['GarageType'].isnull()]['SalePrice'].plot(kind='kde', ax=ax, color='red')\n",
    "# add the legend\n",
    "lines, labels = ax.get_legend_handles_labels()\n",
    "labels = ['Houses with TA', 'Houses with NA']\n",
    "ax.legend(lines, labels, loc='best')\n",
    "# add figure title\n",
    "plt.title('GarageType')"
   ]
  }
 ],
 "metadata": {
  "kernelspec": {
   "display_name": "Python 3 (ipykernel)",
   "language": "python",
   "name": "python3"
  },
  "language_info": {
   "codemirror_mode": {
    "name": "ipython",
    "version": 3
   },
   "file_extension": ".py",
   "mimetype": "text/x-python",
   "name": "python",
   "nbconvert_exporter": "python",
   "pygments_lexer": "ipython3",
   "version": "3.11.1"
  }
 },
 "nbformat": 4,
 "nbformat_minor": 5
}
