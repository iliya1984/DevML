{
 "cells": [
  {
   "cell_type": "markdown",
   "id": "036c5ceb",
   "metadata": {},
   "source": [
    "## Importing Libraries"
   ]
  },
  {
   "cell_type": "code",
   "execution_count": 942,
   "id": "63016b73",
   "metadata": {},
   "outputs": [],
   "source": [
    "import pandas as pd\n",
    "import numpy as np\n",
    "\n",
    "import seaborn as sns\n",
    "import pylab\n",
    "import scipy.stats as stats\n",
    "import statsmodels.api as sm\n",
    "import matplotlib.pyplot as plt\n",
    "from sklearn.model_selection import train_test_split\n",
    "\n",
    "from sklearn.impute import SimpleImputer\n",
    "from feature_engine.encoding import RareLabelEncoder, OrdinalEncoder\n",
    "from sklearn.preprocessing import MinMaxScaler\n",
    "from sklearn.feature_selection import SelectFromModel\n",
    "from sklearn.linear_model import LinearRegression\n",
    "\n",
    "from sklearn.metrics import mean_squared_error, r2_score\n",
    "from sklearn.metrics import confusion_matrix\n",
    "\n",
    "import torch\n",
    "import torch.nn as nn\n",
    "import torch.nn.functional as F\n",
    "from torch.utils.data import DataLoader,TensorDataset\n",
    "\n",
    "from torcheval.metrics import R2Score\n",
    "\n",
    "import xgboost as xgb"
   ]
  },
  {
   "cell_type": "markdown",
   "id": "d331d3dc",
   "metadata": {},
   "source": [
    "## Constant Declaration"
   ]
  },
  {
   "cell_type": "code",
   "execution_count": 943,
   "id": "30e6a66c",
   "metadata": {},
   "outputs": [],
   "source": [
    "enable_diagnostics = False\n",
    "\n",
    "class FeatureCategory:\n",
    "    CATEGORICAL = 'CATEGORICAL'\n",
    "    NUMERICAL = 'NUMERICAL'\n",
    "    ORDINAL = 'ORDINAL',\n",
    "    ALL = 'ALL'\n",
    "\n",
    "target_name = 'SalePrice'\n",
    "\n",
    "num_features = ['LotFrontage', 'LotArea', 'YearBuilt', 'YearRemodAdd', 'MasVnrArea', \\\n",
    "                'BsmtFinSF1', 'BsmtFinSF2', 'BsmtUnfSF', 'TotalBsmtSF', '1stFlrSF', \\\n",
    "                 '2ndFlrSF', 'LowQualFinSF', 'GrLivArea', 'BsmtFullBath', 'BsmtHalfBath', \\\n",
    "                 'FullBath', 'HalfBath', 'BedroomAbvGr', 'KitchenAbvGr', 'TotRmsAbvGrd', \\\n",
    "                 'Fireplaces', 'GarageYrBlt', 'GarageCars', 'GarageArea', 'WoodDeckSF', \\\n",
    "                 'OpenPorchSF', 'EnclosedPorch', '3SsnPorch', 'ScreenPorch', 'PoolArea', \\\n",
    "                 'MiscVal', 'MoSold', 'YrSold']\n",
    "\n",
    "cat_features = ['MSZoning', 'Street', 'Alley', \\\n",
    "                'LotShape', 'LandContour', 'Utilities', 'LotConfig', 'LandSlope', \\\n",
    "                'Neighborhood', 'Condition1', 'Condition2', 'BldgType', 'HouseStyle', \\\n",
    "                'RoofStyle', 'RoofMatl', 'Exterior1st', 'Exterior2nd', 'MasVnrType', \\\n",
    "                'ExterQual', 'ExterCond', 'Foundation', 'BsmtQual', 'BsmtCond', \\\n",
    "                'BsmtExposure','BsmtFinType1', 'BsmtFinType2', 'Heating', 'HeatingQC', \\\n",
    "                'CentralAir', 'Electrical', 'KitchenQual', 'Functional', 'FireplaceQu', \\\n",
    "                'GarageType', 'GarageFinish', 'GarageQual', 'GarageCond', 'PavedDrive', \\\n",
    "                'PoolQC', 'Fence', 'MiscFeature', 'SaleType', 'SaleCondition' ]\n",
    "\n",
    "ord_features = ['MSSubClass', 'OverallQual', 'OverallCond' ]\n",
    "\n",
    "training_summary_columns = ['Algorithm', 'R2 Score', 'MSE']\n"
   ]
  },
  {
   "cell_type": "markdown",
   "id": "db18e94b",
   "metadata": {},
   "source": [
    "## Helper Classes"
   ]
  },
  {
   "cell_type": "code",
   "execution_count": 944,
   "id": "cdd92965",
   "metadata": {},
   "outputs": [],
   "source": [
    "class FeatureAnalysis:\n",
    "    \n",
    "    def __init__(self, logger):\n",
    "        self.logger = logger\n",
    "        self.__training_summary = pd.DataFrame(columns=training_summary_columns)\n",
    "    \n",
    "    def add_training_record(self, algorithm, r2score, mse):\n",
    "        \n",
    "        #row = { 'Algorithm' : algorithm, 'R2 Score' : r2score, 'MSE' : mse }\n",
    "        row = [  algorithm, r2score, mse]\n",
    "        #series = pd.Series(row, index=training_summary_columns, name=len(self.__training_summary))\n",
    "        #self.__training_summary.append(series)\n",
    "        self.__training_summary.loc[len(self.__training_summary)] = row\n",
    "    \n",
    "    def get_training_summary(self):\n",
    "        return self.__training_summary\n",
    "    \n",
    "    def assign_df(self, df, df_to_append):\n",
    "        for column in df_to_append.columns:\n",
    "            df[column] = df_to_append[column].values\n",
    "    \n",
    "    def has_features_to_impute(self, df, features, feature_category, is_test):\n",
    "        features_to_impute = self.analyse_missing_features(df, features, True)\n",
    "        \n",
    "        if (is_test):\n",
    "            set_type = 'test'\n",
    "        else:\n",
    "            set_type = 'train'\n",
    "        \n",
    "        if(len(features_to_impute) == 0):\n",
    "            print(f'All {set_type} {feature_category} features were imputed successfully')\n",
    "            return False\n",
    "        else:\n",
    "            print(f'Warning ! Not all {feature_category} features were imputed')\n",
    "            return True\n",
    "    \n",
    "    def validate_imputation(self, x_train, x_test, features):\n",
    "        features_to_impute = self.analyse_missing_features(x_train, features, True)\n",
    "        features_no_impute = self.analyse_missing_features(x_train, features, False)\n",
    "\n",
    "        test_features_to_impute = self.analyse_missing_features(x_test, features, True)\n",
    "        test_features_no_impute = self.analyse_missing_features(x_test, features, False)\n",
    "        \n",
    "        print(f'Number of train features to impute = {len(features_to_impute)}')\n",
    "        print(f'Number of train features without missing values = {len(features_no_impute)}')\n",
    "        print(f'Number of test features to impute = {len(test_features_to_impute)}')\n",
    "        print(f'Number of test features without missing values = {len(test_features_no_impute)}')\n",
    "        \n",
    "        if (not len(features_to_impute) == len(test_features_to_impute)):\n",
    "            print(f'Train and test feature number to impute is NOT the same')\n",
    "            return False\n",
    "        \n",
    "       \n",
    "        if (not features_to_impute.index.equals(test_features_to_impute.index)):\n",
    "            print(f'Train and test features to impute are NOT the same')\n",
    "            return False\n",
    "        \n",
    "        print('\\n')\n",
    "        return True\n",
    "        \n",
    "    \n",
    "    def analyse_missing_features(self, df, feature_list, to_impute):\n",
    "        if (to_impute):\n",
    "            return df[feature_list] \\\n",
    "                    .isnull().mean() \\\n",
    "                    .loc[lambda x : x > 0] \\\n",
    "                    .sort_values(ascending=False)\n",
    "        else:\n",
    "            return df[feature_list] \\\n",
    "                    .isnull().mean() \\\n",
    "                    .loc[lambda x : x == 0] \\\n",
    "                    .sort_values(ascending=False)\n",
    "            \n",
    "            \n",
    "    \n",
    "    def unique_values(self, df, feature_name):\n",
    "        feature_values = df[feature_name].unique()\n",
    "        feature_values.sort()\n",
    "        return feature_values\n",
    "    \n",
    "    def draw_feature_plots(self, df, feature_name, target_name, is_categorical):\n",
    "        feature = df[feature_name]\n",
    "        fig, axs = plt.subplots(2, 2)\n",
    "        fig.suptitle(f'\"{feature_name}\" feature analysis')\n",
    "\n",
    "        axs[0, 0].hist(feature)\n",
    "        \n",
    "        if (is_categorical == False):\n",
    "            axs[0, 1].boxplot(feature)\n",
    "    \n",
    "        stats.probplot(df[feature_name], dist='norm', plot=axs[1, 0])\n",
    "        \n",
    "        if (not (target_name == '')):\n",
    "            axs[1, 1].scatter(feature, df[target_name])\n",
    "\n",
    "        plt.show()\n",
    "\n",
    "    def draw_corr_matrix(self, feature_df, features, targets):\n",
    "        feature_df = feature_df[features].copy()\n",
    "        feature_df[target_name] = targets\n",
    "        feature_corr_df = feature_df.corr()\n",
    "        plt.figure(figsize=(12, 12))\n",
    "        sns.heatmap(data=feature_corr_df)\n",
    "     \n",
    "    def min_max_scale(self, data):\n",
    "        data_max = data.max()\n",
    "        data_min = data.min()\n",
    "        data_range = data_max - data_min\n",
    "\n",
    "        self.logger.trace(f'Target max = {data_max}')\n",
    "        self.logger.trace(f'Target min = {data_min}')\n",
    "        self.logger.trace(f'Target range = {data_range}')\n",
    "\n",
    "        scalled_data = (y_train - target_min) / target_range\n",
    "        return scalled_data\n",
    "    \n",
    "class Logger:\n",
    "    def __init__(self, enable_diagnostics):\n",
    "        self.enable_diagnostics = enable_diagnostics\n",
    "        \n",
    "    def error(self, error_message):\n",
    "        self.__log(f'\\033[91m{error_message}')\n",
    "    \n",
    "    def trace(self, message):\n",
    "        if self.enable_diagnostics:\n",
    "            self.__log(f'\\033[94m{message}')\n",
    "    \n",
    "    def info(self, message):\n",
    "        self.__log(f'\\033[92m{message}')\n",
    "        \n",
    "    def __log(self, message):\n",
    "         print(message)\n",
    "           \n",
    "logger = Logger(enable_diagnostics=enable_diagnostics)"
   ]
  },
  {
   "cell_type": "markdown",
   "id": "89d0cb34",
   "metadata": {},
   "source": [
    "## Loading training and testing sets"
   ]
  },
  {
   "cell_type": "code",
   "execution_count": 945,
   "id": "7b2c37ce",
   "metadata": {},
   "outputs": [
    {
     "data": {
      "text/html": [
       "<div>\n",
       "<style scoped>\n",
       "    .dataframe tbody tr th:only-of-type {\n",
       "        vertical-align: middle;\n",
       "    }\n",
       "\n",
       "    .dataframe tbody tr th {\n",
       "        vertical-align: top;\n",
       "    }\n",
       "\n",
       "    .dataframe thead th {\n",
       "        text-align: right;\n",
       "    }\n",
       "</style>\n",
       "<table border=\"1\" class=\"dataframe\">\n",
       "  <thead>\n",
       "    <tr style=\"text-align: right;\">\n",
       "      <th></th>\n",
       "      <th>Id</th>\n",
       "      <th>MSSubClass</th>\n",
       "      <th>MSZoning</th>\n",
       "      <th>LotFrontage</th>\n",
       "      <th>LotArea</th>\n",
       "      <th>Street</th>\n",
       "      <th>Alley</th>\n",
       "      <th>LotShape</th>\n",
       "      <th>LandContour</th>\n",
       "      <th>Utilities</th>\n",
       "      <th>...</th>\n",
       "      <th>PoolArea</th>\n",
       "      <th>PoolQC</th>\n",
       "      <th>Fence</th>\n",
       "      <th>MiscFeature</th>\n",
       "      <th>MiscVal</th>\n",
       "      <th>MoSold</th>\n",
       "      <th>YrSold</th>\n",
       "      <th>SaleType</th>\n",
       "      <th>SaleCondition</th>\n",
       "      <th>SalePrice</th>\n",
       "    </tr>\n",
       "  </thead>\n",
       "  <tbody>\n",
       "    <tr>\n",
       "      <th>0</th>\n",
       "      <td>1</td>\n",
       "      <td>60</td>\n",
       "      <td>RL</td>\n",
       "      <td>65.0</td>\n",
       "      <td>8450</td>\n",
       "      <td>Pave</td>\n",
       "      <td>NaN</td>\n",
       "      <td>Reg</td>\n",
       "      <td>Lvl</td>\n",
       "      <td>AllPub</td>\n",
       "      <td>...</td>\n",
       "      <td>0</td>\n",
       "      <td>NaN</td>\n",
       "      <td>NaN</td>\n",
       "      <td>NaN</td>\n",
       "      <td>0</td>\n",
       "      <td>2</td>\n",
       "      <td>2008</td>\n",
       "      <td>WD</td>\n",
       "      <td>Normal</td>\n",
       "      <td>208500</td>\n",
       "    </tr>\n",
       "    <tr>\n",
       "      <th>1</th>\n",
       "      <td>2</td>\n",
       "      <td>20</td>\n",
       "      <td>RL</td>\n",
       "      <td>80.0</td>\n",
       "      <td>9600</td>\n",
       "      <td>Pave</td>\n",
       "      <td>NaN</td>\n",
       "      <td>Reg</td>\n",
       "      <td>Lvl</td>\n",
       "      <td>AllPub</td>\n",
       "      <td>...</td>\n",
       "      <td>0</td>\n",
       "      <td>NaN</td>\n",
       "      <td>NaN</td>\n",
       "      <td>NaN</td>\n",
       "      <td>0</td>\n",
       "      <td>5</td>\n",
       "      <td>2007</td>\n",
       "      <td>WD</td>\n",
       "      <td>Normal</td>\n",
       "      <td>181500</td>\n",
       "    </tr>\n",
       "    <tr>\n",
       "      <th>2</th>\n",
       "      <td>3</td>\n",
       "      <td>60</td>\n",
       "      <td>RL</td>\n",
       "      <td>68.0</td>\n",
       "      <td>11250</td>\n",
       "      <td>Pave</td>\n",
       "      <td>NaN</td>\n",
       "      <td>IR1</td>\n",
       "      <td>Lvl</td>\n",
       "      <td>AllPub</td>\n",
       "      <td>...</td>\n",
       "      <td>0</td>\n",
       "      <td>NaN</td>\n",
       "      <td>NaN</td>\n",
       "      <td>NaN</td>\n",
       "      <td>0</td>\n",
       "      <td>9</td>\n",
       "      <td>2008</td>\n",
       "      <td>WD</td>\n",
       "      <td>Normal</td>\n",
       "      <td>223500</td>\n",
       "    </tr>\n",
       "    <tr>\n",
       "      <th>3</th>\n",
       "      <td>4</td>\n",
       "      <td>70</td>\n",
       "      <td>RL</td>\n",
       "      <td>60.0</td>\n",
       "      <td>9550</td>\n",
       "      <td>Pave</td>\n",
       "      <td>NaN</td>\n",
       "      <td>IR1</td>\n",
       "      <td>Lvl</td>\n",
       "      <td>AllPub</td>\n",
       "      <td>...</td>\n",
       "      <td>0</td>\n",
       "      <td>NaN</td>\n",
       "      <td>NaN</td>\n",
       "      <td>NaN</td>\n",
       "      <td>0</td>\n",
       "      <td>2</td>\n",
       "      <td>2006</td>\n",
       "      <td>WD</td>\n",
       "      <td>Abnorml</td>\n",
       "      <td>140000</td>\n",
       "    </tr>\n",
       "    <tr>\n",
       "      <th>4</th>\n",
       "      <td>5</td>\n",
       "      <td>60</td>\n",
       "      <td>RL</td>\n",
       "      <td>84.0</td>\n",
       "      <td>14260</td>\n",
       "      <td>Pave</td>\n",
       "      <td>NaN</td>\n",
       "      <td>IR1</td>\n",
       "      <td>Lvl</td>\n",
       "      <td>AllPub</td>\n",
       "      <td>...</td>\n",
       "      <td>0</td>\n",
       "      <td>NaN</td>\n",
       "      <td>NaN</td>\n",
       "      <td>NaN</td>\n",
       "      <td>0</td>\n",
       "      <td>12</td>\n",
       "      <td>2008</td>\n",
       "      <td>WD</td>\n",
       "      <td>Normal</td>\n",
       "      <td>250000</td>\n",
       "    </tr>\n",
       "  </tbody>\n",
       "</table>\n",
       "<p>5 rows × 81 columns</p>\n",
       "</div>"
      ],
      "text/plain": [
       "   Id  MSSubClass MSZoning  LotFrontage  LotArea Street Alley LotShape  \\\n",
       "0   1          60       RL         65.0     8450   Pave   NaN      Reg   \n",
       "1   2          20       RL         80.0     9600   Pave   NaN      Reg   \n",
       "2   3          60       RL         68.0    11250   Pave   NaN      IR1   \n",
       "3   4          70       RL         60.0     9550   Pave   NaN      IR1   \n",
       "4   5          60       RL         84.0    14260   Pave   NaN      IR1   \n",
       "\n",
       "  LandContour Utilities  ... PoolArea PoolQC Fence MiscFeature MiscVal MoSold  \\\n",
       "0         Lvl    AllPub  ...        0    NaN   NaN         NaN       0      2   \n",
       "1         Lvl    AllPub  ...        0    NaN   NaN         NaN       0      5   \n",
       "2         Lvl    AllPub  ...        0    NaN   NaN         NaN       0      9   \n",
       "3         Lvl    AllPub  ...        0    NaN   NaN         NaN       0      2   \n",
       "4         Lvl    AllPub  ...        0    NaN   NaN         NaN       0     12   \n",
       "\n",
       "  YrSold  SaleType  SaleCondition  SalePrice  \n",
       "0   2008        WD         Normal     208500  \n",
       "1   2007        WD         Normal     181500  \n",
       "2   2008        WD         Normal     223500  \n",
       "3   2006        WD        Abnorml     140000  \n",
       "4   2008        WD         Normal     250000  \n",
       "\n",
       "[5 rows x 81 columns]"
      ]
     },
     "execution_count": 945,
     "metadata": {},
     "output_type": "execute_result"
    }
   ],
   "source": [
    "train_df = pd.read_csv('../datasets/house_prices/train.csv')\n",
    "train_df.head()"
   ]
  },
  {
   "cell_type": "code",
   "execution_count": 946,
   "id": "2b0caee5",
   "metadata": {},
   "outputs": [],
   "source": [
    "x_train, x_test, y_train, y_test = train_test_split(train_df, train_df[target_name], test_size=0.3, random_state=123)"
   ]
  },
  {
   "cell_type": "code",
   "execution_count": 947,
   "id": "480c294c",
   "metadata": {},
   "outputs": [
    {
     "name": "stdout",
     "output_type": "stream",
     "text": [
      "\u001b[92mNumber of FEATURES = 79\n",
      "\u001b[92mNumber of ROWS = 1460\n",
      "\u001b[92mNumber of the NUMERICAL features = 33\n",
      "\u001b[92mNumber of the CATEGORICAL features = 43\n",
      "\u001b[92mNumber of the ORDINAL features = 3\n",
      "\u001b[92mTrain X dataset size = 1022\n",
      "\u001b[92mTest X dataset size = 438\n"
     ]
    }
   ],
   "source": [
    "logger.info('Number of FEATURES = ' + str(len(num_features) + len(cat_features) + len(ord_features)))\n",
    "logger.info('Number of ROWS = ' + str(len(train_df)))\n",
    "logger.info('Number of the NUMERICAL features = ' + str(len(num_features)))\n",
    "logger.info('Number of the CATEGORICAL features = ' + str(len(cat_features)))\n",
    "logger.info('Number of the ORDINAL features = ' + str(len(ord_features)))\n",
    "logger.info(f'Train X dataset size = {len(x_train)}')\n",
    "logger.info(f'Test X dataset size = {len(x_test)}')\n",
    "logger.trace('All FEATURES = ' + str(x_train.columns.values))"
   ]
  },
  {
   "cell_type": "code",
   "execution_count": 948,
   "id": "63f16471",
   "metadata": {},
   "outputs": [],
   "source": [
    "fa = FeatureAnalysis(logger=Logger(enable_diagnostics=enable_diagnostics))"
   ]
  },
  {
   "cell_type": "markdown",
   "id": "7f604ad6",
   "metadata": {},
   "source": [
    "## Feature imputation"
   ]
  },
  {
   "cell_type": "code",
   "execution_count": 949,
   "id": "4e898b69",
   "metadata": {},
   "outputs": [],
   "source": [
    "imputed_features = []\n",
    "imputed_train_df = pd.DataFrame()\n",
    "imputed_test_df = pd.DataFrame()\n",
    "median_imputer = SimpleImputer(missing_values=np.NaN, strategy='median')\n",
    "frequent_cat_imputer = SimpleImputer(missing_values=np.NaN, strategy='most_frequent')"
   ]
  },
  {
   "cell_type": "markdown",
   "id": "1974e339",
   "metadata": {},
   "source": [
    "### Numerical feature imputation"
   ]
  },
  {
   "cell_type": "code",
   "execution_count": 950,
   "id": "1da37bd9",
   "metadata": {},
   "outputs": [
    {
     "name": "stdout",
     "output_type": "stream",
     "text": [
      "Number of train features to impute = 3\n",
      "Number of train features without missing values = 30\n",
      "Number of test features to impute = 3\n",
      "Number of test features without missing values = 30\n",
      "\n",
      "\n",
      "\u001b[92mNumberical feature imputation is VALID\n"
     ]
    },
    {
     "data": {
      "text/plain": [
       "LotFrontage    0.159491\n",
       "GarageYrBlt    0.059687\n",
       "MasVnrArea     0.003914\n",
       "dtype: float64"
      ]
     },
     "execution_count": 950,
     "metadata": {},
     "output_type": "execute_result"
    }
   ],
   "source": [
    "num_features_to_impute = fa.analyse_missing_features(x_train, num_features, True)\n",
    "num_features_no_impute = fa.analyse_missing_features(x_train, num_features, False)\n",
    "\n",
    "is_valid = fa.validate_imputation(x_train, x_test, num_features)\n",
    "\n",
    "if(is_valid):\n",
    "    logger.info('Numberical feature imputation is VALID')\n",
    "else:\n",
    "    logger.error('Numerical feature imputaion ERROR')\n",
    "\n",
    "fa.assign_df(imputed_train_df, x_train[num_features_no_impute.index])\n",
    "fa.assign_df(imputed_test_df, x_test[num_features_no_impute.index])\n",
    "\n",
    "imputed_features = imputed_features + num_features_no_impute.index.values.tolist()\n",
    "\n",
    "logger.trace(f'Number of imputed features is: {len(imputed_features)}')\n",
    "num_features_to_impute"
   ]
  },
  {
   "cell_type": "code",
   "execution_count": 951,
   "id": "6229d1ce",
   "metadata": {},
   "outputs": [
    {
     "data": {
      "text/html": [
       "<div>\n",
       "<style scoped>\n",
       "    .dataframe tbody tr th:only-of-type {\n",
       "        vertical-align: middle;\n",
       "    }\n",
       "\n",
       "    .dataframe tbody tr th {\n",
       "        vertical-align: top;\n",
       "    }\n",
       "\n",
       "    .dataframe thead th {\n",
       "        text-align: right;\n",
       "    }\n",
       "</style>\n",
       "<table border=\"1\" class=\"dataframe\">\n",
       "  <thead>\n",
       "    <tr style=\"text-align: right;\">\n",
       "      <th></th>\n",
       "      <th>LotArea</th>\n",
       "      <th>YearBuilt</th>\n",
       "      <th>MoSold</th>\n",
       "      <th>MiscVal</th>\n",
       "      <th>PoolArea</th>\n",
       "      <th>ScreenPorch</th>\n",
       "      <th>3SsnPorch</th>\n",
       "      <th>EnclosedPorch</th>\n",
       "      <th>OpenPorchSF</th>\n",
       "      <th>WoodDeckSF</th>\n",
       "      <th>...</th>\n",
       "      <th>1stFlrSF</th>\n",
       "      <th>TotalBsmtSF</th>\n",
       "      <th>BsmtUnfSF</th>\n",
       "      <th>BsmtFinSF2</th>\n",
       "      <th>BsmtFinSF1</th>\n",
       "      <th>YearRemodAdd</th>\n",
       "      <th>YrSold</th>\n",
       "      <th>LotFrontage</th>\n",
       "      <th>GarageYrBlt</th>\n",
       "      <th>MasVnrArea</th>\n",
       "    </tr>\n",
       "  </thead>\n",
       "  <tbody>\n",
       "    <tr>\n",
       "      <th>0</th>\n",
       "      <td>8846</td>\n",
       "      <td>1996</td>\n",
       "      <td>7</td>\n",
       "      <td>0</td>\n",
       "      <td>0</td>\n",
       "      <td>0</td>\n",
       "      <td>0</td>\n",
       "      <td>0</td>\n",
       "      <td>0</td>\n",
       "      <td>0</td>\n",
       "      <td>...</td>\n",
       "      <td>914</td>\n",
       "      <td>870</td>\n",
       "      <td>572</td>\n",
       "      <td>0</td>\n",
       "      <td>298</td>\n",
       "      <td>1996</td>\n",
       "      <td>2006</td>\n",
       "      <td>57.0</td>\n",
       "      <td>1998.0</td>\n",
       "      <td>0.0</td>\n",
       "    </tr>\n",
       "    <tr>\n",
       "      <th>1</th>\n",
       "      <td>5350</td>\n",
       "      <td>1940</td>\n",
       "      <td>5</td>\n",
       "      <td>450</td>\n",
       "      <td>0</td>\n",
       "      <td>0</td>\n",
       "      <td>0</td>\n",
       "      <td>0</td>\n",
       "      <td>0</td>\n",
       "      <td>263</td>\n",
       "      <td>...</td>\n",
       "      <td>1306</td>\n",
       "      <td>728</td>\n",
       "      <td>728</td>\n",
       "      <td>0</td>\n",
       "      <td>0</td>\n",
       "      <td>1966</td>\n",
       "      <td>2010</td>\n",
       "      <td>55.0</td>\n",
       "      <td>1979.0</td>\n",
       "      <td>0.0</td>\n",
       "    </tr>\n",
       "    <tr>\n",
       "      <th>2</th>\n",
       "      <td>8521</td>\n",
       "      <td>1967</td>\n",
       "      <td>5</td>\n",
       "      <td>0</td>\n",
       "      <td>0</td>\n",
       "      <td>0</td>\n",
       "      <td>0</td>\n",
       "      <td>0</td>\n",
       "      <td>0</td>\n",
       "      <td>0</td>\n",
       "      <td>...</td>\n",
       "      <td>912</td>\n",
       "      <td>912</td>\n",
       "      <td>70</td>\n",
       "      <td>0</td>\n",
       "      <td>842</td>\n",
       "      <td>1967</td>\n",
       "      <td>2010</td>\n",
       "      <td>70.0</td>\n",
       "      <td>1974.0</td>\n",
       "      <td>0.0</td>\n",
       "    </tr>\n",
       "    <tr>\n",
       "      <th>3</th>\n",
       "      <td>8658</td>\n",
       "      <td>1965</td>\n",
       "      <td>12</td>\n",
       "      <td>0</td>\n",
       "      <td>0</td>\n",
       "      <td>0</td>\n",
       "      <td>0</td>\n",
       "      <td>0</td>\n",
       "      <td>138</td>\n",
       "      <td>0</td>\n",
       "      <td>...</td>\n",
       "      <td>1324</td>\n",
       "      <td>1088</td>\n",
       "      <td>445</td>\n",
       "      <td>0</td>\n",
       "      <td>643</td>\n",
       "      <td>1965</td>\n",
       "      <td>2006</td>\n",
       "      <td>84.0</td>\n",
       "      <td>1965.0</td>\n",
       "      <td>101.0</td>\n",
       "    </tr>\n",
       "    <tr>\n",
       "      <th>4</th>\n",
       "      <td>6762</td>\n",
       "      <td>2007</td>\n",
       "      <td>9</td>\n",
       "      <td>0</td>\n",
       "      <td>0</td>\n",
       "      <td>0</td>\n",
       "      <td>0</td>\n",
       "      <td>0</td>\n",
       "      <td>54</td>\n",
       "      <td>105</td>\n",
       "      <td>...</td>\n",
       "      <td>1208</td>\n",
       "      <td>1208</td>\n",
       "      <td>544</td>\n",
       "      <td>0</td>\n",
       "      <td>664</td>\n",
       "      <td>2007</td>\n",
       "      <td>2007</td>\n",
       "      <td>64.0</td>\n",
       "      <td>2007.0</td>\n",
       "      <td>108.0</td>\n",
       "    </tr>\n",
       "  </tbody>\n",
       "</table>\n",
       "<p>5 rows × 33 columns</p>\n",
       "</div>"
      ],
      "text/plain": [
       "   LotArea  YearBuilt  MoSold  MiscVal  PoolArea  ScreenPorch  3SsnPorch  \\\n",
       "0     8846       1996       7        0         0            0          0   \n",
       "1     5350       1940       5      450         0            0          0   \n",
       "2     8521       1967       5        0         0            0          0   \n",
       "3     8658       1965      12        0         0            0          0   \n",
       "4     6762       2007       9        0         0            0          0   \n",
       "\n",
       "   EnclosedPorch  OpenPorchSF  WoodDeckSF  ...  1stFlrSF  TotalBsmtSF  \\\n",
       "0              0            0           0  ...       914          870   \n",
       "1              0            0         263  ...      1306          728   \n",
       "2              0            0           0  ...       912          912   \n",
       "3              0          138           0  ...      1324         1088   \n",
       "4              0           54         105  ...      1208         1208   \n",
       "\n",
       "   BsmtUnfSF  BsmtFinSF2  BsmtFinSF1  YearRemodAdd  YrSold  LotFrontage  \\\n",
       "0        572           0         298          1996    2006         57.0   \n",
       "1        728           0           0          1966    2010         55.0   \n",
       "2         70           0         842          1967    2010         70.0   \n",
       "3        445           0         643          1965    2006         84.0   \n",
       "4        544           0         664          2007    2007         64.0   \n",
       "\n",
       "   GarageYrBlt  MasVnrArea  \n",
       "0       1998.0         0.0  \n",
       "1       1979.0         0.0  \n",
       "2       1974.0         0.0  \n",
       "3       1965.0       101.0  \n",
       "4       2007.0       108.0  \n",
       "\n",
       "[5 rows x 33 columns]"
      ]
     },
     "execution_count": 951,
     "metadata": {},
     "output_type": "execute_result"
    }
   ],
   "source": [
    "median_imputer.fit(x_train[num_features_to_impute.index])\n",
    "\n",
    "num_features_imputed = median_imputer.transform(x_train[num_features_to_impute.index])\n",
    "test_num_features_imputed = median_imputer.transform(x_test[num_features_to_impute.index])\n",
    "\n",
    "num_features_imputed_df = pd.DataFrame(num_features_imputed, columns=num_features_to_impute.index)\n",
    "test_num_features_imputed_df = pd.DataFrame(test_num_features_imputed, columns=num_features_to_impute.index)\n",
    "\n",
    "fa.assign_df(imputed_train_df, num_features_imputed_df)\n",
    "fa.assign_df(imputed_test_df, test_num_features_imputed_df)\n",
    "\n",
    "imputed_train_df.head()"
   ]
  },
  {
   "cell_type": "code",
   "execution_count": 952,
   "id": "077b32b7",
   "metadata": {},
   "outputs": [
    {
     "name": "stdout",
     "output_type": "stream",
     "text": [
      "All train NUMERICAL features were imputed successfully\n",
      "All test NUMERICAL features were imputed successfully\n"
     ]
    },
    {
     "data": {
      "text/plain": [
       "1022"
      ]
     },
     "execution_count": 952,
     "metadata": {},
     "output_type": "execute_result"
    }
   ],
   "source": [
    "imputed_features = imputed_features + num_features_to_impute.index.values.tolist()\n",
    "\n",
    "fa.has_features_to_impute(imputed_train_df, num_features, FeatureCategory.NUMERICAL, False)\n",
    "fa.has_features_to_impute(imputed_test_df, num_features, FeatureCategory.NUMERICAL, True)\n",
    "    \n",
    "logger.trace(f'Number of impute features is: {len(imputed_features)}')\n",
    "\n",
    "imputed_train_df.isnull().mean()[lambda x : x > 0]\n",
    "len(imputed_train_df)"
   ]
  },
  {
   "cell_type": "markdown",
   "id": "215e7009",
   "metadata": {},
   "source": [
    "### Categorical feature imputation"
   ]
  },
  {
   "cell_type": "code",
   "execution_count": 953,
   "id": "efe98c62",
   "metadata": {},
   "outputs": [
    {
     "data": {
      "text/plain": [
       "Index(['MSZoning', 'Exterior1st', 'SaleType', 'PavedDrive', 'Functional',\n",
       "       'KitchenQual', 'CentralAir', 'HeatingQC', 'Heating', 'Foundation',\n",
       "       'ExterCond', 'ExterQual', 'Exterior2nd', 'RoofMatl', 'Street',\n",
       "       'RoofStyle', 'HouseStyle', 'BldgType', 'Condition2', 'Condition1',\n",
       "       'Neighborhood', 'LandSlope', 'LotConfig', 'Utilities', 'LandContour',\n",
       "       'LotShape', 'SaleCondition'],\n",
       "      dtype='object')"
      ]
     },
     "execution_count": 953,
     "metadata": {},
     "output_type": "execute_result"
    }
   ],
   "source": [
    "cat_features_no_impute = fa.analyse_missing_features(x_train, cat_features, False)\n",
    "cat_features_no_impute.index"
   ]
  },
  {
   "cell_type": "code",
   "execution_count": 954,
   "id": "3cbede6a",
   "metadata": {},
   "outputs": [
    {
     "name": "stdout",
     "output_type": "stream",
     "text": [
      "Number of train features to impute = 16\n",
      "Number of train features without missing values = 27\n",
      "Number of test features to impute = 15\n",
      "Number of test features without missing values = 28\n",
      "Train and test feature number to impute is NOT the same\n",
      "\u001b[91mCategorical feature imputaion ERROR\n"
     ]
    },
    {
     "data": {
      "text/plain": [
       "PoolQC          0.995108\n",
       "MiscFeature     0.963796\n",
       "Alley           0.931507\n",
       "Fence           0.804305\n",
       "FireplaceQu     0.473581\n",
       "GarageType      0.059687\n",
       "GarageFinish    0.059687\n",
       "GarageQual      0.059687\n",
       "GarageCond      0.059687\n",
       "BsmtExposure    0.027397\n",
       "BsmtQual        0.026419\n",
       "BsmtCond        0.026419\n",
       "BsmtFinType1    0.026419\n",
       "BsmtFinType2    0.026419\n",
       "MasVnrType      0.003914\n",
       "Electrical      0.000978\n",
       "dtype: float64"
      ]
     },
     "execution_count": 954,
     "metadata": {},
     "output_type": "execute_result"
    }
   ],
   "source": [
    "#Printing all categorical features to impute\n",
    "cat_features_to_impute = fa.analyse_missing_features(x_train, cat_features, True)\n",
    "cat_features_no_impute = fa.analyse_missing_features(x_train, cat_features, False)\n",
    "\n",
    "is_valid = fa.validate_imputation(x_train, x_test, cat_features)\n",
    "\n",
    "if(is_valid):\n",
    "    logger.info('Categorical feature imputation is VALID')\n",
    "else:\n",
    "    logger.error('Categorical feature imputaion ERROR')\n",
    "\n",
    "fa.assign_df(imputed_train_df, x_train[cat_features_no_impute.index])\n",
    "fa.assign_df(imputed_test_df, x_test[cat_features_no_impute.index])\n",
    "\n",
    "cat_features_to_impute"
   ]
  },
  {
   "cell_type": "code",
   "execution_count": 955,
   "id": "1e162992",
   "metadata": {},
   "outputs": [
    {
     "data": {
      "text/plain": [
       "GarageType      0.059687\n",
       "GarageFinish    0.059687\n",
       "GarageQual      0.059687\n",
       "GarageCond      0.059687\n",
       "BsmtExposure    0.027397\n",
       "BsmtQual        0.026419\n",
       "BsmtCond        0.026419\n",
       "BsmtFinType1    0.026419\n",
       "BsmtFinType2    0.026419\n",
       "MasVnrType      0.003914\n",
       "Electrical      0.000978\n",
       "dtype: float64"
      ]
     },
     "execution_count": 955,
     "metadata": {},
     "output_type": "execute_result"
    }
   ],
   "source": [
    "#Dropping features such that missing value percent is greater than 20%\n",
    "not_imputable_cat_features = cat_features_to_impute.loc[lambda x : x >= 0.1]\n",
    "cat_features_to_impute = cat_features_to_impute.loc[lambda x : x < 0.1]\n",
    "\n",
    "logger.trace(f'Number of the not imputable feature is {len(not_imputable_cat_features)}')\n",
    "\n",
    "cat_features_to_impute"
   ]
  },
  {
   "cell_type": "code",
   "execution_count": 956,
   "id": "84d559d1",
   "metadata": {},
   "outputs": [],
   "source": [
    "for feature_name in cat_features_to_impute.index:\n",
    "    most_frequent_category = x_train[feature_name].mode()\n",
    "    \n",
    "    imputed_train_df[feature_name] = x_train[feature_name].values\n",
    "    imputed_train_df.loc[imputed_train_df[feature_name].isnull(), feature_name] = most_frequent_category[0]\n",
    "    \n",
    "    imputed_test_df[feature_name] = x_test[feature_name].values\n",
    "    imputed_test_df.loc[imputed_test_df[feature_name].isnull(), feature_name] = most_frequent_category[0]\n",
    "    "
   ]
  },
  {
   "cell_type": "code",
   "execution_count": 957,
   "id": "a1d9ca17",
   "metadata": {},
   "outputs": [
    {
     "data": {
      "text/plain": [
       "GarageType      0.059687\n",
       "GarageFinish    0.059687\n",
       "GarageQual      0.059687\n",
       "GarageCond      0.059687\n",
       "BsmtExposure    0.027397\n",
       "BsmtQual        0.026419\n",
       "BsmtCond        0.026419\n",
       "BsmtFinType1    0.026419\n",
       "BsmtFinType2    0.026419\n",
       "MasVnrType      0.003914\n",
       "Electrical      0.000978\n",
       "dtype: float64"
      ]
     },
     "execution_count": 957,
     "metadata": {},
     "output_type": "execute_result"
    }
   ],
   "source": [
    "cat_features_to_impute"
   ]
  },
  {
   "cell_type": "code",
   "execution_count": 958,
   "id": "f3a935b1",
   "metadata": {
    "scrolled": true
   },
   "outputs": [
    {
     "name": "stdout",
     "output_type": "stream",
     "text": [
      "\u001b[92mListing not imputable categorical features\n"
     ]
    }
   ],
   "source": [
    "logger.info('Listing not imputable categorical features')\n",
    "not_imputable_cat_feature_list = not_imputable_cat_features.index.values.tolist()\n"
   ]
  },
  {
   "cell_type": "code",
   "execution_count": 959,
   "id": "f30b47bb",
   "metadata": {},
   "outputs": [],
   "source": [
    "imputed_cat_features = []\n",
    "\n",
    "for feature_name in cat_features:\n",
    "    if(not (feature_name in not_imputable_cat_feature_list)):\n",
    "        imputed_cat_features.append(feature_name)\n",
    "\n",
    "    \n",
    "imputed_features = imputed_features + imputed_cat_features\n",
    "logger.trace(f'Number of impute features is: {len(imputed_features)}')"
   ]
  },
  {
   "cell_type": "code",
   "execution_count": 960,
   "id": "934b3671",
   "metadata": {},
   "outputs": [
    {
     "name": "stdout",
     "output_type": "stream",
     "text": [
      "All train CATEGORICAL features were imputed successfully\n",
      "All test CATEGORICAL features were imputed successfully\n"
     ]
    },
    {
     "data": {
      "text/plain": [
       "False"
      ]
     },
     "execution_count": 960,
     "metadata": {},
     "output_type": "execute_result"
    }
   ],
   "source": [
    "fa.has_features_to_impute(imputed_train_df, imputed_cat_features, FeatureCategory.CATEGORICAL, False)\n",
    "fa.has_features_to_impute(imputed_test_df, imputed_cat_features, FeatureCategory.CATEGORICAL, True)"
   ]
  },
  {
   "cell_type": "code",
   "execution_count": 961,
   "id": "201de874",
   "metadata": {},
   "outputs": [
    {
     "data": {
      "text/html": [
       "<div>\n",
       "<style scoped>\n",
       "    .dataframe tbody tr th:only-of-type {\n",
       "        vertical-align: middle;\n",
       "    }\n",
       "\n",
       "    .dataframe tbody tr th {\n",
       "        vertical-align: top;\n",
       "    }\n",
       "\n",
       "    .dataframe thead th {\n",
       "        text-align: right;\n",
       "    }\n",
       "</style>\n",
       "<table border=\"1\" class=\"dataframe\">\n",
       "  <thead>\n",
       "    <tr style=\"text-align: right;\">\n",
       "      <th></th>\n",
       "      <th>LotArea</th>\n",
       "      <th>YearBuilt</th>\n",
       "      <th>MoSold</th>\n",
       "      <th>MiscVal</th>\n",
       "      <th>PoolArea</th>\n",
       "      <th>ScreenPorch</th>\n",
       "      <th>3SsnPorch</th>\n",
       "      <th>EnclosedPorch</th>\n",
       "      <th>OpenPorchSF</th>\n",
       "      <th>WoodDeckSF</th>\n",
       "      <th>...</th>\n",
       "      <th>GarageFinish</th>\n",
       "      <th>GarageQual</th>\n",
       "      <th>GarageCond</th>\n",
       "      <th>BsmtExposure</th>\n",
       "      <th>BsmtQual</th>\n",
       "      <th>BsmtCond</th>\n",
       "      <th>BsmtFinType1</th>\n",
       "      <th>BsmtFinType2</th>\n",
       "      <th>MasVnrType</th>\n",
       "      <th>Electrical</th>\n",
       "    </tr>\n",
       "  </thead>\n",
       "  <tbody>\n",
       "    <tr>\n",
       "      <th>0</th>\n",
       "      <td>8846</td>\n",
       "      <td>1996</td>\n",
       "      <td>7</td>\n",
       "      <td>0</td>\n",
       "      <td>0</td>\n",
       "      <td>0</td>\n",
       "      <td>0</td>\n",
       "      <td>0</td>\n",
       "      <td>0</td>\n",
       "      <td>0</td>\n",
       "      <td>...</td>\n",
       "      <td>Unf</td>\n",
       "      <td>TA</td>\n",
       "      <td>TA</td>\n",
       "      <td>Av</td>\n",
       "      <td>Gd</td>\n",
       "      <td>TA</td>\n",
       "      <td>GLQ</td>\n",
       "      <td>Unf</td>\n",
       "      <td>None</td>\n",
       "      <td>SBrkr</td>\n",
       "    </tr>\n",
       "    <tr>\n",
       "      <th>1</th>\n",
       "      <td>5350</td>\n",
       "      <td>1940</td>\n",
       "      <td>5</td>\n",
       "      <td>450</td>\n",
       "      <td>0</td>\n",
       "      <td>0</td>\n",
       "      <td>0</td>\n",
       "      <td>0</td>\n",
       "      <td>0</td>\n",
       "      <td>263</td>\n",
       "      <td>...</td>\n",
       "      <td>Unf</td>\n",
       "      <td>TA</td>\n",
       "      <td>TA</td>\n",
       "      <td>No</td>\n",
       "      <td>TA</td>\n",
       "      <td>TA</td>\n",
       "      <td>Unf</td>\n",
       "      <td>Unf</td>\n",
       "      <td>None</td>\n",
       "      <td>SBrkr</td>\n",
       "    </tr>\n",
       "    <tr>\n",
       "      <th>2</th>\n",
       "      <td>8521</td>\n",
       "      <td>1967</td>\n",
       "      <td>5</td>\n",
       "      <td>0</td>\n",
       "      <td>0</td>\n",
       "      <td>0</td>\n",
       "      <td>0</td>\n",
       "      <td>0</td>\n",
       "      <td>0</td>\n",
       "      <td>0</td>\n",
       "      <td>...</td>\n",
       "      <td>Unf</td>\n",
       "      <td>TA</td>\n",
       "      <td>TA</td>\n",
       "      <td>No</td>\n",
       "      <td>TA</td>\n",
       "      <td>TA</td>\n",
       "      <td>ALQ</td>\n",
       "      <td>Unf</td>\n",
       "      <td>None</td>\n",
       "      <td>SBrkr</td>\n",
       "    </tr>\n",
       "    <tr>\n",
       "      <th>3</th>\n",
       "      <td>8658</td>\n",
       "      <td>1965</td>\n",
       "      <td>12</td>\n",
       "      <td>0</td>\n",
       "      <td>0</td>\n",
       "      <td>0</td>\n",
       "      <td>0</td>\n",
       "      <td>0</td>\n",
       "      <td>138</td>\n",
       "      <td>0</td>\n",
       "      <td>...</td>\n",
       "      <td>RFn</td>\n",
       "      <td>TA</td>\n",
       "      <td>TA</td>\n",
       "      <td>No</td>\n",
       "      <td>TA</td>\n",
       "      <td>TA</td>\n",
       "      <td>Rec</td>\n",
       "      <td>Unf</td>\n",
       "      <td>BrkFace</td>\n",
       "      <td>SBrkr</td>\n",
       "    </tr>\n",
       "    <tr>\n",
       "      <th>4</th>\n",
       "      <td>6762</td>\n",
       "      <td>2007</td>\n",
       "      <td>9</td>\n",
       "      <td>0</td>\n",
       "      <td>0</td>\n",
       "      <td>0</td>\n",
       "      <td>0</td>\n",
       "      <td>0</td>\n",
       "      <td>54</td>\n",
       "      <td>105</td>\n",
       "      <td>...</td>\n",
       "      <td>RFn</td>\n",
       "      <td>TA</td>\n",
       "      <td>TA</td>\n",
       "      <td>No</td>\n",
       "      <td>Gd</td>\n",
       "      <td>TA</td>\n",
       "      <td>GLQ</td>\n",
       "      <td>Unf</td>\n",
       "      <td>BrkFace</td>\n",
       "      <td>SBrkr</td>\n",
       "    </tr>\n",
       "  </tbody>\n",
       "</table>\n",
       "<p>5 rows × 71 columns</p>\n",
       "</div>"
      ],
      "text/plain": [
       "   LotArea  YearBuilt  MoSold  MiscVal  PoolArea  ScreenPorch  3SsnPorch  \\\n",
       "0     8846       1996       7        0         0            0          0   \n",
       "1     5350       1940       5      450         0            0          0   \n",
       "2     8521       1967       5        0         0            0          0   \n",
       "3     8658       1965      12        0         0            0          0   \n",
       "4     6762       2007       9        0         0            0          0   \n",
       "\n",
       "   EnclosedPorch  OpenPorchSF  WoodDeckSF  ...  GarageFinish  GarageQual  \\\n",
       "0              0            0           0  ...           Unf          TA   \n",
       "1              0            0         263  ...           Unf          TA   \n",
       "2              0            0           0  ...           Unf          TA   \n",
       "3              0          138           0  ...           RFn          TA   \n",
       "4              0           54         105  ...           RFn          TA   \n",
       "\n",
       "   GarageCond  BsmtExposure  BsmtQual  BsmtCond  BsmtFinType1  BsmtFinType2  \\\n",
       "0          TA            Av        Gd        TA           GLQ           Unf   \n",
       "1          TA            No        TA        TA           Unf           Unf   \n",
       "2          TA            No        TA        TA           ALQ           Unf   \n",
       "3          TA            No        TA        TA           Rec           Unf   \n",
       "4          TA            No        Gd        TA           GLQ           Unf   \n",
       "\n",
       "   MasVnrType  Electrical  \n",
       "0        None       SBrkr  \n",
       "1        None       SBrkr  \n",
       "2        None       SBrkr  \n",
       "3     BrkFace       SBrkr  \n",
       "4     BrkFace       SBrkr  \n",
       "\n",
       "[5 rows x 71 columns]"
      ]
     },
     "execution_count": 961,
     "metadata": {},
     "output_type": "execute_result"
    }
   ],
   "source": [
    "imputed_train_df.head()"
   ]
  },
  {
   "cell_type": "markdown",
   "id": "c0026e60",
   "metadata": {},
   "source": [
    "### Ordianl feature imputation"
   ]
  },
  {
   "cell_type": "code",
   "execution_count": 962,
   "id": "5584053e",
   "metadata": {},
   "outputs": [
    {
     "name": "stdout",
     "output_type": "stream",
     "text": [
      "\u001b[92mNo missing values were found for the ordinal features\n"
     ]
    }
   ],
   "source": [
    "ord_features_to_impute = fa.analyse_missing_features(x_train, ord_features, True)\n",
    "ord_features_no_impute = fa.analyse_missing_features(x_train, ord_features, False)\n",
    "\n",
    "if (len(ord_features_to_impute) == 0):\n",
    "    logger.info('No missing values were found for the ordinal features')"
   ]
  },
  {
   "cell_type": "code",
   "execution_count": 963,
   "id": "79c2f01b",
   "metadata": {},
   "outputs": [
    {
     "name": "stdout",
     "output_type": "stream",
     "text": [
      "All train ALL features were imputed successfully\n",
      "All test ALL features were imputed successfully\n"
     ]
    },
    {
     "data": {
      "text/plain": [
       "False"
      ]
     },
     "execution_count": 963,
     "metadata": {},
     "output_type": "execute_result"
    }
   ],
   "source": [
    "fa.has_features_to_impute(imputed_train_df, imputed_train_df.columns, FeatureCategory.ALL, False)\n",
    "fa.has_features_to_impute(imputed_test_df, imputed_test_df.columns, FeatureCategory.ALL, True)"
   ]
  },
  {
   "cell_type": "code",
   "execution_count": 964,
   "id": "749f5a95",
   "metadata": {},
   "outputs": [],
   "source": [
    "# Ordinal features do not have missing values\n",
    "# Adding all ordinal features to the imputed dataframe\n",
    "\n",
    "fa.assign_df(imputed_train_df, x_train[ord_features_no_impute.index])\n",
    "fa.assign_df(imputed_test_df, x_test[ord_features_no_impute.index])\n",
    "    \n",
    "imputed_features = imputed_features + ord_features_no_impute.index.values.tolist()\n",
    "logger.trace(f'Number of impute features is: {len(imputed_features)}')"
   ]
  },
  {
   "cell_type": "markdown",
   "id": "d628c78e",
   "metadata": {},
   "source": [
    "## Categorical feature encoding"
   ]
  },
  {
   "cell_type": "markdown",
   "id": "9d7aa14a",
   "metadata": {},
   "source": [
    "### Rare categories handling"
   ]
  },
  {
   "cell_type": "code",
   "execution_count": 965,
   "id": "4b2ef7e1",
   "metadata": {},
   "outputs": [],
   "source": [
    "for feature_name in imputed_cat_features:\n",
    "    feature_cat_info = imputed_train_df.groupby(feature_name)[feature_name].count() / len(imputed_train_df)\n",
    "    feature_cat_info = feature_cat_info.sort_values(ascending=False)\n",
    "    \n",
    "    all_cat_number = len(feature_cat_info)\n",
    "    rare_cat_number = len(feature_cat_info.loc[lambda x : x > 0.05])\n",
    "    non_rare_cat_number = all_cat_number - rare_cat_number\n",
    "\n",
    "    logger.trace(f'Feature \"{feature_name}\" has {rare_cat_number} rare categories and {non_rare_cat_number} NON rare') "
   ]
  },
  {
   "cell_type": "code",
   "execution_count": 966,
   "id": "2063fac1",
   "metadata": {},
   "outputs": [
    {
     "name": "stderr",
     "output_type": "stream",
     "text": [
      "C:\\Users\\inahshan\\Anaconda3\\envs\\jupyterenv\\lib\\site-packages\\feature_engine\\encoding\\rare_label.py:199: UserWarning: The number of unique categories for variable Street is less than that indicated in n_categories. Thus, all categories will be considered frequent\n",
      "  warnings.warn(\n",
      "C:\\Users\\inahshan\\Anaconda3\\envs\\jupyterenv\\lib\\site-packages\\feature_engine\\encoding\\rare_label.py:199: UserWarning: The number of unique categories for variable Utilities is less than that indicated in n_categories. Thus, all categories will be considered frequent\n",
      "  warnings.warn(\n",
      "C:\\Users\\inahshan\\Anaconda3\\envs\\jupyterenv\\lib\\site-packages\\feature_engine\\encoding\\rare_label.py:199: UserWarning: The number of unique categories for variable CentralAir is less than that indicated in n_categories. Thus, all categories will be considered frequent\n",
      "  warnings.warn(\n"
     ]
    }
   ],
   "source": [
    "rare_label_encoder = RareLabelEncoder(tol=0.05, n_categories=2, variables=imputed_cat_features, replace_with='Rare')\n",
    "rare_label_encoder.fit(imputed_train_df[imputed_cat_features])\n",
    "\n",
    "rare_cat_encoded_df = rare_label_encoder.transform(imputed_train_df[imputed_cat_features])\n",
    "test_rare_cat_encoded_df = rare_label_encoder.transform(imputed_test_df[imputed_cat_features])\n",
    "\n",
    "fa.assign_df(imputed_train_df, rare_cat_encoded_df[imputed_cat_features])\n",
    "fa.assign_df(imputed_test_df, test_rare_cat_encoded_df[imputed_cat_features])"
   ]
  },
  {
   "cell_type": "markdown",
   "id": "7aba6772",
   "metadata": {},
   "source": [
    "### Categorical feature encoding"
   ]
  },
  {
   "cell_type": "code",
   "execution_count": 967,
   "id": "868e9309",
   "metadata": {},
   "outputs": [],
   "source": [
    "cat_encoder = OrdinalEncoder(encoding_method='ordered', variables=imputed_cat_features)"
   ]
  },
  {
   "cell_type": "code",
   "execution_count": 968,
   "id": "10e6adab",
   "metadata": {},
   "outputs": [],
   "source": [
    "y_train.index = imputed_train_df.index\n",
    "\n",
    "cat_encoder.fit(imputed_train_df, y_train)\n",
    "\n",
    "imputed_train_df = cat_encoder.transform(imputed_train_df)\n",
    "imputed_test_df = cat_encoder.transform(imputed_test_df)"
   ]
  },
  {
   "cell_type": "code",
   "execution_count": 969,
   "id": "a5847cb9",
   "metadata": {},
   "outputs": [
    {
     "data": {
      "text/html": [
       "<div>\n",
       "<style scoped>\n",
       "    .dataframe tbody tr th:only-of-type {\n",
       "        vertical-align: middle;\n",
       "    }\n",
       "\n",
       "    .dataframe tbody tr th {\n",
       "        vertical-align: top;\n",
       "    }\n",
       "\n",
       "    .dataframe thead th {\n",
       "        text-align: right;\n",
       "    }\n",
       "</style>\n",
       "<table border=\"1\" class=\"dataframe\">\n",
       "  <thead>\n",
       "    <tr style=\"text-align: right;\">\n",
       "      <th></th>\n",
       "      <th>MSZoning</th>\n",
       "      <th>Street</th>\n",
       "      <th>LotShape</th>\n",
       "      <th>LandContour</th>\n",
       "      <th>Utilities</th>\n",
       "      <th>LotConfig</th>\n",
       "      <th>LandSlope</th>\n",
       "      <th>Neighborhood</th>\n",
       "      <th>Condition1</th>\n",
       "      <th>Condition2</th>\n",
       "      <th>...</th>\n",
       "      <th>Electrical</th>\n",
       "      <th>KitchenQual</th>\n",
       "      <th>Functional</th>\n",
       "      <th>GarageType</th>\n",
       "      <th>GarageFinish</th>\n",
       "      <th>GarageQual</th>\n",
       "      <th>GarageCond</th>\n",
       "      <th>PavedDrive</th>\n",
       "      <th>SaleType</th>\n",
       "      <th>SaleCondition</th>\n",
       "    </tr>\n",
       "  </thead>\n",
       "  <tbody>\n",
       "    <tr>\n",
       "      <th>0</th>\n",
       "      <td>2</td>\n",
       "      <td>1</td>\n",
       "      <td>1</td>\n",
       "      <td>0</td>\n",
       "      <td>1</td>\n",
       "      <td>2</td>\n",
       "      <td>0</td>\n",
       "      <td>5</td>\n",
       "      <td>2</td>\n",
       "      <td>1</td>\n",
       "      <td>...</td>\n",
       "      <td>2</td>\n",
       "      <td>1</td>\n",
       "      <td>1</td>\n",
       "      <td>0</td>\n",
       "      <td>0</td>\n",
       "      <td>1</td>\n",
       "      <td>1</td>\n",
       "      <td>2</td>\n",
       "      <td>1</td>\n",
       "      <td>2</td>\n",
       "    </tr>\n",
       "    <tr>\n",
       "      <th>1</th>\n",
       "      <td>2</td>\n",
       "      <td>1</td>\n",
       "      <td>1</td>\n",
       "      <td>0</td>\n",
       "      <td>1</td>\n",
       "      <td>0</td>\n",
       "      <td>0</td>\n",
       "      <td>4</td>\n",
       "      <td>2</td>\n",
       "      <td>1</td>\n",
       "      <td>...</td>\n",
       "      <td>2</td>\n",
       "      <td>0</td>\n",
       "      <td>0</td>\n",
       "      <td>2</td>\n",
       "      <td>0</td>\n",
       "      <td>1</td>\n",
       "      <td>1</td>\n",
       "      <td>2</td>\n",
       "      <td>1</td>\n",
       "      <td>2</td>\n",
       "    </tr>\n",
       "    <tr>\n",
       "      <th>2</th>\n",
       "      <td>2</td>\n",
       "      <td>1</td>\n",
       "      <td>0</td>\n",
       "      <td>0</td>\n",
       "      <td>1</td>\n",
       "      <td>2</td>\n",
       "      <td>0</td>\n",
       "      <td>4</td>\n",
       "      <td>0</td>\n",
       "      <td>1</td>\n",
       "      <td>...</td>\n",
       "      <td>2</td>\n",
       "      <td>1</td>\n",
       "      <td>1</td>\n",
       "      <td>0</td>\n",
       "      <td>0</td>\n",
       "      <td>1</td>\n",
       "      <td>1</td>\n",
       "      <td>2</td>\n",
       "      <td>1</td>\n",
       "      <td>2</td>\n",
       "    </tr>\n",
       "    <tr>\n",
       "      <th>3</th>\n",
       "      <td>2</td>\n",
       "      <td>1</td>\n",
       "      <td>0</td>\n",
       "      <td>0</td>\n",
       "      <td>1</td>\n",
       "      <td>0</td>\n",
       "      <td>0</td>\n",
       "      <td>2</td>\n",
       "      <td>2</td>\n",
       "      <td>1</td>\n",
       "      <td>...</td>\n",
       "      <td>2</td>\n",
       "      <td>1</td>\n",
       "      <td>1</td>\n",
       "      <td>2</td>\n",
       "      <td>1</td>\n",
       "      <td>1</td>\n",
       "      <td>1</td>\n",
       "      <td>2</td>\n",
       "      <td>1</td>\n",
       "      <td>1</td>\n",
       "    </tr>\n",
       "    <tr>\n",
       "      <th>4</th>\n",
       "      <td>2</td>\n",
       "      <td>1</td>\n",
       "      <td>0</td>\n",
       "      <td>0</td>\n",
       "      <td>1</td>\n",
       "      <td>0</td>\n",
       "      <td>0</td>\n",
       "      <td>5</td>\n",
       "      <td>2</td>\n",
       "      <td>1</td>\n",
       "      <td>...</td>\n",
       "      <td>2</td>\n",
       "      <td>2</td>\n",
       "      <td>1</td>\n",
       "      <td>2</td>\n",
       "      <td>1</td>\n",
       "      <td>1</td>\n",
       "      <td>1</td>\n",
       "      <td>2</td>\n",
       "      <td>2</td>\n",
       "      <td>3</td>\n",
       "    </tr>\n",
       "  </tbody>\n",
       "</table>\n",
       "<p>5 rows × 38 columns</p>\n",
       "</div>"
      ],
      "text/plain": [
       "   MSZoning  Street  LotShape  LandContour  Utilities  LotConfig  LandSlope  \\\n",
       "0         2       1         1            0          1          2          0   \n",
       "1         2       1         1            0          1          0          0   \n",
       "2         2       1         0            0          1          2          0   \n",
       "3         2       1         0            0          1          0          0   \n",
       "4         2       1         0            0          1          0          0   \n",
       "\n",
       "   Neighborhood  Condition1  Condition2  ...  Electrical  KitchenQual  \\\n",
       "0             5           2           1  ...           2            1   \n",
       "1             4           2           1  ...           2            0   \n",
       "2             4           0           1  ...           2            1   \n",
       "3             2           2           1  ...           2            1   \n",
       "4             5           2           1  ...           2            2   \n",
       "\n",
       "   Functional  GarageType  GarageFinish  GarageQual  GarageCond  PavedDrive  \\\n",
       "0           1           0             0           1           1           2   \n",
       "1           0           2             0           1           1           2   \n",
       "2           1           0             0           1           1           2   \n",
       "3           1           2             1           1           1           2   \n",
       "4           1           2             1           1           1           2   \n",
       "\n",
       "   SaleType  SaleCondition  \n",
       "0         1              2  \n",
       "1         1              2  \n",
       "2         1              2  \n",
       "3         1              1  \n",
       "4         2              3  \n",
       "\n",
       "[5 rows x 38 columns]"
      ]
     },
     "execution_count": 969,
     "metadata": {},
     "output_type": "execute_result"
    }
   ],
   "source": [
    "imputed_train_df[imputed_cat_features].head()"
   ]
  },
  {
   "cell_type": "markdown",
   "id": "b3cf2a44",
   "metadata": {},
   "source": [
    "## Feature Scalling"
   ]
  },
  {
   "cell_type": "code",
   "execution_count": 970,
   "id": "e85525ae",
   "metadata": {},
   "outputs": [],
   "source": [
    "scaler = MinMaxScaler()"
   ]
  },
  {
   "cell_type": "code",
   "execution_count": 971,
   "id": "c29f5e9d",
   "metadata": {},
   "outputs": [
    {
     "data": {
      "text/html": [
       "<style>#sk-container-id-18 {color: black;background-color: white;}#sk-container-id-18 pre{padding: 0;}#sk-container-id-18 div.sk-toggleable {background-color: white;}#sk-container-id-18 label.sk-toggleable__label {cursor: pointer;display: block;width: 100%;margin-bottom: 0;padding: 0.3em;box-sizing: border-box;text-align: center;}#sk-container-id-18 label.sk-toggleable__label-arrow:before {content: \"▸\";float: left;margin-right: 0.25em;color: #696969;}#sk-container-id-18 label.sk-toggleable__label-arrow:hover:before {color: black;}#sk-container-id-18 div.sk-estimator:hover label.sk-toggleable__label-arrow:before {color: black;}#sk-container-id-18 div.sk-toggleable__content {max-height: 0;max-width: 0;overflow: hidden;text-align: left;background-color: #f0f8ff;}#sk-container-id-18 div.sk-toggleable__content pre {margin: 0.2em;color: black;border-radius: 0.25em;background-color: #f0f8ff;}#sk-container-id-18 input.sk-toggleable__control:checked~div.sk-toggleable__content {max-height: 200px;max-width: 100%;overflow: auto;}#sk-container-id-18 input.sk-toggleable__control:checked~label.sk-toggleable__label-arrow:before {content: \"▾\";}#sk-container-id-18 div.sk-estimator input.sk-toggleable__control:checked~label.sk-toggleable__label {background-color: #d4ebff;}#sk-container-id-18 div.sk-label input.sk-toggleable__control:checked~label.sk-toggleable__label {background-color: #d4ebff;}#sk-container-id-18 input.sk-hidden--visually {border: 0;clip: rect(1px 1px 1px 1px);clip: rect(1px, 1px, 1px, 1px);height: 1px;margin: -1px;overflow: hidden;padding: 0;position: absolute;width: 1px;}#sk-container-id-18 div.sk-estimator {font-family: monospace;background-color: #f0f8ff;border: 1px dotted black;border-radius: 0.25em;box-sizing: border-box;margin-bottom: 0.5em;}#sk-container-id-18 div.sk-estimator:hover {background-color: #d4ebff;}#sk-container-id-18 div.sk-parallel-item::after {content: \"\";width: 100%;border-bottom: 1px solid gray;flex-grow: 1;}#sk-container-id-18 div.sk-label:hover label.sk-toggleable__label {background-color: #d4ebff;}#sk-container-id-18 div.sk-serial::before {content: \"\";position: absolute;border-left: 1px solid gray;box-sizing: border-box;top: 0;bottom: 0;left: 50%;z-index: 0;}#sk-container-id-18 div.sk-serial {display: flex;flex-direction: column;align-items: center;background-color: white;padding-right: 0.2em;padding-left: 0.2em;position: relative;}#sk-container-id-18 div.sk-item {position: relative;z-index: 1;}#sk-container-id-18 div.sk-parallel {display: flex;align-items: stretch;justify-content: center;background-color: white;position: relative;}#sk-container-id-18 div.sk-item::before, #sk-container-id-18 div.sk-parallel-item::before {content: \"\";position: absolute;border-left: 1px solid gray;box-sizing: border-box;top: 0;bottom: 0;left: 50%;z-index: -1;}#sk-container-id-18 div.sk-parallel-item {display: flex;flex-direction: column;z-index: 1;position: relative;background-color: white;}#sk-container-id-18 div.sk-parallel-item:first-child::after {align-self: flex-end;width: 50%;}#sk-container-id-18 div.sk-parallel-item:last-child::after {align-self: flex-start;width: 50%;}#sk-container-id-18 div.sk-parallel-item:only-child::after {width: 0;}#sk-container-id-18 div.sk-dashed-wrapped {border: 1px dashed gray;margin: 0 0.4em 0.5em 0.4em;box-sizing: border-box;padding-bottom: 0.4em;background-color: white;}#sk-container-id-18 div.sk-label label {font-family: monospace;font-weight: bold;display: inline-block;line-height: 1.2em;}#sk-container-id-18 div.sk-label-container {text-align: center;}#sk-container-id-18 div.sk-container {/* jupyter's `normalize.less` sets `[hidden] { display: none; }` but bootstrap.min.css set `[hidden] { display: none !important; }` so we also need the `!important` here to be able to override the default hidden behavior on the sphinx rendered scikit-learn.org. See: https://github.com/scikit-learn/scikit-learn/issues/21755 */display: inline-block !important;position: relative;}#sk-container-id-18 div.sk-text-repr-fallback {display: none;}</style><div id=\"sk-container-id-18\" class=\"sk-top-container\"><div class=\"sk-text-repr-fallback\"><pre>MinMaxScaler()</pre><b>In a Jupyter environment, please rerun this cell to show the HTML representation or trust the notebook. <br />On GitHub, the HTML representation is unable to render, please try loading this page with nbviewer.org.</b></div><div class=\"sk-container\" hidden><div class=\"sk-item\"><div class=\"sk-estimator sk-toggleable\"><input class=\"sk-toggleable__control sk-hidden--visually\" id=\"sk-estimator-id-18\" type=\"checkbox\" checked><label for=\"sk-estimator-id-18\" class=\"sk-toggleable__label sk-toggleable__label-arrow\">MinMaxScaler</label><div class=\"sk-toggleable__content\"><pre>MinMaxScaler()</pre></div></div></div></div></div>"
      ],
      "text/plain": [
       "MinMaxScaler()"
      ]
     },
     "execution_count": 971,
     "metadata": {},
     "output_type": "execute_result"
    }
   ],
   "source": [
    "scaler.fit(imputed_train_df)"
   ]
  },
  {
   "cell_type": "code",
   "execution_count": 972,
   "id": "94adc925",
   "metadata": {},
   "outputs": [],
   "source": [
    "logger.trace('Scalling maximum values.')\n",
    "logger.trace(scaler.data_max_)"
   ]
  },
  {
   "cell_type": "code",
   "execution_count": 973,
   "id": "0638247d",
   "metadata": {},
   "outputs": [],
   "source": [
    "logger.trace('Scalling minimum values.')\n",
    "logger.trace(scaler.data_min_)"
   ]
  },
  {
   "cell_type": "code",
   "execution_count": 974,
   "id": "e6a0b6b5",
   "metadata": {},
   "outputs": [
    {
     "data": {
      "text/html": [
       "<div>\n",
       "<style scoped>\n",
       "    .dataframe tbody tr th:only-of-type {\n",
       "        vertical-align: middle;\n",
       "    }\n",
       "\n",
       "    .dataframe tbody tr th {\n",
       "        vertical-align: top;\n",
       "    }\n",
       "\n",
       "    .dataframe thead th {\n",
       "        text-align: right;\n",
       "    }\n",
       "</style>\n",
       "<table border=\"1\" class=\"dataframe\">\n",
       "  <thead>\n",
       "    <tr style=\"text-align: right;\">\n",
       "      <th></th>\n",
       "      <th>LotArea</th>\n",
       "      <th>YearBuilt</th>\n",
       "      <th>MoSold</th>\n",
       "      <th>MiscVal</th>\n",
       "      <th>PoolArea</th>\n",
       "      <th>ScreenPorch</th>\n",
       "      <th>3SsnPorch</th>\n",
       "      <th>EnclosedPorch</th>\n",
       "      <th>OpenPorchSF</th>\n",
       "      <th>WoodDeckSF</th>\n",
       "      <th>...</th>\n",
       "      <th>BsmtExposure</th>\n",
       "      <th>BsmtQual</th>\n",
       "      <th>BsmtCond</th>\n",
       "      <th>BsmtFinType1</th>\n",
       "      <th>BsmtFinType2</th>\n",
       "      <th>MasVnrType</th>\n",
       "      <th>Electrical</th>\n",
       "      <th>MSSubClass</th>\n",
       "      <th>OverallQual</th>\n",
       "      <th>OverallCond</th>\n",
       "    </tr>\n",
       "  </thead>\n",
       "  <tbody>\n",
       "    <tr>\n",
       "      <th>0</th>\n",
       "      <td>0.035271</td>\n",
       "      <td>0.898551</td>\n",
       "      <td>0.545455</td>\n",
       "      <td>0.000000</td>\n",
       "      <td>0.0</td>\n",
       "      <td>0.0</td>\n",
       "      <td>0.0</td>\n",
       "      <td>0.0</td>\n",
       "      <td>0.000000</td>\n",
       "      <td>0.000000</td>\n",
       "      <td>...</td>\n",
       "      <td>0.666667</td>\n",
       "      <td>0.666667</td>\n",
       "      <td>1.0</td>\n",
       "      <td>1.0</td>\n",
       "      <td>1.0</td>\n",
       "      <td>0.333333</td>\n",
       "      <td>1.0</td>\n",
       "      <td>0.382353</td>\n",
       "      <td>0.444444</td>\n",
       "      <td>0.500</td>\n",
       "    </tr>\n",
       "    <tr>\n",
       "      <th>1</th>\n",
       "      <td>0.018930</td>\n",
       "      <td>0.492754</td>\n",
       "      <td>0.363636</td>\n",
       "      <td>0.054217</td>\n",
       "      <td>0.0</td>\n",
       "      <td>0.0</td>\n",
       "      <td>0.0</td>\n",
       "      <td>0.0</td>\n",
       "      <td>0.000000</td>\n",
       "      <td>0.306884</td>\n",
       "      <td>...</td>\n",
       "      <td>0.000000</td>\n",
       "      <td>0.333333</td>\n",
       "      <td>1.0</td>\n",
       "      <td>0.8</td>\n",
       "      <td>1.0</td>\n",
       "      <td>0.333333</td>\n",
       "      <td>1.0</td>\n",
       "      <td>0.058824</td>\n",
       "      <td>0.222222</td>\n",
       "      <td>0.125</td>\n",
       "    </tr>\n",
       "    <tr>\n",
       "      <th>2</th>\n",
       "      <td>0.033752</td>\n",
       "      <td>0.688406</td>\n",
       "      <td>0.363636</td>\n",
       "      <td>0.000000</td>\n",
       "      <td>0.0</td>\n",
       "      <td>0.0</td>\n",
       "      <td>0.0</td>\n",
       "      <td>0.0</td>\n",
       "      <td>0.000000</td>\n",
       "      <td>0.000000</td>\n",
       "      <td>...</td>\n",
       "      <td>0.000000</td>\n",
       "      <td>0.333333</td>\n",
       "      <td>1.0</td>\n",
       "      <td>0.6</td>\n",
       "      <td>1.0</td>\n",
       "      <td>0.333333</td>\n",
       "      <td>1.0</td>\n",
       "      <td>0.000000</td>\n",
       "      <td>0.444444</td>\n",
       "      <td>0.500</td>\n",
       "    </tr>\n",
       "    <tr>\n",
       "      <th>3</th>\n",
       "      <td>0.034392</td>\n",
       "      <td>0.673913</td>\n",
       "      <td>1.000000</td>\n",
       "      <td>0.000000</td>\n",
       "      <td>0.0</td>\n",
       "      <td>0.0</td>\n",
       "      <td>0.0</td>\n",
       "      <td>0.0</td>\n",
       "      <td>0.252285</td>\n",
       "      <td>0.000000</td>\n",
       "      <td>...</td>\n",
       "      <td>0.000000</td>\n",
       "      <td>0.333333</td>\n",
       "      <td>1.0</td>\n",
       "      <td>0.0</td>\n",
       "      <td>1.0</td>\n",
       "      <td>0.666667</td>\n",
       "      <td>1.0</td>\n",
       "      <td>0.000000</td>\n",
       "      <td>0.555556</td>\n",
       "      <td>0.500</td>\n",
       "    </tr>\n",
       "    <tr>\n",
       "      <th>4</th>\n",
       "      <td>0.025530</td>\n",
       "      <td>0.978261</td>\n",
       "      <td>0.727273</td>\n",
       "      <td>0.000000</td>\n",
       "      <td>0.0</td>\n",
       "      <td>0.0</td>\n",
       "      <td>0.0</td>\n",
       "      <td>0.0</td>\n",
       "      <td>0.098720</td>\n",
       "      <td>0.122520</td>\n",
       "      <td>...</td>\n",
       "      <td>0.000000</td>\n",
       "      <td>0.666667</td>\n",
       "      <td>1.0</td>\n",
       "      <td>1.0</td>\n",
       "      <td>1.0</td>\n",
       "      <td>0.666667</td>\n",
       "      <td>1.0</td>\n",
       "      <td>0.000000</td>\n",
       "      <td>0.666667</td>\n",
       "      <td>0.500</td>\n",
       "    </tr>\n",
       "  </tbody>\n",
       "</table>\n",
       "<p>5 rows × 74 columns</p>\n",
       "</div>"
      ],
      "text/plain": [
       "    LotArea  YearBuilt    MoSold   MiscVal  PoolArea  ScreenPorch  3SsnPorch  \\\n",
       "0  0.035271   0.898551  0.545455  0.000000       0.0          0.0        0.0   \n",
       "1  0.018930   0.492754  0.363636  0.054217       0.0          0.0        0.0   \n",
       "2  0.033752   0.688406  0.363636  0.000000       0.0          0.0        0.0   \n",
       "3  0.034392   0.673913  1.000000  0.000000       0.0          0.0        0.0   \n",
       "4  0.025530   0.978261  0.727273  0.000000       0.0          0.0        0.0   \n",
       "\n",
       "   EnclosedPorch  OpenPorchSF  WoodDeckSF  ...  BsmtExposure  BsmtQual  \\\n",
       "0            0.0     0.000000    0.000000  ...      0.666667  0.666667   \n",
       "1            0.0     0.000000    0.306884  ...      0.000000  0.333333   \n",
       "2            0.0     0.000000    0.000000  ...      0.000000  0.333333   \n",
       "3            0.0     0.252285    0.000000  ...      0.000000  0.333333   \n",
       "4            0.0     0.098720    0.122520  ...      0.000000  0.666667   \n",
       "\n",
       "   BsmtCond  BsmtFinType1  BsmtFinType2  MasVnrType  Electrical  MSSubClass  \\\n",
       "0       1.0           1.0           1.0    0.333333         1.0    0.382353   \n",
       "1       1.0           0.8           1.0    0.333333         1.0    0.058824   \n",
       "2       1.0           0.6           1.0    0.333333         1.0    0.000000   \n",
       "3       1.0           0.0           1.0    0.666667         1.0    0.000000   \n",
       "4       1.0           1.0           1.0    0.666667         1.0    0.000000   \n",
       "\n",
       "   OverallQual  OverallCond  \n",
       "0     0.444444        0.500  \n",
       "1     0.222222        0.125  \n",
       "2     0.444444        0.500  \n",
       "3     0.555556        0.500  \n",
       "4     0.666667        0.500  \n",
       "\n",
       "[5 rows x 74 columns]"
      ]
     },
     "execution_count": 974,
     "metadata": {},
     "output_type": "execute_result"
    }
   ],
   "source": [
    "scalled_train_df = pd.DataFrame(scaler.transform(imputed_train_df), columns=imputed_train_df.columns)\n",
    "scalled_test_df = pd.DataFrame(scaler.transform(imputed_test_df), columns=imputed_test_df.columns)\n",
    "\n",
    "scalled_train_df.head()"
   ]
  },
  {
   "cell_type": "markdown",
   "id": "1c50352a",
   "metadata": {},
   "source": [
    "## Feature Selection for Linear Regression"
   ]
  },
  {
   "cell_type": "code",
   "execution_count": 975,
   "id": "50997d48",
   "metadata": {},
   "outputs": [],
   "source": [
    "selection_threshold = .7\n",
    "selector = SelectFromModel(estimator=LinearRegression(), threshold=selection_threshold)"
   ]
  },
  {
   "cell_type": "code",
   "execution_count": 976,
   "id": "54036048",
   "metadata": {},
   "outputs": [
    {
     "data": {
      "text/plain": [
       "0    0.157062\n",
       "1    0.057770\n",
       "2    0.125122\n",
       "3    0.173726\n",
       "4    0.222886\n",
       "Name: SalePrice, dtype: float64"
      ]
     },
     "execution_count": 976,
     "metadata": {},
     "output_type": "execute_result"
    }
   ],
   "source": [
    "scalled_target = fa.min_max_scale(y_train)\n",
    "scalled_target.head()"
   ]
  },
  {
   "cell_type": "code",
   "execution_count": 977,
   "id": "5d006664",
   "metadata": {},
   "outputs": [
    {
     "name": "stdout",
     "output_type": "stream",
     "text": [
      "\u001b[92mSelector threashold is 0.7\n"
     ]
    }
   ],
   "source": [
    "y_train.index = scalled_train_df.index\n",
    "\n",
    "selector.fit(scalled_train_df, scalled_target)\n",
    "selected_features_index = scalled_train_df.columns[selector.get_support()]\n",
    "selected_features = selected_features_index.values\n",
    "\n",
    "logger.info(f'Selector threashold is {selector.threshold_}')\n",
    "logger.trace(selected_features)"
   ]
  },
  {
   "cell_type": "code",
   "execution_count": 978,
   "id": "5fe88f25",
   "metadata": {},
   "outputs": [
    {
     "data": {
      "text/html": [
       "<div>\n",
       "<style scoped>\n",
       "    .dataframe tbody tr th:only-of-type {\n",
       "        vertical-align: middle;\n",
       "    }\n",
       "\n",
       "    .dataframe tbody tr th {\n",
       "        vertical-align: top;\n",
       "    }\n",
       "\n",
       "    .dataframe thead th {\n",
       "        text-align: right;\n",
       "    }\n",
       "</style>\n",
       "<table border=\"1\" class=\"dataframe\">\n",
       "  <thead>\n",
       "    <tr style=\"text-align: right;\">\n",
       "      <th></th>\n",
       "      <th>GrLivArea</th>\n",
       "      <th>LowQualFinSF</th>\n",
       "      <th>2ndFlrSF</th>\n",
       "      <th>1stFlrSF</th>\n",
       "      <th>TotalBsmtSF</th>\n",
       "      <th>BsmtUnfSF</th>\n",
       "      <th>BsmtFinSF2</th>\n",
       "      <th>BsmtFinSF1</th>\n",
       "    </tr>\n",
       "  </thead>\n",
       "  <tbody>\n",
       "    <tr>\n",
       "      <th>0</th>\n",
       "      <td>0.109269</td>\n",
       "      <td>0.0</td>\n",
       "      <td>0.0</td>\n",
       "      <td>0.133089</td>\n",
       "      <td>0.142390</td>\n",
       "      <td>0.244863</td>\n",
       "      <td>0.0</td>\n",
       "      <td>0.052799</td>\n",
       "    </tr>\n",
       "    <tr>\n",
       "      <th>1</th>\n",
       "      <td>0.183120</td>\n",
       "      <td>0.0</td>\n",
       "      <td>0.0</td>\n",
       "      <td>0.223038</td>\n",
       "      <td>0.119149</td>\n",
       "      <td>0.311644</td>\n",
       "      <td>0.0</td>\n",
       "      <td>0.000000</td>\n",
       "    </tr>\n",
       "    <tr>\n",
       "      <th>2</th>\n",
       "      <td>0.108892</td>\n",
       "      <td>0.0</td>\n",
       "      <td>0.0</td>\n",
       "      <td>0.132630</td>\n",
       "      <td>0.149264</td>\n",
       "      <td>0.029966</td>\n",
       "      <td>0.0</td>\n",
       "      <td>0.149185</td>\n",
       "    </tr>\n",
       "    <tr>\n",
       "      <th>3</th>\n",
       "      <td>0.186511</td>\n",
       "      <td>0.0</td>\n",
       "      <td>0.0</td>\n",
       "      <td>0.227168</td>\n",
       "      <td>0.178069</td>\n",
       "      <td>0.190497</td>\n",
       "      <td>0.0</td>\n",
       "      <td>0.113926</td>\n",
       "    </tr>\n",
       "    <tr>\n",
       "      <th>4</th>\n",
       "      <td>0.164657</td>\n",
       "      <td>0.0</td>\n",
       "      <td>0.0</td>\n",
       "      <td>0.200551</td>\n",
       "      <td>0.197709</td>\n",
       "      <td>0.232877</td>\n",
       "      <td>0.0</td>\n",
       "      <td>0.117647</td>\n",
       "    </tr>\n",
       "  </tbody>\n",
       "</table>\n",
       "</div>"
      ],
      "text/plain": [
       "   GrLivArea  LowQualFinSF  2ndFlrSF  1stFlrSF  TotalBsmtSF  BsmtUnfSF  \\\n",
       "0   0.109269           0.0       0.0  0.133089     0.142390   0.244863   \n",
       "1   0.183120           0.0       0.0  0.223038     0.119149   0.311644   \n",
       "2   0.108892           0.0       0.0  0.132630     0.149264   0.029966   \n",
       "3   0.186511           0.0       0.0  0.227168     0.178069   0.190497   \n",
       "4   0.164657           0.0       0.0  0.200551     0.197709   0.232877   \n",
       "\n",
       "   BsmtFinSF2  BsmtFinSF1  \n",
       "0         0.0    0.052799  \n",
       "1         0.0    0.000000  \n",
       "2         0.0    0.149185  \n",
       "3         0.0    0.113926  \n",
       "4         0.0    0.117647  "
      ]
     },
     "execution_count": 978,
     "metadata": {},
     "output_type": "execute_result"
    }
   ],
   "source": [
    "scalled_train_df[selected_features].head()"
   ]
  },
  {
   "cell_type": "markdown",
   "id": "d651ef9e",
   "metadata": {},
   "source": [
    "## Linear Regression model training"
   ]
  },
  {
   "cell_type": "code",
   "execution_count": 979,
   "id": "390d92d7",
   "metadata": {},
   "outputs": [],
   "source": [
    "regressor = LinearRegression()\n",
    "\n",
    "regressor.fit(scalled_train_df[selected_features], y_train)\n",
    "predicated_y_test = regressor.predict(scalled_test_df[selected_features])\n"
   ]
  },
  {
   "cell_type": "code",
   "execution_count": 980,
   "id": "14471f7e",
   "metadata": {},
   "outputs": [
    {
     "name": "stdout",
     "output_type": "stream",
     "text": [
      "The mean squered error is: 1890050337.948104\n"
     ]
    }
   ],
   "source": [
    "mse = mean_squared_error(y_test, predicated_y_test)\n",
    "\n",
    "#The mean squered error\n",
    "print(f'The mean squered error is: {mse}')"
   ]
  },
  {
   "cell_type": "code",
   "execution_count": 981,
   "id": "e923d6f0",
   "metadata": {},
   "outputs": [
    {
     "name": "stdout",
     "output_type": "stream",
     "text": [
      "The R squered score is: 0.67\n"
     ]
    }
   ],
   "source": [
    "r2s_core = round(r2_score(y_test, predicated_y_test), 2)\n",
    "\n",
    "#The R2 score\n",
    "print(f'The R squered score is: {r2s_core}')"
   ]
  },
  {
   "cell_type": "code",
   "execution_count": 982,
   "id": "3d84f833",
   "metadata": {},
   "outputs": [],
   "source": [
    "fa.add_training_record('Linear Regression', r2s_core, mse)"
   ]
  },
  {
   "cell_type": "markdown",
   "id": "590c2376",
   "metadata": {},
   "source": [
    "## Neural Network model training"
   ]
  },
  {
   "cell_type": "markdown",
   "id": "5db59a9f",
   "metadata": {},
   "source": [
    "### Network configuration classes"
   ]
  },
  {
   "cell_type": "code",
   "execution_count": 983,
   "id": "7e9720ed",
   "metadata": {},
   "outputs": [],
   "source": [
    "class LayerType:\n",
    "    INPUT = 'Input'\n",
    "    OUTPUT = 'Output'\n",
    "    HIDDEN = 'Hiddent'\n",
    "\n",
    "class NetConfiguration:\n",
    "    \n",
    "    def __init__(self, layers):\n",
    "        self.layers = layers\n",
    "        self.learning_rate = 0\n",
    "        self.epochs = 0\n",
    "        self.batch_size = 0\n",
    "    \n",
    "    \n",
    "class LayerItem:\n",
    "    \n",
    "    def __init__(self, name, layer_type, input_size, output_size):\n",
    "        \n",
    "        self.name = name\n",
    "        self.type = layer_type\n",
    "        self.input_size = input_size\n",
    "        self.output_size = output_size\n",
    "\n",
    "    def __str__(self) -> str:\n",
    "        return f'Layer({self.name})={self.type}({self.input_size}, {self.output_size})'\n",
    "        \n",
    "class LayerConfiguration:\n",
    "    \n",
    "    def __init__(self):\n",
    "        \n",
    "        self.__layers = []\n",
    "        self.__hidden_layers = []\n",
    "        self.__input_layer = None\n",
    "        self.__output_layer = None\n",
    "\n",
    "    def __add_and_get(self, layer_name, layer_type, input_size, output_size):\n",
    "        \n",
    "        layer = LayerItem(layer_name, layer_type, input_size, output_size)\n",
    "        self.__layers.append(layer)\n",
    "        return layer\n",
    "        \n",
    "    def use_input_layer(self, input_size, output_size):\n",
    "        \n",
    "        layer_name = 'input'\n",
    "        layer_type = LayerType.INPUT\n",
    "        layer = self.__add_and_get(layer_name, layer_type, input_size, output_size)\n",
    "        self.__input_layer = layer\n",
    "        return self\n",
    "        \n",
    "    def use_output_layer(self, input_size, output_size):\n",
    "        \n",
    "        layer_name = 'output'\n",
    "        layer_type = LayerType.OUTPUT\n",
    "        layer = self.__add_and_get(layer_name, layer_type, input_size, output_size)\n",
    "        self.__output_layer = layer\n",
    "        return self\n",
    "    \n",
    "    def use_hidden_layer(self, input_size, output_size):\n",
    "        \n",
    "        layer_id = len(self.__hidden_layers) + 1\n",
    "        \n",
    "        layer_name = f'hidden_{layer_id}'\n",
    "        layer_type = LayerType.HIDDEN\n",
    "        layer = self.__add_and_get(layer_name, layer_type, input_size, output_size)\n",
    "        self.__hidden_layers.append(layer)\n",
    "        return self\n",
    "\n",
    "    def use_hidden_layers(self, size, units):\n",
    "        \n",
    "        for unit in range(units):\n",
    "            self.use_hidden_layer(size, size)\n",
    "\n",
    "        return self\n",
    "            \n",
    "    def get_input_layer(self):\n",
    "        return self.__input_layer\n",
    "    \n",
    "    def get_output_layer(self):\n",
    "        return self.__output_layer\n",
    "    \n",
    "    def get_hidden_layers(self):\n",
    "        return self.__hidden_layers\n",
    "    \n",
    "    def __str__(self) -> str:\n",
    "        \n",
    "        result = ''\n",
    "        for layer in self.__layers:\n",
    "            result = f'{result} \\n{str(layer)}'\n",
    "            \n",
    "        return result\n",
    "        "
   ]
  },
  {
   "cell_type": "markdown",
   "id": "9285c5cf",
   "metadata": {},
   "source": [
    "### Network configuration"
   ]
  },
  {
   "cell_type": "code",
   "execution_count": 984,
   "id": "f75a323b",
   "metadata": {},
   "outputs": [
    {
     "name": "stdout",
     "output_type": "stream",
     "text": [
      " \n",
      "Layer(input)=Input(74, 128) \n",
      "Layer(hidden_1)=Hiddent(128, 128) \n",
      "Layer(output)=Output(128, 1)\n"
     ]
    }
   ],
   "source": [
    "input_layer_size = len(scalled_train_df.columns)\n",
    "hidden_layer_size = 128\n",
    "hidden_layers = 1\n",
    "\n",
    "layer_configuration = LayerConfiguration()\n",
    "layer_configuration \\\n",
    "    .use_input_layer(input_layer_size, hidden_layer_size) \\\n",
    "    .use_hidden_layers(hidden_layer_size, hidden_layers) \\\n",
    "    .use_output_layer(hidden_layer_size, 1)\n",
    "\n",
    "net_config = NetConfiguration(layer_configuration)\n",
    "net_config.learning_rate = .001\n",
    "net_config.epochs = 300\n",
    "net_config.batch_size = 16\n",
    "\n",
    "\n",
    "print(str(layer_configuration))"
   ]
  },
  {
   "cell_type": "markdown",
   "id": "9d7404af",
   "metadata": {},
   "source": [
    "### Network definition"
   ]
  },
  {
   "cell_type": "code",
   "execution_count": 985,
   "id": "a384d836",
   "metadata": {},
   "outputs": [],
   "source": [
    "class HousePricesExperiment:\n",
    "    \n",
    "    def __init__(self, config, model, loss_method, optimizer):\n",
    "        self.epochs = config.epochs\n",
    "        self.batch_size = config.batch_size\n",
    "        \n",
    "        #Initialing ANN\n",
    "        self.model = model\n",
    "\n",
    "        #Initializing loss function\n",
    "        self.loss_method = loss_method\n",
    "\n",
    "        #Initialing optimizer\n",
    "        self.optimizer = optimizer\n",
    "    \n",
    "    def train(self, train_df, targets):\n",
    "        \n",
    "        targets_df = pd.DataFrame(targets.tolist(), columns=[target_name])\n",
    "        \n",
    "        train_tensor = torch.tensor(train_df.values).float()\n",
    "        targets_tensor = torch.tensor(targets_df.values).float()\n",
    "        \n",
    "        print(f'Features tensor size is {train_tensor.size()}')\n",
    "        print(f'Targets tensor size is {targets_tensor.size()}\\n')\n",
    "        \n",
    "        train_dataset = TensorDataset(train_tensor,targets_tensor)\n",
    "        batchsize    = self.batch_size\n",
    "        train_loader = DataLoader(train_dataset, batch_size=batchsize, shuffle=True, drop_last=True)\n",
    "        \n",
    "        losses = torch.zeros(self.epochs)\n",
    "        progress_display_step = self.epochs * .1\n",
    "        for epochi in range(self.epochs):\n",
    "           \n",
    "            batchAcc  = []\n",
    "            batchLoss = []\n",
    "            \n",
    "            # loop over training data batches        \n",
    "            for X, y in train_loader:\n",
    "                \n",
    "                #Forward step\n",
    "                predictions = self.model(X)\n",
    "            \n",
    "                #Calculation loss\n",
    "                loss = self.loss_method(predictions, y)\n",
    "                batchLoss.append(loss.item())\n",
    "            \n",
    "                #Backward step\n",
    "                self.optimizer.zero_grad()\n",
    "                loss.backward()\n",
    "                self.optimizer.step()\n",
    "             \n",
    "            losses[epochi] = np.mean(batchLoss)\n",
    "            if epochi % progress_display_step == 0 :\n",
    "                print (f'{(epochi / self.epochs) * 100}% was trained')\n",
    "            \n",
    "        predictions = self.model(train_tensor)\n",
    "        \n",
    "        r2s_metric = R2Score()\n",
    "        r2s_metric.update(predictions, targets_tensor)\n",
    "        accuracy = r2s_metric.compute()\n",
    "        \n",
    "        return losses, predictions, accuracy\n",
    "\n",
    "class HousePricesNet(nn.Module):\n",
    "    \n",
    "    def __init__(self, config):\n",
    "        super().__init__()\n",
    "        \n",
    "        layer_config = config.layers.get_input_layer()        \n",
    "        self.input = nn.Linear(layer_config.input_size, layer_config.output_size)\n",
    "\n",
    "        self.hidden = nn.ModuleList()\n",
    "        \n",
    "        for layer_config in config.layers.get_hidden_layers():\n",
    "            self.hidden.append(nn.Linear(layer_config.input_size, layer_config.output_size))\n",
    "            \n",
    "        layer_config = config.layers.get_output_layer()        \n",
    "        self.output = nn.Linear(layer_config.input_size, layer_config.output_size)\n",
    "  \n",
    "    def forward(self, x_train):\n",
    "        \n",
    "        data = self.input(x_train)\n",
    "        data = F.relu(data)\n",
    "        \n",
    "        for hidden_layer in self.hidden:\n",
    "            data = hidden_layer(data)\n",
    "            data = F.relu(data)\n",
    "        \n",
    "        result = self.output(data)\n",
    "        \n",
    "        return result"
   ]
  },
  {
   "cell_type": "markdown",
   "id": "a589be78",
   "metadata": {},
   "source": [
    "### Network Training"
   ]
  },
  {
   "cell_type": "code",
   "execution_count": 986,
   "id": "bc4e1606",
   "metadata": {},
   "outputs": [],
   "source": [
    "model = HousePricesNet(net_config)\n",
    "loss_method = nn.MSELoss()\n",
    "optimizer = torch.optim.Adam(model.parameters(), lr=net_config.learning_rate)"
   ]
  },
  {
   "cell_type": "code",
   "execution_count": 987,
   "id": "db1a956e",
   "metadata": {},
   "outputs": [
    {
     "name": "stdout",
     "output_type": "stream",
     "text": [
      "Features tensor size is torch.Size([1022, 74])\n",
      "Targets tensor size is torch.Size([1022, 1])\n",
      "\n",
      "0.0% was trained\n",
      "10.0% was trained\n",
      "20.0% was trained\n",
      "30.0% was trained\n",
      "40.0% was trained\n",
      "50.0% was trained\n",
      "60.0% was trained\n",
      "70.0% was trained\n",
      "80.0% was trained\n",
      "90.0% was trained\n",
      "Training accuracy is 0.8176841139793396\n"
     ]
    },
    {
     "data": {
      "image/png": "[encoded data removed]",
      "text/plain": [
       "<Figure size 640x480 with 1 Axes>"
      ]
     },
     "metadata": {},
     "output_type": "display_data"
    }
   ],
   "source": [
    "experiment = HousePricesExperiment(net_config, model, loss_method, optimizer)\n",
    "\n",
    "losses, predictions, accuracy = experiment.train(scalled_train_df, y_train)\n",
    "\n",
    "print(f'Training accuracy is {accuracy}')\n",
    "plt.plot(losses.detach(), markerfacecolor='w', linewidth=2)\n",
    "plt.xlabel('Epoch'), plt.ylabel('Loss')\n",
    "plt.show()"
   ]
  },
  {
   "cell_type": "markdown",
   "id": "557e4536",
   "metadata": {},
   "source": [
    "### Network testing"
   ]
  },
  {
   "cell_type": "code",
   "execution_count": 988,
   "id": "158af5c8",
   "metadata": {},
   "outputs": [
    {
     "name": "stdout",
     "output_type": "stream",
     "text": [
      "Testing accuracy is 0.8512411713600159\n"
     ]
    }
   ],
   "source": [
    "targets_df = pd.DataFrame(y_test.tolist(), columns=[target_name])\n",
    "test_tensor = torch.tensor(scalled_test_df.values).float()\n",
    "targets_tensor = torch.tensor(targets_df.values).float()\n",
    "\n",
    "predictions = model(test_tensor)\n",
    "\n",
    "r2s_metric = R2Score()\n",
    "r2s_metric.update(predictions, targets_tensor)\n",
    "test_accuracy = r2s_metric.compute()\n",
    "\n",
    "print(f'Testing accuracy is {test_accuracy}')"
   ]
  },
  {
   "cell_type": "code",
   "execution_count": 989,
   "id": "ba31b8a3",
   "metadata": {},
   "outputs": [],
   "source": [
    "fa.add_training_record('Neural Network', test_accuracy.item(), np.NaN)"
   ]
  },
  {
   "cell_type": "markdown",
   "id": "df425d7b",
   "metadata": {},
   "source": [
    "## XGBoost regression"
   ]
  },
  {
   "cell_type": "markdown",
   "id": "761b15a3",
   "metadata": {},
   "source": [
    "### XGB model configuration"
   ]
  },
  {
   "cell_type": "code",
   "execution_count": 990,
   "id": "cbca16df",
   "metadata": {},
   "outputs": [],
   "source": [
    "class XGBoostConfiguration:\n",
    "    \n",
    "    def __init__(self):\n",
    "        self.max_depth = 5\n",
    "        self.n_estimators = 1\n",
    "        self.feature_selection_threshold=None\n",
    "\n",
    "xgb_config = XGBoostConfiguration()\n",
    "xgb_config.n_estimators = 50\n",
    "xgb_config.max_depth = 5\n",
    "xgb_config.feature_selection_threshold = 0.03"
   ]
  },
  {
   "cell_type": "markdown",
   "id": "e4e66421",
   "metadata": {},
   "source": [
    "### XGBoost model creation"
   ]
  },
  {
   "cell_type": "code",
   "execution_count": 991,
   "id": "a65588b8",
   "metadata": {},
   "outputs": [],
   "source": [
    "class XGBoostModelFactory:\n",
    "    \n",
    "    def create_regressor(self, config):\n",
    "        xgb_model = xgb.XGBRegressor(max_depth=xgb_config.max_depth, n_estimators=xgb_config.n_estimators)\n",
    "        return xgb_model"
   ]
  },
  {
   "cell_type": "code",
   "execution_count": 992,
   "id": "db53528f",
   "metadata": {},
   "outputs": [],
   "source": [
    "xgb_model_factory = XGBoostModelFactory()"
   ]
  },
  {
   "cell_type": "markdown",
   "id": "73fb330c",
   "metadata": {},
   "source": [
    "### Feature Selection for XGBoost"
   ]
  },
  {
   "cell_type": "code",
   "execution_count": 993,
   "id": "edbe8dbb",
   "metadata": {},
   "outputs": [
    {
     "data": {
      "text/plain": [
       "array(['GarageCars', 'KitchenAbvGr', 'GarageFinish', 'BsmtQual',\n",
       "       'OverallQual'], dtype=object)"
      ]
     },
     "execution_count": 993,
     "metadata": {},
     "output_type": "execute_result"
    }
   ],
   "source": [
    "xgb_model = xgb_model_factory.create_regressor(xgb_config)\n",
    "\n",
    "xgb_selector = SelectFromModel(xgb_model, threshold=xgb_config.feature_selection_threshold)\n",
    "\n",
    "xgb_selector.fit(scalled_train_df, y_train)\n",
    "xgb_selected_features_index = scalled_train_df.columns[xgb_selector.get_support()]\n",
    "xgb_selected_features = xgb_selected_features_index.values\n",
    "\n",
    "xgb_selected_features\n"
   ]
  },
  {
   "cell_type": "markdown",
   "id": "5f5adcfc",
   "metadata": {},
   "source": [
    "### XGBoost model training"
   ]
  },
  {
   "cell_type": "code",
   "execution_count": 994,
   "id": "63e05270",
   "metadata": {},
   "outputs": [],
   "source": [
    "xgb_model.fit(scalled_train_df, y_train)\n",
    "xgb_predictions = xgb_model.predict(scalled_test_df)"
   ]
  },
  {
   "cell_type": "code",
   "execution_count": 995,
   "id": "ec72e1d1",
   "metadata": {},
   "outputs": [
    {
     "name": "stdout",
     "output_type": "stream",
     "text": [
      "The XGB mean squered error is: 742640552.887747\n"
     ]
    }
   ],
   "source": [
    "xgb_mse = mean_squared_error(y_test, xgb_predictions)\n",
    "\n",
    "#The XGB mean squered error\n",
    "print(f'The XGB mean squered error is: {xgb_mse}')"
   ]
  },
  {
   "cell_type": "code",
   "execution_count": 996,
   "id": "cdc459b0",
   "metadata": {},
   "outputs": [
    {
     "name": "stdout",
     "output_type": "stream",
     "text": [
      "The XGB R squered score is: 0.87\n"
     ]
    }
   ],
   "source": [
    "xgb_r2_score = round(r2_score(y_test, xgb_predictions),2)\n",
    "\n",
    "#The XGB R2 score\n",
    "print(f'The XGB R squered score is: {xgb_r2_score}')"
   ]
  },
  {
   "cell_type": "code",
   "execution_count": 997,
   "id": "b38c3398",
   "metadata": {},
   "outputs": [],
   "source": [
    "fa.add_training_record('XGBoost Regression', xgb_r2_score, xgb_mse)"
   ]
  },
  {
   "cell_type": "markdown",
   "id": "dd639706",
   "metadata": {},
   "source": [
    "## Printing training summary"
   ]
  },
  {
   "cell_type": "code",
   "execution_count": 998,
   "id": "75031eeb",
   "metadata": {},
   "outputs": [
    {
     "data": {
      "text/html": [
       "<div>\n",
       "<style scoped>\n",
       "    .dataframe tbody tr th:only-of-type {\n",
       "        vertical-align: middle;\n",
       "    }\n",
       "\n",
       "    .dataframe tbody tr th {\n",
       "        vertical-align: top;\n",
       "    }\n",
       "\n",
       "    .dataframe thead th {\n",
       "        text-align: right;\n",
       "    }\n",
       "</style>\n",
       "<table border=\"1\" class=\"dataframe\">\n",
       "  <thead>\n",
       "    <tr style=\"text-align: right;\">\n",
       "      <th></th>\n",
       "      <th>Algorithm</th>\n",
       "      <th>R2 Score</th>\n",
       "      <th>MSE</th>\n",
       "    </tr>\n",
       "  </thead>\n",
       "  <tbody>\n",
       "    <tr>\n",
       "      <th>0</th>\n",
       "      <td>Linear Regression</td>\n",
       "      <td>0.670000</td>\n",
       "      <td>1.890050e+09</td>\n",
       "    </tr>\n",
       "    <tr>\n",
       "      <th>1</th>\n",
       "      <td>Neural Network</td>\n",
       "      <td>0.851241</td>\n",
       "      <td>NaN</td>\n",
       "    </tr>\n",
       "    <tr>\n",
       "      <th>2</th>\n",
       "      <td>XGBoost Regression</td>\n",
       "      <td>0.870000</td>\n",
       "      <td>7.426406e+08</td>\n",
       "    </tr>\n",
       "  </tbody>\n",
       "</table>\n",
       "</div>"
      ],
      "text/plain": [
       "            Algorithm  R2 Score           MSE\n",
       "0   Linear Regression  0.670000  1.890050e+09\n",
       "1      Neural Network  0.851241           NaN\n",
       "2  XGBoost Regression  0.870000  7.426406e+08"
      ]
     },
     "execution_count": 998,
     "metadata": {},
     "output_type": "execute_result"
    }
   ],
   "source": [
    "training_summary = fa.get_training_summary()\n",
    "training_summary"
   ]
  }
 ],
 "metadata": {
  "kernelspec": {
   "display_name": "Python 3 (ipykernel)",
   "language": "python",
   "name": "python3"
  },
  "language_info": {
   "codemirror_mode": {
    "name": "ipython",
    "version": 3
   },
   "file_extension": ".py",
   "mimetype": "text/x-python",
   "name": "python",
   "nbconvert_exporter": "python",
   "pygments_lexer": "ipython3",
   "version": "3.10.4"
  }
 },
 "nbformat": 4,
 "nbformat_minor": 5
}
