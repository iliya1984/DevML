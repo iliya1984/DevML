{
 "cells": [
  {
   "cell_type": "markdown",
   "id": "9d668ab7",
   "metadata": {},
   "source": [
    "# Machine Learning Infrastructure Library"
   ]
  },
  {
   "cell_type": "markdown",
   "id": "1b998259",
   "metadata": {},
   "source": [
    "## Logging"
   ]
  },
  {
   "cell_type": "code",
   "execution_count": 2,
   "id": "68fcf621",
   "metadata": {},
   "outputs": [],
   "source": [
    "class NotebookLogger:\n",
    "    def __init__(self, enable_diagnostics):\n",
    "        self.enable_diagnostics = enable_diagnostics\n",
    "        \n",
    "    def error(self, error_message):\n",
    "        self.__log(f'\\033[91m{error_message}')\n",
    "    \n",
    "    def trace(self, message):\n",
    "        if self.enable_diagnostics:\n",
    "            self.__log(f'\\033[94m{message}')\n",
    "    \n",
    "    def info(self, message):\n",
    "        self.__log(f'\\033[92m{message}')\n",
    "        \n",
    "    def __log(self, message):\n",
    "         print(message)\n",
    "\n",
    "class LoggerFactory:\n",
    "    \n",
    "    def logger(enable_diagnostics):\n",
    "        logger = NotebookLogger(enable_diagnostics=enable_diagnostics)\n",
    "        return logger"
   ]
  }
 ],
 "metadata": {
  "kernelspec": {
   "display_name": "Python 3 (ipykernel)",
   "language": "python",
   "name": "python3"
  },
  "language_info": {
   "codemirror_mode": {
    "name": "ipython",
    "version": 3
   },
   "file_extension": ".py",
   "mimetype": "text/x-python",
   "name": "python",
   "nbconvert_exporter": "python",
   "pygments_lexer": "ipython3",
   "version": "3.10.4"
  }
 },
 "nbformat": 4,
 "nbformat_minor": 5
}
