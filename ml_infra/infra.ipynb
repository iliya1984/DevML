{
 "cells": [
  {
   "cell_type": "markdown",
   "id": "a3f6ac50",
   "metadata": {},
   "source": [
    "# Machine Learning Infrastructure Library"
   ]
  },
  {
   "cell_type": "markdown",
   "id": "b3a7cae6",
   "metadata": {},
   "source": [
    "## Logging"
   ]
  },
  {
   "cell_type": "code",
   "execution_count": 1,
   "id": "b1c50ed8",
   "metadata": {},
   "outputs": [],
   "source": [
    "class Logger:\n",
    "    def __init__(self, enable_diagnostics):\n",
    "        self.enable_diagnostics = enable_diagnostics\n",
    "        \n",
    "    def error(self, error_message):\n",
    "        self.__log(f'\\033[91m{error_message}')\n",
    "    \n",
    "    def trace(self, message):\n",
    "        if self.enable_diagnostics:\n",
    "            self.__log(f'\\033[94m{message}')\n",
    "    \n",
    "    def info(self, message):\n",
    "        self.__log(f'\\033[92m{message}')\n",
    "        \n",
    "    def __log(self, message):\n",
    "         print(message)\n",
    "\n",
    "class LoggerFactory:\n",
    "    \n",
    "    def logger(enable_diagnostics):\n",
    "        logger = Logger(enable_diagnostics=enable_diagnostics)\n",
    "        return logger"
   ]
  }
 ],
 "metadata": {
  "kernelspec": {
   "display_name": "Python 3 (ipykernel)",
   "language": "python",
   "name": "python3"
  },
  "language_info": {
   "codemirror_mode": {
    "name": "ipython",
    "version": 3
   },
   "file_extension": ".py",
   "mimetype": "text/x-python",
   "name": "python",
   "nbconvert_exporter": "python",
   "pygments_lexer": "ipython3",
   "version": "3.10.4"
  }
 },
 "nbformat": 4,
 "nbformat_minor": 5
}
