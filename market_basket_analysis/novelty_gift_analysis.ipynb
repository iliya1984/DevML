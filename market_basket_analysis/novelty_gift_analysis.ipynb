{
 "cells": [
  {
   "cell_type": "code",
   "execution_count": 29,
   "id": "5b5a7514",
   "metadata": {},
   "outputs": [],
   "source": [
    "import numpy as np\n",
    "import pandas as pd\n",
    "import matplotlib.pyplot as plt\n",
    "import seaborn as sns\n",
    "\n",
    "import networkx as nx\n",
    "import warnings\n",
    "from itertools import permutations\n",
    "\n",
    "from mlxtend.preprocessing import TransactionEncoder"
   ]
  },
  {
   "cell_type": "code",
   "execution_count": 30,
   "id": "5d7e18fa",
   "metadata": {},
   "outputs": [],
   "source": [
    "class Columns:\n",
    "    INVOICE_NO = 'InvoiceNo'\n",
    "    STOCK_CODE = 'StockCode'\n",
    "    DESCRIPTION = 'Description'"
   ]
  },
  {
   "cell_type": "code",
   "execution_count": 31,
   "id": "a6afc5eb",
   "metadata": {},
   "outputs": [
    {
     "data": {
      "text/html": [
       "<div>\n",
       "<style scoped>\n",
       "    .dataframe tbody tr th:only-of-type {\n",
       "        vertical-align: middle;\n",
       "    }\n",
       "\n",
       "    .dataframe tbody tr th {\n",
       "        vertical-align: top;\n",
       "    }\n",
       "\n",
       "    .dataframe thead th {\n",
       "        text-align: right;\n",
       "    }\n",
       "</style>\n",
       "<table border=\"1\" class=\"dataframe\">\n",
       "  <thead>\n",
       "    <tr style=\"text-align: right;\">\n",
       "      <th></th>\n",
       "      <th>InvoiceNo</th>\n",
       "      <th>StockCode</th>\n",
       "      <th>Description</th>\n",
       "    </tr>\n",
       "  </thead>\n",
       "  <tbody>\n",
       "    <tr>\n",
       "      <th>0</th>\n",
       "      <td>562583</td>\n",
       "      <td>35637A</td>\n",
       "      <td>IVORY STRING CURTAIN WITH POLE</td>\n",
       "    </tr>\n",
       "    <tr>\n",
       "      <th>1</th>\n",
       "      <td>562583</td>\n",
       "      <td>35638A</td>\n",
       "      <td>PINK AND BLACK STRING CURTAIN</td>\n",
       "    </tr>\n",
       "    <tr>\n",
       "      <th>2</th>\n",
       "      <td>562583</td>\n",
       "      <td>84927F</td>\n",
       "      <td>PSYCHEDELIC TILE HOOK</td>\n",
       "    </tr>\n",
       "    <tr>\n",
       "      <th>3</th>\n",
       "      <td>562583</td>\n",
       "      <td>22425</td>\n",
       "      <td>ENAMEL COLANDER CREAM</td>\n",
       "    </tr>\n",
       "    <tr>\n",
       "      <th>4</th>\n",
       "      <td>562583</td>\n",
       "      <td>16008</td>\n",
       "      <td>SMALL FOLDING SCISSOR(POINTED EDGE)</td>\n",
       "    </tr>\n",
       "  </tbody>\n",
       "</table>\n",
       "</div>"
      ],
      "text/plain": [
       "  InvoiceNo StockCode                          Description\n",
       "0    562583    35637A      IVORY STRING CURTAIN WITH POLE \n",
       "1    562583    35638A        PINK AND BLACK STRING CURTAIN\n",
       "2    562583    84927F                PSYCHEDELIC TILE HOOK\n",
       "3    562583     22425                ENAMEL COLANDER CREAM\n",
       "4    562583     16008  SMALL FOLDING SCISSOR(POINTED EDGE)"
      ]
     },
     "execution_count": 31,
     "metadata": {},
     "output_type": "execute_result"
    }
   ],
   "source": [
    "gifts_df = pd.read_csv('../datasets/market_basket/online_retail.csv')\n",
    "gifts_df.head()"
   ]
  },
  {
   "cell_type": "code",
   "execution_count": 32,
   "id": "ea72a80c",
   "metadata": {},
   "outputs": [
    {
     "name": "stdout",
     "output_type": "stream",
     "text": [
      "<class 'pandas.core.frame.DataFrame'>\n",
      "RangeIndex: 227760 entries, 0 to 227759\n",
      "Data columns (total 3 columns):\n",
      " #   Column       Non-Null Count   Dtype \n",
      "---  ------       --------------   ----- \n",
      " 0   InvoiceNo    227760 non-null  object\n",
      " 1   StockCode    227760 non-null  object\n",
      " 2   Description  227404 non-null  object\n",
      "dtypes: object(3)\n",
      "memory usage: 5.2+ MB\n"
     ]
    }
   ],
   "source": [
    "gifts_df.info()"
   ]
  },
  {
   "cell_type": "code",
   "execution_count": 33,
   "id": "fd3157d9",
   "metadata": {},
   "outputs": [
    {
     "data": {
      "text/html": [
       "<div>\n",
       "<style scoped>\n",
       "    .dataframe tbody tr th:only-of-type {\n",
       "        vertical-align: middle;\n",
       "    }\n",
       "\n",
       "    .dataframe tbody tr th {\n",
       "        vertical-align: top;\n",
       "    }\n",
       "\n",
       "    .dataframe thead th {\n",
       "        text-align: right;\n",
       "    }\n",
       "</style>\n",
       "<table border=\"1\" class=\"dataframe\">\n",
       "  <thead>\n",
       "    <tr style=\"text-align: right;\">\n",
       "      <th></th>\n",
       "      <th>InvoiceNo</th>\n",
       "      <th>StockCode</th>\n",
       "      <th>Description</th>\n",
       "    </tr>\n",
       "  </thead>\n",
       "  <tbody>\n",
       "    <tr>\n",
       "      <th>0</th>\n",
       "      <td>562583</td>\n",
       "      <td>35637A</td>\n",
       "      <td>IVORY STRING CURTAIN WITH POLE</td>\n",
       "    </tr>\n",
       "    <tr>\n",
       "      <th>1</th>\n",
       "      <td>562583</td>\n",
       "      <td>35638A</td>\n",
       "      <td>PINK AND BLACK STRING CURTAIN</td>\n",
       "    </tr>\n",
       "    <tr>\n",
       "      <th>2</th>\n",
       "      <td>562583</td>\n",
       "      <td>84927F</td>\n",
       "      <td>PSYCHEDELIC TILE HOOK</td>\n",
       "    </tr>\n",
       "    <tr>\n",
       "      <th>3</th>\n",
       "      <td>562583</td>\n",
       "      <td>22425</td>\n",
       "      <td>ENAMEL COLANDER CREAM</td>\n",
       "    </tr>\n",
       "    <tr>\n",
       "      <th>4</th>\n",
       "      <td>562583</td>\n",
       "      <td>16008</td>\n",
       "      <td>SMALL FOLDING SCISSOR(POINTED EDGE)</td>\n",
       "    </tr>\n",
       "  </tbody>\n",
       "</table>\n",
       "</div>"
      ],
      "text/plain": [
       "  InvoiceNo StockCode                          Description\n",
       "0    562583    35637A       IVORY STRING CURTAIN WITH POLE\n",
       "1    562583    35638A        PINK AND BLACK STRING CURTAIN\n",
       "2    562583    84927F                PSYCHEDELIC TILE HOOK\n",
       "3    562583     22425                ENAMEL COLANDER CREAM\n",
       "4    562583     16008  SMALL FOLDING SCISSOR(POINTED EDGE)"
      ]
     },
     "execution_count": 33,
     "metadata": {},
     "output_type": "execute_result"
    }
   ],
   "source": [
    "#Remove leading and trailing characters in the Description column\n",
    "gifts_df[Columns.DESCRIPTION] = gifts_df[Columns.DESCRIPTION].str.strip()\n",
    "gifts_df.head()"
   ]
  },
  {
   "cell_type": "code",
   "execution_count": 35,
   "id": "7a6acf55",
   "metadata": {},
   "outputs": [
    {
     "data": {
      "text/plain": [
       "pandas.core.strings.accessor.StringMethods"
      ]
     },
     "execution_count": 35,
     "metadata": {},
     "output_type": "execute_result"
    }
   ],
   "source": []
  }
 ],
 "metadata": {
  "kernelspec": {
   "display_name": "Python 3 (ipykernel)",
   "language": "python",
   "name": "python3"
  },
  "language_info": {
   "codemirror_mode": {
    "name": "ipython",
    "version": 3
   },
   "file_extension": ".py",
   "mimetype": "text/x-python",
   "name": "python",
   "nbconvert_exporter": "python",
   "pygments_lexer": "ipython3",
   "version": "3.10.4"
  }
 },
 "nbformat": 4,
 "nbformat_minor": 5
}
