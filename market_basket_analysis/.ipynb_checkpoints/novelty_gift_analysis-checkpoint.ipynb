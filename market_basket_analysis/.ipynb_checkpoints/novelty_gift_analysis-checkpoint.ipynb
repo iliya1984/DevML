{
 "cells": [
  {
   "cell_type": "code",
   "execution_count": 1,
   "id": "4fe7f2b6",
   "metadata": {},
   "outputs": [],
   "source": [
    "import os\n",
    "import numpy as np\n",
    "import pandas as pd\n",
    "import matplotlib.pyplot as plt\n",
    "import seaborn as sns\n",
    "from pathlib import Path\n",
    "\n",
    "import networkx as nx\n",
    "import warnings\n",
    "from itertools import permutations\n",
    "\n",
    "from mlxtend.preprocessing import TransactionEncoder"
   ]
  },
  {
   "cell_type": "code",
   "execution_count": 2,
   "id": "d2d4f92f",
   "metadata": {},
   "outputs": [],
   "source": [
    "class Columns:\n",
    "    INVOICE_NO = 'invoice_no'\n",
    "    STOCK_CODE = 'stock_code'\n",
    "    DESCRIPTION = 'description'\n",
    "    \n",
    "class Aggregate:\n",
    "    \n",
    "    def __init__(self, df):\n",
    "        self.df = df\n",
    "    \n",
    "    #Select the column headers for sign items\n",
    "    def apply(self, item):\n",
    "        headers = []\n",
    "        \n",
    "        for i in self.df.columns:\n",
    "            word_list = self.__word_list(str(i).lower())\n",
    "            if item in word_list:\n",
    "                headers.append(i)\n",
    "            \n",
    "            \n",
    "        # Select columns for this items\n",
    "        item_columns = self.df[headers]\n",
    "            \n",
    "        # Return category of aggregated items\n",
    "        return item_columns.sum(axis = 1) >= 1.0\n",
    "            \n",
    "    def __word_list(self, value):\n",
    "        splited = list(value.split(' '))\n",
    "        return splited\n",
    "    "
   ]
  },
  {
   "cell_type": "code",
   "execution_count": 3,
   "id": "06b7df09",
   "metadata": {},
   "outputs": [
    {
     "data": {
      "text/html": [
       "<div>\n",
       "<style scoped>\n",
       "    .dataframe tbody tr th:only-of-type {\n",
       "        vertical-align: middle;\n",
       "    }\n",
       "\n",
       "    .dataframe tbody tr th {\n",
       "        vertical-align: top;\n",
       "    }\n",
       "\n",
       "    .dataframe thead th {\n",
       "        text-align: right;\n",
       "    }\n",
       "</style>\n",
       "<table border=\"1\" class=\"dataframe\">\n",
       "  <thead>\n",
       "    <tr style=\"text-align: right;\">\n",
       "      <th></th>\n",
       "      <th>invoice_no</th>\n",
       "      <th>stock_code</th>\n",
       "      <th>description</th>\n",
       "    </tr>\n",
       "  </thead>\n",
       "  <tbody>\n",
       "    <tr>\n",
       "      <th>0</th>\n",
       "      <td>562583</td>\n",
       "      <td>35637A</td>\n",
       "      <td>IVORY STRING CURTAIN WITH POLE</td>\n",
       "    </tr>\n",
       "    <tr>\n",
       "      <th>1</th>\n",
       "      <td>562583</td>\n",
       "      <td>35638A</td>\n",
       "      <td>PINK AND BLACK STRING CURTAIN</td>\n",
       "    </tr>\n",
       "    <tr>\n",
       "      <th>2</th>\n",
       "      <td>562583</td>\n",
       "      <td>84927F</td>\n",
       "      <td>PSYCHEDELIC TILE HOOK</td>\n",
       "    </tr>\n",
       "    <tr>\n",
       "      <th>3</th>\n",
       "      <td>562583</td>\n",
       "      <td>22425</td>\n",
       "      <td>ENAMEL COLANDER CREAM</td>\n",
       "    </tr>\n",
       "    <tr>\n",
       "      <th>4</th>\n",
       "      <td>562583</td>\n",
       "      <td>16008</td>\n",
       "      <td>SMALL FOLDING SCISSOR(POINTED EDGE)</td>\n",
       "    </tr>\n",
       "  </tbody>\n",
       "</table>\n",
       "</div>"
      ],
      "text/plain": [
       "  invoice_no stock_code                          description\n",
       "0     562583     35637A      IVORY STRING CURTAIN WITH POLE \n",
       "1     562583     35638A        PINK AND BLACK STRING CURTAIN\n",
       "2     562583     84927F                PSYCHEDELIC TILE HOOK\n",
       "3     562583      22425                ENAMEL COLANDER CREAM\n",
       "4     562583      16008  SMALL FOLDING SCISSOR(POINTED EDGE)"
      ]
     },
     "execution_count": 3,
     "metadata": {},
     "output_type": "execute_result"
    }
   ],
   "source": [
    "gifts_df = pd.read_csv('../datasets/market_basket/online_retail.csv')\n",
    "\n",
    "gifts_df.rename(columns={ \\\n",
    "    'InvoiceNo' : 'invoice_no', \\\n",
    "    'StockCode' : 'stock_code', \\\n",
    "    'Description' : 'description' \\\n",
    "    }, inplace=True)\n",
    "\n",
    "gifts_df.head()"
   ]
  },
  {
   "cell_type": "code",
   "execution_count": 4,
   "id": "35ffffe2",
   "metadata": {},
   "outputs": [
    {
     "name": "stdout",
     "output_type": "stream",
     "text": [
      "<class 'pandas.core.frame.DataFrame'>\n",
      "RangeIndex: 227760 entries, 0 to 227759\n",
      "Data columns (total 3 columns):\n",
      " #   Column       Non-Null Count   Dtype \n",
      "---  ------       --------------   ----- \n",
      " 0   invoice_no   227760 non-null  object\n",
      " 1   stock_code   227760 non-null  object\n",
      " 2   description  227404 non-null  object\n",
      "dtypes: object(3)\n",
      "memory usage: 5.2+ MB\n"
     ]
    }
   ],
   "source": [
    "gifts_df.info()"
   ]
  },
  {
   "cell_type": "code",
   "execution_count": 5,
   "id": "c307bc18",
   "metadata": {},
   "outputs": [
    {
     "data": {
      "text/html": [
       "<div>\n",
       "<style scoped>\n",
       "    .dataframe tbody tr th:only-of-type {\n",
       "        vertical-align: middle;\n",
       "    }\n",
       "\n",
       "    .dataframe tbody tr th {\n",
       "        vertical-align: top;\n",
       "    }\n",
       "\n",
       "    .dataframe thead th {\n",
       "        text-align: right;\n",
       "    }\n",
       "</style>\n",
       "<table border=\"1\" class=\"dataframe\">\n",
       "  <thead>\n",
       "    <tr style=\"text-align: right;\">\n",
       "      <th></th>\n",
       "      <th>invoice_no</th>\n",
       "      <th>stock_code</th>\n",
       "      <th>description</th>\n",
       "    </tr>\n",
       "  </thead>\n",
       "  <tbody>\n",
       "    <tr>\n",
       "      <th>0</th>\n",
       "      <td>562583</td>\n",
       "      <td>35637A</td>\n",
       "      <td>IVORY STRING CURTAIN WITH POLE</td>\n",
       "    </tr>\n",
       "    <tr>\n",
       "      <th>1</th>\n",
       "      <td>562583</td>\n",
       "      <td>35638A</td>\n",
       "      <td>PINK AND BLACK STRING CURTAIN</td>\n",
       "    </tr>\n",
       "    <tr>\n",
       "      <th>2</th>\n",
       "      <td>562583</td>\n",
       "      <td>84927F</td>\n",
       "      <td>PSYCHEDELIC TILE HOOK</td>\n",
       "    </tr>\n",
       "    <tr>\n",
       "      <th>3</th>\n",
       "      <td>562583</td>\n",
       "      <td>22425</td>\n",
       "      <td>ENAMEL COLANDER CREAM</td>\n",
       "    </tr>\n",
       "    <tr>\n",
       "      <th>4</th>\n",
       "      <td>562583</td>\n",
       "      <td>16008</td>\n",
       "      <td>SMALL FOLDING SCISSOR(POINTED EDGE)</td>\n",
       "    </tr>\n",
       "  </tbody>\n",
       "</table>\n",
       "</div>"
      ],
      "text/plain": [
       "  invoice_no stock_code                          description\n",
       "0     562583     35637A       IVORY STRING CURTAIN WITH POLE\n",
       "1     562583     35638A        PINK AND BLACK STRING CURTAIN\n",
       "2     562583     84927F                PSYCHEDELIC TILE HOOK\n",
       "3     562583      22425                ENAMEL COLANDER CREAM\n",
       "4     562583      16008  SMALL FOLDING SCISSOR(POINTED EDGE)"
      ]
     },
     "execution_count": 5,
     "metadata": {},
     "output_type": "execute_result"
    }
   ],
   "source": [
    "#Remove leading and trailing characters in the Description column\n",
    "gifts_df[Columns.DESCRIPTION] = gifts_df[Columns.DESCRIPTION].str.strip()\n",
    "gifts_df.head()"
   ]
  },
  {
   "cell_type": "code",
   "execution_count": 6,
   "id": "03a9a501",
   "metadata": {},
   "outputs": [
    {
     "name": "stdout",
     "output_type": "stream",
     "text": [
      "Row count dropped from 227760 to 227760\n"
     ]
    },
    {
     "data": {
      "text/plain": [
       "invoice_no     object\n",
       "stock_code     object\n",
       "description    object\n",
       "dtype: object"
      ]
     },
     "execution_count": 6,
     "metadata": {},
     "output_type": "execute_result"
    }
   ],
   "source": [
    "#Dropping the rows without any invoice number\n",
    "row_count = len(gifts_df)\n",
    "\n",
    "gifts_df.dropna(subset=[Columns.INVOICE_NO], inplace=True)\n",
    "gifts_df[Columns.INVOICE_NO] = gifts_df[Columns.INVOICE_NO].astype('str')\n",
    "\n",
    "print(f'Row count dropped from {row_count} to {len(gifts_df)}')\n",
    "\n",
    "gifts_df.dtypes"
   ]
  },
  {
   "cell_type": "code",
   "execution_count": 7,
   "id": "297e1f01",
   "metadata": {},
   "outputs": [
    {
     "name": "stdout",
     "output_type": "stream",
     "text": [
      "Row count dropped from 227760 to 224372\n"
     ]
    }
   ],
   "source": [
    "# Dropping all transactions which were done on credit\n",
    "row_count = len(gifts_df)\n",
    "\n",
    "filt = ~gifts_df[Columns.INVOICE_NO].str.contains('C')\n",
    "gifts_df = gifts_df[filt]\n",
    "\n",
    "print(f'Row count dropped from {row_count} to {len(gifts_df)}')"
   ]
  },
  {
   "cell_type": "code",
   "execution_count": 8,
   "id": "0487c21c",
   "metadata": {},
   "outputs": [
    {
     "name": "stdout",
     "output_type": "stream",
     "text": [
      "Number of transactions is 8410\n",
      "Number of items is 3447\n"
     ]
    }
   ],
   "source": [
    "print(f'Number of transactions is {len(gifts_df[Columns.INVOICE_NO].unique())}')\n",
    "print(f'Number of items is {len(gifts_df[Columns.DESCRIPTION].unique())}')"
   ]
  },
  {
   "cell_type": "code",
   "execution_count": 9,
   "id": "2097f2e0",
   "metadata": {},
   "outputs": [
    {
     "name": "stdout",
     "output_type": "stream",
     "text": [
      "8410 unique invoice numbers was found\n"
     ]
    }
   ],
   "source": [
    "# Recover unique InvoiceNo's.\n",
    "invoice_numbers = gifts_df[Columns.INVOICE_NO].unique()\n",
    "print(f'{len(invoice_numbers)} unique invoice numbers was found')"
   ]
  },
  {
   "cell_type": "code",
   "execution_count": 10,
   "id": "7dcb1ace",
   "metadata": {},
   "outputs": [],
   "source": [
    "def extract_transactions(df):\n",
    "    #Create a basket of items for each transaction\n",
    "    transactions = []\n",
    "\n",
    "    i = 1\n",
    "    for invoice_no in invoice_numbers:\n",
    "        if i % 500 == 0:\n",
    "            print(f'{i} invoice numbers were processed')\n",
    "        \n",
    "        filt = gifts_df[Columns.INVOICE_NO] == invoice_no\n",
    "        transaction = list(gifts_df[filt].description.astype(str))\n",
    "        transactions.append(transaction)\n",
    "        i = i + 1\n",
    "    return transactions"
   ]
  },
  {
   "cell_type": "code",
   "execution_count": 11,
   "id": "c9477877",
   "metadata": {},
   "outputs": [
    {
     "data": {
      "text/plain": [
       "True"
      ]
     },
     "execution_count": 11,
     "metadata": {},
     "output_type": "execute_result"
    }
   ],
   "source": [
    "item_map_file_path = '../datasets/outputs/market_basket/gits_item_map.csv'\n",
    "is_item_map_file_exists = os.path.isfile(item_map_file_path)\n",
    "is_item_map_file_exists"
   ]
  },
  {
   "cell_type": "code",
   "execution_count": 12,
   "id": "b5bd99cb",
   "metadata": {},
   "outputs": [
    {
     "name": "stdout",
     "output_type": "stream",
     "text": [
      "item_map_df already exists and was loaded\n"
     ]
    },
    {
     "data": {
      "text/html": [
       "<div>\n",
       "<style scoped>\n",
       "    .dataframe tbody tr th:only-of-type {\n",
       "        vertical-align: middle;\n",
       "    }\n",
       "\n",
       "    .dataframe tbody tr th {\n",
       "        vertical-align: top;\n",
       "    }\n",
       "\n",
       "    .dataframe thead th {\n",
       "        text-align: right;\n",
       "    }\n",
       "</style>\n",
       "<table border=\"1\" class=\"dataframe\">\n",
       "  <thead>\n",
       "    <tr style=\"text-align: right;\">\n",
       "      <th></th>\n",
       "      <th>Unnamed: 0</th>\n",
       "      <th>10 COLOUR SPACEBOY PEN</th>\n",
       "      <th>12 COLOURED PARTY BALLOONS</th>\n",
       "      <th>12 DAISY PEGS IN WOOD BOX</th>\n",
       "      <th>12 EGG HOUSE PAINTED WOOD</th>\n",
       "      <th>12 HANGING EGGS HAND PAINTED</th>\n",
       "      <th>12 IVORY ROSE PEG PLACE SETTINGS</th>\n",
       "      <th>12 MESSAGE CARDS WITH ENVELOPES</th>\n",
       "      <th>12 PENCIL SMALL TUBE WOODLAND</th>\n",
       "      <th>12 PENCILS SMALL TUBE RED RETROSPOT</th>\n",
       "      <th>...</th>\n",
       "      <th>wet boxes</th>\n",
       "      <th>wet pallet</th>\n",
       "      <th>wet rusty</th>\n",
       "      <th>wet?</th>\n",
       "      <th>wrongly coded 20713</th>\n",
       "      <th>wrongly coded 23343</th>\n",
       "      <th>wrongly coded-23343</th>\n",
       "      <th>wrongly marked</th>\n",
       "      <th>wrongly marked 23343</th>\n",
       "      <th>wrongly marked carton 22804</th>\n",
       "    </tr>\n",
       "  </thead>\n",
       "  <tbody>\n",
       "    <tr>\n",
       "      <th>0</th>\n",
       "      <td>0</td>\n",
       "      <td>False</td>\n",
       "      <td>False</td>\n",
       "      <td>False</td>\n",
       "      <td>False</td>\n",
       "      <td>False</td>\n",
       "      <td>False</td>\n",
       "      <td>False</td>\n",
       "      <td>False</td>\n",
       "      <td>False</td>\n",
       "      <td>...</td>\n",
       "      <td>False</td>\n",
       "      <td>False</td>\n",
       "      <td>False</td>\n",
       "      <td>False</td>\n",
       "      <td>False</td>\n",
       "      <td>False</td>\n",
       "      <td>False</td>\n",
       "      <td>False</td>\n",
       "      <td>False</td>\n",
       "      <td>False</td>\n",
       "    </tr>\n",
       "    <tr>\n",
       "      <th>1</th>\n",
       "      <td>1</td>\n",
       "      <td>False</td>\n",
       "      <td>False</td>\n",
       "      <td>False</td>\n",
       "      <td>False</td>\n",
       "      <td>False</td>\n",
       "      <td>False</td>\n",
       "      <td>False</td>\n",
       "      <td>False</td>\n",
       "      <td>False</td>\n",
       "      <td>...</td>\n",
       "      <td>False</td>\n",
       "      <td>False</td>\n",
       "      <td>False</td>\n",
       "      <td>False</td>\n",
       "      <td>False</td>\n",
       "      <td>False</td>\n",
       "      <td>False</td>\n",
       "      <td>False</td>\n",
       "      <td>False</td>\n",
       "      <td>False</td>\n",
       "    </tr>\n",
       "    <tr>\n",
       "      <th>2</th>\n",
       "      <td>2</td>\n",
       "      <td>False</td>\n",
       "      <td>False</td>\n",
       "      <td>False</td>\n",
       "      <td>False</td>\n",
       "      <td>False</td>\n",
       "      <td>False</td>\n",
       "      <td>False</td>\n",
       "      <td>False</td>\n",
       "      <td>False</td>\n",
       "      <td>...</td>\n",
       "      <td>False</td>\n",
       "      <td>False</td>\n",
       "      <td>False</td>\n",
       "      <td>False</td>\n",
       "      <td>False</td>\n",
       "      <td>False</td>\n",
       "      <td>False</td>\n",
       "      <td>False</td>\n",
       "      <td>False</td>\n",
       "      <td>False</td>\n",
       "    </tr>\n",
       "    <tr>\n",
       "      <th>3</th>\n",
       "      <td>3</td>\n",
       "      <td>False</td>\n",
       "      <td>False</td>\n",
       "      <td>False</td>\n",
       "      <td>False</td>\n",
       "      <td>False</td>\n",
       "      <td>False</td>\n",
       "      <td>False</td>\n",
       "      <td>False</td>\n",
       "      <td>False</td>\n",
       "      <td>...</td>\n",
       "      <td>False</td>\n",
       "      <td>False</td>\n",
       "      <td>False</td>\n",
       "      <td>False</td>\n",
       "      <td>False</td>\n",
       "      <td>False</td>\n",
       "      <td>False</td>\n",
       "      <td>False</td>\n",
       "      <td>False</td>\n",
       "      <td>False</td>\n",
       "    </tr>\n",
       "    <tr>\n",
       "      <th>4</th>\n",
       "      <td>4</td>\n",
       "      <td>False</td>\n",
       "      <td>True</td>\n",
       "      <td>False</td>\n",
       "      <td>False</td>\n",
       "      <td>False</td>\n",
       "      <td>False</td>\n",
       "      <td>True</td>\n",
       "      <td>False</td>\n",
       "      <td>False</td>\n",
       "      <td>...</td>\n",
       "      <td>False</td>\n",
       "      <td>False</td>\n",
       "      <td>False</td>\n",
       "      <td>False</td>\n",
       "      <td>False</td>\n",
       "      <td>False</td>\n",
       "      <td>False</td>\n",
       "      <td>False</td>\n",
       "      <td>False</td>\n",
       "      <td>False</td>\n",
       "    </tr>\n",
       "  </tbody>\n",
       "</table>\n",
       "<p>5 rows × 3447 columns</p>\n",
       "</div>"
      ],
      "text/plain": [
       "   Unnamed: 0  10 COLOUR SPACEBOY PEN  12 COLOURED PARTY BALLOONS  \\\n",
       "0           0                   False                       False   \n",
       "1           1                   False                       False   \n",
       "2           2                   False                       False   \n",
       "3           3                   False                       False   \n",
       "4           4                   False                        True   \n",
       "\n",
       "   12 DAISY PEGS IN WOOD BOX  12 EGG HOUSE PAINTED WOOD  \\\n",
       "0                      False                      False   \n",
       "1                      False                      False   \n",
       "2                      False                      False   \n",
       "3                      False                      False   \n",
       "4                      False                      False   \n",
       "\n",
       "   12 HANGING EGGS HAND PAINTED  12 IVORY ROSE PEG PLACE SETTINGS  \\\n",
       "0                         False                             False   \n",
       "1                         False                             False   \n",
       "2                         False                             False   \n",
       "3                         False                             False   \n",
       "4                         False                             False   \n",
       "\n",
       "   12 MESSAGE CARDS WITH ENVELOPES  12 PENCIL SMALL TUBE WOODLAND  \\\n",
       "0                            False                          False   \n",
       "1                            False                          False   \n",
       "2                            False                          False   \n",
       "3                            False                          False   \n",
       "4                             True                          False   \n",
       "\n",
       "   12 PENCILS SMALL TUBE RED RETROSPOT  ...  wet boxes  wet pallet  wet rusty  \\\n",
       "0                                False  ...      False       False      False   \n",
       "1                                False  ...      False       False      False   \n",
       "2                                False  ...      False       False      False   \n",
       "3                                False  ...      False       False      False   \n",
       "4                                False  ...      False       False      False   \n",
       "\n",
       "    wet?  wrongly coded 20713  wrongly coded 23343  wrongly coded-23343  \\\n",
       "0  False                False                False                False   \n",
       "1  False                False                False                False   \n",
       "2  False                False                False                False   \n",
       "3  False                False                False                False   \n",
       "4  False                False                False                False   \n",
       "\n",
       "   wrongly marked  wrongly marked 23343  wrongly marked carton 22804  \n",
       "0           False                 False                        False  \n",
       "1           False                 False                        False  \n",
       "2           False                 False                        False  \n",
       "3           False                 False                        False  \n",
       "4           False                 False                        False  \n",
       "\n",
       "[5 rows x 3447 columns]"
      ]
     },
     "execution_count": 12,
     "metadata": {},
     "output_type": "execute_result"
    }
   ],
   "source": [
    "item_map_df = None\n",
    "\n",
    "if is_item_map_file_exists:\n",
    "    item_map_df = pd.read_csv(item_map_file_path)\n",
    "    print('item_map_df already exists and was loaded')\n",
    "else:\n",
    "    print('Extracting transactions can take a few minutes\\n')\n",
    "    transactions = extract_transactions(gifts_df)\n",
    "    \n",
    "    # Instantiate transaction encoder.\n",
    "    encoder = TransactionEncoder()\n",
    "\n",
    "    # One-hot encode transactions.\n",
    "    item_map = encoder.fit(transactions).transform(transactions)\n",
    "\n",
    "    # Use unique items as column headers.\n",
    "    item_map_df = pd.DataFrame(item_map, columns = encoder.columns_).drop('nan', axis=1)\n",
    "\n",
    "    item_map_df.to_csv(index=False)\n",
    "\n",
    "    filepath = Path(item_map_file_path)  \n",
    "    filepath.parent.mkdir(parents=True, exist_ok=True)\n",
    "    item_map_df.to_csv(filepath)\n",
    "\n",
    "    print('\\nStored item_map_df as a file on disk')\n",
    "        \n",
    "# Print onehot header.\n",
    "item_map_df.head()"
   ]
  },
  {
   "cell_type": "code",
   "execution_count": 14,
   "id": "863b9192",
   "metadata": {},
   "outputs": [
    {
     "name": "stdout",
     "output_type": "stream",
     "text": [
      "Share of Bags: 0.41\n",
      "Share of Boxes: 0.39\n",
      "Share of Candles: 0.11\n"
     ]
    }
   ],
   "source": [
    "#Aggregate class examples\n",
    "aggregate = Aggregate(item_map_df)\n",
    "\n",
    "bags = aggregate.apply('bag')\n",
    "boxes = aggregate.apply('box')\n",
    "candles = aggregate.apply('candle')\n",
    "\n",
    "print('Share of Bags: %.2f' % bags.mean())\n",
    "print('Share of Boxes: %.2f' % boxes.mean())\n",
    "print('Share of Candles: %.2f' % candles.mean())"
   ]
  }
 ],
 "metadata": {
  "kernelspec": {
   "display_name": "Python 3 (ipykernel)",
   "language": "python",
   "name": "python3"
  },
  "language_info": {
   "codemirror_mode": {
    "name": "ipython",
    "version": 3
   },
   "file_extension": ".py",
   "mimetype": "text/x-python",
   "name": "python",
   "nbconvert_exporter": "python",
   "pygments_lexer": "ipython3",
   "version": "3.10.4"
  }
 },
 "nbformat": 4,
 "nbformat_minor": 5
}
