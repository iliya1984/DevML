{
  "cells": [
    {
      "cell_type": "markdown",
      "metadata": {
        "id": "view-in-github",
        "colab_type": "text"
      },
      "source": [
        "<a href=\"https://colab.research.google.com/github/iliya1984/DevML/blob/main/yale_face_recognition.ipynb\" target=\"_parent\"><img src=\"https://colab.research.google.com/assets/colab-badge.svg\" alt=\"Open In Colab\"/></a>"
      ]
    },
    {
      "cell_type": "code",
      "execution_count": 2,
      "metadata": {
        "colab": {
          "base_uri": "https://localhost:8080/"
        },
        "id": "XDE5kegObfQk",
        "outputId": "dd754ecf-07e0-48e4-e8b3-b428195b8194"
      },
      "outputs": [
        {
          "output_type": "stream",
          "name": "stdout",
          "text": [
            "Drive already mounted at /content/drive; to attempt to forcibly remount, call drive.mount(\"/content/drive\", force_remount=True).\n"
          ]
        }
      ],
      "source": [
        "from PIL import Image\n",
        "import cv2\n",
        "import numpy as np\n",
        "from google.colab.patches import cv2_imshow\n",
        "from google.colab import drive\n",
        "\n",
        "import zipfile\n",
        "import os\n",
        "import random\n",
        "from sklearn.metrics import accuracy_score\n",
        "\n",
        "drive.mount('/content/drive')"
      ]
    },
    {
      "cell_type": "code",
      "execution_count": 3,
      "metadata": {
        "colab": {
          "base_uri": "https://localhost:8080/"
        },
        "id": "AnA6vvczuDZv",
        "outputId": "fca72f54-4467-4bc3-e8c3-e278d42ce2df"
      },
      "outputs": [
        {
          "output_type": "stream",
          "name": "stdout",
          "text": [
            "content  drive\tsample_data\n"
          ]
        }
      ],
      "source": [
        "! ls"
      ]
    },
    {
      "cell_type": "code",
      "execution_count": 4,
      "metadata": {
        "id": "pBkgDc0wihpS"
      },
      "outputs": [],
      "source": [
        "zip_file_path = '/content/drive/MyDrive/Workspace/Computer Vision/datasets/yalefaces.zip'\n",
        "extract_path = './content/datasets/yalefaces'\n",
        "models_path = './content/models'\n",
        "model_yml_path = models_path + '/lbph_classifier.yml'"
      ]
    },
    {
      "cell_type": "code",
      "execution_count": 5,
      "metadata": {
        "id": "xV49z8Riellc"
      },
      "outputs": [],
      "source": [
        "zip_object = zipfile.ZipFile(file=zip_file_path, mode = 'r')\n",
        "zip_object.extractall(extract_path)\n",
        "zip_object.close()"
      ]
    },
    {
      "cell_type": "code",
      "execution_count": 6,
      "metadata": {
        "id": "5tvDZI1DhiDT"
      },
      "outputs": [],
      "source": [
        "#print(os.listdir(extract_path))"
      ]
    },
    {
      "cell_type": "code",
      "execution_count": 7,
      "metadata": {
        "id": "QyPLOTxuiZFa"
      },
      "outputs": [],
      "source": [
        "class FaceImages:\n",
        "  def __init__(self):\n",
        "    self.images = []\n",
        "\n",
        "  def get_npimages(self):\n",
        "    images = []\n",
        "    for image in self.images:\n",
        "      np_image = image.image\n",
        "      images.append(np_image)\n",
        "    return images\n",
        "\n",
        "  def get_ids(self):\n",
        "    ids = []\n",
        "    for image in self.images:\n",
        "      id = image.id\n",
        "      ids.append(id)\n",
        "\n",
        "    return np.array(ids)\n",
        "\n",
        "class FaceImage:\n",
        "  def __init__(self, id, image):\n",
        "    self.id = id\n",
        "    self.image = image\n",
        "    self.prediction = None\n",
        "\n",
        "def get_image_paths():\n",
        "  image_paths = os.listdir(extract_path)\n",
        "  invalid_paths = []\n",
        "  for path in image_paths:\n",
        "    if not (\"subject\" in path):\n",
        "      print(f'Invalid path \"{path}\"')\n",
        "      invalid_paths.append(path)\n",
        "\n",
        "  for path in invalid_paths:\n",
        "    image_paths.remove(path)\n",
        "    print(f'Removed path \"{path}\"')\n",
        "\n",
        "  return image_paths\n",
        "\n",
        "#paths = [os.path.join(extract_path, f) for f in os.listdir(extract_path)]\n",
        "#print(paths)\n",
        "\n",
        "def get_image_data():\n",
        "  image_paths = get_image_paths()\n",
        "  paths = [os.path.join(extract_path, f) for f in image_paths]\n",
        "  #print(paths)\n",
        "\n",
        "  images = FaceImages()\n",
        "  for path in paths:\n",
        "    #print(path)\n",
        "    image = Image.open(path).convert('L')\n",
        "    #print(type(image))\n",
        "    image_np = np.array(image, 'uint8')\n",
        "    #print(type(image_np))\n",
        "    id = int(os.path.split(path)[1].split('.')[0].replace('subject', ''))\n",
        "    #print(id)\n",
        "    images.images.append(FaceImage(id, image_np))\n",
        "\n",
        "  return images"
      ]
    },
    {
      "cell_type": "code",
      "execution_count": 8,
      "metadata": {
        "colab": {
          "base_uri": "https://localhost:8080/"
        },
        "id": "aEU0AH2Ii8MZ",
        "outputId": "e1f2f12b-fda9-49e8-d7e3-76994ff52bbe"
      },
      "outputs": [
        {
          "output_type": "stream",
          "name": "stdout",
          "text": [
            "Invalid path \"data\"\n",
            "Invalid path \"Readme.txt\"\n",
            "Removed path \"data\"\n",
            "Removed path \"Readme.txt\"\n"
          ]
        }
      ],
      "source": [
        "faces = get_image_data()\n",
        "random.shuffle(faces.images)"
      ]
    },
    {
      "cell_type": "code",
      "execution_count": 9,
      "metadata": {
        "colab": {
          "base_uri": "https://localhost:8080/",
          "height": 260
        },
        "id": "63VKc7Pg2E6B",
        "outputId": "2be81779-b000-4fe3-e7f1-d60547c71ea1"
      },
      "outputs": [
        {
          "output_type": "display_data",
          "data": {
            "text/plain": [
              "<PIL.Image.Image image mode=L size=320x243>"
            ],
            "image/png": "[encoded data removed]"
          },
          "metadata": {}
        }
      ],
      "source": [
        "cv2_imshow(faces.get_npimages()[0])"
      ]
    },
    {
      "cell_type": "code",
      "execution_count": 10,
      "metadata": {
        "colab": {
          "base_uri": "https://localhost:8080/"
        },
        "id": "Lplt2Xzn6IyH",
        "outputId": "9c0f781a-69f6-4f9b-c4de-67b7eb210816"
      },
      "outputs": [
        {
          "output_type": "stream",
          "name": "stdout",
          "text": [
            "Splited faces dataset to a train set of the size 123 and a test set of the size 42\n"
          ]
        }
      ],
      "source": [
        "dataset_size = len(faces.images)\n",
        "train_set = FaceImages()\n",
        "test_set = FaceImages()\n",
        "\n",
        "split_ratio = 0.75\n",
        "split_threshold = int(split_ratio * dataset_size)\n",
        "\n",
        "index = 0;\n",
        "for face in faces.images:\n",
        "  if index < split_threshold:\n",
        "    train_set.images.append(face)\n",
        "  else:\n",
        "    test_set.images.append(face)\n",
        "\n",
        "  index = index + 1\n",
        "\n",
        "print(f'Splited faces dataset to a train set of the size {len(train_set.images)} and a test set of the size {len(test_set.images)}')\n"
      ]
    },
    {
      "cell_type": "code",
      "execution_count": 11,
      "metadata": {
        "colab": {
          "base_uri": "https://localhost:8080/"
        },
        "id": "_Sn5ChDU6fzr",
        "outputId": "a12db53d-1d7b-4bff-c79b-afaf17ba3827"
      },
      "outputs": [
        {
          "output_type": "execute_result",
          "data": {
            "text/plain": [
              "123"
            ]
          },
          "metadata": {},
          "execution_count": 11
        }
      ],
      "source": [
        "len(train_set.get_ids())"
      ]
    },
    {
      "cell_type": "code",
      "execution_count": null,
      "metadata": {
        "id": "liKIgp-V7ceL"
      },
      "outputs": [],
      "source": [
        "lbph_classifier = cv2.face.LBPHFaceRecognizer_create(radius = 4, neighbors=14, grid_x = 9, grid_y = 9)\n",
        "lbph_classifier.train(train_set.get_npimages(), train_set.get_ids())\n",
        "lbph_classifier.write(model_yml_path)"
      ]
    },
    {
      "cell_type": "code",
      "execution_count": 13,
      "metadata": {
        "id": "Yx5DuP-d_jdi"
      },
      "outputs": [],
      "source": [
        "lbph_face_classifier = cv2.face.LBPHFaceRecognizer_create()\n",
        "lbph_face_classifier.read(model_yml_path)"
      ]
    },
    {
      "cell_type": "code",
      "execution_count": 14,
      "metadata": {
        "colab": {
          "base_uri": "https://localhost:8080/"
        },
        "id": "z3jvsBw5MwcX",
        "outputId": "b1430b22-4a77-4c0f-952d-8dfbe60d445f"
      },
      "outputs": [
        {
          "output_type": "execute_result",
          "data": {
            "text/plain": [
              "(2, 76.27042987200709)"
            ]
          },
          "metadata": {},
          "execution_count": 14
        }
      ],
      "source": [
        "test_image = test_set.images[0]\n",
        "prediction = lbph_face_classifier.predict(test_image.image)\n",
        "prediction"
      ]
    },
    {
      "cell_type": "code",
      "execution_count": 15,
      "metadata": {
        "colab": {
          "base_uri": "https://localhost:8080/"
        },
        "id": "oOGJ5nhDNRzP",
        "outputId": "6f3faaaf-ec7e-4e23-9e2d-20c8807803f0"
      },
      "outputs": [
        {
          "output_type": "execute_result",
          "data": {
            "text/plain": [
              "2"
            ]
          },
          "metadata": {},
          "execution_count": 15
        }
      ],
      "source": [
        "test_image.id"
      ]
    },
    {
      "cell_type": "code",
      "execution_count": 16,
      "metadata": {
        "colab": {
          "base_uri": "https://localhost:8080/",
          "height": 260
        },
        "id": "h5xJH84sifz6",
        "outputId": "b6f75f24-c44a-4585-ba30-e2ef2f99497f"
      },
      "outputs": [
        {
          "output_type": "display_data",
          "data": {
            "text/plain": [
              "<PIL.Image.Image image mode=L size=320x243>"
            ],
            "image/png": "[encoded data removed]"
          },
          "metadata": {}
        }
      ],
      "source": [
        "cv2.putText(test_image.image, 'Pred: ' + str(prediction[0]), (10, 30), cv2.FONT_HERSHEY_COMPLEX_SMALL, 1, (0,255,0))\n",
        "cv2.putText(test_image.image, 'Exp: ' + str(test_image.id), (10, 50), cv2.FONT_HERSHEY_COMPLEX_SMALL, 1, (0,255,0))\n",
        "cv2_imshow(test_image.image)"
      ]
    },
    {
      "cell_type": "code",
      "execution_count": 17,
      "metadata": {
        "id": "z7Jzp2DzrKH3"
      },
      "outputs": [],
      "source": [
        "predictions = []\n",
        "labels = []\n",
        "\n",
        "for test_image in test_set.images:\n",
        "  prediction, _ = lbph_face_classifier.predict(test_image.image)\n",
        "  predictions.append(prediction)\n",
        "  labels.append(test_image.id)\n",
        "\n",
        "predictions = np.array(predictions)\n",
        "labels = np.array(labels)"
      ]
    },
    {
      "cell_type": "code",
      "execution_count": 18,
      "metadata": {
        "colab": {
          "base_uri": "https://localhost:8080/"
        },
        "id": "idS64rHOsZq1",
        "outputId": "6833c1fd-e982-4d7e-b1f7-b776bef56ace"
      },
      "outputs": [
        {
          "output_type": "execute_result",
          "data": {
            "text/plain": [
              "0.7857142857142857"
            ]
          },
          "metadata": {},
          "execution_count": 18
        }
      ],
      "source": [
        "accuracy_score(labels, predictions)"
      ]
    }
  ],
  "metadata": {
    "colab": {
      "provenance": [],
      "authorship_tag": "ABX9TyP43SNhJob3LfYdWnpwFVNQ",
      "include_colab_link": true
    },
    "kernelspec": {
      "display_name": "Python 3",
      "name": "python3"
    },
    "language_info": {
      "name": "python"
    }
  },
  "nbformat": 4,
  "nbformat_minor": 0
}