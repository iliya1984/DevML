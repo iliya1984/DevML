{
 "cells": [
  {
   "cell_type": "markdown",
   "id": "14eef222",
   "metadata": {},
   "source": [
    "# Training and testiong a ANN for the Titanic dataset"
   ]
  },
  {
   "cell_type": "markdown",
   "id": "7779f624",
   "metadata": {},
   "source": [
    "## Importing required libraries"
   ]
  },
  {
   "cell_type": "code",
   "execution_count": 278,
   "id": "81e516a2",
   "metadata": {},
   "outputs": [],
   "source": [
    "import pandas as pd\n",
    "import numpy as np\n",
    "\n",
    "import matplotlib.pyplot as plt\n",
    "from scipy import stats\n",
    "\n",
    "from sklearn.model_selection import train_test_split"
   ]
  },
  {
   "cell_type": "markdown",
   "id": "34eaa418",
   "metadata": {},
   "source": [
    "## Defining constants"
   ]
  },
  {
   "cell_type": "code",
   "execution_count": 279,
   "id": "13a7bc0f",
   "metadata": {},
   "outputs": [],
   "source": [
    "#Collumns that are not participate in the learning\n",
    "\n",
    "class TicketFeatures:\n",
    "    TICKET = 'Ticket'\n",
    "    TICKET_PARSED = 'TicketParsed'\n",
    "    TICKET_NUMBER = 'TicketNumber',\n",
    "    TICKET_NUMBER_BINNED = 'TicketNumberBinned'\n",
    "    TICKET_PREFIX = 'TicketPrefix'\n",
    "\n",
    "class CabinFeatures:\n",
    "    CABIN = 'Cabin'\n",
    "    CABIN_PARSED = 'CabinParsed'\n",
    "    CABIN_NUMBER = 'CabinNumber'\n",
    "    DECK_CODE = 'DeckCode'\n",
    "\n",
    "target_name = 'Survived'\n",
    "    \n",
    "features = ['Survived', 'Pclass', 'Sex', 'Age', 'SibSp', 'Parch','Embarked', 'TicketNumberBinned', \\\n",
    "           'CabinNumber', 'DeckCode']\n",
    "binning_quantiles = [0, .1, .2, .3, .4, .5, .6, .7, .8, .9, 1]\n"
   ]
  },
  {
   "cell_type": "markdown",
   "id": "44b4c5c0",
   "metadata": {},
   "source": [
    "## Loading the Titanic dataset"
   ]
  },
  {
   "cell_type": "code",
   "execution_count": 280,
   "id": "779a09c0",
   "metadata": {},
   "outputs": [
    {
     "data": {
      "text/html": [
       "<div>\n",
       "<style scoped>\n",
       "    .dataframe tbody tr th:only-of-type {\n",
       "        vertical-align: middle;\n",
       "    }\n",
       "\n",
       "    .dataframe tbody tr th {\n",
       "        vertical-align: top;\n",
       "    }\n",
       "\n",
       "    .dataframe thead th {\n",
       "        text-align: right;\n",
       "    }\n",
       "</style>\n",
       "<table border=\"1\" class=\"dataframe\">\n",
       "  <thead>\n",
       "    <tr style=\"text-align: right;\">\n",
       "      <th></th>\n",
       "      <th>PassengerId</th>\n",
       "      <th>Survived</th>\n",
       "      <th>Pclass</th>\n",
       "      <th>Name</th>\n",
       "      <th>Sex</th>\n",
       "      <th>Age</th>\n",
       "      <th>SibSp</th>\n",
       "      <th>Parch</th>\n",
       "      <th>Ticket</th>\n",
       "      <th>Fare</th>\n",
       "      <th>Cabin</th>\n",
       "      <th>Embarked</th>\n",
       "    </tr>\n",
       "  </thead>\n",
       "  <tbody>\n",
       "    <tr>\n",
       "      <th>0</th>\n",
       "      <td>1</td>\n",
       "      <td>0</td>\n",
       "      <td>3</td>\n",
       "      <td>Braund, Mr. Owen Harris</td>\n",
       "      <td>male</td>\n",
       "      <td>22.0</td>\n",
       "      <td>1</td>\n",
       "      <td>0</td>\n",
       "      <td>A/5 21171</td>\n",
       "      <td>7.2500</td>\n",
       "      <td>NaN</td>\n",
       "      <td>S</td>\n",
       "    </tr>\n",
       "    <tr>\n",
       "      <th>1</th>\n",
       "      <td>2</td>\n",
       "      <td>1</td>\n",
       "      <td>1</td>\n",
       "      <td>Cumings, Mrs. John Bradley (Florence Briggs Th...</td>\n",
       "      <td>female</td>\n",
       "      <td>38.0</td>\n",
       "      <td>1</td>\n",
       "      <td>0</td>\n",
       "      <td>PC 17599</td>\n",
       "      <td>71.2833</td>\n",
       "      <td>C85</td>\n",
       "      <td>C</td>\n",
       "    </tr>\n",
       "    <tr>\n",
       "      <th>2</th>\n",
       "      <td>3</td>\n",
       "      <td>1</td>\n",
       "      <td>3</td>\n",
       "      <td>Heikkinen, Miss. Laina</td>\n",
       "      <td>female</td>\n",
       "      <td>26.0</td>\n",
       "      <td>0</td>\n",
       "      <td>0</td>\n",
       "      <td>STON/O2. 3101282</td>\n",
       "      <td>7.9250</td>\n",
       "      <td>NaN</td>\n",
       "      <td>S</td>\n",
       "    </tr>\n",
       "    <tr>\n",
       "      <th>3</th>\n",
       "      <td>4</td>\n",
       "      <td>1</td>\n",
       "      <td>1</td>\n",
       "      <td>Futrelle, Mrs. Jacques Heath (Lily May Peel)</td>\n",
       "      <td>female</td>\n",
       "      <td>35.0</td>\n",
       "      <td>1</td>\n",
       "      <td>0</td>\n",
       "      <td>113803</td>\n",
       "      <td>53.1000</td>\n",
       "      <td>C123</td>\n",
       "      <td>S</td>\n",
       "    </tr>\n",
       "    <tr>\n",
       "      <th>4</th>\n",
       "      <td>5</td>\n",
       "      <td>0</td>\n",
       "      <td>3</td>\n",
       "      <td>Allen, Mr. William Henry</td>\n",
       "      <td>male</td>\n",
       "      <td>35.0</td>\n",
       "      <td>0</td>\n",
       "      <td>0</td>\n",
       "      <td>373450</td>\n",
       "      <td>8.0500</td>\n",
       "      <td>NaN</td>\n",
       "      <td>S</td>\n",
       "    </tr>\n",
       "  </tbody>\n",
       "</table>\n",
       "</div>"
      ],
      "text/plain": [
       "   PassengerId  Survived  Pclass  \\\n",
       "0            1         0       3   \n",
       "1            2         1       1   \n",
       "2            3         1       3   \n",
       "3            4         1       1   \n",
       "4            5         0       3   \n",
       "\n",
       "                                                Name     Sex   Age  SibSp  \\\n",
       "0                            Braund, Mr. Owen Harris    male  22.0      1   \n",
       "1  Cumings, Mrs. John Bradley (Florence Briggs Th...  female  38.0      1   \n",
       "2                             Heikkinen, Miss. Laina  female  26.0      0   \n",
       "3       Futrelle, Mrs. Jacques Heath (Lily May Peel)  female  35.0      1   \n",
       "4                           Allen, Mr. William Henry    male  35.0      0   \n",
       "\n",
       "   Parch            Ticket     Fare Cabin Embarked  \n",
       "0      0         A/5 21171   7.2500   NaN        S  \n",
       "1      0          PC 17599  71.2833   C85        C  \n",
       "2      0  STON/O2. 3101282   7.9250   NaN        S  \n",
       "3      0            113803  53.1000  C123        S  \n",
       "4      0            373450   8.0500   NaN        S  "
      ]
     },
     "execution_count": 280,
     "metadata": {},
     "output_type": "execute_result"
    }
   ],
   "source": [
    "titanic_df = pd.read_csv('../datasets/titanic/train.csv')\n",
    "titanic_df.head()"
   ]
  },
  {
   "cell_type": "markdown",
   "id": "f31d5577",
   "metadata": {},
   "source": [
    "## Data description"
   ]
  },
  {
   "cell_type": "markdown",
   "id": "7dd3a38f",
   "metadata": {},
   "source": [
    "Feature description:\n",
    "\n",
    " 1. Survival - Survival (0 = No; 1 = Yes). Not included in test.csv file.\n",
    " 2. Pclass - Passenger Class (1 = 1st; 2 = 2nd; 3 = 3rd)\n",
    " 3. Name - Name\n",
    " 4. Sex - Sex\n",
    " 5. Age - Age\n",
    " 6. Sibsp - Number of Siblings/Spouses Aboard\n",
    " 7. Parch - Number of Parents/Children Aboard\n",
    " 8. Ticket - Ticket Number\n",
    " 9. Fare - Passenger Fare\n",
    " 10. Cabin - Cabin\n",
    " 11. Embarked - Port of Embarkation (C = Cherbourg; Q = Queenstown; S = Southampton)"
   ]
  },
  {
   "cell_type": "markdown",
   "id": "2bbce765",
   "metadata": {},
   "source": [
    "## Data Structures"
   ]
  },
  {
   "cell_type": "code",
   "execution_count": 281,
   "id": "a6c9d077",
   "metadata": {},
   "outputs": [],
   "source": [
    "class Cabin:\n",
    "    def __init__(self, deck_code, number):\n",
    "        self.__deck_code = deck_code\n",
    "        self.__number = number\n",
    "\n",
    "    def __str__(self):\n",
    "        return f'Cabin no. {self.__number}, deck code is \"{self.__deck_code}\"'\n",
    "        \n",
    "    @property    \n",
    "    def deck_code(self):\n",
    "        return self.__deck_code\n",
    "    \n",
    "    @deck_code.setter\n",
    "    def deck_code(self, value):\n",
    "        self.__deck_code = value\n",
    "        \n",
    "    @property    \n",
    "    def number(self):\n",
    "        return self.__number\n",
    "    \n",
    "    @number.setter\n",
    "    def number(self, value):\n",
    "        self.__number = value\n",
    " \n",
    "    def parse(cabin):\n",
    "        try:\n",
    "            assert not (cabin is np.nan) \n",
    "            cabin_items = cabin.split(\" \")\n",
    "            \n",
    "            parsed_cabins = []\n",
    "            for item in cabin_items:\n",
    "                parsed_cabin = Cabin.parse_item(item)\n",
    "                parsed_cabins.append(parsed_cabin)\n",
    "            \n",
    "            return parsed_cabins\n",
    "        except ValueError as e:\n",
    "            print(f'Unable parse the \"{cabin}\" cabin. Details: {e}')\n",
    "\n",
    "    def parse_item(cabin):\n",
    "        try:\n",
    "            assert not (cabin is np.nan)\n",
    "            \n",
    "            cabin_number = cabin[1 :]\n",
    "            deck_code = cabin[0]\n",
    "            \n",
    "            return Cabin(deck_code, cabin_number)\n",
    "        except ValueError as e:\n",
    "            print(f'Unable parse the \"{cabin}\" cabin ITEM. Details: {e}')\n",
    "\n",
    "class Ticket:\n",
    "    def __init__(self, prefix, number):\n",
    "        self.__prefix = prefix\n",
    "        self.__number = number\n",
    "\n",
    "    def __str__(self):\n",
    "        \n",
    "        ticket = ''\n",
    "        if(not self.__prefix is np.nan):\n",
    "            ticket = self.__prefix\n",
    "        \n",
    "        return f'Ticket {ticket} {self.__number} no. {self.__number}'\n",
    "        \n",
    "    @property    \n",
    "    def prefix(self):\n",
    "        return self.__prefix\n",
    "    \n",
    "    @prefix.setter\n",
    "    def prefix(self, value):\n",
    "        self.__prefix = value\n",
    "        \n",
    "    @property    \n",
    "    def number(self):\n",
    "        return self.__number\n",
    "    \n",
    "    @number.setter\n",
    "    def number(self, value):\n",
    "        self.__number = value\n",
    "            \n",
    "    def parse(ticket):\n",
    "        try:\n",
    "            ticket_number = np.nan\n",
    "            ticket_prefix = np.nan\n",
    "            ticket_splited = ticket.split(\" \")\n",
    "    \n",
    "            if (ticket == 'LINE'):\n",
    "                ticket_prefix = ticket\n",
    "            elif (len(ticket_splited) == 1):\n",
    "                ticket_number = int(ticket_splited[0])\n",
    "            elif (len(ticket_splited) == 2):\n",
    "                ticket_number = int(ticket_splited[1])\n",
    "                ticket_prefix = str(ticket_splited[0])\n",
    "            elif (len(ticket_splited) == 3):\n",
    "                ticket_number = int(ticket_splited[2])\n",
    "                ticket_prefix = f'{ticket_splited[0]} {ticket_splited[1]}'\n",
    "            else:\n",
    "                raise Exception(f'Unsupported ticket format.')\n",
    "                \n",
    "            return Ticket(ticket_prefix, ticket_number)\n",
    "        except ValueError as e:\n",
    "            print(f'Unable parse the \"{ticket}\" ticket. Details: {e}')"
   ]
  },
  {
   "cell_type": "markdown",
   "id": "213f14d4",
   "metadata": {},
   "source": [
    "## Data preparation"
   ]
  },
  {
   "cell_type": "code",
   "execution_count": 282,
   "id": "c00fe615",
   "metadata": {},
   "outputs": [],
   "source": [
    "#Set PassengerId as an index\n",
    "titanic_df.set_index('PassengerId', inplace=True)"
   ]
  },
  {
   "cell_type": "markdown",
   "id": "67177598",
   "metadata": {},
   "source": [
    "### Ticket feature preparation"
   ]
  },
  {
   "cell_type": "code",
   "execution_count": 283,
   "id": "ee26e136",
   "metadata": {},
   "outputs": [
    {
     "name": "stdout",
     "output_type": "stream",
     "text": [
      "NULL tickets number is: 0\n"
     ]
    }
   ],
   "source": [
    "null_ticket_filter = titanic_df[TicketFeatures.TICKET].isnull()\n",
    "null_tickets_number = len(titanic_df[TicketFeatures.TICKET].loc[null_ticket_filter])\n",
    "\n",
    "print(f'NULL tickets number is: {null_tickets_number}')"
   ]
  },
  {
   "cell_type": "code",
   "execution_count": 284,
   "id": "a4362293",
   "metadata": {},
   "outputs": [
    {
     "data": {
      "text/plain": [
       "PassengerId\n",
       "1             Ticket A/5 21171 no. 21171\n",
       "2              Ticket PC 17599 no. 17599\n",
       "3    Ticket STON/O2. 3101282 no. 3101282\n",
       "4              Ticket  113803 no. 113803\n",
       "5              Ticket  373450 no. 373450\n",
       "Name: TicketParsed, dtype: object"
      ]
     },
     "execution_count": 284,
     "metadata": {},
     "output_type": "execute_result"
    }
   ],
   "source": [
    "titanic_df[TicketFeatures.TICKET_PARSED] = titanic_df[TicketFeatures.TICKET].apply(lambda t : Ticket.parse(t))\n",
    "titanic_df[TicketFeatures.TICKET_PARSED].head()"
   ]
  },
  {
   "cell_type": "code",
   "execution_count": 285,
   "id": "b7d10ddb",
   "metadata": {},
   "outputs": [
    {
     "data": {
      "text/plain": [
       "PassengerId\n",
       "1      21171.0\n",
       "2      17599.0\n",
       "3    3101282.0\n",
       "4     113803.0\n",
       "5     373450.0\n",
       "Name: (TicketNumber,), dtype: float64"
      ]
     },
     "execution_count": 285,
     "metadata": {},
     "output_type": "execute_result"
    }
   ],
   "source": [
    "#Create Ticket_Number feature\n",
    "titanic_df[TicketFeatures.TICKET_NUMBER] =  titanic_df[TicketFeatures.TICKET_PARSED].apply(lambda t : t.number)\n",
    "titanic_df[TicketFeatures.TICKET_NUMBER].head()"
   ]
  },
  {
   "cell_type": "code",
   "execution_count": 286,
   "id": "7c0ce39a",
   "metadata": {},
   "outputs": [
    {
     "data": {
      "text/plain": [
       "PassengerId\n",
       "1         A/5\n",
       "2          PC\n",
       "3    STON/O2.\n",
       "4         NaN\n",
       "5         NaN\n",
       "Name: TicketPrefix, dtype: object"
      ]
     },
     "execution_count": 286,
     "metadata": {},
     "output_type": "execute_result"
    }
   ],
   "source": [
    "#Create Ticket_Prefix feature\n",
    "titanic_df[TicketFeatures.TICKET_PREFIX] =  titanic_df[TicketFeatures.TICKET_PARSED].apply(lambda t : t.prefix)\n",
    "titanic_df[TicketFeatures.TICKET_PREFIX].head()"
   ]
  },
  {
   "cell_type": "code",
   "execution_count": 287,
   "id": "f13d5ad0",
   "metadata": {},
   "outputs": [
    {
     "name": "stdout",
     "output_type": "stream",
     "text": [
      "Not NULL ticket prefixes number is: 230\n",
      "NULL ticket prefixes number is: 661\n",
      "Not NULL ticket numbers number is: 887\n",
      "NULL ticket numbers number is: 4\n"
     ]
    }
   ],
   "source": [
    "#Printing ticket feature statisitcs\n",
    "filt = titanic_df[TicketFeatures.TICKET_PREFIX].notnull()\n",
    "not_null_ticket_prefixes_number = len(titanic_df.loc[filt])\n",
    "\n",
    "filt = titanic_df[TicketFeatures.TICKET_NUMBER].notnull()\n",
    "not_null_ticket_numbers_number = len(titanic_df.loc[filt])\n",
    "\n",
    "print(f'Not NULL ticket prefixes number is: {not_null_ticket_prefixes_number}')\n",
    "print(f'NULL ticket prefixes number is: {len(titanic_df) - not_null_ticket_prefixes_number}')\n",
    "print(f'Not NULL ticket numbers number is: {not_null_ticket_numbers_number}')\n",
    "print(f'NULL ticket numbers number is: {len(titanic_df) - not_null_ticket_numbers_number}')"
   ]
  },
  {
   "cell_type": "markdown",
   "id": "bdda9f13",
   "metadata": {},
   "source": [
    "### Cabin feature preparation"
   ]
  },
  {
   "cell_type": "code",
   "execution_count": 288,
   "id": "caafd80c",
   "metadata": {},
   "outputs": [
    {
     "name": "stdout",
     "output_type": "stream",
     "text": [
      "NULL cabins number is: 687\n"
     ]
    }
   ],
   "source": [
    "null_cabin_filter = titanic_df[CabinFeatures.CABIN].isnull()\n",
    "null_cabins_number = len(titanic_df[CabinFeatures.CABIN].loc[null_cabin_filter])\n",
    "\n",
    "print(f'NULL cabins number is: {null_cabins_number}')"
   ]
  },
  {
   "cell_type": "code",
   "execution_count": 289,
   "id": "3c101088",
   "metadata": {},
   "outputs": [
    {
     "data": {
      "text/plain": [
       "PassengerId\n",
       "1                                  NaN\n",
       "2     [Cabin no. 85, deck code is \"C\"]\n",
       "3                                  NaN\n",
       "4    [Cabin no. 123, deck code is \"C\"]\n",
       "5                                  NaN\n",
       "Name: CabinParsed, dtype: object"
      ]
     },
     "execution_count": 289,
     "metadata": {},
     "output_type": "execute_result"
    }
   ],
   "source": [
    "not_null_cabin_filter = titanic_df[CabinFeatures.CABIN].notnull()\n",
    "titanic_df[CabinFeatures.CABIN_PARSED] = titanic_df.loc[not_null_cabin_filter, CabinFeatures.CABIN] \\\n",
    "    .apply(lambda c : Cabin.parse(c))\n",
    "\n",
    "titanic_df[CabinFeatures.CABIN_PARSED].head() "
   ]
  },
  {
   "cell_type": "code",
   "execution_count": 290,
   "id": "949e3a7b",
   "metadata": {},
   "outputs": [
    {
     "name": "stdout",
     "output_type": "stream",
     "text": [
      "Cabin statistics\n",
      "\n",
      "1    180\n",
      "2     16\n",
      "3      6\n",
      "4      2\n",
      "Name: CabinParsed, dtype: int64\n",
      "\n",
      "Single cabin percent = 88.24%\n",
      "The majority of passangers ordered a single cabin. Thus multiple cabins can be ignored. Only first cabin will be taken.\n"
     ]
    }
   ],
   "source": [
    "cabin_parsed_not_null_filter = titanic_df[CabinFeatures.CABIN_PARSED].notnull()\n",
    "cabin_parsed_not_null = titanic_df.loc[cabin_parsed_not_null_filter, CabinFeatures.CABIN_PARSED] \\\n",
    "    .apply(lambda c : len(c)) \n",
    "\n",
    "cabin_statistics = cabin_parsed_not_null \\\n",
    "    .groupby(cabin_parsed_not_null.values) \\\n",
    "    .count()\n",
    "\n",
    "print('Cabin statistics\\n')\n",
    "print(cabin_statistics)\n",
    "\n",
    "singe_cabin_percent = round((cabin_statistics.at[1] / cabin_statistics.sum()) * 100, 2)\n",
    "singe_cabin_percent\n",
    "\n",
    "print(f'\\nSingle cabin percent = {singe_cabin_percent}%')\n",
    "if(singe_cabin_percent > 85 ):\n",
    "    print('The majority of passangers ordered a single cabin. Thus multiple cabins can be ignored. Only first cabin will be taken.')"
   ]
  },
  {
   "cell_type": "code",
   "execution_count": 291,
   "id": "9a17a054",
   "metadata": {},
   "outputs": [
    {
     "data": {
      "text/plain": [
       "PassengerId\n",
       "1    NaN\n",
       "2     85\n",
       "3    NaN\n",
       "4    123\n",
       "5    NaN\n",
       "Name: CabinNumber, dtype: object"
      ]
     },
     "execution_count": 291,
     "metadata": {},
     "output_type": "execute_result"
    }
   ],
   "source": [
    "null_parsed_cabin_filter = titanic_df[CabinFeatures.CABIN_PARSED].notnull()\n",
    "titanic_df[CabinFeatures.CABIN_NUMBER] = titanic_df.loc[null_parsed_cabin_filter, CabinFeatures.CABIN_PARSED] \\\n",
    "    .apply(lambda c : c[0].number)\n",
    "\n",
    "titanic_df[CabinFeatures.CABIN_NUMBER].head()"
   ]
  },
  {
   "cell_type": "code",
   "execution_count": 292,
   "id": "56ffee1d",
   "metadata": {},
   "outputs": [
    {
     "data": {
      "text/plain": [
       "PassengerId\n",
       "1    NaN\n",
       "2      C\n",
       "3    NaN\n",
       "4      C\n",
       "5    NaN\n",
       "Name: DeckCode, dtype: object"
      ]
     },
     "execution_count": 292,
     "metadata": {},
     "output_type": "execute_result"
    }
   ],
   "source": [
    "titanic_df[CabinFeatures.DECK_CODE] = titanic_df.loc[null_parsed_cabin_filter, CabinFeatures.CABIN_PARSED] \\\n",
    "    .apply(lambda c : c[0].deck_code)\n",
    "\n",
    "titanic_df[CabinFeatures.DECK_CODE].head()"
   ]
  },
  {
   "cell_type": "code",
   "execution_count": 293,
   "id": "524cd25f",
   "metadata": {},
   "outputs": [
    {
     "data": {
      "image/png": "[encoded data removed]",
      "text/plain": [
       "<Figure size 640x480 with 1 Axes>"
      ]
     },
     "metadata": {},
     "output_type": "display_data"
    },
    {
     "name": "stdout",
     "output_type": "stream",
     "text": [
      "Arranging ticket numbers into 11 bins, assigning an interval mean for each bin value\n"
     ]
    }
   ],
   "source": [
    "#Arranging ticket numbers into 10 bins, assigning an interval mean for each bin value\n",
    "\n",
    "titanic_df[TicketFeatures.TICKET_NUMBER_BINNED] = pd \\\n",
    "    .qcut(titanic_df[TicketFeatures.TICKET_NUMBER], q=binning_quantiles) \\\n",
    "    .apply(lambda i : int((i.left + i.right) / 2))\n",
    "\n",
    "plt.plot(sorted_ticket_numbers)\n",
    "plt.show()\n",
    "\n",
    "print(f'Arranging ticket numbers into {len(binning_quantiles)} bins, assigning an interval mean for each bin value')"
   ]
  },
  {
   "cell_type": "markdown",
   "id": "77930525",
   "metadata": {},
   "source": [
    "## Train and test dataset split"
   ]
  },
  {
   "cell_type": "code",
   "execution_count": 294,
   "id": "3f7fbdb5",
   "metadata": {},
   "outputs": [
    {
     "data": {
      "text/html": [
       "<div>\n",
       "<style scoped>\n",
       "    .dataframe tbody tr th:only-of-type {\n",
       "        vertical-align: middle;\n",
       "    }\n",
       "\n",
       "    .dataframe tbody tr th {\n",
       "        vertical-align: top;\n",
       "    }\n",
       "\n",
       "    .dataframe thead th {\n",
       "        text-align: right;\n",
       "    }\n",
       "</style>\n",
       "<table border=\"1\" class=\"dataframe\">\n",
       "  <thead>\n",
       "    <tr style=\"text-align: right;\">\n",
       "      <th></th>\n",
       "      <th>Survived</th>\n",
       "      <th>Pclass</th>\n",
       "      <th>Sex</th>\n",
       "      <th>Age</th>\n",
       "      <th>SibSp</th>\n",
       "      <th>Parch</th>\n",
       "      <th>Embarked</th>\n",
       "      <th>TicketNumberBinned</th>\n",
       "      <th>CabinNumber</th>\n",
       "      <th>DeckCode</th>\n",
       "    </tr>\n",
       "    <tr>\n",
       "      <th>PassengerId</th>\n",
       "      <th></th>\n",
       "      <th></th>\n",
       "      <th></th>\n",
       "      <th></th>\n",
       "      <th></th>\n",
       "      <th></th>\n",
       "      <th></th>\n",
       "      <th></th>\n",
       "      <th></th>\n",
       "      <th></th>\n",
       "    </tr>\n",
       "  </thead>\n",
       "  <tbody>\n",
       "    <tr>\n",
       "      <th>417</th>\n",
       "      <td>1</td>\n",
       "      <td>2</td>\n",
       "      <td>female</td>\n",
       "      <td>34.0</td>\n",
       "      <td>1</td>\n",
       "      <td>1</td>\n",
       "      <td>S</td>\n",
       "      <td>23326</td>\n",
       "      <td>NaN</td>\n",
       "      <td>NaN</td>\n",
       "    </tr>\n",
       "    <tr>\n",
       "      <th>802</th>\n",
       "      <td>1</td>\n",
       "      <td>2</td>\n",
       "      <td>female</td>\n",
       "      <td>31.0</td>\n",
       "      <td>1</td>\n",
       "      <td>1</td>\n",
       "      <td>S</td>\n",
       "      <td>70670</td>\n",
       "      <td>NaN</td>\n",
       "      <td>NaN</td>\n",
       "    </tr>\n",
       "    <tr>\n",
       "      <th>513</th>\n",
       "      <td>1</td>\n",
       "      <td>1</td>\n",
       "      <td>male</td>\n",
       "      <td>36.0</td>\n",
       "      <td>0</td>\n",
       "      <td>0</td>\n",
       "      <td>S</td>\n",
       "      <td>14636</td>\n",
       "      <td>25</td>\n",
       "      <td>E</td>\n",
       "    </tr>\n",
       "    <tr>\n",
       "      <th>456</th>\n",
       "      <td>1</td>\n",
       "      <td>3</td>\n",
       "      <td>male</td>\n",
       "      <td>29.0</td>\n",
       "      <td>0</td>\n",
       "      <td>0</td>\n",
       "      <td>C</td>\n",
       "      <td>359723</td>\n",
       "      <td>NaN</td>\n",
       "      <td>NaN</td>\n",
       "    </tr>\n",
       "    <tr>\n",
       "      <th>758</th>\n",
       "      <td>0</td>\n",
       "      <td>2</td>\n",
       "      <td>male</td>\n",
       "      <td>18.0</td>\n",
       "      <td>0</td>\n",
       "      <td>0</td>\n",
       "      <td>S</td>\n",
       "      <td>70670</td>\n",
       "      <td>NaN</td>\n",
       "      <td>NaN</td>\n",
       "    </tr>\n",
       "  </tbody>\n",
       "</table>\n",
       "</div>"
      ],
      "text/plain": [
       "             Survived  Pclass     Sex   Age  SibSp  Parch Embarked  \\\n",
       "PassengerId                                                          \n",
       "417                 1       2  female  34.0      1      1        S   \n",
       "802                 1       2  female  31.0      1      1        S   \n",
       "513                 1       1    male  36.0      0      0        S   \n",
       "456                 1       3    male  29.0      0      0        C   \n",
       "758                 0       2    male  18.0      0      0        S   \n",
       "\n",
       "            TicketNumberBinned CabinNumber DeckCode  \n",
       "PassengerId                                          \n",
       "417                      23326         NaN      NaN  \n",
       "802                      70670         NaN      NaN  \n",
       "513                      14636          25        E  \n",
       "456                     359723         NaN      NaN  \n",
       "758                      70670         NaN      NaN  "
      ]
     },
     "execution_count": 294,
     "metadata": {},
     "output_type": "execute_result"
    }
   ],
   "source": [
    "x_train, x_test, y_train, y_test = train_test_split(\n",
    "    titanic_df[features], \n",
    "    titanic_df[target_name], \n",
    "    test_size=0.3, \n",
    "    random_state=123)\n",
    "\n",
    "x_train.head()"
   ]
  },
  {
   "cell_type": "code",
   "execution_count": 295,
   "id": "5e8cfe8c",
   "metadata": {},
   "outputs": [
    {
     "data": {
      "text/plain": [
       "array([nan, '25', '7', '21', '26', '49', '4', '35', '56', '30', '33',\n",
       "       '124', '121', '65', '50', '51', '78', '91', '24', '', '52', '125',\n",
       "       '63', '10', '58', '45', '104', '16', '6', '36', '37', '46', '57',\n",
       "       '38', '126', '3', '2', '101', '82', '92', '106', '5', '22', '110',\n",
       "       '96', '19', '68', '67', '8', '23', '90', '28', '34', '83', '70',\n",
       "       '20', '85', '77', '102', '47', '15', '40', '123', '9', '32', '31',\n",
       "       '14', '12', '17', '93', '39', '86', '44', '148', '11', '79', '42'],\n",
       "      dtype=object)"
      ]
     },
     "execution_count": 295,
     "metadata": {},
     "output_type": "execute_result"
    }
   ],
   "source": [
    "values = x_train['CabinNumber'].unique()\n",
    "values\n",
    "#x_train.isnull().mean().loc[lambda x : x > 0].sort_values(ascending=False)"
   ]
  },
  {
   "cell_type": "code",
   "execution_count": null,
   "id": "b0b13dd6",
   "metadata": {},
   "outputs": [],
   "source": []
  }
 ],
 "metadata": {
  "kernelspec": {
   "display_name": "Python 3 (ipykernel)",
   "language": "python",
   "name": "python3"
  },
  "language_info": {
   "codemirror_mode": {
    "name": "ipython",
    "version": 3
   },
   "file_extension": ".py",
   "mimetype": "text/x-python",
   "name": "python",
   "nbconvert_exporter": "python",
   "pygments_lexer": "ipython3",
   "version": "3.11.1"
  }
 },
 "nbformat": 4,
 "nbformat_minor": 5
}
