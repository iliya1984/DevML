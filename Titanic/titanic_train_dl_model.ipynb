{
 "cells": [
  {
   "cell_type": "markdown",
   "id": "14eef222",
   "metadata": {},
   "source": [
    "# Training and testiong a ANN for the Titanic dataset"
   ]
  },
  {
   "cell_type": "markdown",
   "id": "7779f624",
   "metadata": {},
   "source": [
    "## Importing required libraries"
   ]
  },
  {
   "cell_type": "code",
   "execution_count": 314,
   "id": "81e516a2",
   "metadata": {},
   "outputs": [],
   "source": [
    "import pandas as pd\n",
    "import numpy as np\n",
    "\n",
    "import seaborn as sns\n",
    "import matplotlib.pyplot as plt\n",
    "\n",
    "from scipy import stats\n",
    "\n",
    "from sklearn.model_selection import train_test_split\n",
    "from sklearn.impute import KNNImputer\n",
    "from feature_engine.imputation import CategoricalImputer\n",
    "from feature_engine.encoding import OneHotEncoder\n",
    "from sklearn.preprocessing import StandardScaler, MinMaxScaler\n",
    "\n",
    "import torch\n",
    "import torch.nn as nn\n",
    "import torch.nn.functional as F"
   ]
  },
  {
   "cell_type": "markdown",
   "id": "34eaa418",
   "metadata": {},
   "source": [
    "## Defining constants"
   ]
  },
  {
   "cell_type": "code",
   "execution_count": 315,
   "id": "13a7bc0f",
   "metadata": {},
   "outputs": [],
   "source": [
    "class ImputationMethod:\n",
    "    FREQUENT_CATEGORY = 'FrequentCategory'\n",
    "    MISSING_CATEGORY = 'MissingCategory'\n",
    "    KNN = 'KNN'\n",
    "\n",
    "class TicketFeatures:\n",
    "    TICKET = 'Ticket'\n",
    "    TICKET_PARSED = 'TicketParsed'\n",
    "    TICKET_NUMBER = 'TicketNumber'\n",
    "    TICKET_NUMBER_BINNED = 'TicketNumberBinned'\n",
    "    TICKET_PREFIX = 'TicketPrefix'\n",
    "    TICKET_LABEL = 'ticket_label'\n",
    "\n",
    "class CabinFeatures:\n",
    "    CABIN = 'Cabin'\n",
    "    CABIN_PARSED = 'CabinParsed'\n",
    "    CABIN_NUMBER = 'CabinNumber'\n",
    "    CABIN_NUMBER_BINNED = 'CabinNumberBinned'\n",
    "    DECK_CODE = 'DeckCode'\n",
    "    CABIN_LABEL = 'cabin_label'\n",
    "\n",
    "class ImputationConstants:\n",
    "    CABIN_NUMBER_IMPUTATION_VALUE = 999\n",
    "    \n",
    "target_name = 'survived'\n",
    "    \n",
    "features = ['sex', 'age', 'sib_sp', 'par_ch','embarked', \\\n",
    "            TicketFeatures.TICKET_LABEL, CabinFeatures.CABIN_LABEL, 'deck_code']\n",
    "\n",
    "num_features = ['age']\n",
    "cat_features = ['sex', 'sib_sp', 'par_ch','embarked', TicketFeatures.TICKET_LABEL, \\\n",
    "                CabinFeatures.CABIN_LABEL, 'deck_code']\n",
    "\n",
    "features_to_encode = ['sex', 'embarked', 'deck_code']\n",
    "\n",
    "feature_to_scale =  ['age', 'sib_sp', 'par_ch' , TicketFeatures.TICKET_LABEL, CabinFeatures.CABIN_LABEL]\n",
    "\n",
    "binning_quantiles = [0, .1, .2, .3, .4, .5, .6, .7, .8, .9, 1]\n",
    "\n",
    "index_name = 'PassengerId'\n",
    "index_alias = 'pax_id'\n",
    "\n",
    "column_rename = { 'Survived' : 'survived', 'Pclass' : 'pax_class',  \\\n",
    "                'Sex' : 'sex', 'Age' : 'age', 'SibSp' : 'sib_sp', 'Parch' : 'par_ch', \\\n",
    "                'Embarked' : 'embarked', TicketFeatures.TICKET_NUMBER_BINNED : TicketFeatures.TICKET_LABEL, \\\n",
    "                 CabinFeatures.CABIN_NUMBER_BINNED : CabinFeatures.CABIN_LABEL, \\\n",
    "                'DeckCode' : 'deck_code'}\n",
    "\n",
    "ann_config = { \n",
    "    'hidden_layer_size' : 64, \n",
    "    'learning_rate' : .1,\n",
    "    'epochs' : 1000\n",
    "}"
   ]
  },
  {
   "cell_type": "markdown",
   "id": "44b4c5c0",
   "metadata": {},
   "source": [
    "## Loading the Titanic dataset"
   ]
  },
  {
   "cell_type": "code",
   "execution_count": 316,
   "id": "779a09c0",
   "metadata": {},
   "outputs": [
    {
     "data": {
      "text/html": [
       "<div>\n",
       "<style scoped>\n",
       "    .dataframe tbody tr th:only-of-type {\n",
       "        vertical-align: middle;\n",
       "    }\n",
       "\n",
       "    .dataframe tbody tr th {\n",
       "        vertical-align: top;\n",
       "    }\n",
       "\n",
       "    .dataframe thead th {\n",
       "        text-align: right;\n",
       "    }\n",
       "</style>\n",
       "<table border=\"1\" class=\"dataframe\">\n",
       "  <thead>\n",
       "    <tr style=\"text-align: right;\">\n",
       "      <th></th>\n",
       "      <th>PassengerId</th>\n",
       "      <th>Survived</th>\n",
       "      <th>Pclass</th>\n",
       "      <th>Name</th>\n",
       "      <th>Sex</th>\n",
       "      <th>Age</th>\n",
       "      <th>SibSp</th>\n",
       "      <th>Parch</th>\n",
       "      <th>Ticket</th>\n",
       "      <th>Fare</th>\n",
       "      <th>Cabin</th>\n",
       "      <th>Embarked</th>\n",
       "    </tr>\n",
       "  </thead>\n",
       "  <tbody>\n",
       "    <tr>\n",
       "      <th>0</th>\n",
       "      <td>1</td>\n",
       "      <td>0</td>\n",
       "      <td>3</td>\n",
       "      <td>Braund, Mr. Owen Harris</td>\n",
       "      <td>male</td>\n",
       "      <td>22.0</td>\n",
       "      <td>1</td>\n",
       "      <td>0</td>\n",
       "      <td>A/5 21171</td>\n",
       "      <td>7.2500</td>\n",
       "      <td>NaN</td>\n",
       "      <td>S</td>\n",
       "    </tr>\n",
       "    <tr>\n",
       "      <th>1</th>\n",
       "      <td>2</td>\n",
       "      <td>1</td>\n",
       "      <td>1</td>\n",
       "      <td>Cumings, Mrs. John Bradley (Florence Briggs Th...</td>\n",
       "      <td>female</td>\n",
       "      <td>38.0</td>\n",
       "      <td>1</td>\n",
       "      <td>0</td>\n",
       "      <td>PC 17599</td>\n",
       "      <td>71.2833</td>\n",
       "      <td>C85</td>\n",
       "      <td>C</td>\n",
       "    </tr>\n",
       "    <tr>\n",
       "      <th>2</th>\n",
       "      <td>3</td>\n",
       "      <td>1</td>\n",
       "      <td>3</td>\n",
       "      <td>Heikkinen, Miss. Laina</td>\n",
       "      <td>female</td>\n",
       "      <td>26.0</td>\n",
       "      <td>0</td>\n",
       "      <td>0</td>\n",
       "      <td>STON/O2. 3101282</td>\n",
       "      <td>7.9250</td>\n",
       "      <td>NaN</td>\n",
       "      <td>S</td>\n",
       "    </tr>\n",
       "    <tr>\n",
       "      <th>3</th>\n",
       "      <td>4</td>\n",
       "      <td>1</td>\n",
       "      <td>1</td>\n",
       "      <td>Futrelle, Mrs. Jacques Heath (Lily May Peel)</td>\n",
       "      <td>female</td>\n",
       "      <td>35.0</td>\n",
       "      <td>1</td>\n",
       "      <td>0</td>\n",
       "      <td>113803</td>\n",
       "      <td>53.1000</td>\n",
       "      <td>C123</td>\n",
       "      <td>S</td>\n",
       "    </tr>\n",
       "    <tr>\n",
       "      <th>4</th>\n",
       "      <td>5</td>\n",
       "      <td>0</td>\n",
       "      <td>3</td>\n",
       "      <td>Allen, Mr. William Henry</td>\n",
       "      <td>male</td>\n",
       "      <td>35.0</td>\n",
       "      <td>0</td>\n",
       "      <td>0</td>\n",
       "      <td>373450</td>\n",
       "      <td>8.0500</td>\n",
       "      <td>NaN</td>\n",
       "      <td>S</td>\n",
       "    </tr>\n",
       "  </tbody>\n",
       "</table>\n",
       "</div>"
      ],
      "text/plain": [
       "   PassengerId  Survived  Pclass  \\\n",
       "0            1         0       3   \n",
       "1            2         1       1   \n",
       "2            3         1       3   \n",
       "3            4         1       1   \n",
       "4            5         0       3   \n",
       "\n",
       "                                                Name     Sex   Age  SibSp  \\\n",
       "0                            Braund, Mr. Owen Harris    male  22.0      1   \n",
       "1  Cumings, Mrs. John Bradley (Florence Briggs Th...  female  38.0      1   \n",
       "2                             Heikkinen, Miss. Laina  female  26.0      0   \n",
       "3       Futrelle, Mrs. Jacques Heath (Lily May Peel)  female  35.0      1   \n",
       "4                           Allen, Mr. William Henry    male  35.0      0   \n",
       "\n",
       "   Parch            Ticket     Fare Cabin Embarked  \n",
       "0      0         A/5 21171   7.2500   NaN        S  \n",
       "1      0          PC 17599  71.2833   C85        C  \n",
       "2      0  STON/O2. 3101282   7.9250   NaN        S  \n",
       "3      0            113803  53.1000  C123        S  \n",
       "4      0            373450   8.0500   NaN        S  "
      ]
     },
     "execution_count": 316,
     "metadata": {},
     "output_type": "execute_result"
    }
   ],
   "source": [
    "titanic_df = pd.read_csv('../datasets/titanic/train.csv')\n",
    "titanic_df.head()"
   ]
  },
  {
   "cell_type": "markdown",
   "id": "f31d5577",
   "metadata": {},
   "source": [
    "## Data description"
   ]
  },
  {
   "cell_type": "markdown",
   "id": "7dd3a38f",
   "metadata": {},
   "source": [
    "Feature description:\n",
    "\n",
    " 1. Survival - Survival (0 = No; 1 = Yes). Not included in test.csv file.\n",
    " 2. Pclass - Passenger Class (1 = 1st; 2 = 2nd; 3 = 3rd)\n",
    " 3. Name - Name\n",
    " 4. Sex - Sex\n",
    " 5. Age - Age\n",
    " 6. Sibsp - Number of Siblings/Spouses Aboard\n",
    " 7. Parch - Number of Parents/Children Aboard\n",
    " 8. Ticket - Ticket Number\n",
    " 9. Fare - Passenger Fare\n",
    " 10. Cabin - Cabin\n",
    " 11. Embarked - Port of Embarkation (C = Cherbourg; Q = Queenstown; S = Southampton)"
   ]
  },
  {
   "cell_type": "markdown",
   "id": "2bbce765",
   "metadata": {},
   "source": [
    "## Data Structures"
   ]
  },
  {
   "cell_type": "code",
   "execution_count": 317,
   "id": "a6c9d077",
   "metadata": {},
   "outputs": [],
   "source": [
    "class Cabin:\n",
    "    def __init__(self, deck_code, number):\n",
    "        self.__deck_code = deck_code\n",
    "        self.__number = number\n",
    "\n",
    "    def __str__(self):\n",
    "        return f'Cabin no. {self.__number}, deck code is \"{self.__deck_code}\"'\n",
    "        \n",
    "    @property    \n",
    "    def deck_code(self):\n",
    "        return self.__deck_code\n",
    "    \n",
    "    @deck_code.setter\n",
    "    def deck_code(self, value):\n",
    "        self.__deck_code = value\n",
    "        \n",
    "    @property    \n",
    "    def number(self):\n",
    "        return self.__number\n",
    "    \n",
    "    @number.setter\n",
    "    def number(self, value):\n",
    "        self.__number = value\n",
    " \n",
    "    def parse(cabin):\n",
    "        try:\n",
    "            assert not (cabin is np.nan) \n",
    "            cabin_items = cabin.split(\" \")\n",
    "            \n",
    "            parsed_cabins = []\n",
    "            for item in cabin_items:\n",
    "                parsed_cabin = Cabin.parse_item(item)\n",
    "                parsed_cabins.append(parsed_cabin)\n",
    "            \n",
    "            return parsed_cabins\n",
    "        except ValueError as e:\n",
    "            print(f'Unable parse the \"{cabin}\" cabin. Details: {e}')\n",
    "\n",
    "    def parse_item(cabin):\n",
    "        try:\n",
    "            assert not (cabin is np.nan)\n",
    "            \n",
    "            cabin_number = cabin[1 :]\n",
    "            deck_code = cabin[0]\n",
    "            \n",
    "            return Cabin(deck_code, cabin_number)\n",
    "        except ValueError as e:\n",
    "            print(f'Unable parse the \"{cabin}\" cabin ITEM. Details: {e}')\n",
    "\n",
    "class Ticket:\n",
    "    def __init__(self, prefix, number):\n",
    "        self.__prefix = prefix\n",
    "        self.__number = number\n",
    "\n",
    "    def __str__(self):\n",
    "        \n",
    "        ticket = ''\n",
    "        if(not self.__prefix is np.nan):\n",
    "            ticket = self.__prefix\n",
    "        \n",
    "        return f'Ticket {ticket} {self.__number} no. {self.__number}'\n",
    "        \n",
    "    @property    \n",
    "    def prefix(self):\n",
    "        return self.__prefix\n",
    "    \n",
    "    @prefix.setter\n",
    "    def prefix(self, value):\n",
    "        self.__prefix = value\n",
    "        \n",
    "    @property    \n",
    "    def number(self):\n",
    "        return self.__number\n",
    "    \n",
    "    @number.setter\n",
    "    def number(self, value):\n",
    "        self.__number = value\n",
    "            \n",
    "    def parse(ticket):\n",
    "        try:\n",
    "            ticket_number = np.nan\n",
    "            ticket_prefix = np.nan\n",
    "            ticket_splited = ticket.split(\" \")\n",
    "    \n",
    "            if (ticket == 'LINE'):\n",
    "                ticket_prefix = ticket\n",
    "            elif (len(ticket_splited) == 1):\n",
    "                ticket_number = int(ticket_splited[0])\n",
    "            elif (len(ticket_splited) == 2):\n",
    "                ticket_number = int(ticket_splited[1])\n",
    "                ticket_prefix = str(ticket_splited[0])\n",
    "            elif (len(ticket_splited) == 3):\n",
    "                ticket_number = int(ticket_splited[2])\n",
    "                ticket_prefix = f'{ticket_splited[0]} {ticket_splited[1]}'\n",
    "            else:\n",
    "                raise Exception(f'Unsupported ticket format.')\n",
    "                \n",
    "            return Ticket(ticket_prefix, ticket_number)\n",
    "        except ValueError as e:\n",
    "            print(f'Unable parse the \"{ticket}\" ticket. Details: {e}')"
   ]
  },
  {
   "cell_type": "markdown",
   "id": "b5dcfd8e",
   "metadata": {},
   "source": [
    "## Untility"
   ]
  },
  {
   "cell_type": "code",
   "execution_count": 318,
   "id": "acc769fe",
   "metadata": {},
   "outputs": [],
   "source": [
    "class FeatureImputer:\n",
    "     \n",
    "    def __init__(self):\n",
    "        self.__instances = {\n",
    "            ImputationMethod.FREQUENT_CATEGORY : CategoricalImputer(imputation_method='frequent'),\n",
    "            ImputationMethod.MISSING_CATEGORY : CategoricalImputer(imputation_method='missing'),\n",
    "            ImputationMethod.KNN : KNNImputer(n_neighbors=5, weights='distance', metric='nan_euclidean')\n",
    "        }\n",
    "    \n",
    "    def transform(self, imputation_method, df):\n",
    "        imputer = self.__instances[imputation_method];\n",
    "        return imputer.transform(df)\n",
    "    \n",
    "    def fit_transform(self, imputation_method, x_train, x_test, variables):\n",
    "        imputer = self.__instances[imputation_method];\n",
    "        imputer.fit(x_train.loc[:, variables])\n",
    "        \n",
    "        x_train_imputed = x_train.copy()       \n",
    "        train_result = imputer.transform(x_train.loc[:, variables])\n",
    "        \n",
    "        x_test_imputed = x_test.copy()\n",
    "        test_result =  imputer.transform(x_test.loc[:, variables])\n",
    "        \n",
    "        if(imputation_method == ImputationMethod.KNN):\n",
    "            temp_df = pd.DataFrame(train_result, columns=variables)\n",
    "            temp_df.index = x_train_imputed.index\n",
    "            x_train_imputed.loc[:, variables] = temp_df[variables]\n",
    "            \n",
    "            temp_df = pd.DataFrame(test_result, columns=variables)\n",
    "            temp_df.index = x_test_imputed.index\n",
    "            x_test_imputed.loc[:, variables] = temp_df[variables]\n",
    "        else:\n",
    "            x_train_imputed.loc[:, variables] = train_result\n",
    "            x_test_imputed.loc[:, variables] = test_result\n",
    "            \n",
    "        return x_train_imputed, x_test_imputed\n",
    "        "
   ]
  },
  {
   "cell_type": "markdown",
   "id": "213f14d4",
   "metadata": {},
   "source": [
    "## Data preparation"
   ]
  },
  {
   "cell_type": "code",
   "execution_count": 319,
   "id": "c00fe615",
   "metadata": {},
   "outputs": [],
   "source": [
    "#Set PassengerId as an index\n",
    "titanic_df.set_index(index_name, inplace=True)"
   ]
  },
  {
   "cell_type": "markdown",
   "id": "67177598",
   "metadata": {},
   "source": [
    "### Ticket feature preparation"
   ]
  },
  {
   "cell_type": "code",
   "execution_count": 320,
   "id": "ee26e136",
   "metadata": {},
   "outputs": [
    {
     "name": "stdout",
     "output_type": "stream",
     "text": [
      "NULL tickets number is: 0\n"
     ]
    }
   ],
   "source": [
    "null_ticket_filter = titanic_df[TicketFeatures.TICKET].isnull()\n",
    "null_tickets_number = len(titanic_df[TicketFeatures.TICKET].loc[null_ticket_filter])\n",
    "\n",
    "print(f'NULL tickets number is: {null_tickets_number}')"
   ]
  },
  {
   "cell_type": "code",
   "execution_count": 321,
   "id": "a4362293",
   "metadata": {},
   "outputs": [
    {
     "data": {
      "text/plain": [
       "PassengerId\n",
       "1             Ticket A/5 21171 no. 21171\n",
       "2              Ticket PC 17599 no. 17599\n",
       "3    Ticket STON/O2. 3101282 no. 3101282\n",
       "4              Ticket  113803 no. 113803\n",
       "5              Ticket  373450 no. 373450\n",
       "Name: TicketParsed, dtype: object"
      ]
     },
     "execution_count": 321,
     "metadata": {},
     "output_type": "execute_result"
    }
   ],
   "source": [
    "titanic_df[TicketFeatures.TICKET_PARSED] = titanic_df[TicketFeatures.TICKET].apply(lambda t : Ticket.parse(t))\n",
    "titanic_df[TicketFeatures.TICKET_PARSED].head()"
   ]
  },
  {
   "cell_type": "code",
   "execution_count": 322,
   "id": "b7d10ddb",
   "metadata": {},
   "outputs": [
    {
     "data": {
      "text/plain": [
       "PassengerId\n",
       "1      21171.0\n",
       "2      17599.0\n",
       "3    3101282.0\n",
       "4     113803.0\n",
       "5     373450.0\n",
       "Name: TicketNumber, dtype: float64"
      ]
     },
     "execution_count": 322,
     "metadata": {},
     "output_type": "execute_result"
    }
   ],
   "source": [
    "#Create Ticket_Number feature\n",
    "titanic_df[TicketFeatures.TICKET_NUMBER] =  titanic_df[TicketFeatures.TICKET_PARSED].apply(lambda t : t.number)\n",
    "titanic_df[TicketFeatures.TICKET_NUMBER].head()"
   ]
  },
  {
   "cell_type": "code",
   "execution_count": 323,
   "id": "7c0ce39a",
   "metadata": {},
   "outputs": [
    {
     "data": {
      "text/plain": [
       "PassengerId\n",
       "1         A/5\n",
       "2          PC\n",
       "3    STON/O2.\n",
       "4         NaN\n",
       "5         NaN\n",
       "Name: TicketPrefix, dtype: object"
      ]
     },
     "execution_count": 323,
     "metadata": {},
     "output_type": "execute_result"
    }
   ],
   "source": [
    "#Create Ticket_Prefix feature\n",
    "titanic_df[TicketFeatures.TICKET_PREFIX] =  titanic_df[TicketFeatures.TICKET_PARSED].apply(lambda t : t.prefix)\n",
    "titanic_df[TicketFeatures.TICKET_PREFIX].head()"
   ]
  },
  {
   "cell_type": "code",
   "execution_count": 324,
   "id": "f13d5ad0",
   "metadata": {},
   "outputs": [
    {
     "name": "stdout",
     "output_type": "stream",
     "text": [
      "Not NULL ticket prefixes number is: 230\n",
      "NULL ticket prefixes number is: 661\n",
      "Not NULL ticket numbers number is: 887\n",
      "NULL ticket numbers number is: 4\n"
     ]
    }
   ],
   "source": [
    "#Printing ticket feature statisitcs\n",
    "filt = titanic_df[TicketFeatures.TICKET_PREFIX].notnull()\n",
    "not_null_ticket_prefixes_number = len(titanic_df.loc[filt])\n",
    "\n",
    "filt = titanic_df[TicketFeatures.TICKET_NUMBER].notnull()\n",
    "not_null_ticket_numbers_number = len(titanic_df.loc[filt])\n",
    "\n",
    "print(f'Not NULL ticket prefixes number is: {not_null_ticket_prefixes_number}')\n",
    "print(f'NULL ticket prefixes number is: {len(titanic_df) - not_null_ticket_prefixes_number}')\n",
    "print(f'Not NULL ticket numbers number is: {not_null_ticket_numbers_number}')\n",
    "print(f'NULL ticket numbers number is: {len(titanic_df) - not_null_ticket_numbers_number}')"
   ]
  },
  {
   "cell_type": "markdown",
   "id": "bdda9f13",
   "metadata": {},
   "source": [
    "### Cabin feature preparation"
   ]
  },
  {
   "cell_type": "code",
   "execution_count": 325,
   "id": "caafd80c",
   "metadata": {},
   "outputs": [
    {
     "name": "stdout",
     "output_type": "stream",
     "text": [
      "NULL cabins number is: 687\n"
     ]
    }
   ],
   "source": [
    "null_cabin_filter = titanic_df[CabinFeatures.CABIN].isnull()\n",
    "null_cabins_number = len(titanic_df[CabinFeatures.CABIN].loc[null_cabin_filter])\n",
    "\n",
    "print(f'NULL cabins number is: {null_cabins_number}')"
   ]
  },
  {
   "cell_type": "code",
   "execution_count": 326,
   "id": "3c101088",
   "metadata": {},
   "outputs": [
    {
     "data": {
      "text/plain": [
       "PassengerId\n",
       "1                                  NaN\n",
       "2     [Cabin no. 85, deck code is \"C\"]\n",
       "3                                  NaN\n",
       "4    [Cabin no. 123, deck code is \"C\"]\n",
       "5                                  NaN\n",
       "Name: CabinParsed, dtype: object"
      ]
     },
     "execution_count": 326,
     "metadata": {},
     "output_type": "execute_result"
    }
   ],
   "source": [
    "not_null_cabin_filter = titanic_df[CabinFeatures.CABIN].notnull()\n",
    "titanic_df[CabinFeatures.CABIN_PARSED] = titanic_df.loc[not_null_cabin_filter, CabinFeatures.CABIN] \\\n",
    "    .apply(lambda c : Cabin.parse(c))\n",
    "\n",
    "titanic_df[CabinFeatures.CABIN_PARSED].head() "
   ]
  },
  {
   "cell_type": "code",
   "execution_count": 327,
   "id": "949e3a7b",
   "metadata": {},
   "outputs": [
    {
     "name": "stdout",
     "output_type": "stream",
     "text": [
      "Cabin statistics\n",
      "\n",
      "1    180\n",
      "2     16\n",
      "3      6\n",
      "4      2\n",
      "Name: CabinParsed, dtype: int64\n",
      "\n",
      "Single cabin percent = 88.24%\n",
      "The majority of passangers ordered a single cabin. Thus multiple cabins can be ignored. Only first cabin will be taken.\n"
     ]
    }
   ],
   "source": [
    "cabin_parsed_not_null_filter = titanic_df[CabinFeatures.CABIN_PARSED].notnull()\n",
    "cabin_parsed_not_null = titanic_df.loc[cabin_parsed_not_null_filter, CabinFeatures.CABIN_PARSED] \\\n",
    "    .apply(lambda c : len(c)) \n",
    "\n",
    "cabin_statistics = cabin_parsed_not_null \\\n",
    "    .groupby(cabin_parsed_not_null.values) \\\n",
    "    .count()\n",
    "\n",
    "print('Cabin statistics\\n')\n",
    "print(cabin_statistics)\n",
    "\n",
    "singe_cabin_percent = round((cabin_statistics.at[1] / cabin_statistics.sum()) * 100, 2)\n",
    "singe_cabin_percent\n",
    "\n",
    "print(f'\\nSingle cabin percent = {singe_cabin_percent}%')\n",
    "if(singe_cabin_percent > 85 ):\n",
    "    print('The majority of passangers ordered a single cabin. Thus multiple cabins can be ignored. Only first cabin will be taken.')"
   ]
  },
  {
   "cell_type": "code",
   "execution_count": 328,
   "id": "9a17a054",
   "metadata": {},
   "outputs": [
    {
     "data": {
      "text/plain": [
       "PassengerId\n",
       "1    NaN\n",
       "2     85\n",
       "3    NaN\n",
       "4    123\n",
       "5    NaN\n",
       "Name: CabinNumber, dtype: object"
      ]
     },
     "execution_count": 328,
     "metadata": {},
     "output_type": "execute_result"
    }
   ],
   "source": [
    "null_parsed_cabin_filter = titanic_df[CabinFeatures.CABIN_PARSED].notnull()\n",
    "titanic_df[CabinFeatures.CABIN_NUMBER] = titanic_df.loc[null_parsed_cabin_filter, CabinFeatures.CABIN_PARSED] \\\n",
    "    .apply(lambda c : c[0].number)\n",
    "\n",
    "titanic_df[CabinFeatures.CABIN_NUMBER].head()"
   ]
  },
  {
   "cell_type": "code",
   "execution_count": 329,
   "id": "56ffee1d",
   "metadata": {},
   "outputs": [
    {
     "data": {
      "text/plain": [
       "PassengerId\n",
       "1    NaN\n",
       "2      C\n",
       "3    NaN\n",
       "4      C\n",
       "5    NaN\n",
       "Name: DeckCode, dtype: object"
      ]
     },
     "execution_count": 329,
     "metadata": {},
     "output_type": "execute_result"
    }
   ],
   "source": [
    "titanic_df[CabinFeatures.DECK_CODE] = titanic_df.loc[null_parsed_cabin_filter, CabinFeatures.CABIN_PARSED] \\\n",
    "    .apply(lambda c : c[0].deck_code)\n",
    "\n",
    "titanic_df[CabinFeatures.DECK_CODE].head()"
   ]
  },
  {
   "cell_type": "code",
   "execution_count": 330,
   "id": "0c67fc61",
   "metadata": {},
   "outputs": [
    {
     "name": "stdout",
     "output_type": "stream",
     "text": [
      "Arranging ticket numbers into 11 bins, assigning an interval mean for each bin value\n"
     ]
    },
    {
     "data": {
      "text/plain": [
       "PassengerId\n",
       "1        23326\n",
       "2        23326\n",
       "3      1735770\n",
       "4       176065\n",
       "5      1735770\n",
       "        ...   \n",
       "887     176065\n",
       "888      70670\n",
       "889       7178\n",
       "890      70670\n",
       "891    1735770\n",
       "Name: TicketNumberBinned, Length: 891, dtype: category\n",
       "Categories (10, int64): [1337 < 7178 < 14636 < 23326 ... 291773 < 346458 < 359723 < 1735770]"
      ]
     },
     "execution_count": 330,
     "metadata": {},
     "output_type": "execute_result"
    }
   ],
   "source": [
    "#Arranging ticket numbers into 10 bins, assigning an interval mean for each bin value\n",
    "\n",
    "titanic_df[TicketFeatures.TICKET_NUMBER_BINNED] = pd \\\n",
    "    .qcut(titanic_df[TicketFeatures.TICKET_NUMBER], q=binning_quantiles) \\\n",
    "    .apply(lambda i : int((i.left + i.right) / 2))\n",
    "\n",
    "sorted_ticket_numbers = titanic_df[TicketFeatures.TICKET_NUMBER].sort_values().values\n",
    "sorted_binned_ticket_numbers = titanic_df[TicketFeatures.TICKET_NUMBER_BINNED].sort_values().values\n",
    "\n",
    "print(f'Arranging ticket numbers into {len(binning_quantiles)} bins, assigning an interval mean for each bin value')\n",
    "\n",
    "titanic_df[TicketFeatures.TICKET_NUMBER_BINNED]"
   ]
  },
  {
   "cell_type": "code",
   "execution_count": 331,
   "id": "16921303",
   "metadata": {},
   "outputs": [
    {
     "data": {
      "text/plain": [
       "PassengerId\n",
       "1    999\n",
       "2     85\n",
       "3    999\n",
       "4    123\n",
       "5    999\n",
       "Name: CabinNumber, dtype: int64"
      ]
     },
     "execution_count": 331,
     "metadata": {},
     "output_type": "execute_result"
    }
   ],
   "source": [
    "def cabin_number_to_int(n):\n",
    "    if (n is np.nan or n == ''):\n",
    "        return ImputationConstants.CABIN_NUMBER_IMPUTATION_VALUE\n",
    "    else:\n",
    "        return int(n)\n",
    "\n",
    "temp = titanic_df[CabinFeatures.CABIN_NUMBER].apply(cabin_number_to_int)\n",
    "temp.head()"
   ]
  },
  {
   "cell_type": "code",
   "execution_count": 332,
   "id": "d88ab582",
   "metadata": {},
   "outputs": [
    {
     "name": "stdout",
     "output_type": "stream",
     "text": [
      "Arranging cabin numbers into 11 bins, assigning an interval mean for each bin value\n"
     ]
    },
    {
     "data": {
      "text/plain": [
       "PassengerId\n",
       "1      551\n",
       "2       69\n",
       "3      551\n",
       "4      551\n",
       "5      551\n",
       "      ... \n",
       "887    551\n",
       "888     69\n",
       "889    551\n",
       "890    551\n",
       "891    551\n",
       "Name: CabinNumberBinned, Length: 891, dtype: category\n",
       "Categories (3, int64): [18 < 69 < 551]"
      ]
     },
     "execution_count": 332,
     "metadata": {},
     "output_type": "execute_result"
    }
   ],
   "source": [
    "#Arranging cabin numbers into 10 bins, assigning an interval mean for each bin value\n",
    "titanic_df[CabinFeatures.CABIN_NUMBER_BINNED] = pd \\\n",
    "    .qcut(temp, q=binning_quantiles, duplicates='drop') \\\n",
    "    .apply(lambda i : int((i.left + i.right) / 2))\n",
    "\n",
    "sorted_cabin_numbers = temp.apply(lambda c : str(c)).sort_values().values\n",
    "sorted_binned_cabin_numbers = titanic_df[CabinFeatures.CABIN_NUMBER_BINNED].apply(lambda c : str(c)).sort_values().values\n",
    "\n",
    "print(f'Arranging cabin numbers into {len(binning_quantiles)} bins, assigning an interval mean for each bin value')\n",
    "\n",
    "titanic_df[CabinFeatures.CABIN_NUMBER_BINNED]"
   ]
  },
  {
   "cell_type": "code",
   "execution_count": 333,
   "id": "db113646",
   "metadata": {},
   "outputs": [
    {
     "data": {
      "image/png": "[encoded data removed]",
      "text/plain": [
       "<Figure size 1000x1000 with 4 Axes>"
      ]
     },
     "metadata": {},
     "output_type": "display_data"
    }
   ],
   "source": [
    "fig, ax = plt.subplots(2, 2)\n",
    "fig.set_size_inches(10, 10)\n",
    "\n",
    "ax[0, 0].plot(sorted_ticket_numbers)\n",
    "ax[0, 0].title.set_text('ORIGINAL ticket number sorted asc.')\n",
    "\n",
    "ax[0, 1].plot(sorted_binned_ticket_numbers)\n",
    "ax[0, 1].title.set_text('BINNED ticket number and sorted asc.')\n",
    "\n",
    "ax[1, 0].plot(sorted_cabin_numbers)\n",
    "ax[1, 0].title.set_text('ORIGINAL cabin number sorted asc.')\n",
    "\n",
    "ax[1, 1].plot(sorted_binned_cabin_numbers)\n",
    "ax[1, 1].title.set_text('BINNED cabin number and sorted asc.')\n",
    "\n",
    "plt.show()"
   ]
  },
  {
   "cell_type": "code",
   "execution_count": 334,
   "id": "2dc3c623",
   "metadata": {},
   "outputs": [],
   "source": [
    "titanic_df = titanic_df.rename(columns=column_rename)\n",
    "titanic_df.index.name = index_alias"
   ]
  },
  {
   "cell_type": "markdown",
   "id": "77930525",
   "metadata": {},
   "source": [
    "## Train and test dataset split"
   ]
  },
  {
   "cell_type": "code",
   "execution_count": 335,
   "id": "3f7fbdb5",
   "metadata": {},
   "outputs": [
    {
     "data": {
      "text/html": [
       "<div>\n",
       "<style scoped>\n",
       "    .dataframe tbody tr th:only-of-type {\n",
       "        vertical-align: middle;\n",
       "    }\n",
       "\n",
       "    .dataframe tbody tr th {\n",
       "        vertical-align: top;\n",
       "    }\n",
       "\n",
       "    .dataframe thead th {\n",
       "        text-align: right;\n",
       "    }\n",
       "</style>\n",
       "<table border=\"1\" class=\"dataframe\">\n",
       "  <thead>\n",
       "    <tr style=\"text-align: right;\">\n",
       "      <th></th>\n",
       "      <th>sex</th>\n",
       "      <th>age</th>\n",
       "      <th>sib_sp</th>\n",
       "      <th>par_ch</th>\n",
       "      <th>embarked</th>\n",
       "      <th>ticket_label</th>\n",
       "      <th>cabin_label</th>\n",
       "      <th>deck_code</th>\n",
       "    </tr>\n",
       "    <tr>\n",
       "      <th>pax_id</th>\n",
       "      <th></th>\n",
       "      <th></th>\n",
       "      <th></th>\n",
       "      <th></th>\n",
       "      <th></th>\n",
       "      <th></th>\n",
       "      <th></th>\n",
       "      <th></th>\n",
       "    </tr>\n",
       "  </thead>\n",
       "  <tbody>\n",
       "    <tr>\n",
       "      <th>417</th>\n",
       "      <td>female</td>\n",
       "      <td>34.0</td>\n",
       "      <td>1</td>\n",
       "      <td>1</td>\n",
       "      <td>S</td>\n",
       "      <td>23326</td>\n",
       "      <td>551</td>\n",
       "      <td>NaN</td>\n",
       "    </tr>\n",
       "    <tr>\n",
       "      <th>802</th>\n",
       "      <td>female</td>\n",
       "      <td>31.0</td>\n",
       "      <td>1</td>\n",
       "      <td>1</td>\n",
       "      <td>S</td>\n",
       "      <td>70670</td>\n",
       "      <td>551</td>\n",
       "      <td>NaN</td>\n",
       "    </tr>\n",
       "    <tr>\n",
       "      <th>513</th>\n",
       "      <td>male</td>\n",
       "      <td>36.0</td>\n",
       "      <td>0</td>\n",
       "      <td>0</td>\n",
       "      <td>S</td>\n",
       "      <td>14636</td>\n",
       "      <td>18</td>\n",
       "      <td>E</td>\n",
       "    </tr>\n",
       "    <tr>\n",
       "      <th>456</th>\n",
       "      <td>male</td>\n",
       "      <td>29.0</td>\n",
       "      <td>0</td>\n",
       "      <td>0</td>\n",
       "      <td>C</td>\n",
       "      <td>359723</td>\n",
       "      <td>551</td>\n",
       "      <td>NaN</td>\n",
       "    </tr>\n",
       "    <tr>\n",
       "      <th>758</th>\n",
       "      <td>male</td>\n",
       "      <td>18.0</td>\n",
       "      <td>0</td>\n",
       "      <td>0</td>\n",
       "      <td>S</td>\n",
       "      <td>70670</td>\n",
       "      <td>551</td>\n",
       "      <td>NaN</td>\n",
       "    </tr>\n",
       "  </tbody>\n",
       "</table>\n",
       "</div>"
      ],
      "text/plain": [
       "           sex   age  sib_sp  par_ch embarked ticket_label cabin_label  \\\n",
       "pax_id                                                                   \n",
       "417     female  34.0       1       1        S        23326         551   \n",
       "802     female  31.0       1       1        S        70670         551   \n",
       "513       male  36.0       0       0        S        14636          18   \n",
       "456       male  29.0       0       0        C       359723         551   \n",
       "758       male  18.0       0       0        S        70670         551   \n",
       "\n",
       "       deck_code  \n",
       "pax_id            \n",
       "417          NaN  \n",
       "802          NaN  \n",
       "513            E  \n",
       "456          NaN  \n",
       "758          NaN  "
      ]
     },
     "execution_count": 335,
     "metadata": {},
     "output_type": "execute_result"
    }
   ],
   "source": [
    "x_train, x_test, y_train, y_test = train_test_split(\n",
    "    titanic_df[features], \n",
    "    titanic_df[target_name], \n",
    "    test_size=0.3, \n",
    "    random_state=123)\n",
    "\n",
    "x_train.head()"
   ]
  },
  {
   "cell_type": "markdown",
   "id": "495e1955",
   "metadata": {},
   "source": [
    "## Feature imputation"
   ]
  },
  {
   "cell_type": "markdown",
   "id": "69d1c523",
   "metadata": {},
   "source": [
    "### Categorical feature imputation"
   ]
  },
  {
   "cell_type": "code",
   "execution_count": 336,
   "id": "b0b13dd6",
   "metadata": {},
   "outputs": [
    {
     "name": "stdout",
     "output_type": "stream",
     "text": [
      "Simple imptation required for the ['ticket_label' 'embarked'] features\n",
      "Complex imptation required for the ['deck_code'] features\n"
     ]
    }
   ],
   "source": [
    "cat_features_imputation_stats = x_train[cat_features].isnull().mean().sort_values(ascending=False)\n",
    "cat_features_simple_impute = cat_features_imputation_stats[lambda x : ((x > 0) & (x < 0.1))]\n",
    "cat_features_no_impute = cat_features_imputation_stats[lambda x : x == 0]\n",
    "cat_features_complex_impute = cat_features_imputation_stats[lambda x : x > 0.1]\n",
    "\n",
    "print(f'Simple imptation required for the {cat_features_simple_impute.index.values} features')\n",
    "print(f'Complex imptation required for the {cat_features_complex_impute.index.values} features')"
   ]
  },
  {
   "cell_type": "code",
   "execution_count": 337,
   "id": "24688030",
   "metadata": {},
   "outputs": [
    {
     "data": {
      "image/png": "[encoded data removed]",
      "text/plain": [
       "<Figure size 1500x500 with 3 Axes>"
      ]
     },
     "metadata": {},
     "output_type": "display_data"
    }
   ],
   "source": [
    "#Categorical feature to impute,probability distribution analysis\n",
    "\n",
    "def plot_categorical_feature_hist(df, features):\n",
    "    fig, axis = plt.subplots(1, len(features))\n",
    "    fig.set_size_inches(15, 5)\n",
    "\n",
    "    i = 0\n",
    "    for feature_name in features:\n",
    "        data = df[feature_name].value_counts()\n",
    "\n",
    "        data.plot(ax=axis[i], kind='bar')\n",
    "        axis[i].title.set_text(f'{feature_name} feature histogram')\n",
    "        i = i + 1\n",
    "    \n",
    "    plt.show()\n",
    "\n",
    "cat_features_to_impute = cat_features_imputation_stats[lambda x : x > 0]\n",
    "plot_categorical_feature_hist(x_train, cat_features_to_impute.index.values)\n",
    "#Seems that all distributions are skewed"
   ]
  },
  {
   "cell_type": "code",
   "execution_count": 338,
   "id": "559c93b3",
   "metadata": {},
   "outputs": [
    {
     "name": "stderr",
     "output_type": "stream",
     "text": [
      "C:\\Users\\iliya\\AppData\\Local\\Temp\\ipykernel_8596\\2069044381.py:33: DeprecationWarning: In a future version, `df.iloc[:, i] = newvals` will attempt to set the values inplace instead of always setting a new array. To retain the old behavior, use either `df[df.columns[i]] = newvals` or, if columns are non-unique, `df.isetitem(i, newvals)`\n",
      "  x_train_imputed.loc[:, variables] = train_result\n",
      "C:\\Users\\iliya\\AppData\\Local\\Temp\\ipykernel_8596\\2069044381.py:34: DeprecationWarning: In a future version, `df.iloc[:, i] = newvals` will attempt to set the values inplace instead of always setting a new array. To retain the old behavior, use either `df[df.columns[i]] = newvals` or, if columns are non-unique, `df.isetitem(i, newvals)`\n",
      "  x_test_imputed.loc[:, variables] = test_result\n"
     ]
    },
    {
     "data": {
      "text/html": [
       "<div>\n",
       "<style scoped>\n",
       "    .dataframe tbody tr th:only-of-type {\n",
       "        vertical-align: middle;\n",
       "    }\n",
       "\n",
       "    .dataframe tbody tr th {\n",
       "        vertical-align: top;\n",
       "    }\n",
       "\n",
       "    .dataframe thead th {\n",
       "        text-align: right;\n",
       "    }\n",
       "</style>\n",
       "<table border=\"1\" class=\"dataframe\">\n",
       "  <thead>\n",
       "    <tr style=\"text-align: right;\">\n",
       "      <th></th>\n",
       "      <th>sex</th>\n",
       "      <th>age</th>\n",
       "      <th>sib_sp</th>\n",
       "      <th>par_ch</th>\n",
       "      <th>embarked</th>\n",
       "      <th>ticket_label</th>\n",
       "      <th>cabin_label</th>\n",
       "      <th>deck_code</th>\n",
       "    </tr>\n",
       "    <tr>\n",
       "      <th>pax_id</th>\n",
       "      <th></th>\n",
       "      <th></th>\n",
       "      <th></th>\n",
       "      <th></th>\n",
       "      <th></th>\n",
       "      <th></th>\n",
       "      <th></th>\n",
       "      <th></th>\n",
       "    </tr>\n",
       "  </thead>\n",
       "  <tbody>\n",
       "    <tr>\n",
       "      <th>417</th>\n",
       "      <td>female</td>\n",
       "      <td>34.0</td>\n",
       "      <td>1</td>\n",
       "      <td>1</td>\n",
       "      <td>S</td>\n",
       "      <td>23326</td>\n",
       "      <td>551</td>\n",
       "      <td>NaN</td>\n",
       "    </tr>\n",
       "    <tr>\n",
       "      <th>802</th>\n",
       "      <td>female</td>\n",
       "      <td>31.0</td>\n",
       "      <td>1</td>\n",
       "      <td>1</td>\n",
       "      <td>S</td>\n",
       "      <td>70670</td>\n",
       "      <td>551</td>\n",
       "      <td>NaN</td>\n",
       "    </tr>\n",
       "    <tr>\n",
       "      <th>513</th>\n",
       "      <td>male</td>\n",
       "      <td>36.0</td>\n",
       "      <td>0</td>\n",
       "      <td>0</td>\n",
       "      <td>S</td>\n",
       "      <td>14636</td>\n",
       "      <td>18</td>\n",
       "      <td>E</td>\n",
       "    </tr>\n",
       "    <tr>\n",
       "      <th>456</th>\n",
       "      <td>male</td>\n",
       "      <td>29.0</td>\n",
       "      <td>0</td>\n",
       "      <td>0</td>\n",
       "      <td>C</td>\n",
       "      <td>359723</td>\n",
       "      <td>551</td>\n",
       "      <td>NaN</td>\n",
       "    </tr>\n",
       "    <tr>\n",
       "      <th>758</th>\n",
       "      <td>male</td>\n",
       "      <td>18.0</td>\n",
       "      <td>0</td>\n",
       "      <td>0</td>\n",
       "      <td>S</td>\n",
       "      <td>70670</td>\n",
       "      <td>551</td>\n",
       "      <td>NaN</td>\n",
       "    </tr>\n",
       "  </tbody>\n",
       "</table>\n",
       "</div>"
      ],
      "text/plain": [
       "           sex   age  sib_sp  par_ch embarked ticket_label cabin_label  \\\n",
       "pax_id                                                                   \n",
       "417     female  34.0       1       1        S        23326         551   \n",
       "802     female  31.0       1       1        S        70670         551   \n",
       "513       male  36.0       0       0        S        14636          18   \n",
       "456       male  29.0       0       0        C       359723         551   \n",
       "758       male  18.0       0       0        S        70670         551   \n",
       "\n",
       "       deck_code  \n",
       "pax_id            \n",
       "417          NaN  \n",
       "802          NaN  \n",
       "513            E  \n",
       "456          NaN  \n",
       "758          NaN  "
      ]
     },
     "execution_count": 338,
     "metadata": {},
     "output_type": "execute_result"
    }
   ],
   "source": [
    "#Imputing categorical features with low missing value percent\n",
    "labels = cat_features_simple_impute.index.values\n",
    "\n",
    "imputer = FeatureImputer()\n",
    "\n",
    "imputation_method = ImputationMethod.FREQUENT_CATEGORY\n",
    "x_train_imputed, x_test_imputed = imputer.fit_transform(imputation_method, x_train, x_test, labels)\n",
    "\n",
    "x_train_imputed.head()"
   ]
  },
  {
   "cell_type": "code",
   "execution_count": 339,
   "id": "e78e615e",
   "metadata": {},
   "outputs": [
    {
     "data": {
      "image/png": "[encoded data removed]",
      "text/plain": [
       "<Figure size 1500x500 with 3 Axes>"
      ]
     },
     "metadata": {},
     "output_type": "display_data"
    }
   ],
   "source": [
    "# Data distribution after imputing categorical features with low missing value percent \n",
    "plot_categorical_feature_hist(x_train_imputed, cat_features_to_impute.index.values)"
   ]
  },
  {
   "cell_type": "code",
   "execution_count": 340,
   "id": "13f6c8b3",
   "metadata": {},
   "outputs": [
    {
     "data": {
      "text/html": [
       "<div>\n",
       "<style scoped>\n",
       "    .dataframe tbody tr th:only-of-type {\n",
       "        vertical-align: middle;\n",
       "    }\n",
       "\n",
       "    .dataframe tbody tr th {\n",
       "        vertical-align: top;\n",
       "    }\n",
       "\n",
       "    .dataframe thead th {\n",
       "        text-align: right;\n",
       "    }\n",
       "</style>\n",
       "<table border=\"1\" class=\"dataframe\">\n",
       "  <thead>\n",
       "    <tr style=\"text-align: right;\">\n",
       "      <th></th>\n",
       "      <th>sex</th>\n",
       "      <th>age</th>\n",
       "      <th>sib_sp</th>\n",
       "      <th>par_ch</th>\n",
       "      <th>embarked</th>\n",
       "      <th>ticket_label</th>\n",
       "      <th>cabin_label</th>\n",
       "      <th>deck_code</th>\n",
       "    </tr>\n",
       "    <tr>\n",
       "      <th>pax_id</th>\n",
       "      <th></th>\n",
       "      <th></th>\n",
       "      <th></th>\n",
       "      <th></th>\n",
       "      <th></th>\n",
       "      <th></th>\n",
       "      <th></th>\n",
       "      <th></th>\n",
       "    </tr>\n",
       "  </thead>\n",
       "  <tbody>\n",
       "    <tr>\n",
       "      <th>417</th>\n",
       "      <td>female</td>\n",
       "      <td>34.0</td>\n",
       "      <td>1</td>\n",
       "      <td>1</td>\n",
       "      <td>S</td>\n",
       "      <td>23326</td>\n",
       "      <td>551</td>\n",
       "      <td>Missing</td>\n",
       "    </tr>\n",
       "    <tr>\n",
       "      <th>802</th>\n",
       "      <td>female</td>\n",
       "      <td>31.0</td>\n",
       "      <td>1</td>\n",
       "      <td>1</td>\n",
       "      <td>S</td>\n",
       "      <td>70670</td>\n",
       "      <td>551</td>\n",
       "      <td>Missing</td>\n",
       "    </tr>\n",
       "    <tr>\n",
       "      <th>513</th>\n",
       "      <td>male</td>\n",
       "      <td>36.0</td>\n",
       "      <td>0</td>\n",
       "      <td>0</td>\n",
       "      <td>S</td>\n",
       "      <td>14636</td>\n",
       "      <td>18</td>\n",
       "      <td>E</td>\n",
       "    </tr>\n",
       "    <tr>\n",
       "      <th>456</th>\n",
       "      <td>male</td>\n",
       "      <td>29.0</td>\n",
       "      <td>0</td>\n",
       "      <td>0</td>\n",
       "      <td>C</td>\n",
       "      <td>359723</td>\n",
       "      <td>551</td>\n",
       "      <td>Missing</td>\n",
       "    </tr>\n",
       "    <tr>\n",
       "      <th>758</th>\n",
       "      <td>male</td>\n",
       "      <td>18.0</td>\n",
       "      <td>0</td>\n",
       "      <td>0</td>\n",
       "      <td>S</td>\n",
       "      <td>70670</td>\n",
       "      <td>551</td>\n",
       "      <td>Missing</td>\n",
       "    </tr>\n",
       "  </tbody>\n",
       "</table>\n",
       "</div>"
      ],
      "text/plain": [
       "           sex   age  sib_sp  par_ch embarked ticket_label cabin_label  \\\n",
       "pax_id                                                                   \n",
       "417     female  34.0       1       1        S        23326         551   \n",
       "802     female  31.0       1       1        S        70670         551   \n",
       "513       male  36.0       0       0        S        14636          18   \n",
       "456       male  29.0       0       0        C       359723         551   \n",
       "758       male  18.0       0       0        S        70670         551   \n",
       "\n",
       "       deck_code  \n",
       "pax_id            \n",
       "417      Missing  \n",
       "802      Missing  \n",
       "513            E  \n",
       "456      Missing  \n",
       "758      Missing  "
      ]
     },
     "execution_count": 340,
     "metadata": {},
     "output_type": "execute_result"
    }
   ],
   "source": [
    "#Imputing categorical features with hight missing value percent\n",
    "labels = cat_features_complex_impute.index.values\n",
    "\n",
    "imputation_method = ImputationMethod.MISSING_CATEGORY\n",
    "x_train_imputed, x_test_imputed = imputer.fit_transform(imputation_method, x_train_imputed, x_test_imputed, labels)\n",
    "\n",
    "x_train_imputed.head()"
   ]
  },
  {
   "cell_type": "code",
   "execution_count": 341,
   "id": "02a5228f",
   "metadata": {},
   "outputs": [
    {
     "data": {
      "image/png": "[encoded data removed]",
      "text/plain": [
       "<Figure size 1500x500 with 3 Axes>"
      ]
     },
     "metadata": {},
     "output_type": "display_data"
    }
   ],
   "source": [
    "# Data distribution after imputing categorical features with high missing value percent \n",
    "plot_categorical_feature_hist(x_train_imputed, cat_features_to_impute.index.values)"
   ]
  },
  {
   "cell_type": "markdown",
   "id": "c009294d",
   "metadata": {},
   "source": [
    "## Numerical feature imputation"
   ]
  },
  {
   "cell_type": "code",
   "execution_count": 342,
   "id": "e5c87817",
   "metadata": {},
   "outputs": [
    {
     "data": {
      "text/plain": [
       "age    0.210273\n",
       "dtype: float64"
      ]
     },
     "execution_count": 342,
     "metadata": {},
     "output_type": "execute_result"
    }
   ],
   "source": [
    "num_features_imputation_stats = x_train[num_features].isnull().mean().sort_values(ascending=False)\n",
    "num_features_impute = num_features_imputation_stats[lambda x : ((x > 0) & (x < 0.25))]\n",
    "num_features_impute"
   ]
  },
  {
   "cell_type": "code",
   "execution_count": 343,
   "id": "efd0f65a",
   "metadata": {},
   "outputs": [
    {
     "data": {
      "text/html": [
       "<div>\n",
       "<style scoped>\n",
       "    .dataframe tbody tr th:only-of-type {\n",
       "        vertical-align: middle;\n",
       "    }\n",
       "\n",
       "    .dataframe tbody tr th {\n",
       "        vertical-align: top;\n",
       "    }\n",
       "\n",
       "    .dataframe thead th {\n",
       "        text-align: right;\n",
       "    }\n",
       "</style>\n",
       "<table border=\"1\" class=\"dataframe\">\n",
       "  <thead>\n",
       "    <tr style=\"text-align: right;\">\n",
       "      <th></th>\n",
       "      <th>sex</th>\n",
       "      <th>age</th>\n",
       "      <th>sib_sp</th>\n",
       "      <th>par_ch</th>\n",
       "      <th>embarked</th>\n",
       "      <th>ticket_label</th>\n",
       "      <th>cabin_label</th>\n",
       "      <th>deck_code</th>\n",
       "    </tr>\n",
       "    <tr>\n",
       "      <th>pax_id</th>\n",
       "      <th></th>\n",
       "      <th></th>\n",
       "      <th></th>\n",
       "      <th></th>\n",
       "      <th></th>\n",
       "      <th></th>\n",
       "      <th></th>\n",
       "      <th></th>\n",
       "    </tr>\n",
       "  </thead>\n",
       "  <tbody>\n",
       "    <tr>\n",
       "      <th>417</th>\n",
       "      <td>female</td>\n",
       "      <td>34.0</td>\n",
       "      <td>1</td>\n",
       "      <td>1</td>\n",
       "      <td>S</td>\n",
       "      <td>23326</td>\n",
       "      <td>551</td>\n",
       "      <td>Missing</td>\n",
       "    </tr>\n",
       "    <tr>\n",
       "      <th>802</th>\n",
       "      <td>female</td>\n",
       "      <td>31.0</td>\n",
       "      <td>1</td>\n",
       "      <td>1</td>\n",
       "      <td>S</td>\n",
       "      <td>70670</td>\n",
       "      <td>551</td>\n",
       "      <td>Missing</td>\n",
       "    </tr>\n",
       "    <tr>\n",
       "      <th>513</th>\n",
       "      <td>male</td>\n",
       "      <td>36.0</td>\n",
       "      <td>0</td>\n",
       "      <td>0</td>\n",
       "      <td>S</td>\n",
       "      <td>14636</td>\n",
       "      <td>18</td>\n",
       "      <td>E</td>\n",
       "    </tr>\n",
       "    <tr>\n",
       "      <th>456</th>\n",
       "      <td>male</td>\n",
       "      <td>29.0</td>\n",
       "      <td>0</td>\n",
       "      <td>0</td>\n",
       "      <td>C</td>\n",
       "      <td>359723</td>\n",
       "      <td>551</td>\n",
       "      <td>Missing</td>\n",
       "    </tr>\n",
       "    <tr>\n",
       "      <th>758</th>\n",
       "      <td>male</td>\n",
       "      <td>18.0</td>\n",
       "      <td>0</td>\n",
       "      <td>0</td>\n",
       "      <td>S</td>\n",
       "      <td>70670</td>\n",
       "      <td>551</td>\n",
       "      <td>Missing</td>\n",
       "    </tr>\n",
       "  </tbody>\n",
       "</table>\n",
       "</div>"
      ],
      "text/plain": [
       "           sex   age  sib_sp  par_ch embarked ticket_label cabin_label  \\\n",
       "pax_id                                                                   \n",
       "417     female  34.0       1       1        S        23326         551   \n",
       "802     female  31.0       1       1        S        70670         551   \n",
       "513       male  36.0       0       0        S        14636          18   \n",
       "456       male  29.0       0       0        C       359723         551   \n",
       "758       male  18.0       0       0        S        70670         551   \n",
       "\n",
       "       deck_code  \n",
       "pax_id            \n",
       "417      Missing  \n",
       "802      Missing  \n",
       "513            E  \n",
       "456      Missing  \n",
       "758      Missing  "
      ]
     },
     "execution_count": 343,
     "metadata": {},
     "output_type": "execute_result"
    }
   ],
   "source": [
    "#Imputing numerical features with medium missing value percent\n",
    "labels = num_features_impute.index.values\n",
    "\n",
    "imputation_method = ImputationMethod.KNN\n",
    "x_train_imputed, x_test_imputed = imputer.fit_transform(imputation_method, x_train_imputed, x_test_imputed, labels)\n",
    "\n",
    "x_train_imputed.head()"
   ]
  },
  {
   "cell_type": "markdown",
   "id": "dacaa7ea",
   "metadata": {},
   "source": [
    "## Categorical feature encoding"
   ]
  },
  {
   "cell_type": "code",
   "execution_count": 344,
   "id": "dbed2b22",
   "metadata": {},
   "outputs": [
    {
     "data": {
      "text/html": [
       "<div>\n",
       "<style scoped>\n",
       "    .dataframe tbody tr th:only-of-type {\n",
       "        vertical-align: middle;\n",
       "    }\n",
       "\n",
       "    .dataframe tbody tr th {\n",
       "        vertical-align: top;\n",
       "    }\n",
       "\n",
       "    .dataframe thead th {\n",
       "        text-align: right;\n",
       "    }\n",
       "</style>\n",
       "<table border=\"1\" class=\"dataframe\">\n",
       "  <thead>\n",
       "    <tr style=\"text-align: right;\">\n",
       "      <th></th>\n",
       "      <th>age</th>\n",
       "      <th>sib_sp</th>\n",
       "      <th>par_ch</th>\n",
       "      <th>ticket_label</th>\n",
       "      <th>cabin_label</th>\n",
       "      <th>sex_female</th>\n",
       "      <th>embarked_S</th>\n",
       "      <th>embarked_C</th>\n",
       "      <th>deck_code_Missing</th>\n",
       "      <th>deck_code_E</th>\n",
       "      <th>deck_code_D</th>\n",
       "      <th>deck_code_B</th>\n",
       "      <th>deck_code_F</th>\n",
       "      <th>deck_code_C</th>\n",
       "      <th>deck_code_A</th>\n",
       "      <th>deck_code_G</th>\n",
       "    </tr>\n",
       "    <tr>\n",
       "      <th>pax_id</th>\n",
       "      <th></th>\n",
       "      <th></th>\n",
       "      <th></th>\n",
       "      <th></th>\n",
       "      <th></th>\n",
       "      <th></th>\n",
       "      <th></th>\n",
       "      <th></th>\n",
       "      <th></th>\n",
       "      <th></th>\n",
       "      <th></th>\n",
       "      <th></th>\n",
       "      <th></th>\n",
       "      <th></th>\n",
       "      <th></th>\n",
       "      <th></th>\n",
       "    </tr>\n",
       "  </thead>\n",
       "  <tbody>\n",
       "    <tr>\n",
       "      <th>417</th>\n",
       "      <td>34.0</td>\n",
       "      <td>1</td>\n",
       "      <td>1</td>\n",
       "      <td>23326</td>\n",
       "      <td>551</td>\n",
       "      <td>1</td>\n",
       "      <td>1</td>\n",
       "      <td>0</td>\n",
       "      <td>1</td>\n",
       "      <td>0</td>\n",
       "      <td>0</td>\n",
       "      <td>0</td>\n",
       "      <td>0</td>\n",
       "      <td>0</td>\n",
       "      <td>0</td>\n",
       "      <td>0</td>\n",
       "    </tr>\n",
       "    <tr>\n",
       "      <th>802</th>\n",
       "      <td>31.0</td>\n",
       "      <td>1</td>\n",
       "      <td>1</td>\n",
       "      <td>70670</td>\n",
       "      <td>551</td>\n",
       "      <td>1</td>\n",
       "      <td>1</td>\n",
       "      <td>0</td>\n",
       "      <td>1</td>\n",
       "      <td>0</td>\n",
       "      <td>0</td>\n",
       "      <td>0</td>\n",
       "      <td>0</td>\n",
       "      <td>0</td>\n",
       "      <td>0</td>\n",
       "      <td>0</td>\n",
       "    </tr>\n",
       "    <tr>\n",
       "      <th>513</th>\n",
       "      <td>36.0</td>\n",
       "      <td>0</td>\n",
       "      <td>0</td>\n",
       "      <td>14636</td>\n",
       "      <td>18</td>\n",
       "      <td>0</td>\n",
       "      <td>1</td>\n",
       "      <td>0</td>\n",
       "      <td>0</td>\n",
       "      <td>1</td>\n",
       "      <td>0</td>\n",
       "      <td>0</td>\n",
       "      <td>0</td>\n",
       "      <td>0</td>\n",
       "      <td>0</td>\n",
       "      <td>0</td>\n",
       "    </tr>\n",
       "    <tr>\n",
       "      <th>456</th>\n",
       "      <td>29.0</td>\n",
       "      <td>0</td>\n",
       "      <td>0</td>\n",
       "      <td>359723</td>\n",
       "      <td>551</td>\n",
       "      <td>0</td>\n",
       "      <td>0</td>\n",
       "      <td>1</td>\n",
       "      <td>1</td>\n",
       "      <td>0</td>\n",
       "      <td>0</td>\n",
       "      <td>0</td>\n",
       "      <td>0</td>\n",
       "      <td>0</td>\n",
       "      <td>0</td>\n",
       "      <td>0</td>\n",
       "    </tr>\n",
       "    <tr>\n",
       "      <th>758</th>\n",
       "      <td>18.0</td>\n",
       "      <td>0</td>\n",
       "      <td>0</td>\n",
       "      <td>70670</td>\n",
       "      <td>551</td>\n",
       "      <td>0</td>\n",
       "      <td>1</td>\n",
       "      <td>0</td>\n",
       "      <td>1</td>\n",
       "      <td>0</td>\n",
       "      <td>0</td>\n",
       "      <td>0</td>\n",
       "      <td>0</td>\n",
       "      <td>0</td>\n",
       "      <td>0</td>\n",
       "      <td>0</td>\n",
       "    </tr>\n",
       "  </tbody>\n",
       "</table>\n",
       "</div>"
      ],
      "text/plain": [
       "         age  sib_sp  par_ch ticket_label cabin_label  sex_female  embarked_S  \\\n",
       "pax_id                                                                          \n",
       "417     34.0       1       1        23326         551           1           1   \n",
       "802     31.0       1       1        70670         551           1           1   \n",
       "513     36.0       0       0        14636          18           0           1   \n",
       "456     29.0       0       0       359723         551           0           0   \n",
       "758     18.0       0       0        70670         551           0           1   \n",
       "\n",
       "        embarked_C  deck_code_Missing  deck_code_E  deck_code_D  deck_code_B  \\\n",
       "pax_id                                                                         \n",
       "417              0                  1            0            0            0   \n",
       "802              0                  1            0            0            0   \n",
       "513              0                  0            1            0            0   \n",
       "456              1                  1            0            0            0   \n",
       "758              0                  1            0            0            0   \n",
       "\n",
       "        deck_code_F  deck_code_C  deck_code_A  deck_code_G  \n",
       "pax_id                                                      \n",
       "417               0            0            0            0  \n",
       "802               0            0            0            0  \n",
       "513               0            0            0            0  \n",
       "456               0            0            0            0  \n",
       "758               0            0            0            0  "
      ]
     },
     "execution_count": 344,
     "metadata": {},
     "output_type": "execute_result"
    }
   ],
   "source": [
    "encoder = OneHotEncoder(variables=features_to_encode, drop_last=True)\n",
    "\n",
    "encoder.fit(x_train_imputed)\n",
    "x_train_encoded = encoder.transform(x_train_imputed)\n",
    "x_test_encoded = encoder.transform(x_test_imputed)\n",
    "\n",
    "x_train_encoded.head()"
   ]
  },
  {
   "cell_type": "markdown",
   "id": "f439737e",
   "metadata": {},
   "source": [
    "## Feature scalling"
   ]
  },
  {
   "cell_type": "code",
   "execution_count": 345,
   "id": "e66b5bd1",
   "metadata": {},
   "outputs": [
    {
     "data": {
      "text/html": [
       "<div>\n",
       "<style scoped>\n",
       "    .dataframe tbody tr th:only-of-type {\n",
       "        vertical-align: middle;\n",
       "    }\n",
       "\n",
       "    .dataframe tbody tr th {\n",
       "        vertical-align: top;\n",
       "    }\n",
       "\n",
       "    .dataframe thead th {\n",
       "        text-align: right;\n",
       "    }\n",
       "</style>\n",
       "<table border=\"1\" class=\"dataframe\">\n",
       "  <thead>\n",
       "    <tr style=\"text-align: right;\">\n",
       "      <th></th>\n",
       "      <th>age</th>\n",
       "      <th>sib_sp</th>\n",
       "      <th>par_ch</th>\n",
       "      <th>ticket_label</th>\n",
       "      <th>cabin_label</th>\n",
       "      <th>sex_female</th>\n",
       "      <th>embarked_S</th>\n",
       "      <th>embarked_C</th>\n",
       "      <th>deck_code_Missing</th>\n",
       "      <th>deck_code_E</th>\n",
       "      <th>deck_code_D</th>\n",
       "      <th>deck_code_B</th>\n",
       "      <th>deck_code_F</th>\n",
       "      <th>deck_code_C</th>\n",
       "      <th>deck_code_A</th>\n",
       "      <th>deck_code_G</th>\n",
       "    </tr>\n",
       "    <tr>\n",
       "      <th>pax_id</th>\n",
       "      <th></th>\n",
       "      <th></th>\n",
       "      <th></th>\n",
       "      <th></th>\n",
       "      <th></th>\n",
       "      <th></th>\n",
       "      <th></th>\n",
       "      <th></th>\n",
       "      <th></th>\n",
       "      <th></th>\n",
       "      <th></th>\n",
       "      <th></th>\n",
       "      <th></th>\n",
       "      <th></th>\n",
       "      <th></th>\n",
       "      <th></th>\n",
       "    </tr>\n",
       "  </thead>\n",
       "  <tbody>\n",
       "    <tr>\n",
       "      <th>417</th>\n",
       "      <td>0.421965</td>\n",
       "      <td>0.125</td>\n",
       "      <td>0.2</td>\n",
       "      <td>0.012678</td>\n",
       "      <td>1.0</td>\n",
       "      <td>1</td>\n",
       "      <td>1</td>\n",
       "      <td>0</td>\n",
       "      <td>1</td>\n",
       "      <td>0</td>\n",
       "      <td>0</td>\n",
       "      <td>0</td>\n",
       "      <td>0</td>\n",
       "      <td>0</td>\n",
       "      <td>0</td>\n",
       "      <td>0</td>\n",
       "    </tr>\n",
       "    <tr>\n",
       "      <th>802</th>\n",
       "      <td>0.384267</td>\n",
       "      <td>0.125</td>\n",
       "      <td>0.2</td>\n",
       "      <td>0.039974</td>\n",
       "      <td>1.0</td>\n",
       "      <td>1</td>\n",
       "      <td>1</td>\n",
       "      <td>0</td>\n",
       "      <td>1</td>\n",
       "      <td>0</td>\n",
       "      <td>0</td>\n",
       "      <td>0</td>\n",
       "      <td>0</td>\n",
       "      <td>0</td>\n",
       "      <td>0</td>\n",
       "      <td>0</td>\n",
       "    </tr>\n",
       "    <tr>\n",
       "      <th>513</th>\n",
       "      <td>0.447097</td>\n",
       "      <td>0.000</td>\n",
       "      <td>0.0</td>\n",
       "      <td>0.007668</td>\n",
       "      <td>0.0</td>\n",
       "      <td>0</td>\n",
       "      <td>1</td>\n",
       "      <td>0</td>\n",
       "      <td>0</td>\n",
       "      <td>1</td>\n",
       "      <td>0</td>\n",
       "      <td>0</td>\n",
       "      <td>0</td>\n",
       "      <td>0</td>\n",
       "      <td>0</td>\n",
       "      <td>0</td>\n",
       "    </tr>\n",
       "    <tr>\n",
       "      <th>456</th>\n",
       "      <td>0.359135</td>\n",
       "      <td>0.000</td>\n",
       "      <td>0.0</td>\n",
       "      <td>0.206630</td>\n",
       "      <td>1.0</td>\n",
       "      <td>0</td>\n",
       "      <td>0</td>\n",
       "      <td>1</td>\n",
       "      <td>1</td>\n",
       "      <td>0</td>\n",
       "      <td>0</td>\n",
       "      <td>0</td>\n",
       "      <td>0</td>\n",
       "      <td>0</td>\n",
       "      <td>0</td>\n",
       "      <td>0</td>\n",
       "    </tr>\n",
       "    <tr>\n",
       "      <th>758</th>\n",
       "      <td>0.220910</td>\n",
       "      <td>0.000</td>\n",
       "      <td>0.0</td>\n",
       "      <td>0.039974</td>\n",
       "      <td>1.0</td>\n",
       "      <td>0</td>\n",
       "      <td>1</td>\n",
       "      <td>0</td>\n",
       "      <td>1</td>\n",
       "      <td>0</td>\n",
       "      <td>0</td>\n",
       "      <td>0</td>\n",
       "      <td>0</td>\n",
       "      <td>0</td>\n",
       "      <td>0</td>\n",
       "      <td>0</td>\n",
       "    </tr>\n",
       "  </tbody>\n",
       "</table>\n",
       "</div>"
      ],
      "text/plain": [
       "             age  sib_sp  par_ch  ticket_label  cabin_label  sex_female  \\\n",
       "pax_id                                                                    \n",
       "417     0.421965   0.125     0.2      0.012678          1.0           1   \n",
       "802     0.384267   0.125     0.2      0.039974          1.0           1   \n",
       "513     0.447097   0.000     0.0      0.007668          0.0           0   \n",
       "456     0.359135   0.000     0.0      0.206630          1.0           0   \n",
       "758     0.220910   0.000     0.0      0.039974          1.0           0   \n",
       "\n",
       "        embarked_S  embarked_C  deck_code_Missing  deck_code_E  deck_code_D  \\\n",
       "pax_id                                                                        \n",
       "417              1           0                  1            0            0   \n",
       "802              1           0                  1            0            0   \n",
       "513              1           0                  0            1            0   \n",
       "456              0           1                  1            0            0   \n",
       "758              1           0                  1            0            0   \n",
       "\n",
       "        deck_code_B  deck_code_F  deck_code_C  deck_code_A  deck_code_G  \n",
       "pax_id                                                                   \n",
       "417               0            0            0            0            0  \n",
       "802               0            0            0            0            0  \n",
       "513               0            0            0            0            0  \n",
       "456               0            0            0            0            0  \n",
       "758               0            0            0            0            0  "
      ]
     },
     "execution_count": 345,
     "metadata": {},
     "output_type": "execute_result"
    }
   ],
   "source": [
    "scaller = MinMaxScaler()\n",
    "\n",
    "scaller.fit(x_train_encoded[feature_to_scale])\n",
    "\n",
    "\n",
    "x_train_scalled = x_train_encoded.copy()\n",
    "scalled_df = scaller.transform(x_train_encoded[feature_to_scale])\n",
    "x_train_scalled[feature_to_scale] = pd.DataFrame(scalled_df, columns=feature_to_scale).values\n",
    "\n",
    "x_test_scalled = x_test_encoded.copy()\n",
    "scalled_df = scaller.transform(x_test_encoded[feature_to_scale])\n",
    "x_test_scalled[feature_to_scale] = pd.DataFrame(scalled_df, columns=feature_to_scale).values\n",
    "\n",
    "x_train_scalled.head()"
   ]
  },
  {
   "cell_type": "markdown",
   "id": "1fe9ad8a",
   "metadata": {},
   "source": [
    "## Training ANN model"
   ]
  },
  {
   "cell_type": "code",
   "execution_count": 346,
   "id": "b9d14aec",
   "metadata": {},
   "outputs": [],
   "source": [
    "input_layer_size = len(x_train_scalled.columns)"
   ]
  },
  {
   "cell_type": "code",
   "execution_count": 347,
   "id": "5a245831",
   "metadata": {},
   "outputs": [],
   "source": [
    "class TitanicNetTraining:\n",
    "    \n",
    "    def __init__(self, config, model, loss_method, optimizer):\n",
    "        self.epochs = config['epochs']\n",
    "        \n",
    "        #Initialing ANN\n",
    "        self.model = model\n",
    "\n",
    "        #Initializing loss function\n",
    "        self.loss_method = loss_method\n",
    "\n",
    "        #Initialing SGD optimizer\n",
    "        self.optimizer = optimizer\n",
    "    \n",
    "    def execute(self, train_df, targets):\n",
    "        \n",
    "        targets_df = pd.DataFrame(targets.tolist(), columns=[target_name])\n",
    "        \n",
    "        train_tensor = torch.tensor(train_df.values).float()\n",
    "        targets_tensor = torch.tensor(targets_df.values).float()\n",
    "        \n",
    "        print(f'Features tensor size is {train_tensor.size()}')\n",
    "        print(f'Targets tensor size is {targets_tensor.size()}\\n')\n",
    "        \n",
    "        losses = torch.zeros(self.epochs)\n",
    "        for epochi in range(self.epochs):\n",
    "            \n",
    "            #Forward step\n",
    "            predictions = self.model(train_tensor)\n",
    "            \n",
    "            #Calculation loss\n",
    "            loss = self.loss_method(predictions, targets_tensor)\n",
    "            losses[epochi] = loss\n",
    "            \n",
    "            #Backward step\n",
    "            self.optimizer.zero_grad()\n",
    "            loss.backward()\n",
    "            self.optimizer.step()\n",
    "         \n",
    "        predictions = self.model(train_tensor)\n",
    "        accuracy = 100 * torch.mean(((predictions > .5) == targets_tensor).float())\n",
    "        \n",
    "        return losses, predictions, accuracy\n",
    "        \n",
    "\n",
    "class TitanicNet(nn.Module):\n",
    "    \n",
    "    def __init__(self, config):\n",
    "        super().__init__()\n",
    "        \n",
    "        hidden_layer_size = config['hidden_layer_size']\n",
    "        \n",
    "        #Input layer\n",
    "        self.input = nn.Linear(input_layer_size, hidden_layer_size)\n",
    "        \n",
    "        #Hidden layer\n",
    "        self.hidden = nn.Linear(hidden_layer_size, hidden_layer_size)\n",
    "        \n",
    "        #Output layer\n",
    "        self.output = nn.Linear(hidden_layer_size, 1)\n",
    "    \n",
    "    def forward(self, x_train):\n",
    "        \n",
    "        data = self.input(x_train)\n",
    "        data = F.relu(data)\n",
    "        \n",
    "        data = self.hidden(data)\n",
    "        data = F.relu(data)\n",
    "        \n",
    "        data = self.output(data)\n",
    "        result = torch.sigmoid(data)\n",
    "        \n",
    "        return result"
   ]
  },
  {
   "cell_type": "code",
   "execution_count": 348,
   "id": "2773bf6f",
   "metadata": {},
   "outputs": [
    {
     "name": "stdout",
     "output_type": "stream",
     "text": [
      "Features tensor size is torch.Size([623, 16])\n",
      "Targets tensor size is torch.Size([623, 1])\n",
      "\n",
      "Training accuracy is 81.54093170166016\n"
     ]
    },
    {
     "data": {
      "image/png": "[encoded data removed]",
      "text/plain": [
       "<Figure size 640x480 with 1 Axes>"
      ]
     },
     "metadata": {},
     "output_type": "display_data"
    }
   ],
   "source": [
    "model = TitanicNet(ann_config)\n",
    "loss_method = nn.BCELoss() #Alternativly use BCEWithLogitsLoss\n",
    "optimizer = torch.optim.SGD(model.parameters(), lr=ann_config['learning_rate'])\n",
    "\n",
    "model_training = TitanicNetTraining(ann_config, model, loss_method, optimizer)\n",
    "\n",
    "losses, predictions, accuracy = model_training.execute(x_train_scalled, y_train)\n",
    "\n",
    "print(f'Training accuracy is {accuracy}')\n",
    "plt.plot(losses.detach(), 'o', markerfacecolor='w', linewidth=.1)\n",
    "plt.xlabel('Epoch'), plt.ylabel('Loss')\n",
    "plt.show()"
   ]
  },
  {
   "cell_type": "markdown",
   "id": "1751ddf2",
   "metadata": {},
   "source": [
    "## Testing ANN model"
   ]
  },
  {
   "cell_type": "code",
   "execution_count": 349,
   "id": "dc282988",
   "metadata": {},
   "outputs": [
    {
     "name": "stdout",
     "output_type": "stream",
     "text": [
      "Testing accuracy is 79.85074615478516\n"
     ]
    }
   ],
   "source": [
    "targets_df = pd.DataFrame(y_test.tolist(), columns=[target_name])\n",
    "test_tensor = torch.tensor(x_test_scalled.values).float()\n",
    "targets_tensor = torch.tensor(targets_df.values).float()\n",
    "\n",
    "predictions = model(test_tensor)\n",
    "test_accuracy = 100 * torch.mean(((predictions > .5) == targets_tensor).float())\n",
    "\n",
    "print(f'Testing accuracy is {test_accuracy}')"
   ]
  }
 ],
 "metadata": {
  "kernelspec": {
   "display_name": "Python 3 (ipykernel)",
   "language": "python",
   "name": "python3"
  },
  "language_info": {
   "codemirror_mode": {
    "name": "ipython",
    "version": 3
   },
   "file_extension": ".py",
   "mimetype": "text/x-python",
   "name": "python",
   "nbconvert_exporter": "python",
   "pygments_lexer": "ipython3",
   "version": "3.10.9"
  }
 },
 "nbformat": 4,
 "nbformat_minor": 5
}
