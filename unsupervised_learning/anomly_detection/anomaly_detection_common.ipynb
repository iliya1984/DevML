{
 "cells": [
  {
   "cell_type": "code",
   "execution_count": 26,
   "id": "bab6cda5",
   "metadata": {},
   "outputs": [],
   "source": [
    "import pandas as pd"
   ]
  },
  {
   "cell_type": "code",
   "execution_count": 32,
   "id": "eabc3f4d",
   "metadata": {},
   "outputs": [],
   "source": [
    "class Datasets:\n",
    "    \n",
    "    def load_dataset(dataset_name):\n",
    "        return pd.read_csv(f'../../datasets/anomaly_detection/{dataset_name}.csv')\n",
    "\n",
    "class ATSFDataset:\n",
    "    \n",
    "    _data_df = None\n",
    "    \n",
    "    class Columns:\n",
    "        TIMESTAMP = 'timestamp'\n",
    "        VALUE_F = 'value_f'\n",
    "        VALUE_C = 'value_c'\n",
    "        \n",
    "    \n",
    "    def load(self):\n",
    "        \n",
    "        self._data_df = Datasets.load_dataset('ambient_temperature_system_failure')\n",
    "        self._data_df[ATSFDataset.Columns.TIMESTAMP] = pd.to_datetime(self._data_df[ATSFDataset.Columns.TIMESTAMP])\n",
    "        self._data_df.rename(columns={ 'value' : ATSFDataset.Columns.VALUE_F }, inplace=True, errors='raise')\n",
    "        self._data_df[ATSFDataset.Columns.VALUE_C]= (self._data_df[ATSFDataset.Columns.VALUE_F]- 32) * 5 / 9\n",
    "        \n",
    "        return self\n",
    "    \n",
    "    def get_df(self):\n",
    "        return self._data_df\n",
    "    \n",
    "#est = ATSFDataset().load()\n",
    "#est.get_df().head()"
   ]
  }
 ],
 "metadata": {
  "kernelspec": {
   "display_name": "Python 3 (ipykernel)",
   "language": "python",
   "name": "python3"
  },
  "language_info": {
   "codemirror_mode": {
    "name": "ipython",
    "version": 3
   },
   "file_extension": ".py",
   "mimetype": "text/x-python",
   "name": "python",
   "nbconvert_exporter": "python",
   "pygments_lexer": "ipython3",
   "version": "3.10.4"
  }
 },
 "nbformat": 4,
 "nbformat_minor": 5
}
