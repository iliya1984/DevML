{
 "cells": [
  {
   "cell_type": "code",
   "execution_count": 1,
   "id": "8ae2abf6",
   "metadata": {},
   "outputs": [],
   "source": [
    "import pandas as pd"
   ]
  },
  {
   "cell_type": "code",
   "execution_count": 2,
   "id": "663ff2f1",
   "metadata": {},
   "outputs": [],
   "source": [
    "class Datasets:\n",
    "    \n",
    "    def load_dataset(dataset_name):\n",
    "        return pd.read_csv(f'../../datasets/anomaly_detection/{dataset_name}.csv')"
   ]
  }
 ],
 "metadata": {
  "kernelspec": {
   "display_name": "Python 3 (ipykernel)",
   "language": "python",
   "name": "python3"
  },
  "language_info": {
   "codemirror_mode": {
    "name": "ipython",
    "version": 3
   },
   "file_extension": ".py",
   "mimetype": "text/x-python",
   "name": "python",
   "nbconvert_exporter": "python",
   "pygments_lexer": "ipython3",
   "version": "3.10.4"
  }
 },
 "nbformat": 4,
 "nbformat_minor": 5
}
