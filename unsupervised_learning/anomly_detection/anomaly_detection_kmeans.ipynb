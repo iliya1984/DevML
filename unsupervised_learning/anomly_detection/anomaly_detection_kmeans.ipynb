{
 "cells": [
  {
   "cell_type": "markdown",
   "id": "9af58f09",
   "metadata": {},
   "source": [
    "# Anomaly detection techniques"
   ]
  },
  {
   "cell_type": "code",
   "execution_count": null,
   "id": "0d8489d9",
   "metadata": {},
   "outputs": [],
   "source": [
    "import pandas as pd\n",
    "import numpy as np\n",
    "\n",
    "import matplotlib\n",
    "import seaborn\n",
    "import matplotlib.dates as md\n",
    "from matplotlib import pyplot as plt"
   ]
  },
  {
   "cell_type": "code",
   "execution_count": null,
   "id": "6d7c5890",
   "metadata": {},
   "outputs": [],
   "source": [
    "%run anomaly_detection_common.ipynb"
   ]
  },
  {
   "cell_type": "markdown",
   "id": "2bbb0280",
   "metadata": {},
   "source": [
    "## Loading dataset"
   ]
  },
  {
   "cell_type": "code",
   "execution_count": null,
   "id": "4e1ed799",
   "metadata": {},
   "outputs": [],
   "source": [
    "Datasets.load_dataset('ambient_temperature_system_failure')"
   ]
  }
 ],
 "metadata": {
  "kernelspec": {
   "display_name": "Python 3 (ipykernel)",
   "language": "python",
   "name": "python3"
  },
  "language_info": {
   "codemirror_mode": {
    "name": "ipython",
    "version": 3
   },
   "file_extension": ".py",
   "mimetype": "text/x-python",
   "name": "python",
   "nbconvert_exporter": "python",
   "pygments_lexer": "ipython3",
   "version": "3.10.4"
  }
 },
 "nbformat": 4,
 "nbformat_minor": 5
}
