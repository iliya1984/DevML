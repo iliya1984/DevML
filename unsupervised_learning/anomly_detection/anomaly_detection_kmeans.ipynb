{
 "cells": [
  {
   "cell_type": "markdown",
   "id": "be7d8d1a",
   "metadata": {},
   "source": [
    "# Anomaly detection k means"
   ]
  },
  {
   "cell_type": "code",
   "execution_count": 149,
   "id": "506d76ff",
   "metadata": {},
   "outputs": [],
   "source": [
    "import pandas as pd\n",
    "import numpy as np\n",
    "\n",
    "import matplotlib\n",
    "import seaborn\n",
    "import matplotlib.dates as md\n",
    "from matplotlib import pyplot as plt\n",
    "\n",
    "from sklearn import preprocessing\n",
    "from sklearn.cluster import KMeans\n",
    "from sklearn.decomposition import PCA"
   ]
  },
  {
   "cell_type": "code",
   "execution_count": 150,
   "id": "e19ed2a9",
   "metadata": {},
   "outputs": [],
   "source": [
    "%run anomaly_detection_common.ipynb"
   ]
  },
  {
   "cell_type": "markdown",
   "id": "46ae9301",
   "metadata": {},
   "source": [
    "## Loading dataset"
   ]
  },
  {
   "cell_type": "code",
   "execution_count": 151,
   "id": "58cf7850",
   "metadata": {},
   "outputs": [
    {
     "data": {
      "text/html": [
       "<div>\n",
       "<style scoped>\n",
       "    .dataframe tbody tr th:only-of-type {\n",
       "        vertical-align: middle;\n",
       "    }\n",
       "\n",
       "    .dataframe tbody tr th {\n",
       "        vertical-align: top;\n",
       "    }\n",
       "\n",
       "    .dataframe thead th {\n",
       "        text-align: right;\n",
       "    }\n",
       "</style>\n",
       "<table border=\"1\" class=\"dataframe\">\n",
       "  <thead>\n",
       "    <tr style=\"text-align: right;\">\n",
       "      <th></th>\n",
       "      <th>timestamp</th>\n",
       "      <th>value_f</th>\n",
       "      <th>value_c</th>\n",
       "      <th>hours</th>\n",
       "      <th>daylight</th>\n",
       "      <th>day_of_the_week</th>\n",
       "      <th>week_day</th>\n",
       "      <th>time_epoch</th>\n",
       "      <th>categories</th>\n",
       "    </tr>\n",
       "  </thead>\n",
       "  <tbody>\n",
       "    <tr>\n",
       "      <th>0</th>\n",
       "      <td>2013-07-04 00:00:00</td>\n",
       "      <td>69.880835</td>\n",
       "      <td>21.044908</td>\n",
       "      <td>0</td>\n",
       "      <td>0</td>\n",
       "      <td>3</td>\n",
       "      <td>1</td>\n",
       "      <td>13728960</td>\n",
       "      <td>2</td>\n",
       "    </tr>\n",
       "    <tr>\n",
       "      <th>1</th>\n",
       "      <td>2013-07-04 01:00:00</td>\n",
       "      <td>71.220227</td>\n",
       "      <td>21.789015</td>\n",
       "      <td>1</td>\n",
       "      <td>0</td>\n",
       "      <td>3</td>\n",
       "      <td>1</td>\n",
       "      <td>13728996</td>\n",
       "      <td>2</td>\n",
       "    </tr>\n",
       "    <tr>\n",
       "      <th>2</th>\n",
       "      <td>2013-07-04 02:00:00</td>\n",
       "      <td>70.877805</td>\n",
       "      <td>21.598781</td>\n",
       "      <td>2</td>\n",
       "      <td>0</td>\n",
       "      <td>3</td>\n",
       "      <td>1</td>\n",
       "      <td>13729032</td>\n",
       "      <td>2</td>\n",
       "    </tr>\n",
       "    <tr>\n",
       "      <th>3</th>\n",
       "      <td>2013-07-04 03:00:00</td>\n",
       "      <td>68.959400</td>\n",
       "      <td>20.533000</td>\n",
       "      <td>3</td>\n",
       "      <td>0</td>\n",
       "      <td>3</td>\n",
       "      <td>1</td>\n",
       "      <td>13729068</td>\n",
       "      <td>2</td>\n",
       "    </tr>\n",
       "    <tr>\n",
       "      <th>4</th>\n",
       "      <td>2013-07-04 04:00:00</td>\n",
       "      <td>69.283551</td>\n",
       "      <td>20.713084</td>\n",
       "      <td>4</td>\n",
       "      <td>0</td>\n",
       "      <td>3</td>\n",
       "      <td>1</td>\n",
       "      <td>13729104</td>\n",
       "      <td>2</td>\n",
       "    </tr>\n",
       "  </tbody>\n",
       "</table>\n",
       "</div>"
      ],
      "text/plain": [
       "            timestamp    value_f    value_c  hours  daylight  day_of_the_week  \\\n",
       "0 2013-07-04 00:00:00  69.880835  21.044908      0         0                3   \n",
       "1 2013-07-04 01:00:00  71.220227  21.789015      1         0                3   \n",
       "2 2013-07-04 02:00:00  70.877805  21.598781      2         0                3   \n",
       "3 2013-07-04 03:00:00  68.959400  20.533000      3         0                3   \n",
       "4 2013-07-04 04:00:00  69.283551  20.713084      4         0                3   \n",
       "\n",
       "   week_day  time_epoch  categories  \n",
       "0         1    13728960           2  \n",
       "1         1    13728996           2  \n",
       "2         1    13729032           2  \n",
       "3         1    13729068           2  \n",
       "4         1    13729104           2  "
      ]
     },
     "execution_count": 151,
     "metadata": {},
     "output_type": "execute_result"
    }
   ],
   "source": [
    "dataset = ATSFDataset().load()\n",
    "data_df = dataset.get_df()\n",
    "data_df.head()"
   ]
  },
  {
   "cell_type": "code",
   "execution_count": 152,
   "id": "0481fffa",
   "metadata": {},
   "outputs": [
    {
     "data": {
      "image/png": "[encoded data removed]",
      "text/plain": [
       "<Figure size 640x480 with 1 Axes>"
      ]
     },
     "metadata": {},
     "output_type": "display_data"
    }
   ],
   "source": [
    "dataset.plot()"
   ]
  },
  {
   "cell_type": "code",
   "execution_count": 153,
   "id": "414ad185",
   "metadata": {},
   "outputs": [
    {
     "data": {
      "image/png": "[encoded data removed]",
      "text/plain": [
       "<Figure size 640x480 with 1 Axes>"
      ]
     },
     "metadata": {},
     "output_type": "display_data"
    }
   ],
   "source": [
    "dataset.plot_categories()"
   ]
  },
  {
   "cell_type": "code",
   "execution_count": 154,
   "id": "f74c2088",
   "metadata": {},
   "outputs": [
    {
     "data": {
      "text/html": [
       "<div>\n",
       "<style scoped>\n",
       "    .dataframe tbody tr th:only-of-type {\n",
       "        vertical-align: middle;\n",
       "    }\n",
       "\n",
       "    .dataframe tbody tr th {\n",
       "        vertical-align: top;\n",
       "    }\n",
       "\n",
       "    .dataframe thead th {\n",
       "        text-align: right;\n",
       "    }\n",
       "</style>\n",
       "<table border=\"1\" class=\"dataframe\">\n",
       "  <thead>\n",
       "    <tr style=\"text-align: right;\">\n",
       "      <th></th>\n",
       "      <th>value_c</th>\n",
       "      <th>hours</th>\n",
       "      <th>daylight</th>\n",
       "      <th>day_of_the_week</th>\n",
       "      <th>week_day</th>\n",
       "    </tr>\n",
       "  </thead>\n",
       "  <tbody>\n",
       "    <tr>\n",
       "      <th>0</th>\n",
       "      <td>21.044908</td>\n",
       "      <td>0</td>\n",
       "      <td>0</td>\n",
       "      <td>3</td>\n",
       "      <td>1</td>\n",
       "    </tr>\n",
       "    <tr>\n",
       "      <th>1</th>\n",
       "      <td>21.789015</td>\n",
       "      <td>1</td>\n",
       "      <td>0</td>\n",
       "      <td>3</td>\n",
       "      <td>1</td>\n",
       "    </tr>\n",
       "    <tr>\n",
       "      <th>2</th>\n",
       "      <td>21.598781</td>\n",
       "      <td>2</td>\n",
       "      <td>0</td>\n",
       "      <td>3</td>\n",
       "      <td>1</td>\n",
       "    </tr>\n",
       "    <tr>\n",
       "      <th>3</th>\n",
       "      <td>20.533000</td>\n",
       "      <td>3</td>\n",
       "      <td>0</td>\n",
       "      <td>3</td>\n",
       "      <td>1</td>\n",
       "    </tr>\n",
       "    <tr>\n",
       "      <th>4</th>\n",
       "      <td>20.713084</td>\n",
       "      <td>4</td>\n",
       "      <td>0</td>\n",
       "      <td>3</td>\n",
       "      <td>1</td>\n",
       "    </tr>\n",
       "  </tbody>\n",
       "</table>\n",
       "</div>"
      ],
      "text/plain": [
       "     value_c  hours  daylight  day_of_the_week  week_day\n",
       "0  21.044908      0         0                3         1\n",
       "1  21.789015      1         0                3         1\n",
       "2  21.598781      2         0                3         1\n",
       "3  20.533000      3         0                3         1\n",
       "4  20.713084      4         0                3         1"
      ]
     },
     "execution_count": 154,
     "metadata": {},
     "output_type": "execute_result"
    }
   ],
   "source": [
    "# Take useful feature and standardize them\n",
    "features = [ATSFDataset.Columns.VALUE_C, \\\n",
    "                    ATSFDataset.Columns.HOURS, \\\n",
    "                    ATSFDataset.Columns.DAYLIGHT, \\\n",
    "                    ATSFDataset.Columns.DAY_OF_THE_WEEK, \\\n",
    "                    ATSFDataset.Columns.WEEK_DAY]\n",
    "\n",
    "features_df = data_df[features]\n",
    "features_df.head()"
   ]
  },
  {
   "cell_type": "code",
   "execution_count": 155,
   "id": "62b9a81e",
   "metadata": {},
   "outputs": [
    {
     "data": {
      "text/html": [
       "<div>\n",
       "<style scoped>\n",
       "    .dataframe tbody tr th:only-of-type {\n",
       "        vertical-align: middle;\n",
       "    }\n",
       "\n",
       "    .dataframe tbody tr th {\n",
       "        vertical-align: top;\n",
       "    }\n",
       "\n",
       "    .dataframe thead th {\n",
       "        text-align: right;\n",
       "    }\n",
       "</style>\n",
       "<table border=\"1\" class=\"dataframe\">\n",
       "  <thead>\n",
       "    <tr style=\"text-align: right;\">\n",
       "      <th></th>\n",
       "      <th>value_c</th>\n",
       "      <th>hours</th>\n",
       "      <th>daylight</th>\n",
       "      <th>day_of_the_week</th>\n",
       "      <th>week_day</th>\n",
       "    </tr>\n",
       "  </thead>\n",
       "  <tbody>\n",
       "    <tr>\n",
       "      <th>0</th>\n",
       "      <td>-0.320586</td>\n",
       "      <td>-1.661537</td>\n",
       "      <td>-1.414798</td>\n",
       "      <td>0.005769</td>\n",
       "      <td>0.62132</td>\n",
       "    </tr>\n",
       "    <tr>\n",
       "      <th>1</th>\n",
       "      <td>-0.005228</td>\n",
       "      <td>-1.517172</td>\n",
       "      <td>-1.414798</td>\n",
       "      <td>0.005769</td>\n",
       "      <td>0.62132</td>\n",
       "    </tr>\n",
       "    <tr>\n",
       "      <th>2</th>\n",
       "      <td>-0.085851</td>\n",
       "      <td>-1.372807</td>\n",
       "      <td>-1.414798</td>\n",
       "      <td>0.005769</td>\n",
       "      <td>0.62132</td>\n",
       "    </tr>\n",
       "    <tr>\n",
       "      <th>3</th>\n",
       "      <td>-0.537536</td>\n",
       "      <td>-1.228442</td>\n",
       "      <td>-1.414798</td>\n",
       "      <td>0.005769</td>\n",
       "      <td>0.62132</td>\n",
       "    </tr>\n",
       "    <tr>\n",
       "      <th>4</th>\n",
       "      <td>-0.461215</td>\n",
       "      <td>-1.084077</td>\n",
       "      <td>-1.414798</td>\n",
       "      <td>0.005769</td>\n",
       "      <td>0.62132</td>\n",
       "    </tr>\n",
       "  </tbody>\n",
       "</table>\n",
       "</div>"
      ],
      "text/plain": [
       "    value_c     hours  daylight  day_of_the_week  week_day\n",
       "0 -0.320586 -1.661537 -1.414798         0.005769   0.62132\n",
       "1 -0.005228 -1.517172 -1.414798         0.005769   0.62132\n",
       "2 -0.085851 -1.372807 -1.414798         0.005769   0.62132\n",
       "3 -0.537536 -1.228442 -1.414798         0.005769   0.62132\n",
       "4 -0.461215 -1.084077 -1.414798         0.005769   0.62132"
      ]
     },
     "execution_count": 155,
     "metadata": {},
     "output_type": "execute_result"
    }
   ],
   "source": [
    "#Scalling the dataset with min max scaller\n",
    "scaler = preprocessing.StandardScaler()\n",
    "np_scaled = scaler.fit_transform(features_df)\n",
    "scaled_df = pd.DataFrame(np_scaled, columns=features)\n",
    "scaled_df.head()"
   ]
  },
  {
   "cell_type": "code",
   "execution_count": 156,
   "id": "a4823dde",
   "metadata": {},
   "outputs": [
    {
     "data": {
      "text/html": [
       "<div>\n",
       "<style scoped>\n",
       "    .dataframe tbody tr th:only-of-type {\n",
       "        vertical-align: middle;\n",
       "    }\n",
       "\n",
       "    .dataframe tbody tr th {\n",
       "        vertical-align: top;\n",
       "    }\n",
       "\n",
       "    .dataframe thead th {\n",
       "        text-align: right;\n",
       "    }\n",
       "</style>\n",
       "<table border=\"1\" class=\"dataframe\">\n",
       "  <thead>\n",
       "    <tr style=\"text-align: right;\">\n",
       "      <th></th>\n",
       "      <th>feature1</th>\n",
       "      <th>feature2</th>\n",
       "    </tr>\n",
       "  </thead>\n",
       "  <tbody>\n",
       "    <tr>\n",
       "      <th>0</th>\n",
       "      <td>0.089870</td>\n",
       "      <td>2.238824</td>\n",
       "    </tr>\n",
       "    <tr>\n",
       "      <th>1</th>\n",
       "      <td>-0.012781</td>\n",
       "      <td>2.101394</td>\n",
       "    </tr>\n",
       "    <tr>\n",
       "      <th>2</th>\n",
       "      <td>-0.012707</td>\n",
       "      <td>2.012200</td>\n",
       "    </tr>\n",
       "    <tr>\n",
       "      <th>3</th>\n",
       "      <td>0.083627</td>\n",
       "      <td>1.968208</td>\n",
       "    </tr>\n",
       "    <tr>\n",
       "      <th>4</th>\n",
       "      <td>0.042987</td>\n",
       "      <td>1.859896</td>\n",
       "    </tr>\n",
       "  </tbody>\n",
       "</table>\n",
       "</div>"
      ],
      "text/plain": [
       "   feature1  feature2\n",
       "0  0.089870  2.238824\n",
       "1 -0.012781  2.101394\n",
       "2 -0.012707  2.012200\n",
       "3  0.083627  1.968208\n",
       "4  0.042987  1.859896"
      ]
     },
     "execution_count": 156,
     "metadata": {},
     "output_type": "execute_result"
    }
   ],
   "source": [
    "# reduce to 2 importants features\n",
    "pca = PCA(n_components=2)\n",
    "np_reduced = pca.fit_transform(scaled_df)\n",
    "reduced_df = pd.DataFrame(np_reduced, columns=['feature1', 'feature2'])\n",
    "\n",
    "reduced_df.head()"
   ]
  },
  {
   "cell_type": "code",
   "execution_count": 157,
   "id": "412fd8c7",
   "metadata": {},
   "outputs": [
    {
     "data": {
      "text/html": [
       "<div>\n",
       "<style scoped>\n",
       "    .dataframe tbody tr th:only-of-type {\n",
       "        vertical-align: middle;\n",
       "    }\n",
       "\n",
       "    .dataframe tbody tr th {\n",
       "        vertical-align: top;\n",
       "    }\n",
       "\n",
       "    .dataframe thead th {\n",
       "        text-align: right;\n",
       "    }\n",
       "</style>\n",
       "<table border=\"1\" class=\"dataframe\">\n",
       "  <thead>\n",
       "    <tr style=\"text-align: right;\">\n",
       "      <th></th>\n",
       "      <th>value_c</th>\n",
       "      <th>hours</th>\n",
       "      <th>daylight</th>\n",
       "      <th>day_of_the_week</th>\n",
       "      <th>week_day</th>\n",
       "    </tr>\n",
       "  </thead>\n",
       "  <tbody>\n",
       "    <tr>\n",
       "      <th>PC-1</th>\n",
       "      <td>-0.259418</td>\n",
       "      <td>-0.144366</td>\n",
       "      <td>-0.129508</td>\n",
       "      <td>0.661575</td>\n",
       "      <td>-0.676318</td>\n",
       "    </tr>\n",
       "    <tr>\n",
       "      <th>PC-2</th>\n",
       "      <td>-0.121816</td>\n",
       "      <td>-0.685865</td>\n",
       "      <td>-0.679221</td>\n",
       "      <td>-0.165570</td>\n",
       "      <td>0.161233</td>\n",
       "    </tr>\n",
       "  </tbody>\n",
       "</table>\n",
       "</div>"
      ],
      "text/plain": [
       "       value_c     hours  daylight  day_of_the_week  week_day\n",
       "PC-1 -0.259418 -0.144366 -0.129508         0.661575 -0.676318\n",
       "PC-2 -0.121816 -0.685865 -0.679221        -0.165570  0.161233"
      ]
     },
     "execution_count": 157,
     "metadata": {},
     "output_type": "execute_result"
    }
   ],
   "source": [
    "pca_df = pd.DataFrame(pca.components_, columns=scaled_df.columns, index = ['PC-1','PC-2'])\n",
    "pca_df"
   ]
  },
  {
   "cell_type": "code",
   "execution_count": 158,
   "id": "29bacd58",
   "metadata": {},
   "outputs": [
    {
     "data": {
      "text/html": [
       "<div>\n",
       "<style scoped>\n",
       "    .dataframe tbody tr th:only-of-type {\n",
       "        vertical-align: middle;\n",
       "    }\n",
       "\n",
       "    .dataframe tbody tr th {\n",
       "        vertical-align: top;\n",
       "    }\n",
       "\n",
       "    .dataframe thead th {\n",
       "        text-align: right;\n",
       "    }\n",
       "</style>\n",
       "<table border=\"1\" class=\"dataframe\">\n",
       "  <thead>\n",
       "    <tr style=\"text-align: right;\">\n",
       "      <th></th>\n",
       "      <th>feature1</th>\n",
       "      <th>feature2</th>\n",
       "    </tr>\n",
       "  </thead>\n",
       "  <tbody>\n",
       "    <tr>\n",
       "      <th>0</th>\n",
       "      <td>0.066191</td>\n",
       "      <td>1.755363</td>\n",
       "    </tr>\n",
       "    <tr>\n",
       "      <th>1</th>\n",
       "      <td>-0.009413</td>\n",
       "      <td>1.647609</td>\n",
       "    </tr>\n",
       "    <tr>\n",
       "      <th>2</th>\n",
       "      <td>-0.009359</td>\n",
       "      <td>1.577677</td>\n",
       "    </tr>\n",
       "    <tr>\n",
       "      <th>3</th>\n",
       "      <td>0.061592</td>\n",
       "      <td>1.543184</td>\n",
       "    </tr>\n",
       "    <tr>\n",
       "      <th>4</th>\n",
       "      <td>0.031660</td>\n",
       "      <td>1.458262</td>\n",
       "    </tr>\n",
       "  </tbody>\n",
       "</table>\n",
       "</div>"
      ],
      "text/plain": [
       "   feature1  feature2\n",
       "0  0.066191  1.755363\n",
       "1 -0.009413  1.647609\n",
       "2 -0.009359  1.577677\n",
       "3  0.061592  1.543184\n",
       "4  0.031660  1.458262"
      ]
     },
     "execution_count": 158,
     "metadata": {},
     "output_type": "execute_result"
    }
   ],
   "source": [
    "# standardize these 2 new features\n",
    "scaler = preprocessing.StandardScaler()\n",
    "np_scaled = scaler.fit_transform(reduced_df)\n",
    "train_df = pd.DataFrame(np_scaled, columns=reduced_df.columns)\n",
    "train_df.head()"
   ]
  },
  {
   "cell_type": "code",
   "execution_count": 159,
   "id": "c17932ac",
   "metadata": {},
   "outputs": [],
   "source": [
    "class KMeansInfo():\n",
    "    \n",
    "    def __init__(self):\n",
    "        self.max_clusters = None\n",
    "        self.k_threshold = None\n",
    "        self.max_score = None\n",
    "        self.min_score = None\n",
    "        self.score_range = None\n",
    "        self.score_threshold = None\n",
    "        self.best_score = None\n",
    "        self.best_n_clusters = None\n",
    "        self.outliers_fraction = None\n",
    "        self.dataset_len = None\n",
    "        self.outlier_number = None\n",
    "        \n",
    "    def info(self):\n",
    "        print('K means algorithm run details:\\n')\n",
    "        print(f'Max clusters = {self.max_clusters}')\n",
    "        print(f'K threshold = {self.k_threshold}')\n",
    "        print(f'Max score = {round(self.max_score, 1)}')\n",
    "        print(f'Min score = {round(self.min_score, 1)}')\n",
    "        print(f'Score range = {round(self.score_range, 1)}')\n",
    "        print(f'Score threshold = {round(self.score_threshold, 1)}')\n",
    "        print(f'Best score = {round(self.best_score, 1)}')\n",
    "        print(f'Best clusters No. = {self.best_n_clusters}')\n",
    "        print(f'Dataset length = {self.dataset_len}')\n",
    "        print(f'Outliers fraction = {self.outliers_fraction}')\n",
    "        print(f'Number of outliers = {self.outlier_number}')\n",
    "\n",
    "class KMeansConfiguration:\n",
    "    \n",
    "    def __init__(self, max_clusters, k_threshold, outliers_fraction):\n",
    "        self.max_clusters = max_clusters\n",
    "        self.k_threshold = k_threshold\n",
    "        self.outliers_fraction = outliers_fraction\n",
    "\n",
    "class ScoresDFColumns:\n",
    "    N_CLUSTER = 'n_cluster'\n",
    "    SCORE = 'score'\n",
    "        \n",
    "class KMeansAlgorithm:\n",
    "    _configuration = None\n",
    "    _kmeans = []\n",
    "    \n",
    "    def __init__(self, configuration):\n",
    "        self._configuration = configuration\n",
    "        \n",
    "    def fit(self, df):\n",
    "        max_clusters = self._configuration.max_clusters\n",
    "        n_clusters_range = range(1, max_clusters)\n",
    "        self._kmeans = [KMeans(n_clusters=i, n_init='auto').fit(df) for i in n_clusters_range]\n",
    "        \n",
    "        scores_range = range(len(self._kmeans))\n",
    "        scores_tuples = [(i, self._kmeans[i].score(df)) for i in scores_range]\n",
    "\n",
    "        scores_df = pd.DataFrame(columns=[ScoresDFColumns.N_CLUSTER, ScoresDFColumns.SCORE])\n",
    "        scores_df[ScoresDFColumns.N_CLUSTER] = [t[0] for t in scores_tuples]\n",
    "        scores_df[ScoresDFColumns.SCORE] = [t[1] for t in scores_tuples]\n",
    "        \n",
    "        self._scores = scores_df\n",
    "        self._df_len = len(df)\n",
    "        \n",
    "    def get_scores(self):\n",
    "        return self._scores\n",
    "        \n",
    "    def get_kmeans(self, n_clusters):\n",
    "        return self._kmeans[n_clusters]\n",
    "    \n",
    "    def get_kmeans_collection(self):\n",
    "        return self._kmeans\n",
    "    \n",
    "    def get_feature_cluster_map(self, df):\n",
    "        kmeans_info = self.get_kmeans_info()\n",
    "        \n",
    "        cluster_count = kmeans_info.best_n_clusters\n",
    "        outlier_number = kmeans_info.outlier_number\n",
    "        \n",
    "        kmeans_results_df = pd.DataFrame(columns=['cluster', 'feature1', 'feature2'])\n",
    "        \n",
    "        kmeans = self.get_kmeans_collection()\n",
    "        kmeans_results_df['cluster'] = kmeans[cluster_count].predict(df)\n",
    "        kmeans_results_df['feature1'] = df['feature1']\n",
    "        kmeans_results_df['feature2'] = df['feature2']\n",
    "        \n",
    "        #Get the distance between each point and its nearest centroid. \n",
    "        #The biggest distances are considered as anomaly\n",
    "        distances = self.get_distance_by_point(df, kmeans[cluster_count])        \n",
    "        kmeans_results_df['distances'] = distances\n",
    "        \n",
    "        distance_mean = distances.mean()\n",
    "        distance_std = distances.std()\n",
    "        \n",
    "        kmeans_results_df['distances_normalized'] = (kmeans_results_df['distances'] - distance_mean) / distance_std\n",
    "        \n",
    "        return kmeans_results_df\n",
    "    \n",
    "    def get_kmeans_info(self):\n",
    "        max_score = self._scores[ScoresDFColumns.SCORE].max()\n",
    "        min_score = self._scores[ScoresDFColumns.SCORE].min()\n",
    "        score_range = max_score - min_score\n",
    "        score_threshold = max_score - score_range * self._configuration.k_threshold\n",
    "        \n",
    "        kmeans_info = KMeansInfo()\n",
    "        kmeans_info.max_clusters = self._configuration.max_clusters\n",
    "        kmeans_info.k_threshold = self._configuration.k_threshold\n",
    "        kmeans_info.max_score = max_score\n",
    "        kmeans_info.min_score = min_score\n",
    "        kmeans_info.score_range = score_range\n",
    "        kmeans_info.score_threshold = score_threshold\n",
    "        \n",
    "        outliers_fraction = self._configuration.outliers_fraction\n",
    "        outlier_number = int(outliers_fraction * self._df_len)\n",
    "        \n",
    "        kmeans_info.outliers_fraction = outliers_fraction\n",
    "        kmeans_info.outlier_number = outlier_number\n",
    "        \n",
    "        best_score = None\n",
    "        for score in self._scores[ScoresDFColumns.SCORE].values:\n",
    "            if((best_score is None) and (score > score_threshold)):\n",
    "                best_score = score\n",
    "        \n",
    "        kmeans_info.best_score = best_score\n",
    "        kmeans_info.best_n_clusters = self._scores \\\n",
    "            .loc[self._scores[ScoresDFColumns.SCORE] == best_score, ScoresDFColumns.N_CLUSTER] \\\n",
    "            .values[0]\n",
    "        \n",
    "        kmeans_info.dataset_len = self._df_len\n",
    "        \n",
    "        return kmeans_info\n",
    "    \n",
    "    def plot_scores(self):\n",
    "        df = self._scores\n",
    "        \n",
    "        x = df[ScoresDFColumns.N_CLUSTER]\n",
    "        y = df[ScoresDFColumns.SCORE]\n",
    "        \n",
    "        fig, ax = plt.subplots()\n",
    "        ax.plot(x, y)\n",
    "        plt.show()\n",
    "    \n",
    "    \n",
    "    def get_distance_by_point(self, df, model):\n",
    "    \n",
    "        df_len = len(df)\n",
    "        distance = pd.Series()\n",
    "        for i in range(0, df_len):\n",
    "            point_coord = np.array(df.loc[i])\n",
    "            centroid_coord = model.cluster_centers_[model.labels_[i]-1]\n",
    "            distance.at[i] = np.linalg.norm(point_coord-centroid_coord)\n",
    "        return distance\n",
    "\n",
    "class AnomalyDetectionMetrics:\n",
    "    N_LARGEST = 'nlargest',\n",
    "    ZSCORE = 'zscore'\n",
    "    \n",
    "class AnomalyDetector:\n",
    "    \n",
    "    def __init__(self, feature_cluster_map):\n",
    "        self._df = feature_cluster_map.copy()\n",
    "        \n",
    "    def detect_anomalies(self, metric, outlier_number=None):\n",
    "        anomaly_df = self._df.copy()\n",
    "        \n",
    "        if metric == AnomalyDetectionMetrics.N_LARGEST:\n",
    "            distances = anomaly_df['distances']\n",
    "            anomaly_threshold = distances.nlargest(outlier_number).min()\n",
    "            anomaly_df['is_anomaly'] = (distances >= anomaly_threshold).astype(int)\n",
    "        \n",
    "        return anomaly_df;\n",
    "    "
   ]
  },
  {
   "cell_type": "code",
   "execution_count": 160,
   "id": "c92ed390",
   "metadata": {},
   "outputs": [
    {
     "data": {
      "image/png": "[encoded data removed]",
      "text/plain": [
       "<Figure size 640x480 with 1 Axes>"
      ]
     },
     "metadata": {},
     "output_type": "display_data"
    }
   ],
   "source": [
    "config = KMeansConfiguration(max_clusters=20, k_threshold = 0.01, outliers_fraction = 0.01)\n",
    "\n",
    "model = KMeansAlgorithm(config)\n",
    "model.fit(train_df)\n",
    "\n",
    "model.plot_scores()"
   ]
  },
  {
   "cell_type": "code",
   "execution_count": 161,
   "id": "266f4587",
   "metadata": {},
   "outputs": [
    {
     "name": "stdout",
     "output_type": "stream",
     "text": [
      "K means algorithm run details:\n",
      "\n",
      "Max clusters = 20\n",
      "K threshold = 0.01\n",
      "Max score = -332.0\n",
      "Min score = -14534.0\n",
      "Score range = 14202.0\n",
      "Score threshold = -474.0\n",
      "Best score = -450.5\n",
      "Best clusters No. = 13\n",
      "Dataset length = 7267\n",
      "Outliers fraction = 0.01\n",
      "Number of outliers = 72\n"
     ]
    }
   ],
   "source": [
    "kmeans_info = model.get_kmeans_info()\n",
    "kmeans_info.info()"
   ]
  },
  {
   "cell_type": "code",
   "execution_count": 162,
   "id": "61c7b01d",
   "metadata": {},
   "outputs": [
    {
     "name": "stdout",
     "output_type": "stream",
     "text": [
      "Chosing best cluster number = 13 for the 0.01 K threshold\n"
     ]
    }
   ],
   "source": [
    "print(f'Chosing best cluster number = {kmeans_info.best_n_clusters} for the {kmeans_info.k_threshold} K threshold')"
   ]
  },
  {
   "cell_type": "code",
   "execution_count": 163,
   "id": "3fb8d4ae",
   "metadata": {},
   "outputs": [
    {
     "name": "stderr",
     "output_type": "stream",
     "text": [
      "C:\\Users\\inahshan\\AppData\\Local\\Temp\\ipykernel_14504\\2558369174.py:145: FutureWarning: The default dtype for empty Series will be 'object' instead of 'float64' in a future version. Specify a dtype explicitly to silence this warning.\n",
      "  distance = pd.Series()\n"
     ]
    },
    {
     "data": {
      "text/html": [
       "<div>\n",
       "<style scoped>\n",
       "    .dataframe tbody tr th:only-of-type {\n",
       "        vertical-align: middle;\n",
       "    }\n",
       "\n",
       "    .dataframe tbody tr th {\n",
       "        vertical-align: top;\n",
       "    }\n",
       "\n",
       "    .dataframe thead th {\n",
       "        text-align: right;\n",
       "    }\n",
       "</style>\n",
       "<table border=\"1\" class=\"dataframe\">\n",
       "  <thead>\n",
       "    <tr style=\"text-align: right;\">\n",
       "      <th></th>\n",
       "      <th>cluster</th>\n",
       "      <th>feature1</th>\n",
       "      <th>feature2</th>\n",
       "      <th>distances</th>\n",
       "      <th>distances_normalized</th>\n",
       "    </tr>\n",
       "  </thead>\n",
       "  <tbody>\n",
       "    <tr>\n",
       "      <th>0</th>\n",
       "      <td>2</td>\n",
       "      <td>0.066191</td>\n",
       "      <td>1.755363</td>\n",
       "      <td>2.349893</td>\n",
       "      <td>0.520076</td>\n",
       "    </tr>\n",
       "    <tr>\n",
       "      <th>1</th>\n",
       "      <td>2</td>\n",
       "      <td>-0.009413</td>\n",
       "      <td>1.647609</td>\n",
       "      <td>2.227998</td>\n",
       "      <td>0.383798</td>\n",
       "    </tr>\n",
       "    <tr>\n",
       "      <th>2</th>\n",
       "      <td>2</td>\n",
       "      <td>-0.009359</td>\n",
       "      <td>1.577677</td>\n",
       "      <td>2.159721</td>\n",
       "      <td>0.307464</td>\n",
       "    </tr>\n",
       "    <tr>\n",
       "      <th>3</th>\n",
       "      <td>2</td>\n",
       "      <td>0.061592</td>\n",
       "      <td>1.543184</td>\n",
       "      <td>2.142973</td>\n",
       "      <td>0.288740</td>\n",
       "    </tr>\n",
       "    <tr>\n",
       "      <th>4</th>\n",
       "      <td>2</td>\n",
       "      <td>0.031660</td>\n",
       "      <td>1.458262</td>\n",
       "      <td>2.053248</td>\n",
       "      <td>0.188428</td>\n",
       "    </tr>\n",
       "  </tbody>\n",
       "</table>\n",
       "</div>"
      ],
      "text/plain": [
       "   cluster  feature1  feature2  distances  distances_normalized\n",
       "0        2  0.066191  1.755363   2.349893              0.520076\n",
       "1        2 -0.009413  1.647609   2.227998              0.383798\n",
       "2        2 -0.009359  1.577677   2.159721              0.307464\n",
       "3        2  0.061592  1.543184   2.142973              0.288740\n",
       "4        2  0.031660  1.458262   2.053248              0.188428"
      ]
     },
     "execution_count": 163,
     "metadata": {},
     "output_type": "execute_result"
    }
   ],
   "source": [
    "#Running K means clustering algorithm with the optimal number of clusters\n",
    "feature_cluster_map = model.get_feature_cluster_map(train_df)\n",
    "feature_cluster_map.head()"
   ]
  },
  {
   "cell_type": "markdown",
   "id": "121838b0",
   "metadata": {},
   "source": [
    "## Cluster visualization"
   ]
  },
  {
   "cell_type": "code",
   "execution_count": 164,
   "id": "fd46f935",
   "metadata": {},
   "outputs": [],
   "source": [
    "colors = {\n",
    "    0:'red', \n",
    "    1:'blue', \n",
    "    2:'green', \n",
    "    3:'pink', \n",
    "    4:'black', \n",
    "    5:'orange', \n",
    "    6:'cyan', \n",
    "    7:'yellow', \n",
    "    8:'brown', \n",
    "    9:'purple', \n",
    "    10:'white', \n",
    "    11: 'grey', \n",
    "    12:'lightblue', \n",
    "    13:'lightgreen', \n",
    "    14: 'darkgrey'\n",
    "}"
   ]
  },
  {
   "cell_type": "code",
   "execution_count": 165,
   "id": "d04ae381",
   "metadata": {},
   "outputs": [],
   "source": [
    "cluster_sizes = feature_cluster_map['cluster'].value_counts()\n",
    "cluster_sizes.sort_index(inplace=True)"
   ]
  },
  {
   "cell_type": "code",
   "execution_count": 166,
   "id": "74c4346b",
   "metadata": {},
   "outputs": [
    {
     "data": {
      "text/html": [
       "<div>\n",
       "<style scoped>\n",
       "    .dataframe tbody tr th:only-of-type {\n",
       "        vertical-align: middle;\n",
       "    }\n",
       "\n",
       "    .dataframe tbody tr th {\n",
       "        vertical-align: top;\n",
       "    }\n",
       "\n",
       "    .dataframe thead th {\n",
       "        text-align: right;\n",
       "    }\n",
       "</style>\n",
       "<table border=\"1\" class=\"dataframe\">\n",
       "  <thead>\n",
       "    <tr style=\"text-align: right;\">\n",
       "      <th></th>\n",
       "      <th>cluster_no</th>\n",
       "      <th>cluster_size</th>\n",
       "      <th>cluster_color</th>\n",
       "    </tr>\n",
       "  </thead>\n",
       "  <tbody>\n",
       "    <tr>\n",
       "      <th>0</th>\n",
       "      <td>0</td>\n",
       "      <td>416</td>\n",
       "      <td>red</td>\n",
       "    </tr>\n",
       "    <tr>\n",
       "      <th>1</th>\n",
       "      <td>1</td>\n",
       "      <td>659</td>\n",
       "      <td>blue</td>\n",
       "    </tr>\n",
       "    <tr>\n",
       "      <th>2</th>\n",
       "      <td>2</td>\n",
       "      <td>426</td>\n",
       "      <td>green</td>\n",
       "    </tr>\n",
       "    <tr>\n",
       "      <th>3</th>\n",
       "      <td>3</td>\n",
       "      <td>596</td>\n",
       "      <td>pink</td>\n",
       "    </tr>\n",
       "    <tr>\n",
       "      <th>4</th>\n",
       "      <td>4</td>\n",
       "      <td>614</td>\n",
       "      <td>black</td>\n",
       "    </tr>\n",
       "  </tbody>\n",
       "</table>\n",
       "</div>"
      ],
      "text/plain": [
       "   cluster_no  cluster_size cluster_color\n",
       "0           0           416           red\n",
       "1           1           659          blue\n",
       "2           2           426         green\n",
       "3           3           596          pink\n",
       "4           4           614         black"
      ]
     },
     "execution_count": 166,
     "metadata": {},
     "output_type": "execute_result"
    }
   ],
   "source": [
    "clusters_df = pd.DataFrame(columns=['cluster_no', 'cluster_size', 'cluster_color'])\n",
    "clusters_df['cluster_no'] = cluster_sizes.index.values\n",
    "clusters_df['cluster_size'] = cluster_sizes.values\n",
    "clusters_df['cluster_color'] = list(colors.values())[0:kmeans_info.best_n_clusters + 1]\n",
    "\n",
    "clusters_df.head()"
   ]
  },
  {
   "cell_type": "code",
   "execution_count": 167,
   "id": "f546c3da",
   "metadata": {},
   "outputs": [
    {
     "data": {
      "image/png": "[encoded data removed]",
      "text/plain": [
       "<Figure size 640x480 with 1 Axes>"
      ]
     },
     "metadata": {},
     "output_type": "display_data"
    }
   ],
   "source": [
    "#plot the different clusters with the 2 main features\n",
    "fig, ax = plt.subplots()\n",
    "ax.scatter(feature_cluster_map['feature1'], \\\n",
    "           feature_cluster_map['feature2'], \\\n",
    "           c=feature_cluster_map[\"cluster\"].apply(lambda x: colors[x]))\n",
    "plt.show()"
   ]
  },
  {
   "cell_type": "markdown",
   "id": "90d6c1b1",
   "metadata": {},
   "source": [
    "## Anomaly detection by N largest distnaces metric"
   ]
  },
  {
   "cell_type": "code",
   "execution_count": 168,
   "id": "4461960d",
   "metadata": {},
   "outputs": [
    {
     "data": {
      "text/html": [
       "<div>\n",
       "<style scoped>\n",
       "    .dataframe tbody tr th:only-of-type {\n",
       "        vertical-align: middle;\n",
       "    }\n",
       "\n",
       "    .dataframe tbody tr th {\n",
       "        vertical-align: top;\n",
       "    }\n",
       "\n",
       "    .dataframe thead th {\n",
       "        text-align: right;\n",
       "    }\n",
       "</style>\n",
       "<table border=\"1\" class=\"dataframe\">\n",
       "  <thead>\n",
       "    <tr style=\"text-align: right;\">\n",
       "      <th></th>\n",
       "      <th>cluster</th>\n",
       "      <th>feature1</th>\n",
       "      <th>feature2</th>\n",
       "      <th>distances</th>\n",
       "      <th>distances_normalized</th>\n",
       "      <th>is_anomaly</th>\n",
       "    </tr>\n",
       "  </thead>\n",
       "  <tbody>\n",
       "    <tr>\n",
       "      <th>0</th>\n",
       "      <td>2</td>\n",
       "      <td>0.066191</td>\n",
       "      <td>1.755363</td>\n",
       "      <td>2.349893</td>\n",
       "      <td>0.520076</td>\n",
       "      <td>0</td>\n",
       "    </tr>\n",
       "    <tr>\n",
       "      <th>1</th>\n",
       "      <td>2</td>\n",
       "      <td>-0.009413</td>\n",
       "      <td>1.647609</td>\n",
       "      <td>2.227998</td>\n",
       "      <td>0.383798</td>\n",
       "      <td>0</td>\n",
       "    </tr>\n",
       "    <tr>\n",
       "      <th>2</th>\n",
       "      <td>2</td>\n",
       "      <td>-0.009359</td>\n",
       "      <td>1.577677</td>\n",
       "      <td>2.159721</td>\n",
       "      <td>0.307464</td>\n",
       "      <td>0</td>\n",
       "    </tr>\n",
       "    <tr>\n",
       "      <th>3</th>\n",
       "      <td>2</td>\n",
       "      <td>0.061592</td>\n",
       "      <td>1.543184</td>\n",
       "      <td>2.142973</td>\n",
       "      <td>0.288740</td>\n",
       "      <td>0</td>\n",
       "    </tr>\n",
       "    <tr>\n",
       "      <th>4</th>\n",
       "      <td>2</td>\n",
       "      <td>0.031660</td>\n",
       "      <td>1.458262</td>\n",
       "      <td>2.053248</td>\n",
       "      <td>0.188428</td>\n",
       "      <td>0</td>\n",
       "    </tr>\n",
       "  </tbody>\n",
       "</table>\n",
       "</div>"
      ],
      "text/plain": [
       "   cluster  feature1  feature2  distances  distances_normalized  is_anomaly\n",
       "0        2  0.066191  1.755363   2.349893              0.520076           0\n",
       "1        2 -0.009413  1.647609   2.227998              0.383798           0\n",
       "2        2 -0.009359  1.577677   2.159721              0.307464           0\n",
       "3        2  0.061592  1.543184   2.142973              0.288740           0\n",
       "4        2  0.031660  1.458262   2.053248              0.188428           0"
      ]
     },
     "execution_count": 168,
     "metadata": {},
     "output_type": "execute_result"
    }
   ],
   "source": [
    "anomaly_detector = AnomalyDetector(feature_cluster_map)\n",
    "\n",
    "outlier_number = kmeans_info.outlier_number\n",
    "anomaly_df = anomaly_detector.detect_anomalies(metric=AnomalyDetectionMetrics.N_LARGEST, outlier_number=outlier_number)\n",
    "\n",
    "anomaly_df.head()"
   ]
  },
  {
   "cell_type": "code",
   "execution_count": 169,
   "id": "a0faa0ac",
   "metadata": {},
   "outputs": [
    {
     "data": {
      "text/plain": [
       "147"
      ]
     },
     "execution_count": 169,
     "metadata": {},
     "output_type": "execute_result"
    }
   ],
   "source": [
    "z_score = 1.96\n",
    "outliers = feature_cluster_map.loc[ \\\n",
    "    (feature_cluster_map['distances_normalized'] > z_score) \\\n",
    "    | (feature_cluster_map['distances_normalized'] < -z_score )]\n",
    "len(outliers)"
   ]
  },
  {
   "cell_type": "code",
   "execution_count": 170,
   "id": "e0a32c2c",
   "metadata": {},
   "outputs": [
    {
     "name": "stdout",
     "output_type": "stream",
     "text": [
      "Outlier number is 72 for the outlier fraction of 0.01\n"
     ]
    },
    {
     "data": {
      "text/plain": [
       "0    7195\n",
       "1      72\n",
       "Name: is_anomaly, dtype: int64"
      ]
     },
     "execution_count": 170,
     "metadata": {},
     "output_type": "execute_result"
    }
   ],
   "source": [
    "number_of_outliers = kmeans_info.outlier_number\n",
    "print(f'Outlier number is {str(number_of_outliers)} for the outlier fraction of {kmeans_info.outliers_fraction}')\n",
    "\n",
    "anomaly_summary = anomaly_df['is_anomaly'].value_counts()\n",
    "anomaly_summary"
   ]
  },
  {
   "cell_type": "code",
   "execution_count": 171,
   "id": "c8e390a6",
   "metadata": {},
   "outputs": [
    {
     "data": {
      "image/png": "[encoded data removed]",
      "text/plain": [
       "<Figure size 640x480 with 1 Axes>"
      ]
     },
     "metadata": {},
     "output_type": "display_data"
    }
   ],
   "source": [
    "# visualisation of anomaly with cluster view\n",
    "fig, ax = plt.subplots()\n",
    "colors = {0:'blue', 1:'red'}\n",
    "ax.scatter(anomaly_df['feature1'], \\\n",
    "           anomaly_df['feature2'], \\\n",
    "           c=anomaly_df[\"is_anomaly\"].apply(lambda x: colors[x]))\n",
    "plt.show()"
   ]
  },
  {
   "cell_type": "code",
   "execution_count": 172,
   "id": "93656975",
   "metadata": {},
   "outputs": [
    {
     "data": {
      "image/png": "[encoded data removed]",
      "text/plain": [
       "<Figure size 640x480 with 1 Axes>"
      ]
     },
     "metadata": {},
     "output_type": "display_data"
    }
   ],
   "source": [
    "# visualisation of anomaly throughout time (viz 1)\n",
    "fig, ax = plt.subplots()\n",
    "\n",
    "a = data_df.loc[anomaly_df['is_anomaly'] == 1, ['time_epoch', 'value_c']] #anomaly\n",
    "\n",
    "ax.plot(data_df['time_epoch'], data_df['value_c'], color='blue')\n",
    "ax.scatter(a['time_epoch'],a['value_c'], color='red')\n",
    "plt.show()"
   ]
  },
  {
   "cell_type": "code",
   "execution_count": 173,
   "id": "427125c3",
   "metadata": {},
   "outputs": [
    {
     "data": {
      "image/png": "[encoded data removed]",
      "text/plain": [
       "<Figure size 640x480 with 1 Axes>"
      ]
     },
     "metadata": {},
     "output_type": "display_data"
    }
   ],
   "source": [
    "# visualisation of anomaly with temperature repartition (viz 2)\n",
    "a = data_df.loc[anomaly_df['is_anomaly'] == 0, 'value_c']\n",
    "b = data_df.loc[anomaly_df['is_anomaly'] == 1, 'value_c']\n",
    "\n",
    "fig, axs = plt.subplots()\n",
    "axs.hist([a,b], bins=32, stacked=True, color=['blue', 'red'], label=['normal', 'anomaly'])\n",
    "plt.legend()\n",
    "plt.show()"
   ]
  }
 ],
 "metadata": {
  "kernelspec": {
   "display_name": "Python 3 (ipykernel)",
   "language": "python",
   "name": "python3"
  },
  "language_info": {
   "codemirror_mode": {
    "name": "ipython",
    "version": 3
   },
   "file_extension": ".py",
   "mimetype": "text/x-python",
   "name": "python",
   "nbconvert_exporter": "python",
   "pygments_lexer": "ipython3",
   "version": "3.10.4"
  }
 },
 "nbformat": 4,
 "nbformat_minor": 5
}
