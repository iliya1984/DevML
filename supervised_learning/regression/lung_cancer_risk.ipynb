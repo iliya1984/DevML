{
 "cells": [
  {
   "cell_type": "code",
   "execution_count": 8,
   "id": "da4c12a7-fca2-40dc-ba13-4c1c2a9f4f5b",
   "metadata": {},
   "outputs": [],
   "source": [
    "import sys\n",
    "sys.path.append('../../ml_infra')"
   ]
  },
  {
   "cell_type": "code",
   "execution_count": 9,
   "id": "9d8df6b6-7562-4875-8cfe-1859438e07b9",
   "metadata": {},
   "outputs": [],
   "source": [
    "import pandas as pd\n",
    "import kagglehub\n",
    "from utils import SuppressOutput\n",
    "import dotenv\n",
    "\n",
    "dotenv.load_dotenv()"
   ]
  },
  {
   "cell_type": "code",
   "execution_count": 11,
   "id": "afe4e471-bb26-414e-993b-d6dfb4299842",
   "metadata": {},
   "outputs": [],
   "source": [
    "with SuppressOutput():    \n",
    "    dataset_folder = kagglehub.dataset_download(\"ankushpanday1/lung-cancer-risk-and-prediction-dataset\")"
   ]
  },
  {
   "cell_type": "code",
   "execution_count": 12,
   "id": "a7ff9ece-7527-487b-a768-64bd5a21a8a0",
   "metadata": {},
   "outputs": [],
   "source": [
    "dataset_file_path = f'{dataset_folder}/lung_cancer_prediction.csv'"
   ]
  },
  {
   "cell_type": "code",
   "execution_count": 13,
   "id": "5d514430-b8da-4bd3-86ba-fb626b43690e",
   "metadata": {},
   "outputs": [
    {
     "ename": "NameError",
     "evalue": "name 'pd' is not defined",
     "output_type": "error",
     "traceback": [
      "\u001b[1;31m---------------------------------------------------------------------------\u001b[0m",
      "\u001b[1;31mNameError\u001b[0m                                 Traceback (most recent call last)",
      "Cell \u001b[1;32mIn[13], line 1\u001b[0m\n\u001b[1;32m----> 1\u001b[0m df \u001b[38;5;241m=\u001b[39m \u001b[43mpd\u001b[49m\u001b[38;5;241m.\u001b[39mread_csv(dataset_file_path)\n\u001b[0;32m      2\u001b[0m df\u001b[38;5;241m.\u001b[39mhead()\n",
      "\u001b[1;31mNameError\u001b[0m: name 'pd' is not defined"
     ]
    }
   ],
   "source": [
    "df = pd.read_csv(dataset_file_path)\n",
    "df.head()"
   ]
  },
  {
   "cell_type": "code",
   "execution_count": null,
   "id": "a2f52b79-388c-4fa4-9426-d3e1fe387644",
   "metadata": {},
   "outputs": [],
   "source": []
  }
 ],
 "metadata": {
  "kernelspec": {
   "display_name": "Python 3 (ipykernel)",
   "language": "python",
   "name": "python3"
  },
  "language_info": {
   "codemirror_mode": {
    "name": "ipython",
    "version": 3
   },
   "file_extension": ".py",
   "mimetype": "text/x-python",
   "name": "python",
   "nbconvert_exporter": "python",
   "pygments_lexer": "ipython3",
   "version": "3.12.6"
  }
 },
 "nbformat": 4,
 "nbformat_minor": 5
}
